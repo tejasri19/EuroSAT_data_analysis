{
 "cells": [
  {
   "cell_type": "code",
   "execution_count": 1,
   "id": "57d5a36a-2565-4b60-9c03-a6c3e6131f29",
   "metadata": {},
   "outputs": [
    {
     "name": "stderr",
     "output_type": "stream",
     "text": [
      "2023-05-30 23:13:45.220416: I tensorflow/core/platform/cpu_feature_guard.cc:193] This TensorFlow binary is optimized with oneAPI Deep Neural Network Library (oneDNN) to use the following CPU instructions in performance-critical operations:  AVX2 FMA\n",
      "To enable them in other operations, rebuild TensorFlow with the appropriate compiler flags.\n",
      "2023-05-30 23:13:46.507681: W tensorflow/compiler/xla/stream_executor/platform/default/dso_loader.cc:64] Could not load dynamic library 'libnvinfer.so.7'; dlerror: libnvinfer.so.7: cannot open shared object file: No such file or directory\n",
      "2023-05-30 23:13:46.508191: W tensorflow/compiler/xla/stream_executor/platform/default/dso_loader.cc:64] Could not load dynamic library 'libnvinfer_plugin.so.7'; dlerror: libnvinfer_plugin.so.7: cannot open shared object file: No such file or directory\n",
      "2023-05-30 23:13:46.508198: W tensorflow/compiler/tf2tensorrt/utils/py_utils.cc:38] TF-TRT Warning: Cannot dlopen some TensorRT libraries. If you would like to use Nvidia GPU with TensorRT, please make sure the missing libraries mentioned above are installed properly.\n"
     ]
    }
   ],
   "source": [
    "import torch\n",
    "from torch.utils.data import Dataset, DataLoader\n",
    "import numpy as np\n",
    "from sklearn.model_selection import train_test_split\n",
    "from sklearn.metrics import accuracy_score\n",
    "from torchsummary import summary\n",
    "from transformers import ViTModel, ViTConfig, ViTForImageClassification\n",
    "\n",
    "# set the path to the directory containing the npy files\n",
    "data_dir = '/home/tejasri/Desktop/eurosat-ms/multi_npy/'\n",
    "\n",
    "# set the path to save the trained model\n",
    "model_path = '/home/tejasri/Desktop/eurosat-ms/'\n",
    "\n",
    "# load the X and y data for each class\n",
    "X = []\n",
    "y = []\n",
    "for i in range(10):\n",
    "    X_i = np.load(f'{data_dir}/X{i}.npy')\n",
    "    y_i = np.load(f'{data_dir}/y{i}.npy')\n",
    "    X.append(X_i)\n",
    "    y.append(y_i)\n",
    "\n",
    "# concatenate the X and y data for all classes\n",
    "X = np.concatenate(X, axis=0)\n",
    "y = np.concatenate(y, axis=0)\n",
    "\n",
    "\n",
    "\n"
   ]
  },
  {
   "cell_type": "code",
   "execution_count": 2,
   "id": "9f0d9114-348c-4958-b196-8aeb79ccb575",
   "metadata": {},
   "outputs": [
    {
     "name": "stdout",
     "output_type": "stream",
     "text": [
      "(27000, 64, 64, 13)\n",
      "(27000, 13, 64, 64)\n",
      "(13, 64, 64)\n"
     ]
    }
   ],
   "source": [
    "import einops\n",
    "print(X.shape)\n",
    "\n",
    "\n",
    "X = einops.rearrange(X, 'b h w c -> b c h w')\n",
    "              \n",
    "print(X.shape)\n",
    "\n",
    "print(X[0].shape)\n"
   ]
  },
  {
   "cell_type": "code",
   "execution_count": 3,
   "id": "ed07b7c0-916c-4f81-a19c-61b6532c4b4d",
   "metadata": {},
   "outputs": [],
   "source": [
    "from sklearn.model_selection import StratifiedShuffleSplit\n",
    "\n",
    "\n",
    "# split the data into training and testing sets\n",
    "split = StratifiedShuffleSplit(n_splits=1, test_size=0.2, random_state=42)\n",
    "#X_train, X_test, y_train, y_test = train_test_split(X, y, test_size=0.2, random_state=42)\n",
    "\n",
    "\n",
    "# split the data\n",
    "for train_idx, test_idx in split.split(X, y):\n",
    "    X_train, X_test = X[train_idx], X[test_idx]\n",
    "    y_train, y_test = y[train_idx], y[test_idx]"
   ]
  },
  {
   "cell_type": "code",
   "execution_count": 4,
   "id": "67bf27c9-5f74-467c-afce-558e06dbabc1",
   "metadata": {},
   "outputs": [
    {
     "name": "stdout",
     "output_type": "stream",
     "text": [
      "cuda\n"
     ]
    }
   ],
   "source": [
    "# define a custom dataset class for the EuroSAT multispectral data\n",
    "class EuroSATDataset(Dataset):\n",
    "    def __init__(self, X, y):\n",
    "        self.X = X\n",
    "        self.y = y\n",
    "\n",
    "    def __len__(self):\n",
    "        return len(self.X)\n",
    "\n",
    "    def __getitem__(self, idx):\n",
    "        return self.X[idx], self.y[idx]\n",
    "\n",
    "# create data loaders for the training and testing sets\n",
    "train_dataset = EuroSATDataset(X_train, y_train)\n",
    "train_loader = DataLoader(train_dataset, batch_size=32, shuffle=True)\n",
    "test_dataset = EuroSATDataset(X_test, y_test)\n",
    "test_loader = DataLoader(test_dataset, batch_size=32, shuffle=False)\n",
    "\n",
    "# set the device to use for training and testing\n",
    "device = torch.device('cuda' if torch.cuda.is_available() else 'cpu')\n",
    "print(device)"
   ]
  },
  {
   "cell_type": "code",
   "execution_count": 5,
   "id": "b9fc1721-d7a9-4b10-aca0-b262843dcdb9",
   "metadata": {},
   "outputs": [
    {
     "name": "stdout",
     "output_type": "stream",
     "text": [
      "675\n"
     ]
    }
   ],
   "source": [
    "print(len(train_loader))"
   ]
  },
  {
   "cell_type": "code",
   "execution_count": 6,
   "id": "a3ab79b9-fa9d-462f-ba43-9c6413222053",
   "metadata": {},
   "outputs": [
    {
     "name": "stdout",
     "output_type": "stream",
     "text": [
      "169\n"
     ]
    }
   ],
   "source": [
    "print(len(test_loader))"
   ]
  },
  {
   "cell_type": "code",
   "execution_count": 7,
   "id": "a2013eea-313c-4906-b711-2b8df641bceb",
   "metadata": {},
   "outputs": [],
   "source": [
    "import torchvision.models as models\n",
    "import torch.nn as nn\n",
    "import torch.optim as optim"
   ]
  },
  {
   "cell_type": "markdown",
   "id": "39608e55-a09f-49bd-8190-4f387a7d1c59",
   "metadata": {},
   "source": [
    "# Running resnet50 model"
   ]
  },
  {
   "cell_type": "code",
   "execution_count": 8,
   "id": "c46f1a33-b5e5-48ce-bcf2-48c1c002b1d9",
   "metadata": {},
   "outputs": [
    {
     "data": {
      "text/plain": [
       "CrossEntropyLoss()"
      ]
     },
     "execution_count": 8,
     "metadata": {},
     "output_type": "execute_result"
    }
   ],
   "source": [
    "# Define the ResNet-50 model\n",
    "model = models.resnet50(pretrained=False)\n",
    "num_classes = 10\n",
    "model.fc = nn.Linear(2048, num_classes)\n",
    "\n",
    "# Modify the first convolution layer to accept 5-channel input\n",
    "model.conv1 = nn.Conv2d(13, 64, kernel_size=7, stride=2, padding=3, bias=False)\n",
    "\n",
    "# Define the loss function and optimizer\n",
    "criterion = nn.CrossEntropyLoss()\n",
    "optimizer = optim.Adam(model.parameters(), lr=0.001)\n",
    "\n",
    "# Move the model and loss function to the device\n",
    "model.to(device)\n",
    "criterion.to(device)"
   ]
  },
  {
   "cell_type": "code",
   "execution_count": 9,
   "id": "e112cf55-598c-4c77-ae0d-9980ef8a7d35",
   "metadata": {},
   "outputs": [
    {
     "name": "stdout",
     "output_type": "stream",
     "text": [
      "----------------------------------------------------------------\n",
      "        Layer (type)               Output Shape         Param #\n",
      "================================================================\n",
      "            Conv2d-1           [-1, 64, 32, 32]          40,768\n",
      "       BatchNorm2d-2           [-1, 64, 32, 32]             128\n",
      "              ReLU-3           [-1, 64, 32, 32]               0\n",
      "         MaxPool2d-4           [-1, 64, 16, 16]               0\n",
      "            Conv2d-5           [-1, 64, 16, 16]           4,096\n",
      "       BatchNorm2d-6           [-1, 64, 16, 16]             128\n",
      "              ReLU-7           [-1, 64, 16, 16]               0\n",
      "            Conv2d-8           [-1, 64, 16, 16]          36,864\n",
      "       BatchNorm2d-9           [-1, 64, 16, 16]             128\n",
      "             ReLU-10           [-1, 64, 16, 16]               0\n",
      "           Conv2d-11          [-1, 256, 16, 16]          16,384\n",
      "      BatchNorm2d-12          [-1, 256, 16, 16]             512\n",
      "           Conv2d-13          [-1, 256, 16, 16]          16,384\n",
      "      BatchNorm2d-14          [-1, 256, 16, 16]             512\n",
      "             ReLU-15          [-1, 256, 16, 16]               0\n",
      "       Bottleneck-16          [-1, 256, 16, 16]               0\n",
      "           Conv2d-17           [-1, 64, 16, 16]          16,384\n",
      "      BatchNorm2d-18           [-1, 64, 16, 16]             128\n",
      "             ReLU-19           [-1, 64, 16, 16]               0\n",
      "           Conv2d-20           [-1, 64, 16, 16]          36,864\n",
      "      BatchNorm2d-21           [-1, 64, 16, 16]             128\n",
      "             ReLU-22           [-1, 64, 16, 16]               0\n",
      "           Conv2d-23          [-1, 256, 16, 16]          16,384\n",
      "      BatchNorm2d-24          [-1, 256, 16, 16]             512\n",
      "             ReLU-25          [-1, 256, 16, 16]               0\n",
      "       Bottleneck-26          [-1, 256, 16, 16]               0\n",
      "           Conv2d-27           [-1, 64, 16, 16]          16,384\n",
      "      BatchNorm2d-28           [-1, 64, 16, 16]             128\n",
      "             ReLU-29           [-1, 64, 16, 16]               0\n",
      "           Conv2d-30           [-1, 64, 16, 16]          36,864\n",
      "      BatchNorm2d-31           [-1, 64, 16, 16]             128\n",
      "             ReLU-32           [-1, 64, 16, 16]               0\n",
      "           Conv2d-33          [-1, 256, 16, 16]          16,384\n",
      "      BatchNorm2d-34          [-1, 256, 16, 16]             512\n",
      "             ReLU-35          [-1, 256, 16, 16]               0\n",
      "       Bottleneck-36          [-1, 256, 16, 16]               0\n",
      "           Conv2d-37          [-1, 128, 16, 16]          32,768\n",
      "      BatchNorm2d-38          [-1, 128, 16, 16]             256\n",
      "             ReLU-39          [-1, 128, 16, 16]               0\n",
      "           Conv2d-40            [-1, 128, 8, 8]         147,456\n",
      "      BatchNorm2d-41            [-1, 128, 8, 8]             256\n",
      "             ReLU-42            [-1, 128, 8, 8]               0\n",
      "           Conv2d-43            [-1, 512, 8, 8]          65,536\n",
      "      BatchNorm2d-44            [-1, 512, 8, 8]           1,024\n",
      "           Conv2d-45            [-1, 512, 8, 8]         131,072\n",
      "      BatchNorm2d-46            [-1, 512, 8, 8]           1,024\n",
      "             ReLU-47            [-1, 512, 8, 8]               0\n",
      "       Bottleneck-48            [-1, 512, 8, 8]               0\n",
      "           Conv2d-49            [-1, 128, 8, 8]          65,536\n",
      "      BatchNorm2d-50            [-1, 128, 8, 8]             256\n",
      "             ReLU-51            [-1, 128, 8, 8]               0\n",
      "           Conv2d-52            [-1, 128, 8, 8]         147,456\n",
      "      BatchNorm2d-53            [-1, 128, 8, 8]             256\n",
      "             ReLU-54            [-1, 128, 8, 8]               0\n",
      "           Conv2d-55            [-1, 512, 8, 8]          65,536\n",
      "      BatchNorm2d-56            [-1, 512, 8, 8]           1,024\n",
      "             ReLU-57            [-1, 512, 8, 8]               0\n",
      "       Bottleneck-58            [-1, 512, 8, 8]               0\n",
      "           Conv2d-59            [-1, 128, 8, 8]          65,536\n",
      "      BatchNorm2d-60            [-1, 128, 8, 8]             256\n",
      "             ReLU-61            [-1, 128, 8, 8]               0\n",
      "           Conv2d-62            [-1, 128, 8, 8]         147,456\n",
      "      BatchNorm2d-63            [-1, 128, 8, 8]             256\n",
      "             ReLU-64            [-1, 128, 8, 8]               0\n",
      "           Conv2d-65            [-1, 512, 8, 8]          65,536\n",
      "      BatchNorm2d-66            [-1, 512, 8, 8]           1,024\n",
      "             ReLU-67            [-1, 512, 8, 8]               0\n",
      "       Bottleneck-68            [-1, 512, 8, 8]               0\n",
      "           Conv2d-69            [-1, 128, 8, 8]          65,536\n",
      "      BatchNorm2d-70            [-1, 128, 8, 8]             256\n",
      "             ReLU-71            [-1, 128, 8, 8]               0\n",
      "           Conv2d-72            [-1, 128, 8, 8]         147,456\n",
      "      BatchNorm2d-73            [-1, 128, 8, 8]             256\n",
      "             ReLU-74            [-1, 128, 8, 8]               0\n",
      "           Conv2d-75            [-1, 512, 8, 8]          65,536\n",
      "      BatchNorm2d-76            [-1, 512, 8, 8]           1,024\n",
      "             ReLU-77            [-1, 512, 8, 8]               0\n",
      "       Bottleneck-78            [-1, 512, 8, 8]               0\n",
      "           Conv2d-79            [-1, 256, 8, 8]         131,072\n",
      "      BatchNorm2d-80            [-1, 256, 8, 8]             512\n",
      "             ReLU-81            [-1, 256, 8, 8]               0\n",
      "           Conv2d-82            [-1, 256, 4, 4]         589,824\n",
      "      BatchNorm2d-83            [-1, 256, 4, 4]             512\n",
      "             ReLU-84            [-1, 256, 4, 4]               0\n",
      "           Conv2d-85           [-1, 1024, 4, 4]         262,144\n",
      "      BatchNorm2d-86           [-1, 1024, 4, 4]           2,048\n",
      "           Conv2d-87           [-1, 1024, 4, 4]         524,288\n",
      "      BatchNorm2d-88           [-1, 1024, 4, 4]           2,048\n",
      "             ReLU-89           [-1, 1024, 4, 4]               0\n",
      "       Bottleneck-90           [-1, 1024, 4, 4]               0\n",
      "           Conv2d-91            [-1, 256, 4, 4]         262,144\n",
      "      BatchNorm2d-92            [-1, 256, 4, 4]             512\n",
      "             ReLU-93            [-1, 256, 4, 4]               0\n",
      "           Conv2d-94            [-1, 256, 4, 4]         589,824\n",
      "      BatchNorm2d-95            [-1, 256, 4, 4]             512\n",
      "             ReLU-96            [-1, 256, 4, 4]               0\n",
      "           Conv2d-97           [-1, 1024, 4, 4]         262,144\n",
      "      BatchNorm2d-98           [-1, 1024, 4, 4]           2,048\n",
      "             ReLU-99           [-1, 1024, 4, 4]               0\n",
      "      Bottleneck-100           [-1, 1024, 4, 4]               0\n",
      "          Conv2d-101            [-1, 256, 4, 4]         262,144\n",
      "     BatchNorm2d-102            [-1, 256, 4, 4]             512\n",
      "            ReLU-103            [-1, 256, 4, 4]               0\n",
      "          Conv2d-104            [-1, 256, 4, 4]         589,824\n",
      "     BatchNorm2d-105            [-1, 256, 4, 4]             512\n",
      "            ReLU-106            [-1, 256, 4, 4]               0\n",
      "          Conv2d-107           [-1, 1024, 4, 4]         262,144\n",
      "     BatchNorm2d-108           [-1, 1024, 4, 4]           2,048\n",
      "            ReLU-109           [-1, 1024, 4, 4]               0\n",
      "      Bottleneck-110           [-1, 1024, 4, 4]               0\n",
      "          Conv2d-111            [-1, 256, 4, 4]         262,144\n",
      "     BatchNorm2d-112            [-1, 256, 4, 4]             512\n",
      "            ReLU-113            [-1, 256, 4, 4]               0\n",
      "          Conv2d-114            [-1, 256, 4, 4]         589,824\n",
      "     BatchNorm2d-115            [-1, 256, 4, 4]             512\n",
      "            ReLU-116            [-1, 256, 4, 4]               0\n",
      "          Conv2d-117           [-1, 1024, 4, 4]         262,144\n",
      "     BatchNorm2d-118           [-1, 1024, 4, 4]           2,048\n",
      "            ReLU-119           [-1, 1024, 4, 4]               0\n",
      "      Bottleneck-120           [-1, 1024, 4, 4]               0\n",
      "          Conv2d-121            [-1, 256, 4, 4]         262,144\n",
      "     BatchNorm2d-122            [-1, 256, 4, 4]             512\n",
      "            ReLU-123            [-1, 256, 4, 4]               0\n",
      "          Conv2d-124            [-1, 256, 4, 4]         589,824\n",
      "     BatchNorm2d-125            [-1, 256, 4, 4]             512\n",
      "            ReLU-126            [-1, 256, 4, 4]               0\n",
      "          Conv2d-127           [-1, 1024, 4, 4]         262,144\n",
      "     BatchNorm2d-128           [-1, 1024, 4, 4]           2,048\n",
      "            ReLU-129           [-1, 1024, 4, 4]               0\n",
      "      Bottleneck-130           [-1, 1024, 4, 4]               0\n",
      "          Conv2d-131            [-1, 256, 4, 4]         262,144\n",
      "     BatchNorm2d-132            [-1, 256, 4, 4]             512\n",
      "            ReLU-133            [-1, 256, 4, 4]               0\n",
      "          Conv2d-134            [-1, 256, 4, 4]         589,824\n",
      "     BatchNorm2d-135            [-1, 256, 4, 4]             512\n",
      "            ReLU-136            [-1, 256, 4, 4]               0\n",
      "          Conv2d-137           [-1, 1024, 4, 4]         262,144\n",
      "     BatchNorm2d-138           [-1, 1024, 4, 4]           2,048\n",
      "            ReLU-139           [-1, 1024, 4, 4]               0\n",
      "      Bottleneck-140           [-1, 1024, 4, 4]               0\n",
      "          Conv2d-141            [-1, 512, 4, 4]         524,288\n",
      "     BatchNorm2d-142            [-1, 512, 4, 4]           1,024\n",
      "            ReLU-143            [-1, 512, 4, 4]               0\n",
      "          Conv2d-144            [-1, 512, 2, 2]       2,359,296\n",
      "     BatchNorm2d-145            [-1, 512, 2, 2]           1,024\n",
      "            ReLU-146            [-1, 512, 2, 2]               0\n",
      "          Conv2d-147           [-1, 2048, 2, 2]       1,048,576\n",
      "     BatchNorm2d-148           [-1, 2048, 2, 2]           4,096\n",
      "          Conv2d-149           [-1, 2048, 2, 2]       2,097,152\n",
      "     BatchNorm2d-150           [-1, 2048, 2, 2]           4,096\n",
      "            ReLU-151           [-1, 2048, 2, 2]               0\n",
      "      Bottleneck-152           [-1, 2048, 2, 2]               0\n",
      "          Conv2d-153            [-1, 512, 2, 2]       1,048,576\n",
      "     BatchNorm2d-154            [-1, 512, 2, 2]           1,024\n",
      "            ReLU-155            [-1, 512, 2, 2]               0\n",
      "          Conv2d-156            [-1, 512, 2, 2]       2,359,296\n",
      "     BatchNorm2d-157            [-1, 512, 2, 2]           1,024\n",
      "            ReLU-158            [-1, 512, 2, 2]               0\n",
      "          Conv2d-159           [-1, 2048, 2, 2]       1,048,576\n",
      "     BatchNorm2d-160           [-1, 2048, 2, 2]           4,096\n",
      "            ReLU-161           [-1, 2048, 2, 2]               0\n",
      "      Bottleneck-162           [-1, 2048, 2, 2]               0\n",
      "          Conv2d-163            [-1, 512, 2, 2]       1,048,576\n",
      "     BatchNorm2d-164            [-1, 512, 2, 2]           1,024\n",
      "            ReLU-165            [-1, 512, 2, 2]               0\n",
      "          Conv2d-166            [-1, 512, 2, 2]       2,359,296\n",
      "     BatchNorm2d-167            [-1, 512, 2, 2]           1,024\n",
      "            ReLU-168            [-1, 512, 2, 2]               0\n",
      "          Conv2d-169           [-1, 2048, 2, 2]       1,048,576\n",
      "     BatchNorm2d-170           [-1, 2048, 2, 2]           4,096\n",
      "            ReLU-171           [-1, 2048, 2, 2]               0\n",
      "      Bottleneck-172           [-1, 2048, 2, 2]               0\n",
      "AdaptiveAvgPool2d-173           [-1, 2048, 1, 1]               0\n",
      "          Linear-174                   [-1, 10]          20,490\n",
      "================================================================\n",
      "Total params: 23,559,882\n",
      "Trainable params: 23,559,882\n",
      "Non-trainable params: 0\n",
      "----------------------------------------------------------------\n",
      "Input size (MB): 0.20\n",
      "Forward/backward pass size (MB): 23.41\n",
      "Params size (MB): 89.87\n",
      "Estimated Total Size (MB): 113.48\n",
      "----------------------------------------------------------------\n"
     ]
    }
   ],
   "source": [
    "import torchsummary\n",
    "\n",
    "# Print the model summary\n",
    "torchsummary.summary(model.to(device), input_size=(13, 64, 64))"
   ]
  },
  {
   "cell_type": "code",
   "execution_count": 10,
   "id": "bf018ac8-e261-400f-834b-1538ddc84b01",
   "metadata": {},
   "outputs": [],
   "source": [
    "train_losses = []\n",
    "train_accu = []\n",
    "\n",
    "def train(epoch):\n",
    "    print('Epoch : %d'%epoch)\n",
    "    \n",
    "    model.train()\n",
    "    running_loss=0\n",
    "    correct=0\n",
    "    total=0\n",
    "\n",
    "    for images, labels in tqdm(train_loader):\n",
    "        \n",
    "        images = images.float().cuda()\n",
    "        labels = labels.float().cuda()\n",
    "        #print(images.size())\n",
    "        #print(labels.size())\n",
    "        # Forward pass\n",
    "        #model = model.cuda()\n",
    "        outputs = model(images)\n",
    "        labels1= np.zeros((32,10))\n",
    "        \n",
    "        #labels1 = tensor.detach().cpu().numpy()\n",
    "        for j in range(32):\n",
    "            i=labels[j]\n",
    "            i=int(i.item())\n",
    "            # print(i)\n",
    "            labels1[j][i]=1\n",
    "        labels1=torch.from_numpy(labels1)\n",
    "        #print(labels1.size())\n",
    "        labels1=labels1.to(device='cuda')\n",
    "        loss = criterion(outputs, labels1)\n",
    "        \n",
    "        \n",
    "       # Backward and optimize\n",
    "        optimizer.zero_grad()\n",
    "        loss.backward()\n",
    "        optimizer.step()\n",
    "    \n",
    "        \n",
    "    #Replaces pow(2.0) with abs() for L1 regularization\n",
    "    \n",
    "#     l2_lambda = 0.001\n",
    "#     l2_norm = sum(p.pow(2.0).sum()\n",
    "#                   for p in model.parameters())\n",
    "\n",
    "#     loss = loss + l2_lambda * l2_norm\n",
    "    \n",
    "        \n",
    "        running_loss += loss.item()\n",
    "    \n",
    "        _, predicted = outputs.max(1)\n",
    "        total += labels.size(0)\n",
    "        correct += predicted.eq(labels).sum().item()\n",
    "      \n",
    "    train_loss=running_loss/len(train_loader)\n",
    "    accu=100.*correct/total\n",
    "  \n",
    "    train_accu.append(accu)\n",
    "    train_losses.append(train_loss)\n",
    "    print('Train Loss: %.3f | Accuracy: %.3f'%(train_loss,accu))\n",
    "    "
   ]
  },
  {
   "cell_type": "code",
   "execution_count": 11,
   "id": "db4b1292-e4d4-478f-b4b3-c0aadcc1e5a2",
   "metadata": {},
   "outputs": [],
   "source": [
    "eval_losses=[]\n",
    "eval_accu=[]\n",
    "\n",
    "def test(epoch):\n",
    "    model.eval()\n",
    "\n",
    "    running_loss=0\n",
    "    correct=0\n",
    "    total=0\n",
    "    #print(test_loader)\n",
    "    with torch.no_grad():\n",
    "        for images, labels in tqdm(test_loader):\n",
    "            \n",
    "            #images = images.to(device='cuda', dtype=torch.float)\n",
    "            images = images.float().cuda()\n",
    "            labels = labels.float().cuda()\n",
    "            #labels = labels.to(device='cuda', dtype=torch.float)\n",
    "            \n",
    "            # Predict classes using the model\n",
    "            outputs = model(images)\n",
    "            #print(labels.size())\n",
    "            t,y=outputs.shape\n",
    "            # print(t)\n",
    "            labels1= np.zeros((t,10))\n",
    "            for j in range(t):\n",
    "                i=labels[j]\n",
    "                i=int(i.item())\n",
    "                labels1[j][i]=1\n",
    "            labels1=torch.from_numpy(labels1)\n",
    "            #print(labels1.size())\n",
    "            labels1=labels1.to(device='cuda')\n",
    "            #outputs=outputs.tensor()\n",
    "            loss= criterion(outputs,labels1)\n",
    "            running_loss+=loss.item()\n",
    "            \n",
    "            \n",
    "           # Compute accuracy\n",
    "            _, predicted = torch.max(outputs.data, 1)\n",
    "            total += labels.size(0)\n",
    "            correct += (predicted == labels).sum().item()\n",
    "            \n",
    "    test_loss=running_loss/len(test_loader)\n",
    "    accu=100.*correct/total\n",
    "\n",
    "    eval_losses.append(test_loss)\n",
    "    eval_accu.append(accu)\n",
    "\n",
    "    print('Test Loss: %.3f | Accuracy: %.3f'%(test_loss,accu)) \n",
    "    "
   ]
  },
  {
   "cell_type": "code",
   "execution_count": 12,
   "id": "a28a32db-d9a8-421b-be09-12b386962e0e",
   "metadata": {},
   "outputs": [],
   "source": [
    "from tqdm import tqdm"
   ]
  },
  {
   "cell_type": "code",
   "execution_count": 13,
   "id": "485e3cb9-8bc0-4c1b-ba98-7c5818111337",
   "metadata": {},
   "outputs": [
    {
     "name": "stdout",
     "output_type": "stream",
     "text": [
      "Epoch : 1\n"
     ]
    },
    {
     "name": "stderr",
     "output_type": "stream",
     "text": [
      "100%|█████████████████████████████████████████| 675/675 [00:27<00:00, 24.93it/s]\n"
     ]
    },
    {
     "name": "stdout",
     "output_type": "stream",
     "text": [
      "Train Loss: 1.025 | Accuracy: 67.630\n"
     ]
    },
    {
     "name": "stderr",
     "output_type": "stream",
     "text": [
      "100%|█████████████████████████████████████████| 169/169 [00:02<00:00, 75.00it/s]\n"
     ]
    },
    {
     "name": "stdout",
     "output_type": "stream",
     "text": [
      "Test Loss: 0.746 | Accuracy: 75.667\n",
      "Epoch : 2\n"
     ]
    },
    {
     "name": "stderr",
     "output_type": "stream",
     "text": [
      "100%|█████████████████████████████████████████| 675/675 [00:26<00:00, 25.25it/s]\n"
     ]
    },
    {
     "name": "stdout",
     "output_type": "stream",
     "text": [
      "Train Loss: 0.548 | Accuracy: 82.148\n"
     ]
    },
    {
     "name": "stderr",
     "output_type": "stream",
     "text": [
      "100%|█████████████████████████████████████████| 169/169 [00:02<00:00, 74.02it/s]\n"
     ]
    },
    {
     "name": "stdout",
     "output_type": "stream",
     "text": [
      "Test Loss: 0.485 | Accuracy: 82.370\n",
      "Epoch : 3\n"
     ]
    },
    {
     "name": "stderr",
     "output_type": "stream",
     "text": [
      "100%|█████████████████████████████████████████| 675/675 [00:26<00:00, 25.08it/s]\n"
     ]
    },
    {
     "name": "stdout",
     "output_type": "stream",
     "text": [
      "Train Loss: 0.423 | Accuracy: 86.287\n"
     ]
    },
    {
     "name": "stderr",
     "output_type": "stream",
     "text": [
      "100%|█████████████████████████████████████████| 169/169 [00:02<00:00, 75.34it/s]\n"
     ]
    },
    {
     "name": "stdout",
     "output_type": "stream",
     "text": [
      "Test Loss: 0.489 | Accuracy: 83.870\n",
      "Epoch : 4\n"
     ]
    },
    {
     "name": "stderr",
     "output_type": "stream",
     "text": [
      "100%|█████████████████████████████████████████| 675/675 [00:26<00:00, 25.11it/s]\n"
     ]
    },
    {
     "name": "stdout",
     "output_type": "stream",
     "text": [
      "Train Loss: 0.353 | Accuracy: 88.556\n"
     ]
    },
    {
     "name": "stderr",
     "output_type": "stream",
     "text": [
      "100%|█████████████████████████████████████████| 169/169 [00:02<00:00, 74.97it/s]\n"
     ]
    },
    {
     "name": "stdout",
     "output_type": "stream",
     "text": [
      "Test Loss: 0.457 | Accuracy: 85.315\n",
      "Epoch : 5\n"
     ]
    },
    {
     "name": "stderr",
     "output_type": "stream",
     "text": [
      "100%|█████████████████████████████████████████| 675/675 [00:27<00:00, 24.99it/s]\n"
     ]
    },
    {
     "name": "stdout",
     "output_type": "stream",
     "text": [
      "Train Loss: 0.418 | Accuracy: 86.713\n"
     ]
    },
    {
     "name": "stderr",
     "output_type": "stream",
     "text": [
      "100%|█████████████████████████████████████████| 169/169 [00:02<00:00, 66.51it/s]\n"
     ]
    },
    {
     "name": "stdout",
     "output_type": "stream",
     "text": [
      "Test Loss: 0.932 | Accuracy: 74.907\n",
      "Epoch : 6\n"
     ]
    },
    {
     "name": "stderr",
     "output_type": "stream",
     "text": [
      "100%|█████████████████████████████████████████| 675/675 [00:27<00:00, 24.76it/s]\n"
     ]
    },
    {
     "name": "stdout",
     "output_type": "stream",
     "text": [
      "Train Loss: 0.289 | Accuracy: 90.519\n"
     ]
    },
    {
     "name": "stderr",
     "output_type": "stream",
     "text": [
      "100%|█████████████████████████████████████████| 169/169 [00:02<00:00, 71.00it/s]\n"
     ]
    },
    {
     "name": "stdout",
     "output_type": "stream",
     "text": [
      "Test Loss: 1.717 | Accuracy: 63.167\n",
      "Epoch : 7\n"
     ]
    },
    {
     "name": "stderr",
     "output_type": "stream",
     "text": [
      "100%|█████████████████████████████████████████| 675/675 [00:26<00:00, 25.01it/s]\n"
     ]
    },
    {
     "name": "stdout",
     "output_type": "stream",
     "text": [
      "Train Loss: 0.259 | Accuracy: 91.468\n"
     ]
    },
    {
     "name": "stderr",
     "output_type": "stream",
     "text": [
      "100%|█████████████████████████████████████████| 169/169 [00:02<00:00, 72.77it/s]\n"
     ]
    },
    {
     "name": "stdout",
     "output_type": "stream",
     "text": [
      "Test Loss: 0.540 | Accuracy: 82.833\n",
      "Epoch : 8\n"
     ]
    },
    {
     "name": "stderr",
     "output_type": "stream",
     "text": [
      "100%|█████████████████████████████████████████| 675/675 [00:26<00:00, 25.13it/s]\n"
     ]
    },
    {
     "name": "stdout",
     "output_type": "stream",
     "text": [
      "Train Loss: 0.239 | Accuracy: 92.199\n"
     ]
    },
    {
     "name": "stderr",
     "output_type": "stream",
     "text": [
      "100%|█████████████████████████████████████████| 169/169 [00:02<00:00, 74.38it/s]\n"
     ]
    },
    {
     "name": "stdout",
     "output_type": "stream",
     "text": [
      "Test Loss: 0.968 | Accuracy: 76.204\n",
      "Epoch : 9\n"
     ]
    },
    {
     "name": "stderr",
     "output_type": "stream",
     "text": [
      "100%|█████████████████████████████████████████| 675/675 [00:26<00:00, 25.06it/s]\n"
     ]
    },
    {
     "name": "stdout",
     "output_type": "stream",
     "text": [
      "Train Loss: 0.226 | Accuracy: 92.713\n"
     ]
    },
    {
     "name": "stderr",
     "output_type": "stream",
     "text": [
      "100%|█████████████████████████████████████████| 169/169 [00:02<00:00, 72.03it/s]\n"
     ]
    },
    {
     "name": "stdout",
     "output_type": "stream",
     "text": [
      "Test Loss: 0.499 | Accuracy: 83.370\n",
      "Epoch : 10\n"
     ]
    },
    {
     "name": "stderr",
     "output_type": "stream",
     "text": [
      "100%|█████████████████████████████████████████| 675/675 [00:26<00:00, 25.11it/s]\n"
     ]
    },
    {
     "name": "stdout",
     "output_type": "stream",
     "text": [
      "Train Loss: 0.206 | Accuracy: 93.190\n"
     ]
    },
    {
     "name": "stderr",
     "output_type": "stream",
     "text": [
      "100%|█████████████████████████████████████████| 169/169 [00:02<00:00, 74.74it/s]\n"
     ]
    },
    {
     "name": "stdout",
     "output_type": "stream",
     "text": [
      "Test Loss: 0.505 | Accuracy: 83.593\n",
      "Epoch : 11\n"
     ]
    },
    {
     "name": "stderr",
     "output_type": "stream",
     "text": [
      "100%|█████████████████████████████████████████| 675/675 [00:26<00:00, 25.11it/s]\n"
     ]
    },
    {
     "name": "stdout",
     "output_type": "stream",
     "text": [
      "Train Loss: 0.205 | Accuracy: 92.963\n"
     ]
    },
    {
     "name": "stderr",
     "output_type": "stream",
     "text": [
      "100%|█████████████████████████████████████████| 169/169 [00:02<00:00, 73.70it/s]\n"
     ]
    },
    {
     "name": "stdout",
     "output_type": "stream",
     "text": [
      "Test Loss: 0.696 | Accuracy: 79.833\n",
      "Epoch : 12\n"
     ]
    },
    {
     "name": "stderr",
     "output_type": "stream",
     "text": [
      "100%|█████████████████████████████████████████| 675/675 [00:26<00:00, 25.00it/s]\n"
     ]
    },
    {
     "name": "stdout",
     "output_type": "stream",
     "text": [
      "Train Loss: 0.208 | Accuracy: 93.245\n"
     ]
    },
    {
     "name": "stderr",
     "output_type": "stream",
     "text": [
      "100%|█████████████████████████████████████████| 169/169 [00:02<00:00, 69.28it/s]\n"
     ]
    },
    {
     "name": "stdout",
     "output_type": "stream",
     "text": [
      "Test Loss: 2.876 | Accuracy: 70.148\n",
      "Epoch : 13\n"
     ]
    },
    {
     "name": "stderr",
     "output_type": "stream",
     "text": [
      "100%|█████████████████████████████████████████| 675/675 [00:27<00:00, 24.99it/s]\n"
     ]
    },
    {
     "name": "stdout",
     "output_type": "stream",
     "text": [
      "Train Loss: 0.202 | Accuracy: 93.676\n"
     ]
    },
    {
     "name": "stderr",
     "output_type": "stream",
     "text": [
      "100%|█████████████████████████████████████████| 169/169 [00:02<00:00, 74.81it/s]\n"
     ]
    },
    {
     "name": "stdout",
     "output_type": "stream",
     "text": [
      "Test Loss: 0.465 | Accuracy: 85.981\n",
      "Epoch : 14\n"
     ]
    },
    {
     "name": "stderr",
     "output_type": "stream",
     "text": [
      "100%|█████████████████████████████████████████| 675/675 [00:26<00:00, 25.85it/s]\n"
     ]
    },
    {
     "name": "stdout",
     "output_type": "stream",
     "text": [
      "Train Loss: 0.162 | Accuracy: 94.546\n"
     ]
    },
    {
     "name": "stderr",
     "output_type": "stream",
     "text": [
      "100%|█████████████████████████████████████████| 169/169 [00:02<00:00, 73.89it/s]\n"
     ]
    },
    {
     "name": "stdout",
     "output_type": "stream",
     "text": [
      "Test Loss: 0.659 | Accuracy: 80.241\n",
      "Epoch : 15\n"
     ]
    },
    {
     "name": "stderr",
     "output_type": "stream",
     "text": [
      "100%|█████████████████████████████████████████| 675/675 [00:26<00:00, 25.76it/s]\n"
     ]
    },
    {
     "name": "stdout",
     "output_type": "stream",
     "text": [
      "Train Loss: 0.160 | Accuracy: 94.792\n"
     ]
    },
    {
     "name": "stderr",
     "output_type": "stream",
     "text": [
      "100%|█████████████████████████████████████████| 169/169 [00:02<00:00, 73.88it/s]\n"
     ]
    },
    {
     "name": "stdout",
     "output_type": "stream",
     "text": [
      "Test Loss: 0.176 | Accuracy: 94.630\n",
      "Epoch : 16\n"
     ]
    },
    {
     "name": "stderr",
     "output_type": "stream",
     "text": [
      "100%|█████████████████████████████████████████| 675/675 [00:26<00:00, 25.72it/s]\n"
     ]
    },
    {
     "name": "stdout",
     "output_type": "stream",
     "text": [
      "Train Loss: 0.126 | Accuracy: 95.755\n"
     ]
    },
    {
     "name": "stderr",
     "output_type": "stream",
     "text": [
      "100%|█████████████████████████████████████████| 169/169 [00:02<00:00, 73.57it/s]\n"
     ]
    },
    {
     "name": "stdout",
     "output_type": "stream",
     "text": [
      "Test Loss: 0.406 | Accuracy: 87.185\n",
      "Epoch : 17\n"
     ]
    },
    {
     "name": "stderr",
     "output_type": "stream",
     "text": [
      "100%|█████████████████████████████████████████| 675/675 [00:26<00:00, 25.68it/s]\n"
     ]
    },
    {
     "name": "stdout",
     "output_type": "stream",
     "text": [
      "Train Loss: 0.115 | Accuracy: 96.093\n"
     ]
    },
    {
     "name": "stderr",
     "output_type": "stream",
     "text": [
      "100%|█████████████████████████████████████████| 169/169 [00:02<00:00, 71.76it/s]\n"
     ]
    },
    {
     "name": "stdout",
     "output_type": "stream",
     "text": [
      "Test Loss: 0.264 | Accuracy: 92.352\n",
      "Epoch : 18\n"
     ]
    },
    {
     "name": "stderr",
     "output_type": "stream",
     "text": [
      "100%|█████████████████████████████████████████| 675/675 [00:26<00:00, 25.50it/s]\n"
     ]
    },
    {
     "name": "stdout",
     "output_type": "stream",
     "text": [
      "Train Loss: 0.125 | Accuracy: 96.009\n"
     ]
    },
    {
     "name": "stderr",
     "output_type": "stream",
     "text": [
      "100%|█████████████████████████████████████████| 169/169 [00:02<00:00, 71.45it/s]\n"
     ]
    },
    {
     "name": "stdout",
     "output_type": "stream",
     "text": [
      "Test Loss: 0.927 | Accuracy: 77.204\n",
      "Epoch : 19\n"
     ]
    },
    {
     "name": "stderr",
     "output_type": "stream",
     "text": [
      "100%|█████████████████████████████████████████| 675/675 [00:26<00:00, 25.48it/s]\n"
     ]
    },
    {
     "name": "stdout",
     "output_type": "stream",
     "text": [
      "Train Loss: 0.107 | Accuracy: 96.259\n"
     ]
    },
    {
     "name": "stderr",
     "output_type": "stream",
     "text": [
      "100%|█████████████████████████████████████████| 169/169 [00:02<00:00, 72.63it/s]\n"
     ]
    },
    {
     "name": "stdout",
     "output_type": "stream",
     "text": [
      "Test Loss: 0.318 | Accuracy: 90.093\n",
      "Epoch : 20\n"
     ]
    },
    {
     "name": "stderr",
     "output_type": "stream",
     "text": [
      "100%|█████████████████████████████████████████| 675/675 [00:26<00:00, 25.55it/s]\n"
     ]
    },
    {
     "name": "stdout",
     "output_type": "stream",
     "text": [
      "Train Loss: 0.098 | Accuracy: 96.778\n"
     ]
    },
    {
     "name": "stderr",
     "output_type": "stream",
     "text": [
      "100%|█████████████████████████████████████████| 169/169 [00:02<00:00, 71.70it/s]\n"
     ]
    },
    {
     "name": "stdout",
     "output_type": "stream",
     "text": [
      "Test Loss: 0.432 | Accuracy: 87.667\n",
      "Epoch : 21\n"
     ]
    },
    {
     "name": "stderr",
     "output_type": "stream",
     "text": [
      "100%|█████████████████████████████████████████| 675/675 [00:26<00:00, 25.50it/s]\n"
     ]
    },
    {
     "name": "stdout",
     "output_type": "stream",
     "text": [
      "Train Loss: 0.096 | Accuracy: 96.981\n"
     ]
    },
    {
     "name": "stderr",
     "output_type": "stream",
     "text": [
      "100%|█████████████████████████████████████████| 169/169 [00:02<00:00, 72.29it/s]\n"
     ]
    },
    {
     "name": "stdout",
     "output_type": "stream",
     "text": [
      "Test Loss: 0.157 | Accuracy: 95.852\n",
      "Epoch : 22\n"
     ]
    },
    {
     "name": "stderr",
     "output_type": "stream",
     "text": [
      "100%|█████████████████████████████████████████| 675/675 [00:26<00:00, 25.53it/s]\n"
     ]
    },
    {
     "name": "stdout",
     "output_type": "stream",
     "text": [
      "Train Loss: 0.088 | Accuracy: 97.051\n"
     ]
    },
    {
     "name": "stderr",
     "output_type": "stream",
     "text": [
      "100%|█████████████████████████████████████████| 169/169 [00:02<00:00, 77.48it/s]\n"
     ]
    },
    {
     "name": "stdout",
     "output_type": "stream",
     "text": [
      "Test Loss: 0.133 | Accuracy: 96.204\n",
      "Epoch : 23\n"
     ]
    },
    {
     "name": "stderr",
     "output_type": "stream",
     "text": [
      "100%|█████████████████████████████████████████| 675/675 [00:26<00:00, 25.03it/s]\n"
     ]
    },
    {
     "name": "stdout",
     "output_type": "stream",
     "text": [
      "Train Loss: 0.095 | Accuracy: 97.000\n"
     ]
    },
    {
     "name": "stderr",
     "output_type": "stream",
     "text": [
      "100%|█████████████████████████████████████████| 169/169 [00:02<00:00, 77.12it/s]\n"
     ]
    },
    {
     "name": "stdout",
     "output_type": "stream",
     "text": [
      "Test Loss: 0.271 | Accuracy: 91.611\n",
      "Epoch : 24\n"
     ]
    },
    {
     "name": "stderr",
     "output_type": "stream",
     "text": [
      "100%|█████████████████████████████████████████| 675/675 [00:26<00:00, 25.66it/s]\n"
     ]
    },
    {
     "name": "stdout",
     "output_type": "stream",
     "text": [
      "Train Loss: 0.082 | Accuracy: 97.380\n"
     ]
    },
    {
     "name": "stderr",
     "output_type": "stream",
     "text": [
      "100%|█████████████████████████████████████████| 169/169 [00:02<00:00, 76.66it/s]\n"
     ]
    },
    {
     "name": "stdout",
     "output_type": "stream",
     "text": [
      "Test Loss: 0.156 | Accuracy: 95.556\n",
      "Epoch : 25\n"
     ]
    },
    {
     "name": "stderr",
     "output_type": "stream",
     "text": [
      "100%|█████████████████████████████████████████| 675/675 [00:26<00:00, 25.69it/s]\n"
     ]
    },
    {
     "name": "stdout",
     "output_type": "stream",
     "text": [
      "Train Loss: 0.077 | Accuracy: 97.486\n"
     ]
    },
    {
     "name": "stderr",
     "output_type": "stream",
     "text": [
      "100%|█████████████████████████████████████████| 169/169 [00:02<00:00, 78.61it/s]\n"
     ]
    },
    {
     "name": "stdout",
     "output_type": "stream",
     "text": [
      "Test Loss: 0.325 | Accuracy: 90.722\n",
      "Epoch : 26\n"
     ]
    },
    {
     "name": "stderr",
     "output_type": "stream",
     "text": [
      "100%|█████████████████████████████████████████| 675/675 [00:26<00:00, 25.87it/s]\n"
     ]
    },
    {
     "name": "stdout",
     "output_type": "stream",
     "text": [
      "Train Loss: 0.071 | Accuracy: 97.602\n"
     ]
    },
    {
     "name": "stderr",
     "output_type": "stream",
     "text": [
      "100%|█████████████████████████████████████████| 169/169 [00:02<00:00, 78.55it/s]\n"
     ]
    },
    {
     "name": "stdout",
     "output_type": "stream",
     "text": [
      "Test Loss: 0.299 | Accuracy: 92.704\n",
      "Epoch : 27\n"
     ]
    },
    {
     "name": "stderr",
     "output_type": "stream",
     "text": [
      "100%|█████████████████████████████████████████| 675/675 [00:26<00:00, 25.67it/s]\n"
     ]
    },
    {
     "name": "stdout",
     "output_type": "stream",
     "text": [
      "Train Loss: 0.068 | Accuracy: 97.574\n"
     ]
    },
    {
     "name": "stderr",
     "output_type": "stream",
     "text": [
      "100%|█████████████████████████████████████████| 169/169 [00:02<00:00, 73.83it/s]\n"
     ]
    },
    {
     "name": "stdout",
     "output_type": "stream",
     "text": [
      "Test Loss: 0.600 | Accuracy: 86.093\n",
      "Epoch : 28\n"
     ]
    },
    {
     "name": "stderr",
     "output_type": "stream",
     "text": [
      "100%|█████████████████████████████████████████| 675/675 [00:27<00:00, 24.93it/s]\n"
     ]
    },
    {
     "name": "stdout",
     "output_type": "stream",
     "text": [
      "Train Loss: 0.057 | Accuracy: 98.079\n"
     ]
    },
    {
     "name": "stderr",
     "output_type": "stream",
     "text": [
      "100%|█████████████████████████████████████████| 169/169 [00:02<00:00, 72.36it/s]\n"
     ]
    },
    {
     "name": "stdout",
     "output_type": "stream",
     "text": [
      "Test Loss: 0.244 | Accuracy: 93.611\n",
      "Epoch : 29\n"
     ]
    },
    {
     "name": "stderr",
     "output_type": "stream",
     "text": [
      "100%|█████████████████████████████████████████| 675/675 [00:26<00:00, 25.70it/s]\n"
     ]
    },
    {
     "name": "stdout",
     "output_type": "stream",
     "text": [
      "Train Loss: 0.055 | Accuracy: 98.231\n"
     ]
    },
    {
     "name": "stderr",
     "output_type": "stream",
     "text": [
      "100%|█████████████████████████████████████████| 169/169 [00:02<00:00, 73.52it/s]\n"
     ]
    },
    {
     "name": "stdout",
     "output_type": "stream",
     "text": [
      "Test Loss: 0.221 | Accuracy: 94.019\n",
      "Epoch : 30\n"
     ]
    },
    {
     "name": "stderr",
     "output_type": "stream",
     "text": [
      "100%|█████████████████████████████████████████| 675/675 [00:26<00:00, 25.61it/s]\n"
     ]
    },
    {
     "name": "stdout",
     "output_type": "stream",
     "text": [
      "Train Loss: 0.061 | Accuracy: 98.069\n"
     ]
    },
    {
     "name": "stderr",
     "output_type": "stream",
     "text": [
      "100%|█████████████████████████████████████████| 169/169 [00:02<00:00, 72.62it/s]"
     ]
    },
    {
     "name": "stdout",
     "output_type": "stream",
     "text": [
      "Test Loss: 0.418 | Accuracy: 91.130\n",
      "Training time: 868.23 seconds\n"
     ]
    },
    {
     "name": "stderr",
     "output_type": "stream",
     "text": [
      "\n"
     ]
    }
   ],
   "source": [
    "import time\n",
    "epochs = 30\n",
    "\n",
    "# Start the timer\n",
    "\n",
    "start_time = time.time()\n",
    "for epoch in range(1,epochs+1): \n",
    "    train(epoch)\n",
    "    test(epoch)\n",
    "# End the timer\n",
    "end_time = time.time()\n",
    "\n",
    "# Calculate the training time\n",
    "training_time = end_time - start_time\n",
    "\n",
    "print('Training time: {:.2f} seconds'.format(training_time))\n"
   ]
  },
  {
   "cell_type": "code",
   "execution_count": 14,
   "id": "ffad3d0b-f3d4-4bcb-9b04-c3503b064009",
   "metadata": {},
   "outputs": [],
   "source": [
    "import matplotlib.pyplot as plt\n"
   ]
  },
  {
   "cell_type": "code",
   "execution_count": 15,
   "id": "06a1cdb3-71b5-4868-94be-e7ab250d86dc",
   "metadata": {},
   "outputs": [
    {
     "data": {
      "image/png": "[encoded data removed]",
      "text/plain": [
       "<Figure size 432x288 with 1 Axes>"
      ]
     },
     "metadata": {
      "needs_background": "light"
     },
     "output_type": "display_data"
    }
   ],
   "source": [
    "#plot accuracy\n",
    "plt.plot(train_accu,'-o')\n",
    "plt.plot(eval_accu,'-o')\n",
    "plt.xlabel('epoch')\n",
    "plt.ylabel('accuracy')\n",
    "plt.legend(['Train','Valid'])\n",
    "plt.title('Train vs Valid Accuracy')\n",
    "\n",
    "plt.show()"
   ]
  },
  {
   "cell_type": "code",
   "execution_count": 16,
   "id": "d08b86e4-e526-4680-92ee-ed0d96bdf695",
   "metadata": {},
   "outputs": [
    {
     "data": {
      "image/png": "[encoded data removed]",
      "text/plain": [
       "<Figure size 432x288 with 1 Axes>"
      ]
     },
     "metadata": {
      "needs_background": "light"
     },
     "output_type": "display_data"
    }
   ],
   "source": [
    "#plot losses\n",
    "\n",
    "plt.plot(train_losses,'-o')\n",
    "plt.plot(eval_losses,'-o')\n",
    "plt.xlabel('epoch')\n",
    "plt.ylabel('losses')\n",
    "plt.legend(['Train','Valid'])\n",
    "plt.title('Train vs Valid Losses')\n",
    "\n",
    "plt.show()"
   ]
  },
  {
   "cell_type": "code",
   "execution_count": 17,
   "id": "719e1810-7179-4db6-b882-44e4d80eed77",
   "metadata": {},
   "outputs": [
    {
     "name": "stderr",
     "output_type": "stream",
     "text": [
      "100%|█████████████████████████████████████████| 169/169 [00:02<00:00, 73.67it/s]\n"
     ]
    },
    {
     "name": "stdout",
     "output_type": "stream",
     "text": [
      "Precision:  0.9285208437069683\n",
      "Recall:  0.9049666666666667\n",
      "Confusion matrix:\n",
      " [[546   0   5   6   1   4  30   8   0   0]\n",
      " [  2 580   8   0   0   5   0   5   0   0]\n",
      " [  0   0 570   1   0   1   5  20   3   0]\n",
      " [  4   0   2 413   5   2   7  61   6   0]\n",
      " [  0   0   0   9 390   0   1 100   0   0]\n",
      " [  7   1  28   0   0 340   8  16   0   0]\n",
      " [ 10   1   9   2   1   0 406  70   1   0]\n",
      " [  0   0   0   0   2   0   0 598   0   0]\n",
      " [  4   1   2   1   1   2   0   4 485   0]\n",
      " [  0   0   0   0   0   0   0   0   7 593]]\n",
      "Report:\n",
      "               precision    recall  f1-score   support\n",
      "\n",
      "         0.0       0.95      0.91      0.93       600\n",
      "         1.0       0.99      0.97      0.98       600\n",
      "         2.0       0.91      0.95      0.93       600\n",
      "         3.0       0.96      0.83      0.89       500\n",
      "         4.0       0.97      0.78      0.87       500\n",
      "         5.0       0.96      0.85      0.90       400\n",
      "         6.0       0.89      0.81      0.85       500\n",
      "         7.0       0.68      1.00      0.81       600\n",
      "         8.0       0.97      0.97      0.97       500\n",
      "         9.0       1.00      0.99      0.99       600\n",
      "\n",
      "    accuracy                           0.91      5400\n",
      "   macro avg       0.93      0.90      0.91      5400\n",
      "weighted avg       0.93      0.91      0.91      5400\n",
      "\n"
     ]
    }
   ],
   "source": [
    "from sklearn.metrics import confusion_matrix ,classification_report, precision_score, recall_score\n",
    "\n",
    "# testing\n",
    "ttloss = []\n",
    "ttacc = []\n",
    "ttf1 = []\n",
    "\n",
    "T_val = []\n",
    "P_val = []\n",
    "\n",
    "with torch.no_grad():\n",
    "    model.eval()\n",
    "    for (X_val, y_val) in tqdm(test_loader):\n",
    "        X_val = X_val.float().cuda()\n",
    "        y_val = y_val.float().cuda()\n",
    "        #X_val, y_val = X_val.to(device), y_val.to(device)\n",
    "        #y_val = y_val.type(torch.cuda.LongTensor)\n",
    "        \n",
    "        output = model(X_val)\n",
    "        #print(output.shape)\n",
    "        \n",
    "        outputs = torch.max(output, dim=1)[1]\n",
    "        #print(outputs.shape)\n",
    "        T_val.extend(y_val.cpu().numpy())\n",
    "        #print(T_val)\n",
    "        P_val.extend(outputs.cpu().numpy())\n",
    "    #print(T_val)\n",
    "    #print(P_val)\n",
    "    precision = precision_score(T_val, P_val, average='macro')\n",
    "    recall = recall_score(T_val, P_val, average='macro')\n",
    "    res = confusion_matrix(T_val, P_val)\n",
    "    report = classification_report(T_val, P_val)\n",
    "    \n",
    "    print(\"Precision: \",precision)\n",
    "    print(\"Recall: \",recall)\n",
    "\n",
    "    print('Confusion matrix:\\n',res)\n",
    "    print('Report:\\n',report)"
   ]
  },
  {
   "cell_type": "markdown",
   "id": "774f59ef-0427-403d-b140-88216e94d1c0",
   "metadata": {
    "tags": []
   },
   "source": [
    "# Running resnet101 model"
   ]
  },
  {
   "cell_type": "code",
   "execution_count": 18,
   "id": "cd291493-51d9-4d21-a3f5-3d23216588bc",
   "metadata": {},
   "outputs": [
    {
     "data": {
      "text/plain": [
       "CrossEntropyLoss()"
      ]
     },
     "execution_count": 18,
     "metadata": {},
     "output_type": "execute_result"
    }
   ],
   "source": [
    "# Define the ResNet-50 model\n",
    "model = models.resnet101(pretrained=True)\n",
    "num_classes = 10\n",
    "model.fc = nn.Linear(2048, num_classes)\n",
    "\n",
    "# Modify the first convolution layer to accept 5-channel input\n",
    "model.conv1 = nn.Conv2d(13, 64, kernel_size=7, stride=2, padding=3, bias=False)\n",
    "\n",
    "# Define the loss function and optimizer\n",
    "criterion = nn.CrossEntropyLoss()\n",
    "optimizer = optim.Adam(model.parameters(), lr=0.001)\n",
    "\n",
    "# Move the model and loss function to the device\n",
    "model.to(device)\n",
    "criterion.to(device)"
   ]
  },
  {
   "cell_type": "code",
   "execution_count": 19,
   "id": "fc684b6a-b879-4339-ab17-b2b3188c257a",
   "metadata": {},
   "outputs": [
    {
     "name": "stdout",
     "output_type": "stream",
     "text": [
      "----------------------------------------------------------------\n",
      "        Layer (type)               Output Shape         Param #\n",
      "================================================================\n",
      "            Conv2d-1           [-1, 64, 32, 32]          40,768\n",
      "       BatchNorm2d-2           [-1, 64, 32, 32]             128\n",
      "              ReLU-3           [-1, 64, 32, 32]               0\n",
      "         MaxPool2d-4           [-1, 64, 16, 16]               0\n",
      "            Conv2d-5           [-1, 64, 16, 16]           4,096\n",
      "       BatchNorm2d-6           [-1, 64, 16, 16]             128\n",
      "              ReLU-7           [-1, 64, 16, 16]               0\n",
      "            Conv2d-8           [-1, 64, 16, 16]          36,864\n",
      "       BatchNorm2d-9           [-1, 64, 16, 16]             128\n",
      "             ReLU-10           [-1, 64, 16, 16]               0\n",
      "           Conv2d-11          [-1, 256, 16, 16]          16,384\n",
      "      BatchNorm2d-12          [-1, 256, 16, 16]             512\n",
      "           Conv2d-13          [-1, 256, 16, 16]          16,384\n",
      "      BatchNorm2d-14          [-1, 256, 16, 16]             512\n",
      "             ReLU-15          [-1, 256, 16, 16]               0\n",
      "       Bottleneck-16          [-1, 256, 16, 16]               0\n",
      "           Conv2d-17           [-1, 64, 16, 16]          16,384\n",
      "      BatchNorm2d-18           [-1, 64, 16, 16]             128\n",
      "             ReLU-19           [-1, 64, 16, 16]               0\n",
      "           Conv2d-20           [-1, 64, 16, 16]          36,864\n",
      "      BatchNorm2d-21           [-1, 64, 16, 16]             128\n",
      "             ReLU-22           [-1, 64, 16, 16]               0\n",
      "           Conv2d-23          [-1, 256, 16, 16]          16,384\n",
      "      BatchNorm2d-24          [-1, 256, 16, 16]             512\n",
      "             ReLU-25          [-1, 256, 16, 16]               0\n",
      "       Bottleneck-26          [-1, 256, 16, 16]               0\n",
      "           Conv2d-27           [-1, 64, 16, 16]          16,384\n",
      "      BatchNorm2d-28           [-1, 64, 16, 16]             128\n",
      "             ReLU-29           [-1, 64, 16, 16]               0\n",
      "           Conv2d-30           [-1, 64, 16, 16]          36,864\n",
      "      BatchNorm2d-31           [-1, 64, 16, 16]             128\n",
      "             ReLU-32           [-1, 64, 16, 16]               0\n",
      "           Conv2d-33          [-1, 256, 16, 16]          16,384\n",
      "      BatchNorm2d-34          [-1, 256, 16, 16]             512\n",
      "             ReLU-35          [-1, 256, 16, 16]               0\n",
      "       Bottleneck-36          [-1, 256, 16, 16]               0\n",
      "           Conv2d-37          [-1, 128, 16, 16]          32,768\n",
      "      BatchNorm2d-38          [-1, 128, 16, 16]             256\n",
      "             ReLU-39          [-1, 128, 16, 16]               0\n",
      "           Conv2d-40            [-1, 128, 8, 8]         147,456\n",
      "      BatchNorm2d-41            [-1, 128, 8, 8]             256\n",
      "             ReLU-42            [-1, 128, 8, 8]               0\n",
      "           Conv2d-43            [-1, 512, 8, 8]          65,536\n",
      "      BatchNorm2d-44            [-1, 512, 8, 8]           1,024\n",
      "           Conv2d-45            [-1, 512, 8, 8]         131,072\n",
      "      BatchNorm2d-46            [-1, 512, 8, 8]           1,024\n",
      "             ReLU-47            [-1, 512, 8, 8]               0\n",
      "       Bottleneck-48            [-1, 512, 8, 8]               0\n",
      "           Conv2d-49            [-1, 128, 8, 8]          65,536\n",
      "      BatchNorm2d-50            [-1, 128, 8, 8]             256\n",
      "             ReLU-51            [-1, 128, 8, 8]               0\n",
      "           Conv2d-52            [-1, 128, 8, 8]         147,456\n",
      "      BatchNorm2d-53            [-1, 128, 8, 8]             256\n",
      "             ReLU-54            [-1, 128, 8, 8]               0\n",
      "           Conv2d-55            [-1, 512, 8, 8]          65,536\n",
      "      BatchNorm2d-56            [-1, 512, 8, 8]           1,024\n",
      "             ReLU-57            [-1, 512, 8, 8]               0\n",
      "       Bottleneck-58            [-1, 512, 8, 8]               0\n",
      "           Conv2d-59            [-1, 128, 8, 8]          65,536\n",
      "      BatchNorm2d-60            [-1, 128, 8, 8]             256\n",
      "             ReLU-61            [-1, 128, 8, 8]               0\n",
      "           Conv2d-62            [-1, 128, 8, 8]         147,456\n",
      "      BatchNorm2d-63            [-1, 128, 8, 8]             256\n",
      "             ReLU-64            [-1, 128, 8, 8]               0\n",
      "           Conv2d-65            [-1, 512, 8, 8]          65,536\n",
      "      BatchNorm2d-66            [-1, 512, 8, 8]           1,024\n",
      "             ReLU-67            [-1, 512, 8, 8]               0\n",
      "       Bottleneck-68            [-1, 512, 8, 8]               0\n",
      "           Conv2d-69            [-1, 128, 8, 8]          65,536\n",
      "      BatchNorm2d-70            [-1, 128, 8, 8]             256\n",
      "             ReLU-71            [-1, 128, 8, 8]               0\n",
      "           Conv2d-72            [-1, 128, 8, 8]         147,456\n",
      "      BatchNorm2d-73            [-1, 128, 8, 8]             256\n",
      "             ReLU-74            [-1, 128, 8, 8]               0\n",
      "           Conv2d-75            [-1, 512, 8, 8]          65,536\n",
      "      BatchNorm2d-76            [-1, 512, 8, 8]           1,024\n",
      "             ReLU-77            [-1, 512, 8, 8]               0\n",
      "       Bottleneck-78            [-1, 512, 8, 8]               0\n",
      "           Conv2d-79            [-1, 256, 8, 8]         131,072\n",
      "      BatchNorm2d-80            [-1, 256, 8, 8]             512\n",
      "             ReLU-81            [-1, 256, 8, 8]               0\n",
      "           Conv2d-82            [-1, 256, 4, 4]         589,824\n",
      "      BatchNorm2d-83            [-1, 256, 4, 4]             512\n",
      "             ReLU-84            [-1, 256, 4, 4]               0\n",
      "           Conv2d-85           [-1, 1024, 4, 4]         262,144\n",
      "      BatchNorm2d-86           [-1, 1024, 4, 4]           2,048\n",
      "           Conv2d-87           [-1, 1024, 4, 4]         524,288\n",
      "      BatchNorm2d-88           [-1, 1024, 4, 4]           2,048\n",
      "             ReLU-89           [-1, 1024, 4, 4]               0\n",
      "       Bottleneck-90           [-1, 1024, 4, 4]               0\n",
      "           Conv2d-91            [-1, 256, 4, 4]         262,144\n",
      "      BatchNorm2d-92            [-1, 256, 4, 4]             512\n",
      "             ReLU-93            [-1, 256, 4, 4]               0\n",
      "           Conv2d-94            [-1, 256, 4, 4]         589,824\n",
      "      BatchNorm2d-95            [-1, 256, 4, 4]             512\n",
      "             ReLU-96            [-1, 256, 4, 4]               0\n",
      "           Conv2d-97           [-1, 1024, 4, 4]         262,144\n",
      "      BatchNorm2d-98           [-1, 1024, 4, 4]           2,048\n",
      "             ReLU-99           [-1, 1024, 4, 4]               0\n",
      "      Bottleneck-100           [-1, 1024, 4, 4]               0\n",
      "          Conv2d-101            [-1, 256, 4, 4]         262,144\n",
      "     BatchNorm2d-102            [-1, 256, 4, 4]             512\n",
      "            ReLU-103            [-1, 256, 4, 4]               0\n",
      "          Conv2d-104            [-1, 256, 4, 4]         589,824\n",
      "     BatchNorm2d-105            [-1, 256, 4, 4]             512\n",
      "            ReLU-106            [-1, 256, 4, 4]               0\n",
      "          Conv2d-107           [-1, 1024, 4, 4]         262,144\n",
      "     BatchNorm2d-108           [-1, 1024, 4, 4]           2,048\n",
      "            ReLU-109           [-1, 1024, 4, 4]               0\n",
      "      Bottleneck-110           [-1, 1024, 4, 4]               0\n",
      "          Conv2d-111            [-1, 256, 4, 4]         262,144\n",
      "     BatchNorm2d-112            [-1, 256, 4, 4]             512\n",
      "            ReLU-113            [-1, 256, 4, 4]               0\n",
      "          Conv2d-114            [-1, 256, 4, 4]         589,824\n",
      "     BatchNorm2d-115            [-1, 256, 4, 4]             512\n",
      "            ReLU-116            [-1, 256, 4, 4]               0\n",
      "          Conv2d-117           [-1, 1024, 4, 4]         262,144\n",
      "     BatchNorm2d-118           [-1, 1024, 4, 4]           2,048\n",
      "            ReLU-119           [-1, 1024, 4, 4]               0\n",
      "      Bottleneck-120           [-1, 1024, 4, 4]               0\n",
      "          Conv2d-121            [-1, 256, 4, 4]         262,144\n",
      "     BatchNorm2d-122            [-1, 256, 4, 4]             512\n",
      "            ReLU-123            [-1, 256, 4, 4]               0\n",
      "          Conv2d-124            [-1, 256, 4, 4]         589,824\n",
      "     BatchNorm2d-125            [-1, 256, 4, 4]             512\n",
      "            ReLU-126            [-1, 256, 4, 4]               0\n",
      "          Conv2d-127           [-1, 1024, 4, 4]         262,144\n",
      "     BatchNorm2d-128           [-1, 1024, 4, 4]           2,048\n",
      "            ReLU-129           [-1, 1024, 4, 4]               0\n",
      "      Bottleneck-130           [-1, 1024, 4, 4]               0\n",
      "          Conv2d-131            [-1, 256, 4, 4]         262,144\n",
      "     BatchNorm2d-132            [-1, 256, 4, 4]             512\n",
      "            ReLU-133            [-1, 256, 4, 4]               0\n",
      "          Conv2d-134            [-1, 256, 4, 4]         589,824\n",
      "     BatchNorm2d-135            [-1, 256, 4, 4]             512\n",
      "            ReLU-136            [-1, 256, 4, 4]               0\n",
      "          Conv2d-137           [-1, 1024, 4, 4]         262,144\n",
      "     BatchNorm2d-138           [-1, 1024, 4, 4]           2,048\n",
      "            ReLU-139           [-1, 1024, 4, 4]               0\n",
      "      Bottleneck-140           [-1, 1024, 4, 4]               0\n",
      "          Conv2d-141            [-1, 256, 4, 4]         262,144\n",
      "     BatchNorm2d-142            [-1, 256, 4, 4]             512\n",
      "            ReLU-143            [-1, 256, 4, 4]               0\n",
      "          Conv2d-144            [-1, 256, 4, 4]         589,824\n",
      "     BatchNorm2d-145            [-1, 256, 4, 4]             512\n",
      "            ReLU-146            [-1, 256, 4, 4]               0\n",
      "          Conv2d-147           [-1, 1024, 4, 4]         262,144\n",
      "     BatchNorm2d-148           [-1, 1024, 4, 4]           2,048\n",
      "            ReLU-149           [-1, 1024, 4, 4]               0\n",
      "      Bottleneck-150           [-1, 1024, 4, 4]               0\n",
      "          Conv2d-151            [-1, 256, 4, 4]         262,144\n",
      "     BatchNorm2d-152            [-1, 256, 4, 4]             512\n",
      "            ReLU-153            [-1, 256, 4, 4]               0\n",
      "          Conv2d-154            [-1, 256, 4, 4]         589,824\n",
      "     BatchNorm2d-155            [-1, 256, 4, 4]             512\n",
      "            ReLU-156            [-1, 256, 4, 4]               0\n",
      "          Conv2d-157           [-1, 1024, 4, 4]         262,144\n",
      "     BatchNorm2d-158           [-1, 1024, 4, 4]           2,048\n",
      "            ReLU-159           [-1, 1024, 4, 4]               0\n",
      "      Bottleneck-160           [-1, 1024, 4, 4]               0\n",
      "          Conv2d-161            [-1, 256, 4, 4]         262,144\n",
      "     BatchNorm2d-162            [-1, 256, 4, 4]             512\n",
      "            ReLU-163            [-1, 256, 4, 4]               0\n",
      "          Conv2d-164            [-1, 256, 4, 4]         589,824\n",
      "     BatchNorm2d-165            [-1, 256, 4, 4]             512\n",
      "            ReLU-166            [-1, 256, 4, 4]               0\n",
      "          Conv2d-167           [-1, 1024, 4, 4]         262,144\n",
      "     BatchNorm2d-168           [-1, 1024, 4, 4]           2,048\n",
      "            ReLU-169           [-1, 1024, 4, 4]               0\n",
      "      Bottleneck-170           [-1, 1024, 4, 4]               0\n",
      "          Conv2d-171            [-1, 256, 4, 4]         262,144\n",
      "     BatchNorm2d-172            [-1, 256, 4, 4]             512\n",
      "            ReLU-173            [-1, 256, 4, 4]               0\n",
      "          Conv2d-174            [-1, 256, 4, 4]         589,824\n",
      "     BatchNorm2d-175            [-1, 256, 4, 4]             512\n",
      "            ReLU-176            [-1, 256, 4, 4]               0\n",
      "          Conv2d-177           [-1, 1024, 4, 4]         262,144\n",
      "     BatchNorm2d-178           [-1, 1024, 4, 4]           2,048\n",
      "            ReLU-179           [-1, 1024, 4, 4]               0\n",
      "      Bottleneck-180           [-1, 1024, 4, 4]               0\n",
      "          Conv2d-181            [-1, 256, 4, 4]         262,144\n",
      "     BatchNorm2d-182            [-1, 256, 4, 4]             512\n",
      "            ReLU-183            [-1, 256, 4, 4]               0\n",
      "          Conv2d-184            [-1, 256, 4, 4]         589,824\n",
      "     BatchNorm2d-185            [-1, 256, 4, 4]             512\n",
      "            ReLU-186            [-1, 256, 4, 4]               0\n",
      "          Conv2d-187           [-1, 1024, 4, 4]         262,144\n",
      "     BatchNorm2d-188           [-1, 1024, 4, 4]           2,048\n",
      "            ReLU-189           [-1, 1024, 4, 4]               0\n",
      "      Bottleneck-190           [-1, 1024, 4, 4]               0\n",
      "          Conv2d-191            [-1, 256, 4, 4]         262,144\n",
      "     BatchNorm2d-192            [-1, 256, 4, 4]             512\n",
      "            ReLU-193            [-1, 256, 4, 4]               0\n",
      "          Conv2d-194            [-1, 256, 4, 4]         589,824\n",
      "     BatchNorm2d-195            [-1, 256, 4, 4]             512\n",
      "            ReLU-196            [-1, 256, 4, 4]               0\n",
      "          Conv2d-197           [-1, 1024, 4, 4]         262,144\n",
      "     BatchNorm2d-198           [-1, 1024, 4, 4]           2,048\n",
      "            ReLU-199           [-1, 1024, 4, 4]               0\n",
      "      Bottleneck-200           [-1, 1024, 4, 4]               0\n",
      "          Conv2d-201            [-1, 256, 4, 4]         262,144\n",
      "     BatchNorm2d-202            [-1, 256, 4, 4]             512\n",
      "            ReLU-203            [-1, 256, 4, 4]               0\n",
      "          Conv2d-204            [-1, 256, 4, 4]         589,824\n",
      "     BatchNorm2d-205            [-1, 256, 4, 4]             512\n",
      "            ReLU-206            [-1, 256, 4, 4]               0\n",
      "          Conv2d-207           [-1, 1024, 4, 4]         262,144\n",
      "     BatchNorm2d-208           [-1, 1024, 4, 4]           2,048\n",
      "            ReLU-209           [-1, 1024, 4, 4]               0\n",
      "      Bottleneck-210           [-1, 1024, 4, 4]               0\n",
      "          Conv2d-211            [-1, 256, 4, 4]         262,144\n",
      "     BatchNorm2d-212            [-1, 256, 4, 4]             512\n",
      "            ReLU-213            [-1, 256, 4, 4]               0\n",
      "          Conv2d-214            [-1, 256, 4, 4]         589,824\n",
      "     BatchNorm2d-215            [-1, 256, 4, 4]             512\n",
      "            ReLU-216            [-1, 256, 4, 4]               0\n",
      "          Conv2d-217           [-1, 1024, 4, 4]         262,144\n",
      "     BatchNorm2d-218           [-1, 1024, 4, 4]           2,048\n",
      "            ReLU-219           [-1, 1024, 4, 4]               0\n",
      "      Bottleneck-220           [-1, 1024, 4, 4]               0\n",
      "          Conv2d-221            [-1, 256, 4, 4]         262,144\n",
      "     BatchNorm2d-222            [-1, 256, 4, 4]             512\n",
      "            ReLU-223            [-1, 256, 4, 4]               0\n",
      "          Conv2d-224            [-1, 256, 4, 4]         589,824\n",
      "     BatchNorm2d-225            [-1, 256, 4, 4]             512\n",
      "            ReLU-226            [-1, 256, 4, 4]               0\n",
      "          Conv2d-227           [-1, 1024, 4, 4]         262,144\n",
      "     BatchNorm2d-228           [-1, 1024, 4, 4]           2,048\n",
      "            ReLU-229           [-1, 1024, 4, 4]               0\n",
      "      Bottleneck-230           [-1, 1024, 4, 4]               0\n",
      "          Conv2d-231            [-1, 256, 4, 4]         262,144\n",
      "     BatchNorm2d-232            [-1, 256, 4, 4]             512\n",
      "            ReLU-233            [-1, 256, 4, 4]               0\n",
      "          Conv2d-234            [-1, 256, 4, 4]         589,824\n",
      "     BatchNorm2d-235            [-1, 256, 4, 4]             512\n",
      "            ReLU-236            [-1, 256, 4, 4]               0\n",
      "          Conv2d-237           [-1, 1024, 4, 4]         262,144\n",
      "     BatchNorm2d-238           [-1, 1024, 4, 4]           2,048\n",
      "            ReLU-239           [-1, 1024, 4, 4]               0\n",
      "      Bottleneck-240           [-1, 1024, 4, 4]               0\n",
      "          Conv2d-241            [-1, 256, 4, 4]         262,144\n",
      "     BatchNorm2d-242            [-1, 256, 4, 4]             512\n",
      "            ReLU-243            [-1, 256, 4, 4]               0\n",
      "          Conv2d-244            [-1, 256, 4, 4]         589,824\n",
      "     BatchNorm2d-245            [-1, 256, 4, 4]             512\n",
      "            ReLU-246            [-1, 256, 4, 4]               0\n",
      "          Conv2d-247           [-1, 1024, 4, 4]         262,144\n",
      "     BatchNorm2d-248           [-1, 1024, 4, 4]           2,048\n",
      "            ReLU-249           [-1, 1024, 4, 4]               0\n",
      "      Bottleneck-250           [-1, 1024, 4, 4]               0\n",
      "          Conv2d-251            [-1, 256, 4, 4]         262,144\n",
      "     BatchNorm2d-252            [-1, 256, 4, 4]             512\n",
      "            ReLU-253            [-1, 256, 4, 4]               0\n",
      "          Conv2d-254            [-1, 256, 4, 4]         589,824\n",
      "     BatchNorm2d-255            [-1, 256, 4, 4]             512\n",
      "            ReLU-256            [-1, 256, 4, 4]               0\n",
      "          Conv2d-257           [-1, 1024, 4, 4]         262,144\n",
      "     BatchNorm2d-258           [-1, 1024, 4, 4]           2,048\n",
      "            ReLU-259           [-1, 1024, 4, 4]               0\n",
      "      Bottleneck-260           [-1, 1024, 4, 4]               0\n",
      "          Conv2d-261            [-1, 256, 4, 4]         262,144\n",
      "     BatchNorm2d-262            [-1, 256, 4, 4]             512\n",
      "            ReLU-263            [-1, 256, 4, 4]               0\n",
      "          Conv2d-264            [-1, 256, 4, 4]         589,824\n",
      "     BatchNorm2d-265            [-1, 256, 4, 4]             512\n",
      "            ReLU-266            [-1, 256, 4, 4]               0\n",
      "          Conv2d-267           [-1, 1024, 4, 4]         262,144\n",
      "     BatchNorm2d-268           [-1, 1024, 4, 4]           2,048\n",
      "            ReLU-269           [-1, 1024, 4, 4]               0\n",
      "      Bottleneck-270           [-1, 1024, 4, 4]               0\n",
      "          Conv2d-271            [-1, 256, 4, 4]         262,144\n",
      "     BatchNorm2d-272            [-1, 256, 4, 4]             512\n",
      "            ReLU-273            [-1, 256, 4, 4]               0\n",
      "          Conv2d-274            [-1, 256, 4, 4]         589,824\n",
      "     BatchNorm2d-275            [-1, 256, 4, 4]             512\n",
      "            ReLU-276            [-1, 256, 4, 4]               0\n",
      "          Conv2d-277           [-1, 1024, 4, 4]         262,144\n",
      "     BatchNorm2d-278           [-1, 1024, 4, 4]           2,048\n",
      "            ReLU-279           [-1, 1024, 4, 4]               0\n",
      "      Bottleneck-280           [-1, 1024, 4, 4]               0\n",
      "          Conv2d-281            [-1, 256, 4, 4]         262,144\n",
      "     BatchNorm2d-282            [-1, 256, 4, 4]             512\n",
      "            ReLU-283            [-1, 256, 4, 4]               0\n",
      "          Conv2d-284            [-1, 256, 4, 4]         589,824\n",
      "     BatchNorm2d-285            [-1, 256, 4, 4]             512\n",
      "            ReLU-286            [-1, 256, 4, 4]               0\n",
      "          Conv2d-287           [-1, 1024, 4, 4]         262,144\n",
      "     BatchNorm2d-288           [-1, 1024, 4, 4]           2,048\n",
      "            ReLU-289           [-1, 1024, 4, 4]               0\n",
      "      Bottleneck-290           [-1, 1024, 4, 4]               0\n",
      "          Conv2d-291            [-1, 256, 4, 4]         262,144\n",
      "     BatchNorm2d-292            [-1, 256, 4, 4]             512\n",
      "            ReLU-293            [-1, 256, 4, 4]               0\n",
      "          Conv2d-294            [-1, 256, 4, 4]         589,824\n",
      "     BatchNorm2d-295            [-1, 256, 4, 4]             512\n",
      "            ReLU-296            [-1, 256, 4, 4]               0\n",
      "          Conv2d-297           [-1, 1024, 4, 4]         262,144\n",
      "     BatchNorm2d-298           [-1, 1024, 4, 4]           2,048\n",
      "            ReLU-299           [-1, 1024, 4, 4]               0\n",
      "      Bottleneck-300           [-1, 1024, 4, 4]               0\n",
      "          Conv2d-301            [-1, 256, 4, 4]         262,144\n",
      "     BatchNorm2d-302            [-1, 256, 4, 4]             512\n",
      "            ReLU-303            [-1, 256, 4, 4]               0\n",
      "          Conv2d-304            [-1, 256, 4, 4]         589,824\n",
      "     BatchNorm2d-305            [-1, 256, 4, 4]             512\n",
      "            ReLU-306            [-1, 256, 4, 4]               0\n",
      "          Conv2d-307           [-1, 1024, 4, 4]         262,144\n",
      "     BatchNorm2d-308           [-1, 1024, 4, 4]           2,048\n",
      "            ReLU-309           [-1, 1024, 4, 4]               0\n",
      "      Bottleneck-310           [-1, 1024, 4, 4]               0\n",
      "          Conv2d-311            [-1, 512, 4, 4]         524,288\n",
      "     BatchNorm2d-312            [-1, 512, 4, 4]           1,024\n",
      "            ReLU-313            [-1, 512, 4, 4]               0\n",
      "          Conv2d-314            [-1, 512, 2, 2]       2,359,296\n",
      "     BatchNorm2d-315            [-1, 512, 2, 2]           1,024\n",
      "            ReLU-316            [-1, 512, 2, 2]               0\n",
      "          Conv2d-317           [-1, 2048, 2, 2]       1,048,576\n",
      "     BatchNorm2d-318           [-1, 2048, 2, 2]           4,096\n",
      "          Conv2d-319           [-1, 2048, 2, 2]       2,097,152\n",
      "     BatchNorm2d-320           [-1, 2048, 2, 2]           4,096\n",
      "            ReLU-321           [-1, 2048, 2, 2]               0\n",
      "      Bottleneck-322           [-1, 2048, 2, 2]               0\n",
      "          Conv2d-323            [-1, 512, 2, 2]       1,048,576\n",
      "     BatchNorm2d-324            [-1, 512, 2, 2]           1,024\n",
      "            ReLU-325            [-1, 512, 2, 2]               0\n",
      "          Conv2d-326            [-1, 512, 2, 2]       2,359,296\n",
      "     BatchNorm2d-327            [-1, 512, 2, 2]           1,024\n",
      "            ReLU-328            [-1, 512, 2, 2]               0\n",
      "          Conv2d-329           [-1, 2048, 2, 2]       1,048,576\n",
      "     BatchNorm2d-330           [-1, 2048, 2, 2]           4,096\n",
      "            ReLU-331           [-1, 2048, 2, 2]               0\n",
      "      Bottleneck-332           [-1, 2048, 2, 2]               0\n",
      "          Conv2d-333            [-1, 512, 2, 2]       1,048,576\n",
      "     BatchNorm2d-334            [-1, 512, 2, 2]           1,024\n",
      "            ReLU-335            [-1, 512, 2, 2]               0\n",
      "          Conv2d-336            [-1, 512, 2, 2]       2,359,296\n",
      "     BatchNorm2d-337            [-1, 512, 2, 2]           1,024\n",
      "            ReLU-338            [-1, 512, 2, 2]               0\n",
      "          Conv2d-339           [-1, 2048, 2, 2]       1,048,576\n",
      "     BatchNorm2d-340           [-1, 2048, 2, 2]           4,096\n",
      "            ReLU-341           [-1, 2048, 2, 2]               0\n",
      "      Bottleneck-342           [-1, 2048, 2, 2]               0\n",
      "AdaptiveAvgPool2d-343           [-1, 2048, 1, 1]               0\n",
      "          Linear-344                   [-1, 10]          20,490\n",
      "================================================================\n",
      "Total params: 42,552,010\n",
      "Trainable params: 42,552,010\n",
      "Non-trainable params: 0\n",
      "----------------------------------------------------------------\n",
      "Input size (MB): 0.20\n",
      "Forward/backward pass size (MB): 35.09\n",
      "Params size (MB): 162.32\n",
      "Estimated Total Size (MB): 197.62\n",
      "----------------------------------------------------------------\n"
     ]
    }
   ],
   "source": [
    "import torchsummary\n",
    "\n",
    "# Print the model summary\n",
    "torchsummary.summary(model.to(device), input_size=(13, 64, 64))"
   ]
  },
  {
   "cell_type": "code",
   "execution_count": 20,
   "id": "cc87d25c-32a3-43ce-a259-eadbec1b5017",
   "metadata": {},
   "outputs": [],
   "source": [
    "train_losses = []\n",
    "train_accu = []\n",
    "\n",
    "def train(epoch):\n",
    "    print('Epoch : %d'%epoch)\n",
    "    \n",
    "    model.train()\n",
    "    running_loss=0\n",
    "    correct=0\n",
    "    total=0\n",
    "\n",
    "    for images, labels in tqdm(train_loader):\n",
    "        \n",
    "        images = images.float().cuda()\n",
    "        labels = labels.float().cuda()\n",
    "        #print(images.size())\n",
    "        #print(labels.size())\n",
    "        # Forward pass\n",
    "        #model = model.cuda()\n",
    "        outputs = model(images)\n",
    "        labels1= np.zeros((32,10))\n",
    "        \n",
    "        #labels1 = tensor.detach().cpu().numpy()\n",
    "        for j in range(32):\n",
    "            i=labels[j]\n",
    "            i=int(i.item())\n",
    "            # print(i)\n",
    "            labels1[j][i]=1\n",
    "        labels1=torch.from_numpy(labels1)\n",
    "        #print(labels1.size())\n",
    "        labels1=labels1.to(device='cuda')\n",
    "        loss = criterion(outputs, labels1)\n",
    "        \n",
    "        \n",
    "       # Backward and optimize\n",
    "        optimizer.zero_grad()\n",
    "        loss.backward()\n",
    "        optimizer.step()\n",
    "    \n",
    "        \n",
    "    #Replaces pow(2.0) with abs() for L1 regularization\n",
    "    \n",
    "#     l2_lambda = 0.001\n",
    "#     l2_norm = sum(p.pow(2.0).sum()\n",
    "#                   for p in model.parameters())\n",
    "\n",
    "#     loss = loss + l2_lambda * l2_norm\n",
    "    \n",
    "        \n",
    "        running_loss += loss.item()\n",
    "    \n",
    "        _, predicted = outputs.max(1)\n",
    "        total += labels.size(0)\n",
    "        correct += predicted.eq(labels).sum().item()\n",
    "      \n",
    "    train_loss=running_loss/len(train_loader)\n",
    "    accu=100.*correct/total\n",
    "  \n",
    "    train_accu.append(accu)\n",
    "    train_losses.append(train_loss)\n",
    "    print('Train Loss: %.3f | Accuracy: %.3f'%(train_loss,accu))\n",
    "    "
   ]
  },
  {
   "cell_type": "code",
   "execution_count": 21,
   "id": "bfa100b4-83e6-4962-af40-48ca8caabf7c",
   "metadata": {},
   "outputs": [],
   "source": [
    "eval_losses=[]\n",
    "eval_accu=[]\n",
    "\n",
    "def test(epoch):\n",
    "    model.eval()\n",
    "\n",
    "    running_loss=0\n",
    "    correct=0\n",
    "    total=0\n",
    "    #print(test_loader)\n",
    "    with torch.no_grad():\n",
    "        for images, labels in tqdm(test_loader):\n",
    "            \n",
    "            #images = images.to(device='cuda', dtype=torch.float)\n",
    "            images = images.float().cuda()\n",
    "            labels = labels.float().cuda()\n",
    "            #labels = labels.to(device='cuda', dtype=torch.float)\n",
    "            \n",
    "            # Predict classes using the model\n",
    "            outputs = model(images)\n",
    "            #print(labels.size())\n",
    "            t,y=outputs.shape\n",
    "            # print(t)\n",
    "            labels1= np.zeros((t,10))\n",
    "            for j in range(t):\n",
    "                i=labels[j]\n",
    "                i=int(i.item())\n",
    "                labels1[j][i]=1\n",
    "            labels1=torch.from_numpy(labels1)\n",
    "            #print(labels1.size())\n",
    "            labels1=labels1.to(device='cuda')\n",
    "            #outputs=outputs.tensor()\n",
    "            loss= criterion(outputs,labels1)\n",
    "            running_loss+=loss.item()\n",
    "            \n",
    "            \n",
    "           # Compute accuracy\n",
    "            _, predicted = torch.max(outputs.data, 1)\n",
    "            total += labels.size(0)\n",
    "            correct += (predicted == labels).sum().item()\n",
    "            \n",
    "    test_loss=running_loss/len(test_loader)\n",
    "    accu=100.*correct/total\n",
    "\n",
    "    eval_losses.append(test_loss)\n",
    "    eval_accu.append(accu)\n",
    "\n",
    "    print('Test Loss: %.3f | Accuracy: %.3f'%(test_loss,accu)) \n",
    "    "
   ]
  },
  {
   "cell_type": "code",
   "execution_count": 22,
   "id": "c4275edc-71e4-45fb-9c28-a40bbf4d3016",
   "metadata": {},
   "outputs": [],
   "source": [
    "from tqdm import tqdm"
   ]
  },
  {
   "cell_type": "code",
   "execution_count": 23,
   "id": "9abfaabf-8f47-4f26-b242-4c3ea0dc6b68",
   "metadata": {},
   "outputs": [
    {
     "name": "stdout",
     "output_type": "stream",
     "text": [
      "Epoch : 1\n"
     ]
    },
    {
     "name": "stderr",
     "output_type": "stream",
     "text": [
      "100%|█████████████████████████████████████████| 675/675 [00:44<00:00, 15.32it/s]\n"
     ]
    },
    {
     "name": "stdout",
     "output_type": "stream",
     "text": [
      "Train Loss: 0.690 | Accuracy: 77.903\n"
     ]
    },
    {
     "name": "stderr",
     "output_type": "stream",
     "text": [
      "100%|█████████████████████████████████████████| 169/169 [00:03<00:00, 48.69it/s]\n"
     ]
    },
    {
     "name": "stdout",
     "output_type": "stream",
     "text": [
      "Test Loss: 0.382 | Accuracy: 87.296\n",
      "Epoch : 2\n"
     ]
    },
    {
     "name": "stderr",
     "output_type": "stream",
     "text": [
      "100%|█████████████████████████████████████████| 675/675 [00:44<00:00, 15.21it/s]\n"
     ]
    },
    {
     "name": "stdout",
     "output_type": "stream",
     "text": [
      "Train Loss: 0.381 | Accuracy: 87.324\n"
     ]
    },
    {
     "name": "stderr",
     "output_type": "stream",
     "text": [
      "100%|█████████████████████████████████████████| 169/169 [00:03<00:00, 46.66it/s]\n"
     ]
    },
    {
     "name": "stdout",
     "output_type": "stream",
     "text": [
      "Test Loss: 0.276 | Accuracy: 90.759\n",
      "Epoch : 3\n"
     ]
    },
    {
     "name": "stderr",
     "output_type": "stream",
     "text": [
      "100%|█████████████████████████████████████████| 675/675 [00:44<00:00, 15.19it/s]\n"
     ]
    },
    {
     "name": "stdout",
     "output_type": "stream",
     "text": [
      "Train Loss: 0.263 | Accuracy: 91.167\n"
     ]
    },
    {
     "name": "stderr",
     "output_type": "stream",
     "text": [
      "100%|█████████████████████████████████████████| 169/169 [00:03<00:00, 47.47it/s]\n"
     ]
    },
    {
     "name": "stdout",
     "output_type": "stream",
     "text": [
      "Test Loss: 0.819 | Accuracy: 75.815\n",
      "Epoch : 4\n"
     ]
    },
    {
     "name": "stderr",
     "output_type": "stream",
     "text": [
      "100%|█████████████████████████████████████████| 675/675 [00:44<00:00, 15.23it/s]\n"
     ]
    },
    {
     "name": "stdout",
     "output_type": "stream",
     "text": [
      "Train Loss: 0.282 | Accuracy: 90.847\n"
     ]
    },
    {
     "name": "stderr",
     "output_type": "stream",
     "text": [
      "100%|█████████████████████████████████████████| 169/169 [00:03<00:00, 47.82it/s]\n"
     ]
    },
    {
     "name": "stdout",
     "output_type": "stream",
     "text": [
      "Test Loss: 0.306 | Accuracy: 90.241\n",
      "Epoch : 5\n"
     ]
    },
    {
     "name": "stderr",
     "output_type": "stream",
     "text": [
      "100%|█████████████████████████████████████████| 675/675 [00:44<00:00, 15.28it/s]\n"
     ]
    },
    {
     "name": "stdout",
     "output_type": "stream",
     "text": [
      "Train Loss: 0.224 | Accuracy: 92.477\n"
     ]
    },
    {
     "name": "stderr",
     "output_type": "stream",
     "text": [
      "100%|█████████████████████████████████████████| 169/169 [00:03<00:00, 48.22it/s]\n"
     ]
    },
    {
     "name": "stdout",
     "output_type": "stream",
     "text": [
      "Test Loss: 1.629 | Accuracy: 75.093\n",
      "Epoch : 6\n"
     ]
    },
    {
     "name": "stderr",
     "output_type": "stream",
     "text": [
      "100%|█████████████████████████████████████████| 675/675 [00:44<00:00, 15.26it/s]\n"
     ]
    },
    {
     "name": "stdout",
     "output_type": "stream",
     "text": [
      "Train Loss: 0.258 | Accuracy: 91.528\n"
     ]
    },
    {
     "name": "stderr",
     "output_type": "stream",
     "text": [
      "100%|█████████████████████████████████████████| 169/169 [00:03<00:00, 48.31it/s]\n"
     ]
    },
    {
     "name": "stdout",
     "output_type": "stream",
     "text": [
      "Test Loss: 0.198 | Accuracy: 93.926\n",
      "Epoch : 7\n"
     ]
    },
    {
     "name": "stderr",
     "output_type": "stream",
     "text": [
      "100%|█████████████████████████████████████████| 675/675 [00:44<00:00, 15.24it/s]\n"
     ]
    },
    {
     "name": "stdout",
     "output_type": "stream",
     "text": [
      "Train Loss: 0.170 | Accuracy: 94.491\n"
     ]
    },
    {
     "name": "stderr",
     "output_type": "stream",
     "text": [
      "100%|█████████████████████████████████████████| 169/169 [00:03<00:00, 51.54it/s]\n"
     ]
    },
    {
     "name": "stdout",
     "output_type": "stream",
     "text": [
      "Test Loss: 0.280 | Accuracy: 91.593\n",
      "Epoch : 8\n"
     ]
    },
    {
     "name": "stderr",
     "output_type": "stream",
     "text": [
      "100%|█████████████████████████████████████████| 675/675 [00:42<00:00, 15.74it/s]\n"
     ]
    },
    {
     "name": "stdout",
     "output_type": "stream",
     "text": [
      "Train Loss: 0.145 | Accuracy: 95.046\n"
     ]
    },
    {
     "name": "stderr",
     "output_type": "stream",
     "text": [
      "100%|█████████████████████████████████████████| 169/169 [00:03<00:00, 50.38it/s]\n"
     ]
    },
    {
     "name": "stdout",
     "output_type": "stream",
     "text": [
      "Test Loss: 0.171 | Accuracy: 94.815\n",
      "Epoch : 9\n"
     ]
    },
    {
     "name": "stderr",
     "output_type": "stream",
     "text": [
      "100%|█████████████████████████████████████████| 675/675 [00:44<00:00, 15.10it/s]\n"
     ]
    },
    {
     "name": "stdout",
     "output_type": "stream",
     "text": [
      "Train Loss: 0.139 | Accuracy: 95.255\n"
     ]
    },
    {
     "name": "stderr",
     "output_type": "stream",
     "text": [
      "100%|█████████████████████████████████████████| 169/169 [00:03<00:00, 48.76it/s]\n"
     ]
    },
    {
     "name": "stdout",
     "output_type": "stream",
     "text": [
      "Test Loss: 0.418 | Accuracy: 87.167\n",
      "Epoch : 10\n"
     ]
    },
    {
     "name": "stderr",
     "output_type": "stream",
     "text": [
      "100%|█████████████████████████████████████████| 675/675 [00:44<00:00, 15.27it/s]\n"
     ]
    },
    {
     "name": "stdout",
     "output_type": "stream",
     "text": [
      "Train Loss: 0.114 | Accuracy: 96.079\n"
     ]
    },
    {
     "name": "stderr",
     "output_type": "stream",
     "text": [
      "100%|█████████████████████████████████████████| 169/169 [00:03<00:00, 47.93it/s]\n"
     ]
    },
    {
     "name": "stdout",
     "output_type": "stream",
     "text": [
      "Test Loss: 0.181 | Accuracy: 94.389\n",
      "Epoch : 11\n"
     ]
    },
    {
     "name": "stderr",
     "output_type": "stream",
     "text": [
      "100%|█████████████████████████████████████████| 675/675 [00:44<00:00, 15.23it/s]\n"
     ]
    },
    {
     "name": "stdout",
     "output_type": "stream",
     "text": [
      "Train Loss: 0.114 | Accuracy: 96.079\n"
     ]
    },
    {
     "name": "stderr",
     "output_type": "stream",
     "text": [
      "100%|█████████████████████████████████████████| 169/169 [00:03<00:00, 47.83it/s]\n"
     ]
    },
    {
     "name": "stdout",
     "output_type": "stream",
     "text": [
      "Test Loss: 0.530 | Accuracy: 87.463\n",
      "Epoch : 12\n"
     ]
    },
    {
     "name": "stderr",
     "output_type": "stream",
     "text": [
      "100%|█████████████████████████████████████████| 675/675 [00:44<00:00, 15.14it/s]\n"
     ]
    },
    {
     "name": "stdout",
     "output_type": "stream",
     "text": [
      "Train Loss: 0.088 | Accuracy: 97.065\n"
     ]
    },
    {
     "name": "stderr",
     "output_type": "stream",
     "text": [
      "100%|█████████████████████████████████████████| 169/169 [00:03<00:00, 47.85it/s]\n"
     ]
    },
    {
     "name": "stdout",
     "output_type": "stream",
     "text": [
      "Test Loss: 0.223 | Accuracy: 93.278\n",
      "Epoch : 13\n"
     ]
    },
    {
     "name": "stderr",
     "output_type": "stream",
     "text": [
      "100%|█████████████████████████████████████████| 675/675 [00:44<00:00, 15.12it/s]\n"
     ]
    },
    {
     "name": "stdout",
     "output_type": "stream",
     "text": [
      "Train Loss: 0.082 | Accuracy: 97.139\n"
     ]
    },
    {
     "name": "stderr",
     "output_type": "stream",
     "text": [
      "100%|█████████████████████████████████████████| 169/169 [00:03<00:00, 49.10it/s]\n"
     ]
    },
    {
     "name": "stdout",
     "output_type": "stream",
     "text": [
      "Test Loss: 0.226 | Accuracy: 92.463\n",
      "Epoch : 14\n"
     ]
    },
    {
     "name": "stderr",
     "output_type": "stream",
     "text": [
      "100%|█████████████████████████████████████████| 675/675 [00:43<00:00, 15.61it/s]\n"
     ]
    },
    {
     "name": "stdout",
     "output_type": "stream",
     "text": [
      "Train Loss: 0.082 | Accuracy: 97.194\n"
     ]
    },
    {
     "name": "stderr",
     "output_type": "stream",
     "text": [
      "100%|█████████████████████████████████████████| 169/169 [00:03<00:00, 49.40it/s]\n"
     ]
    },
    {
     "name": "stdout",
     "output_type": "stream",
     "text": [
      "Test Loss: 0.210 | Accuracy: 93.611\n",
      "Epoch : 15\n"
     ]
    },
    {
     "name": "stderr",
     "output_type": "stream",
     "text": [
      "100%|█████████████████████████████████████████| 675/675 [00:43<00:00, 15.36it/s]\n"
     ]
    },
    {
     "name": "stdout",
     "output_type": "stream",
     "text": [
      "Train Loss: 0.080 | Accuracy: 97.361\n"
     ]
    },
    {
     "name": "stderr",
     "output_type": "stream",
     "text": [
      "100%|█████████████████████████████████████████| 169/169 [00:03<00:00, 50.46it/s]\n"
     ]
    },
    {
     "name": "stdout",
     "output_type": "stream",
     "text": [
      "Test Loss: 0.253 | Accuracy: 92.259\n",
      "Epoch : 16\n"
     ]
    },
    {
     "name": "stderr",
     "output_type": "stream",
     "text": [
      "100%|█████████████████████████████████████████| 675/675 [00:43<00:00, 15.65it/s]\n"
     ]
    },
    {
     "name": "stdout",
     "output_type": "stream",
     "text": [
      "Train Loss: 0.061 | Accuracy: 97.833\n"
     ]
    },
    {
     "name": "stderr",
     "output_type": "stream",
     "text": [
      "100%|█████████████████████████████████████████| 169/169 [00:03<00:00, 50.40it/s]\n"
     ]
    },
    {
     "name": "stdout",
     "output_type": "stream",
     "text": [
      "Test Loss: 0.199 | Accuracy: 94.056\n",
      "Epoch : 17\n"
     ]
    },
    {
     "name": "stderr",
     "output_type": "stream",
     "text": [
      "100%|█████████████████████████████████████████| 675/675 [00:43<00:00, 15.40it/s]\n"
     ]
    },
    {
     "name": "stdout",
     "output_type": "stream",
     "text": [
      "Train Loss: 0.076 | Accuracy: 97.560\n"
     ]
    },
    {
     "name": "stderr",
     "output_type": "stream",
     "text": [
      "100%|█████████████████████████████████████████| 169/169 [00:03<00:00, 47.29it/s]\n"
     ]
    },
    {
     "name": "stdout",
     "output_type": "stream",
     "text": [
      "Test Loss: 0.214 | Accuracy: 94.259\n",
      "Epoch : 18\n"
     ]
    },
    {
     "name": "stderr",
     "output_type": "stream",
     "text": [
      "100%|█████████████████████████████████████████| 675/675 [00:43<00:00, 15.53it/s]\n"
     ]
    },
    {
     "name": "stdout",
     "output_type": "stream",
     "text": [
      "Train Loss: 0.065 | Accuracy: 98.032\n"
     ]
    },
    {
     "name": "stderr",
     "output_type": "stream",
     "text": [
      "100%|█████████████████████████████████████████| 169/169 [00:03<00:00, 50.54it/s]\n"
     ]
    },
    {
     "name": "stdout",
     "output_type": "stream",
     "text": [
      "Test Loss: 0.215 | Accuracy: 94.241\n",
      "Epoch : 19\n"
     ]
    },
    {
     "name": "stderr",
     "output_type": "stream",
     "text": [
      "100%|█████████████████████████████████████████| 675/675 [00:43<00:00, 15.55it/s]\n"
     ]
    },
    {
     "name": "stdout",
     "output_type": "stream",
     "text": [
      "Train Loss: 0.045 | Accuracy: 98.361\n"
     ]
    },
    {
     "name": "stderr",
     "output_type": "stream",
     "text": [
      "100%|█████████████████████████████████████████| 169/169 [00:03<00:00, 49.56it/s]\n"
     ]
    },
    {
     "name": "stdout",
     "output_type": "stream",
     "text": [
      "Test Loss: 0.243 | Accuracy: 93.037\n",
      "Epoch : 20\n"
     ]
    },
    {
     "name": "stderr",
     "output_type": "stream",
     "text": [
      "100%|█████████████████████████████████████████| 675/675 [00:43<00:00, 15.51it/s]\n"
     ]
    },
    {
     "name": "stdout",
     "output_type": "stream",
     "text": [
      "Train Loss: 0.059 | Accuracy: 98.046\n"
     ]
    },
    {
     "name": "stderr",
     "output_type": "stream",
     "text": [
      "100%|█████████████████████████████████████████| 169/169 [00:03<00:00, 46.82it/s]\n"
     ]
    },
    {
     "name": "stdout",
     "output_type": "stream",
     "text": [
      "Test Loss: 0.158 | Accuracy: 95.407\n",
      "Epoch : 21\n"
     ]
    },
    {
     "name": "stderr",
     "output_type": "stream",
     "text": [
      "100%|█████████████████████████████████████████| 675/675 [00:43<00:00, 15.54it/s]\n"
     ]
    },
    {
     "name": "stdout",
     "output_type": "stream",
     "text": [
      "Train Loss: 0.045 | Accuracy: 98.509\n"
     ]
    },
    {
     "name": "stderr",
     "output_type": "stream",
     "text": [
      "100%|█████████████████████████████████████████| 169/169 [00:03<00:00, 48.92it/s]\n"
     ]
    },
    {
     "name": "stdout",
     "output_type": "stream",
     "text": [
      "Test Loss: 0.295 | Accuracy: 92.315\n",
      "Epoch : 22\n"
     ]
    },
    {
     "name": "stderr",
     "output_type": "stream",
     "text": [
      "100%|█████████████████████████████████████████| 675/675 [00:43<00:00, 15.53it/s]\n"
     ]
    },
    {
     "name": "stdout",
     "output_type": "stream",
     "text": [
      "Train Loss: 0.042 | Accuracy: 98.574\n"
     ]
    },
    {
     "name": "stderr",
     "output_type": "stream",
     "text": [
      "100%|█████████████████████████████████████████| 169/169 [00:03<00:00, 48.84it/s]\n"
     ]
    },
    {
     "name": "stdout",
     "output_type": "stream",
     "text": [
      "Test Loss: 0.296 | Accuracy: 92.611\n",
      "Epoch : 23\n"
     ]
    },
    {
     "name": "stderr",
     "output_type": "stream",
     "text": [
      "100%|█████████████████████████████████████████| 675/675 [00:43<00:00, 15.52it/s]\n"
     ]
    },
    {
     "name": "stdout",
     "output_type": "stream",
     "text": [
      "Train Loss: 0.042 | Accuracy: 98.625\n"
     ]
    },
    {
     "name": "stderr",
     "output_type": "stream",
     "text": [
      "100%|█████████████████████████████████████████| 169/169 [00:03<00:00, 48.83it/s]\n"
     ]
    },
    {
     "name": "stdout",
     "output_type": "stream",
     "text": [
      "Test Loss: 0.168 | Accuracy: 95.519\n",
      "Epoch : 24\n"
     ]
    },
    {
     "name": "stderr",
     "output_type": "stream",
     "text": [
      "100%|█████████████████████████████████████████| 675/675 [00:43<00:00, 15.57it/s]\n"
     ]
    },
    {
     "name": "stdout",
     "output_type": "stream",
     "text": [
      "Train Loss: 0.038 | Accuracy: 98.653\n"
     ]
    },
    {
     "name": "stderr",
     "output_type": "stream",
     "text": [
      "100%|█████████████████████████████████████████| 169/169 [00:03<00:00, 48.76it/s]\n"
     ]
    },
    {
     "name": "stdout",
     "output_type": "stream",
     "text": [
      "Test Loss: 0.155 | Accuracy: 95.630\n",
      "Epoch : 25\n"
     ]
    },
    {
     "name": "stderr",
     "output_type": "stream",
     "text": [
      "100%|█████████████████████████████████████████| 675/675 [00:43<00:00, 15.56it/s]\n"
     ]
    },
    {
     "name": "stdout",
     "output_type": "stream",
     "text": [
      "Train Loss: 0.036 | Accuracy: 98.764\n"
     ]
    },
    {
     "name": "stderr",
     "output_type": "stream",
     "text": [
      "100%|█████████████████████████████████████████| 169/169 [00:03<00:00, 49.40it/s]\n"
     ]
    },
    {
     "name": "stdout",
     "output_type": "stream",
     "text": [
      "Test Loss: 0.462 | Accuracy: 90.870\n",
      "Epoch : 26\n"
     ]
    },
    {
     "name": "stderr",
     "output_type": "stream",
     "text": [
      "100%|█████████████████████████████████████████| 675/675 [00:43<00:00, 15.62it/s]\n"
     ]
    },
    {
     "name": "stdout",
     "output_type": "stream",
     "text": [
      "Train Loss: 0.042 | Accuracy: 98.616\n"
     ]
    },
    {
     "name": "stderr",
     "output_type": "stream",
     "text": [
      "100%|█████████████████████████████████████████| 169/169 [00:03<00:00, 49.10it/s]\n"
     ]
    },
    {
     "name": "stdout",
     "output_type": "stream",
     "text": [
      "Test Loss: 0.252 | Accuracy: 93.315\n",
      "Epoch : 27\n"
     ]
    },
    {
     "name": "stderr",
     "output_type": "stream",
     "text": [
      "100%|█████████████████████████████████████████| 675/675 [00:43<00:00, 15.56it/s]\n"
     ]
    },
    {
     "name": "stdout",
     "output_type": "stream",
     "text": [
      "Train Loss: 0.033 | Accuracy: 98.884\n"
     ]
    },
    {
     "name": "stderr",
     "output_type": "stream",
     "text": [
      "100%|█████████████████████████████████████████| 169/169 [00:03<00:00, 48.71it/s]\n"
     ]
    },
    {
     "name": "stdout",
     "output_type": "stream",
     "text": [
      "Test Loss: 0.165 | Accuracy: 95.852\n",
      "Epoch : 28\n"
     ]
    },
    {
     "name": "stderr",
     "output_type": "stream",
     "text": [
      "100%|█████████████████████████████████████████| 675/675 [00:43<00:00, 15.46it/s]\n"
     ]
    },
    {
     "name": "stdout",
     "output_type": "stream",
     "text": [
      "Train Loss: 0.032 | Accuracy: 98.921\n"
     ]
    },
    {
     "name": "stderr",
     "output_type": "stream",
     "text": [
      "100%|█████████████████████████████████████████| 169/169 [00:03<00:00, 49.59it/s]\n"
     ]
    },
    {
     "name": "stdout",
     "output_type": "stream",
     "text": [
      "Test Loss: 0.214 | Accuracy: 94.704\n",
      "Epoch : 29\n"
     ]
    },
    {
     "name": "stderr",
     "output_type": "stream",
     "text": [
      "100%|█████████████████████████████████████████| 675/675 [00:43<00:00, 15.49it/s]\n"
     ]
    },
    {
     "name": "stdout",
     "output_type": "stream",
     "text": [
      "Train Loss: 0.035 | Accuracy: 98.856\n"
     ]
    },
    {
     "name": "stderr",
     "output_type": "stream",
     "text": [
      "100%|█████████████████████████████████████████| 169/169 [00:03<00:00, 49.01it/s]\n"
     ]
    },
    {
     "name": "stdout",
     "output_type": "stream",
     "text": [
      "Test Loss: 0.138 | Accuracy: 96.426\n",
      "Epoch : 30\n"
     ]
    },
    {
     "name": "stderr",
     "output_type": "stream",
     "text": [
      "100%|█████████████████████████████████████████| 675/675 [00:43<00:00, 15.55it/s]\n"
     ]
    },
    {
     "name": "stdout",
     "output_type": "stream",
     "text": [
      "Train Loss: 0.033 | Accuracy: 98.870\n"
     ]
    },
    {
     "name": "stderr",
     "output_type": "stream",
     "text": [
      "100%|█████████████████████████████████████████| 169/169 [00:03<00:00, 49.15it/s]"
     ]
    },
    {
     "name": "stdout",
     "output_type": "stream",
     "text": [
      "Test Loss: 0.218 | Accuracy: 95.296\n",
      "Training time: 1418.04 seconds\n"
     ]
    },
    {
     "name": "stderr",
     "output_type": "stream",
     "text": [
      "\n"
     ]
    }
   ],
   "source": [
    "import time\n",
    "epochs = 30\n",
    "\n",
    "# Start the timer\n",
    "\n",
    "start_time = time.time()\n",
    "for epoch in range(1,epochs+1): \n",
    "    train(epoch)\n",
    "    test(epoch)\n",
    "# End the timer\n",
    "end_time = time.time()\n",
    "\n",
    "# Calculate the training time\n",
    "training_time = end_time - start_time\n",
    "\n",
    "print('Training time: {:.2f} seconds'.format(training_time))\n"
   ]
  },
  {
   "cell_type": "code",
   "execution_count": 24,
   "id": "25b010cc-ff64-4fad-8fae-6970328637e1",
   "metadata": {},
   "outputs": [],
   "source": [
    "import matplotlib.pyplot as plt\n"
   ]
  },
  {
   "cell_type": "code",
   "execution_count": 25,
   "id": "61b1158d-c9ad-40f7-8eca-8f99e79fe356",
   "metadata": {},
   "outputs": [
    {
     "data": {
      "image/png": "[encoded data removed]",
      "text/plain": [
       "<Figure size 432x288 with 1 Axes>"
      ]
     },
     "metadata": {
      "needs_background": "light"
     },
     "output_type": "display_data"
    }
   ],
   "source": [
    "#plot accuracy\n",
    "plt.plot(train_accu,'-o')\n",
    "plt.plot(eval_accu,'-o')\n",
    "plt.xlabel('epoch')\n",
    "plt.ylabel('accuracy')\n",
    "plt.legend(['Train','Valid'])\n",
    "plt.title('Train vs Valid Accuracy')\n",
    "\n",
    "plt.show()"
   ]
  },
  {
   "cell_type": "code",
   "execution_count": 26,
   "id": "1581e427-ac07-40cc-8ae1-354f32c59c83",
   "metadata": {},
   "outputs": [
    {
     "data": {
      "image/png": "[encoded data removed]",
      "text/plain": [
       "<Figure size 432x288 with 1 Axes>"
      ]
     },
     "metadata": {
      "needs_background": "light"
     },
     "output_type": "display_data"
    }
   ],
   "source": [
    "#plot losses\n",
    "\n",
    "plt.plot(train_losses,'-o')\n",
    "plt.plot(eval_losses,'-o')\n",
    "plt.xlabel('epoch')\n",
    "plt.ylabel('losses')\n",
    "plt.legend(['Train','Valid'])\n",
    "plt.title('Train vs Valid Losses')\n",
    "\n",
    "plt.show()"
   ]
  },
  {
   "cell_type": "code",
   "execution_count": 27,
   "id": "f6b833dc-88ad-4725-aff4-aea913a5e34e",
   "metadata": {},
   "outputs": [
    {
     "name": "stderr",
     "output_type": "stream",
     "text": [
      "100%|█████████████████████████████████████████| 169/169 [00:03<00:00, 47.57it/s]"
     ]
    },
    {
     "name": "stdout",
     "output_type": "stream",
     "text": [
      "Precision:  0.9519213553148358\n",
      "Recall:  0.9523833333333332\n",
      "Confusion matrix:\n",
      " [[580   6   3   1   0   8   2   0   0   0]\n",
      " [  0 593   4   0   0   2   0   0   1   0]\n",
      " [  1  13 548   1   1  18   6   1   9   2]\n",
      " [  7   0   1 452  23   5   3   1   8   0]\n",
      " [  0   0   0   3 495   0   0   2   0   0]\n",
      " [  2   9   5   0   0 383   1   0   0   0]\n",
      " [ 26   1  17   1   0   5 448   0   2   0]\n",
      " [  1   0   0   2  27   0  10 560   0   0]\n",
      " [  3   1   0   5   0   2   0   0 489   0]\n",
      " [  0   0   0   0   0   0   0   0   2 598]]\n",
      "Report:\n",
      "               precision    recall  f1-score   support\n",
      "\n",
      "         0.0       0.94      0.97      0.95       600\n",
      "         1.0       0.95      0.99      0.97       600\n",
      "         2.0       0.95      0.91      0.93       600\n",
      "         3.0       0.97      0.90      0.94       500\n",
      "         4.0       0.91      0.99      0.95       500\n",
      "         5.0       0.91      0.96      0.93       400\n",
      "         6.0       0.95      0.90      0.92       500\n",
      "         7.0       0.99      0.93      0.96       600\n",
      "         8.0       0.96      0.98      0.97       500\n",
      "         9.0       1.00      1.00      1.00       600\n",
      "\n",
      "    accuracy                           0.95      5400\n",
      "   macro avg       0.95      0.95      0.95      5400\n",
      "weighted avg       0.95      0.95      0.95      5400\n",
      "\n"
     ]
    },
    {
     "name": "stderr",
     "output_type": "stream",
     "text": [
      "\n"
     ]
    }
   ],
   "source": [
    "from sklearn.metrics import confusion_matrix ,classification_report, precision_score, recall_score\n",
    "\n",
    "# testing\n",
    "ttloss = []\n",
    "ttacc = []\n",
    "ttf1 = []\n",
    "\n",
    "T_val = []\n",
    "P_val = []\n",
    "\n",
    "with torch.no_grad():\n",
    "    model.eval()\n",
    "    for (X_val, y_val) in tqdm(test_loader):\n",
    "        X_val = X_val.float().cuda()\n",
    "        y_val = y_val.float().cuda()\n",
    "        #X_val, y_val = X_val.to(device), y_val.to(device)\n",
    "        #y_val = y_val.type(torch.cuda.LongTensor)\n",
    "        \n",
    "        output = model(X_val)\n",
    "        #print(output.shape)\n",
    "        \n",
    "        outputs = torch.max(output, dim=1)[1]\n",
    "        #print(outputs.shape)\n",
    "        T_val.extend(y_val.cpu().numpy())\n",
    "        #print(T_val)\n",
    "        P_val.extend(outputs.cpu().numpy())\n",
    "    #print(T_val)\n",
    "    #print(P_val)\n",
    "    precision = precision_score(T_val, P_val, average='macro')\n",
    "    recall = recall_score(T_val, P_val, average='macro')\n",
    "    res = confusion_matrix(T_val, P_val)\n",
    "    report = classification_report(T_val, P_val)\n",
    "    \n",
    "    print(\"Precision: \",precision)\n",
    "    print(\"Recall: \",recall)\n",
    "\n",
    "    print('Confusion matrix:\\n',res)\n",
    "    print('Report:\\n',report)"
   ]
  },
  {
   "cell_type": "markdown",
   "id": "0920948a-de22-4641-9eeb-f3cdb1962228",
   "metadata": {
    "tags": []
   },
   "source": [
    "# Running resnet152 model"
   ]
  },
  {
   "cell_type": "code",
   "execution_count": 28,
   "id": "c2b2aecd-f2c7-43dd-9c6d-842d3d7ebc0d",
   "metadata": {},
   "outputs": [
    {
     "name": "stderr",
     "output_type": "stream",
     "text": [
      "Downloading: \"https://download.pytorch.org/models/resnet152-394f9c45.pth\" to /home/tejasri/.cache/torch/hub/checkpoints/resnet152-394f9c45.pth\n"
     ]
    },
    {
     "data": {
      "application/vnd.jupyter.widget-view+json": {
       "model_id": "695e549954ac4c9f9aac4f730960c36d",
       "version_major": 2,
       "version_minor": 0
      },
      "text/plain": [
       "  0%|          | 0.00/230M [00:00<?, ?B/s]"
      ]
     },
     "metadata": {},
     "output_type": "display_data"
    },
    {
     "data": {
      "text/plain": [
       "CrossEntropyLoss()"
      ]
     },
     "execution_count": 28,
     "metadata": {},
     "output_type": "execute_result"
    }
   ],
   "source": [
    "# Define the ResNet-152 model\n",
    "model = models.resnet152(pretrained=True)\n",
    "num_classes = 10\n",
    "model.fc = nn.Linear(2048, num_classes)\n",
    "\n",
    "# Modify the first convolution layer to accept 5-channel input\n",
    "model.conv1 = nn.Conv2d(13, 64, kernel_size=7, stride=2, padding=3, bias=False)\n",
    "\n",
    "# Define the loss function and optimizer\n",
    "criterion = nn.CrossEntropyLoss()\n",
    "optimizer = optim.Adam(model.parameters(), lr=0.001)\n",
    "\n",
    "# Move the model and loss function to the device\n",
    "model.to(device)\n",
    "criterion.to(device)"
   ]
  },
  {
   "cell_type": "code",
   "execution_count": 29,
   "id": "b436a80f-de4e-4da0-a044-6e2b0d53308d",
   "metadata": {},
   "outputs": [
    {
     "name": "stdout",
     "output_type": "stream",
     "text": [
      "----------------------------------------------------------------\n",
      "        Layer (type)               Output Shape         Param #\n",
      "================================================================\n",
      "            Conv2d-1           [-1, 64, 32, 32]          40,768\n",
      "       BatchNorm2d-2           [-1, 64, 32, 32]             128\n",
      "              ReLU-3           [-1, 64, 32, 32]               0\n",
      "         MaxPool2d-4           [-1, 64, 16, 16]               0\n",
      "            Conv2d-5           [-1, 64, 16, 16]           4,096\n",
      "       BatchNorm2d-6           [-1, 64, 16, 16]             128\n",
      "              ReLU-7           [-1, 64, 16, 16]               0\n",
      "            Conv2d-8           [-1, 64, 16, 16]          36,864\n",
      "       BatchNorm2d-9           [-1, 64, 16, 16]             128\n",
      "             ReLU-10           [-1, 64, 16, 16]               0\n",
      "           Conv2d-11          [-1, 256, 16, 16]          16,384\n",
      "      BatchNorm2d-12          [-1, 256, 16, 16]             512\n",
      "           Conv2d-13          [-1, 256, 16, 16]          16,384\n",
      "      BatchNorm2d-14          [-1, 256, 16, 16]             512\n",
      "             ReLU-15          [-1, 256, 16, 16]               0\n",
      "       Bottleneck-16          [-1, 256, 16, 16]               0\n",
      "           Conv2d-17           [-1, 64, 16, 16]          16,384\n",
      "      BatchNorm2d-18           [-1, 64, 16, 16]             128\n",
      "             ReLU-19           [-1, 64, 16, 16]               0\n",
      "           Conv2d-20           [-1, 64, 16, 16]          36,864\n",
      "      BatchNorm2d-21           [-1, 64, 16, 16]             128\n",
      "             ReLU-22           [-1, 64, 16, 16]               0\n",
      "           Conv2d-23          [-1, 256, 16, 16]          16,384\n",
      "      BatchNorm2d-24          [-1, 256, 16, 16]             512\n",
      "             ReLU-25          [-1, 256, 16, 16]               0\n",
      "       Bottleneck-26          [-1, 256, 16, 16]               0\n",
      "           Conv2d-27           [-1, 64, 16, 16]          16,384\n",
      "      BatchNorm2d-28           [-1, 64, 16, 16]             128\n",
      "             ReLU-29           [-1, 64, 16, 16]               0\n",
      "           Conv2d-30           [-1, 64, 16, 16]          36,864\n",
      "      BatchNorm2d-31           [-1, 64, 16, 16]             128\n",
      "             ReLU-32           [-1, 64, 16, 16]               0\n",
      "           Conv2d-33          [-1, 256, 16, 16]          16,384\n",
      "      BatchNorm2d-34          [-1, 256, 16, 16]             512\n",
      "             ReLU-35          [-1, 256, 16, 16]               0\n",
      "       Bottleneck-36          [-1, 256, 16, 16]               0\n",
      "           Conv2d-37          [-1, 128, 16, 16]          32,768\n",
      "      BatchNorm2d-38          [-1, 128, 16, 16]             256\n",
      "             ReLU-39          [-1, 128, 16, 16]               0\n",
      "           Conv2d-40            [-1, 128, 8, 8]         147,456\n",
      "      BatchNorm2d-41            [-1, 128, 8, 8]             256\n",
      "             ReLU-42            [-1, 128, 8, 8]               0\n",
      "           Conv2d-43            [-1, 512, 8, 8]          65,536\n",
      "      BatchNorm2d-44            [-1, 512, 8, 8]           1,024\n",
      "           Conv2d-45            [-1, 512, 8, 8]         131,072\n",
      "      BatchNorm2d-46            [-1, 512, 8, 8]           1,024\n",
      "             ReLU-47            [-1, 512, 8, 8]               0\n",
      "       Bottleneck-48            [-1, 512, 8, 8]               0\n",
      "           Conv2d-49            [-1, 128, 8, 8]          65,536\n",
      "      BatchNorm2d-50            [-1, 128, 8, 8]             256\n",
      "             ReLU-51            [-1, 128, 8, 8]               0\n",
      "           Conv2d-52            [-1, 128, 8, 8]         147,456\n",
      "      BatchNorm2d-53            [-1, 128, 8, 8]             256\n",
      "             ReLU-54            [-1, 128, 8, 8]               0\n",
      "           Conv2d-55            [-1, 512, 8, 8]          65,536\n",
      "      BatchNorm2d-56            [-1, 512, 8, 8]           1,024\n",
      "             ReLU-57            [-1, 512, 8, 8]               0\n",
      "       Bottleneck-58            [-1, 512, 8, 8]               0\n",
      "           Conv2d-59            [-1, 128, 8, 8]          65,536\n",
      "      BatchNorm2d-60            [-1, 128, 8, 8]             256\n",
      "             ReLU-61            [-1, 128, 8, 8]               0\n",
      "           Conv2d-62            [-1, 128, 8, 8]         147,456\n",
      "      BatchNorm2d-63            [-1, 128, 8, 8]             256\n",
      "             ReLU-64            [-1, 128, 8, 8]               0\n",
      "           Conv2d-65            [-1, 512, 8, 8]          65,536\n",
      "      BatchNorm2d-66            [-1, 512, 8, 8]           1,024\n",
      "             ReLU-67            [-1, 512, 8, 8]               0\n",
      "       Bottleneck-68            [-1, 512, 8, 8]               0\n",
      "           Conv2d-69            [-1, 128, 8, 8]          65,536\n",
      "      BatchNorm2d-70            [-1, 128, 8, 8]             256\n",
      "             ReLU-71            [-1, 128, 8, 8]               0\n",
      "           Conv2d-72            [-1, 128, 8, 8]         147,456\n",
      "      BatchNorm2d-73            [-1, 128, 8, 8]             256\n",
      "             ReLU-74            [-1, 128, 8, 8]               0\n",
      "           Conv2d-75            [-1, 512, 8, 8]          65,536\n",
      "      BatchNorm2d-76            [-1, 512, 8, 8]           1,024\n",
      "             ReLU-77            [-1, 512, 8, 8]               0\n",
      "       Bottleneck-78            [-1, 512, 8, 8]               0\n",
      "           Conv2d-79            [-1, 128, 8, 8]          65,536\n",
      "      BatchNorm2d-80            [-1, 128, 8, 8]             256\n",
      "             ReLU-81            [-1, 128, 8, 8]               0\n",
      "           Conv2d-82            [-1, 128, 8, 8]         147,456\n",
      "      BatchNorm2d-83            [-1, 128, 8, 8]             256\n",
      "             ReLU-84            [-1, 128, 8, 8]               0\n",
      "           Conv2d-85            [-1, 512, 8, 8]          65,536\n",
      "      BatchNorm2d-86            [-1, 512, 8, 8]           1,024\n",
      "             ReLU-87            [-1, 512, 8, 8]               0\n",
      "       Bottleneck-88            [-1, 512, 8, 8]               0\n",
      "           Conv2d-89            [-1, 128, 8, 8]          65,536\n",
      "      BatchNorm2d-90            [-1, 128, 8, 8]             256\n",
      "             ReLU-91            [-1, 128, 8, 8]               0\n",
      "           Conv2d-92            [-1, 128, 8, 8]         147,456\n",
      "      BatchNorm2d-93            [-1, 128, 8, 8]             256\n",
      "             ReLU-94            [-1, 128, 8, 8]               0\n",
      "           Conv2d-95            [-1, 512, 8, 8]          65,536\n",
      "      BatchNorm2d-96            [-1, 512, 8, 8]           1,024\n",
      "             ReLU-97            [-1, 512, 8, 8]               0\n",
      "       Bottleneck-98            [-1, 512, 8, 8]               0\n",
      "           Conv2d-99            [-1, 128, 8, 8]          65,536\n",
      "     BatchNorm2d-100            [-1, 128, 8, 8]             256\n",
      "            ReLU-101            [-1, 128, 8, 8]               0\n",
      "          Conv2d-102            [-1, 128, 8, 8]         147,456\n",
      "     BatchNorm2d-103            [-1, 128, 8, 8]             256\n",
      "            ReLU-104            [-1, 128, 8, 8]               0\n",
      "          Conv2d-105            [-1, 512, 8, 8]          65,536\n",
      "     BatchNorm2d-106            [-1, 512, 8, 8]           1,024\n",
      "            ReLU-107            [-1, 512, 8, 8]               0\n",
      "      Bottleneck-108            [-1, 512, 8, 8]               0\n",
      "          Conv2d-109            [-1, 128, 8, 8]          65,536\n",
      "     BatchNorm2d-110            [-1, 128, 8, 8]             256\n",
      "            ReLU-111            [-1, 128, 8, 8]               0\n",
      "          Conv2d-112            [-1, 128, 8, 8]         147,456\n",
      "     BatchNorm2d-113            [-1, 128, 8, 8]             256\n",
      "            ReLU-114            [-1, 128, 8, 8]               0\n",
      "          Conv2d-115            [-1, 512, 8, 8]          65,536\n",
      "     BatchNorm2d-116            [-1, 512, 8, 8]           1,024\n",
      "            ReLU-117            [-1, 512, 8, 8]               0\n",
      "      Bottleneck-118            [-1, 512, 8, 8]               0\n",
      "          Conv2d-119            [-1, 256, 8, 8]         131,072\n",
      "     BatchNorm2d-120            [-1, 256, 8, 8]             512\n",
      "            ReLU-121            [-1, 256, 8, 8]               0\n",
      "          Conv2d-122            [-1, 256, 4, 4]         589,824\n",
      "     BatchNorm2d-123            [-1, 256, 4, 4]             512\n",
      "            ReLU-124            [-1, 256, 4, 4]               0\n",
      "          Conv2d-125           [-1, 1024, 4, 4]         262,144\n",
      "     BatchNorm2d-126           [-1, 1024, 4, 4]           2,048\n",
      "          Conv2d-127           [-1, 1024, 4, 4]         524,288\n",
      "     BatchNorm2d-128           [-1, 1024, 4, 4]           2,048\n",
      "            ReLU-129           [-1, 1024, 4, 4]               0\n",
      "      Bottleneck-130           [-1, 1024, 4, 4]               0\n",
      "          Conv2d-131            [-1, 256, 4, 4]         262,144\n",
      "     BatchNorm2d-132            [-1, 256, 4, 4]             512\n",
      "            ReLU-133            [-1, 256, 4, 4]               0\n",
      "          Conv2d-134            [-1, 256, 4, 4]         589,824\n",
      "     BatchNorm2d-135            [-1, 256, 4, 4]             512\n",
      "            ReLU-136            [-1, 256, 4, 4]               0\n",
      "          Conv2d-137           [-1, 1024, 4, 4]         262,144\n",
      "     BatchNorm2d-138           [-1, 1024, 4, 4]           2,048\n",
      "            ReLU-139           [-1, 1024, 4, 4]               0\n",
      "      Bottleneck-140           [-1, 1024, 4, 4]               0\n",
      "          Conv2d-141            [-1, 256, 4, 4]         262,144\n",
      "     BatchNorm2d-142            [-1, 256, 4, 4]             512\n",
      "            ReLU-143            [-1, 256, 4, 4]               0\n",
      "          Conv2d-144            [-1, 256, 4, 4]         589,824\n",
      "     BatchNorm2d-145            [-1, 256, 4, 4]             512\n",
      "            ReLU-146            [-1, 256, 4, 4]               0\n",
      "          Conv2d-147           [-1, 1024, 4, 4]         262,144\n",
      "     BatchNorm2d-148           [-1, 1024, 4, 4]           2,048\n",
      "            ReLU-149           [-1, 1024, 4, 4]               0\n",
      "      Bottleneck-150           [-1, 1024, 4, 4]               0\n",
      "          Conv2d-151            [-1, 256, 4, 4]         262,144\n",
      "     BatchNorm2d-152            [-1, 256, 4, 4]             512\n",
      "            ReLU-153            [-1, 256, 4, 4]               0\n",
      "          Conv2d-154            [-1, 256, 4, 4]         589,824\n",
      "     BatchNorm2d-155            [-1, 256, 4, 4]             512\n",
      "            ReLU-156            [-1, 256, 4, 4]               0\n",
      "          Conv2d-157           [-1, 1024, 4, 4]         262,144\n",
      "     BatchNorm2d-158           [-1, 1024, 4, 4]           2,048\n",
      "            ReLU-159           [-1, 1024, 4, 4]               0\n",
      "      Bottleneck-160           [-1, 1024, 4, 4]               0\n",
      "          Conv2d-161            [-1, 256, 4, 4]         262,144\n",
      "     BatchNorm2d-162            [-1, 256, 4, 4]             512\n",
      "            ReLU-163            [-1, 256, 4, 4]               0\n",
      "          Conv2d-164            [-1, 256, 4, 4]         589,824\n",
      "     BatchNorm2d-165            [-1, 256, 4, 4]             512\n",
      "            ReLU-166            [-1, 256, 4, 4]               0\n",
      "          Conv2d-167           [-1, 1024, 4, 4]         262,144\n",
      "     BatchNorm2d-168           [-1, 1024, 4, 4]           2,048\n",
      "            ReLU-169           [-1, 1024, 4, 4]               0\n",
      "      Bottleneck-170           [-1, 1024, 4, 4]               0\n",
      "          Conv2d-171            [-1, 256, 4, 4]         262,144\n",
      "     BatchNorm2d-172            [-1, 256, 4, 4]             512\n",
      "            ReLU-173            [-1, 256, 4, 4]               0\n",
      "          Conv2d-174            [-1, 256, 4, 4]         589,824\n",
      "     BatchNorm2d-175            [-1, 256, 4, 4]             512\n",
      "            ReLU-176            [-1, 256, 4, 4]               0\n",
      "          Conv2d-177           [-1, 1024, 4, 4]         262,144\n",
      "     BatchNorm2d-178           [-1, 1024, 4, 4]           2,048\n",
      "            ReLU-179           [-1, 1024, 4, 4]               0\n",
      "      Bottleneck-180           [-1, 1024, 4, 4]               0\n",
      "          Conv2d-181            [-1, 256, 4, 4]         262,144\n",
      "     BatchNorm2d-182            [-1, 256, 4, 4]             512\n",
      "            ReLU-183            [-1, 256, 4, 4]               0\n",
      "          Conv2d-184            [-1, 256, 4, 4]         589,824\n",
      "     BatchNorm2d-185            [-1, 256, 4, 4]             512\n",
      "            ReLU-186            [-1, 256, 4, 4]               0\n",
      "          Conv2d-187           [-1, 1024, 4, 4]         262,144\n",
      "     BatchNorm2d-188           [-1, 1024, 4, 4]           2,048\n",
      "            ReLU-189           [-1, 1024, 4, 4]               0\n",
      "      Bottleneck-190           [-1, 1024, 4, 4]               0\n",
      "          Conv2d-191            [-1, 256, 4, 4]         262,144\n",
      "     BatchNorm2d-192            [-1, 256, 4, 4]             512\n",
      "            ReLU-193            [-1, 256, 4, 4]               0\n",
      "          Conv2d-194            [-1, 256, 4, 4]         589,824\n",
      "     BatchNorm2d-195            [-1, 256, 4, 4]             512\n",
      "            ReLU-196            [-1, 256, 4, 4]               0\n",
      "          Conv2d-197           [-1, 1024, 4, 4]         262,144\n",
      "     BatchNorm2d-198           [-1, 1024, 4, 4]           2,048\n",
      "            ReLU-199           [-1, 1024, 4, 4]               0\n",
      "      Bottleneck-200           [-1, 1024, 4, 4]               0\n",
      "          Conv2d-201            [-1, 256, 4, 4]         262,144\n",
      "     BatchNorm2d-202            [-1, 256, 4, 4]             512\n",
      "            ReLU-203            [-1, 256, 4, 4]               0\n",
      "          Conv2d-204            [-1, 256, 4, 4]         589,824\n",
      "     BatchNorm2d-205            [-1, 256, 4, 4]             512\n",
      "            ReLU-206            [-1, 256, 4, 4]               0\n",
      "          Conv2d-207           [-1, 1024, 4, 4]         262,144\n",
      "     BatchNorm2d-208           [-1, 1024, 4, 4]           2,048\n",
      "            ReLU-209           [-1, 1024, 4, 4]               0\n",
      "      Bottleneck-210           [-1, 1024, 4, 4]               0\n",
      "          Conv2d-211            [-1, 256, 4, 4]         262,144\n",
      "     BatchNorm2d-212            [-1, 256, 4, 4]             512\n",
      "            ReLU-213            [-1, 256, 4, 4]               0\n",
      "          Conv2d-214            [-1, 256, 4, 4]         589,824\n",
      "     BatchNorm2d-215            [-1, 256, 4, 4]             512\n",
      "            ReLU-216            [-1, 256, 4, 4]               0\n",
      "          Conv2d-217           [-1, 1024, 4, 4]         262,144\n",
      "     BatchNorm2d-218           [-1, 1024, 4, 4]           2,048\n",
      "            ReLU-219           [-1, 1024, 4, 4]               0\n",
      "      Bottleneck-220           [-1, 1024, 4, 4]               0\n",
      "          Conv2d-221            [-1, 256, 4, 4]         262,144\n",
      "     BatchNorm2d-222            [-1, 256, 4, 4]             512\n",
      "            ReLU-223            [-1, 256, 4, 4]               0\n",
      "          Conv2d-224            [-1, 256, 4, 4]         589,824\n",
      "     BatchNorm2d-225            [-1, 256, 4, 4]             512\n",
      "            ReLU-226            [-1, 256, 4, 4]               0\n",
      "          Conv2d-227           [-1, 1024, 4, 4]         262,144\n",
      "     BatchNorm2d-228           [-1, 1024, 4, 4]           2,048\n",
      "            ReLU-229           [-1, 1024, 4, 4]               0\n",
      "      Bottleneck-230           [-1, 1024, 4, 4]               0\n",
      "          Conv2d-231            [-1, 256, 4, 4]         262,144\n",
      "     BatchNorm2d-232            [-1, 256, 4, 4]             512\n",
      "            ReLU-233            [-1, 256, 4, 4]               0\n",
      "          Conv2d-234            [-1, 256, 4, 4]         589,824\n",
      "     BatchNorm2d-235            [-1, 256, 4, 4]             512\n",
      "            ReLU-236            [-1, 256, 4, 4]               0\n",
      "          Conv2d-237           [-1, 1024, 4, 4]         262,144\n",
      "     BatchNorm2d-238           [-1, 1024, 4, 4]           2,048\n",
      "            ReLU-239           [-1, 1024, 4, 4]               0\n",
      "      Bottleneck-240           [-1, 1024, 4, 4]               0\n",
      "          Conv2d-241            [-1, 256, 4, 4]         262,144\n",
      "     BatchNorm2d-242            [-1, 256, 4, 4]             512\n",
      "            ReLU-243            [-1, 256, 4, 4]               0\n",
      "          Conv2d-244            [-1, 256, 4, 4]         589,824\n",
      "     BatchNorm2d-245            [-1, 256, 4, 4]             512\n",
      "            ReLU-246            [-1, 256, 4, 4]               0\n",
      "          Conv2d-247           [-1, 1024, 4, 4]         262,144\n",
      "     BatchNorm2d-248           [-1, 1024, 4, 4]           2,048\n",
      "            ReLU-249           [-1, 1024, 4, 4]               0\n",
      "      Bottleneck-250           [-1, 1024, 4, 4]               0\n",
      "          Conv2d-251            [-1, 256, 4, 4]         262,144\n",
      "     BatchNorm2d-252            [-1, 256, 4, 4]             512\n",
      "            ReLU-253            [-1, 256, 4, 4]               0\n",
      "          Conv2d-254            [-1, 256, 4, 4]         589,824\n",
      "     BatchNorm2d-255            [-1, 256, 4, 4]             512\n",
      "            ReLU-256            [-1, 256, 4, 4]               0\n",
      "          Conv2d-257           [-1, 1024, 4, 4]         262,144\n",
      "     BatchNorm2d-258           [-1, 1024, 4, 4]           2,048\n",
      "            ReLU-259           [-1, 1024, 4, 4]               0\n",
      "      Bottleneck-260           [-1, 1024, 4, 4]               0\n",
      "          Conv2d-261            [-1, 256, 4, 4]         262,144\n",
      "     BatchNorm2d-262            [-1, 256, 4, 4]             512\n",
      "            ReLU-263            [-1, 256, 4, 4]               0\n",
      "          Conv2d-264            [-1, 256, 4, 4]         589,824\n",
      "     BatchNorm2d-265            [-1, 256, 4, 4]             512\n",
      "            ReLU-266            [-1, 256, 4, 4]               0\n",
      "          Conv2d-267           [-1, 1024, 4, 4]         262,144\n",
      "     BatchNorm2d-268           [-1, 1024, 4, 4]           2,048\n",
      "            ReLU-269           [-1, 1024, 4, 4]               0\n",
      "      Bottleneck-270           [-1, 1024, 4, 4]               0\n",
      "          Conv2d-271            [-1, 256, 4, 4]         262,144\n",
      "     BatchNorm2d-272            [-1, 256, 4, 4]             512\n",
      "            ReLU-273            [-1, 256, 4, 4]               0\n",
      "          Conv2d-274            [-1, 256, 4, 4]         589,824\n",
      "     BatchNorm2d-275            [-1, 256, 4, 4]             512\n",
      "            ReLU-276            [-1, 256, 4, 4]               0\n",
      "          Conv2d-277           [-1, 1024, 4, 4]         262,144\n",
      "     BatchNorm2d-278           [-1, 1024, 4, 4]           2,048\n",
      "            ReLU-279           [-1, 1024, 4, 4]               0\n",
      "      Bottleneck-280           [-1, 1024, 4, 4]               0\n",
      "          Conv2d-281            [-1, 256, 4, 4]         262,144\n",
      "     BatchNorm2d-282            [-1, 256, 4, 4]             512\n",
      "            ReLU-283            [-1, 256, 4, 4]               0\n",
      "          Conv2d-284            [-1, 256, 4, 4]         589,824\n",
      "     BatchNorm2d-285            [-1, 256, 4, 4]             512\n",
      "            ReLU-286            [-1, 256, 4, 4]               0\n",
      "          Conv2d-287           [-1, 1024, 4, 4]         262,144\n",
      "     BatchNorm2d-288           [-1, 1024, 4, 4]           2,048\n",
      "            ReLU-289           [-1, 1024, 4, 4]               0\n",
      "      Bottleneck-290           [-1, 1024, 4, 4]               0\n",
      "          Conv2d-291            [-1, 256, 4, 4]         262,144\n",
      "     BatchNorm2d-292            [-1, 256, 4, 4]             512\n",
      "            ReLU-293            [-1, 256, 4, 4]               0\n",
      "          Conv2d-294            [-1, 256, 4, 4]         589,824\n",
      "     BatchNorm2d-295            [-1, 256, 4, 4]             512\n",
      "            ReLU-296            [-1, 256, 4, 4]               0\n",
      "          Conv2d-297           [-1, 1024, 4, 4]         262,144\n",
      "     BatchNorm2d-298           [-1, 1024, 4, 4]           2,048\n",
      "            ReLU-299           [-1, 1024, 4, 4]               0\n",
      "      Bottleneck-300           [-1, 1024, 4, 4]               0\n",
      "          Conv2d-301            [-1, 256, 4, 4]         262,144\n",
      "     BatchNorm2d-302            [-1, 256, 4, 4]             512\n",
      "            ReLU-303            [-1, 256, 4, 4]               0\n",
      "          Conv2d-304            [-1, 256, 4, 4]         589,824\n",
      "     BatchNorm2d-305            [-1, 256, 4, 4]             512\n",
      "            ReLU-306            [-1, 256, 4, 4]               0\n",
      "          Conv2d-307           [-1, 1024, 4, 4]         262,144\n",
      "     BatchNorm2d-308           [-1, 1024, 4, 4]           2,048\n",
      "            ReLU-309           [-1, 1024, 4, 4]               0\n",
      "      Bottleneck-310           [-1, 1024, 4, 4]               0\n",
      "          Conv2d-311            [-1, 256, 4, 4]         262,144\n",
      "     BatchNorm2d-312            [-1, 256, 4, 4]             512\n",
      "            ReLU-313            [-1, 256, 4, 4]               0\n",
      "          Conv2d-314            [-1, 256, 4, 4]         589,824\n",
      "     BatchNorm2d-315            [-1, 256, 4, 4]             512\n",
      "            ReLU-316            [-1, 256, 4, 4]               0\n",
      "          Conv2d-317           [-1, 1024, 4, 4]         262,144\n",
      "     BatchNorm2d-318           [-1, 1024, 4, 4]           2,048\n",
      "            ReLU-319           [-1, 1024, 4, 4]               0\n",
      "      Bottleneck-320           [-1, 1024, 4, 4]               0\n",
      "          Conv2d-321            [-1, 256, 4, 4]         262,144\n",
      "     BatchNorm2d-322            [-1, 256, 4, 4]             512\n",
      "            ReLU-323            [-1, 256, 4, 4]               0\n",
      "          Conv2d-324            [-1, 256, 4, 4]         589,824\n",
      "     BatchNorm2d-325            [-1, 256, 4, 4]             512\n",
      "            ReLU-326            [-1, 256, 4, 4]               0\n",
      "          Conv2d-327           [-1, 1024, 4, 4]         262,144\n",
      "     BatchNorm2d-328           [-1, 1024, 4, 4]           2,048\n",
      "            ReLU-329           [-1, 1024, 4, 4]               0\n",
      "      Bottleneck-330           [-1, 1024, 4, 4]               0\n",
      "          Conv2d-331            [-1, 256, 4, 4]         262,144\n",
      "     BatchNorm2d-332            [-1, 256, 4, 4]             512\n",
      "            ReLU-333            [-1, 256, 4, 4]               0\n",
      "          Conv2d-334            [-1, 256, 4, 4]         589,824\n",
      "     BatchNorm2d-335            [-1, 256, 4, 4]             512\n",
      "            ReLU-336            [-1, 256, 4, 4]               0\n",
      "          Conv2d-337           [-1, 1024, 4, 4]         262,144\n",
      "     BatchNorm2d-338           [-1, 1024, 4, 4]           2,048\n",
      "            ReLU-339           [-1, 1024, 4, 4]               0\n",
      "      Bottleneck-340           [-1, 1024, 4, 4]               0\n",
      "          Conv2d-341            [-1, 256, 4, 4]         262,144\n",
      "     BatchNorm2d-342            [-1, 256, 4, 4]             512\n",
      "            ReLU-343            [-1, 256, 4, 4]               0\n",
      "          Conv2d-344            [-1, 256, 4, 4]         589,824\n",
      "     BatchNorm2d-345            [-1, 256, 4, 4]             512\n",
      "            ReLU-346            [-1, 256, 4, 4]               0\n",
      "          Conv2d-347           [-1, 1024, 4, 4]         262,144\n",
      "     BatchNorm2d-348           [-1, 1024, 4, 4]           2,048\n",
      "            ReLU-349           [-1, 1024, 4, 4]               0\n",
      "      Bottleneck-350           [-1, 1024, 4, 4]               0\n",
      "          Conv2d-351            [-1, 256, 4, 4]         262,144\n",
      "     BatchNorm2d-352            [-1, 256, 4, 4]             512\n",
      "            ReLU-353            [-1, 256, 4, 4]               0\n",
      "          Conv2d-354            [-1, 256, 4, 4]         589,824\n",
      "     BatchNorm2d-355            [-1, 256, 4, 4]             512\n",
      "            ReLU-356            [-1, 256, 4, 4]               0\n",
      "          Conv2d-357           [-1, 1024, 4, 4]         262,144\n",
      "     BatchNorm2d-358           [-1, 1024, 4, 4]           2,048\n",
      "            ReLU-359           [-1, 1024, 4, 4]               0\n",
      "      Bottleneck-360           [-1, 1024, 4, 4]               0\n",
      "          Conv2d-361            [-1, 256, 4, 4]         262,144\n",
      "     BatchNorm2d-362            [-1, 256, 4, 4]             512\n",
      "            ReLU-363            [-1, 256, 4, 4]               0\n",
      "          Conv2d-364            [-1, 256, 4, 4]         589,824\n",
      "     BatchNorm2d-365            [-1, 256, 4, 4]             512\n",
      "            ReLU-366            [-1, 256, 4, 4]               0\n",
      "          Conv2d-367           [-1, 1024, 4, 4]         262,144\n",
      "     BatchNorm2d-368           [-1, 1024, 4, 4]           2,048\n",
      "            ReLU-369           [-1, 1024, 4, 4]               0\n",
      "      Bottleneck-370           [-1, 1024, 4, 4]               0\n",
      "          Conv2d-371            [-1, 256, 4, 4]         262,144\n",
      "     BatchNorm2d-372            [-1, 256, 4, 4]             512\n",
      "            ReLU-373            [-1, 256, 4, 4]               0\n",
      "          Conv2d-374            [-1, 256, 4, 4]         589,824\n",
      "     BatchNorm2d-375            [-1, 256, 4, 4]             512\n",
      "            ReLU-376            [-1, 256, 4, 4]               0\n",
      "          Conv2d-377           [-1, 1024, 4, 4]         262,144\n",
      "     BatchNorm2d-378           [-1, 1024, 4, 4]           2,048\n",
      "            ReLU-379           [-1, 1024, 4, 4]               0\n",
      "      Bottleneck-380           [-1, 1024, 4, 4]               0\n",
      "          Conv2d-381            [-1, 256, 4, 4]         262,144\n",
      "     BatchNorm2d-382            [-1, 256, 4, 4]             512\n",
      "            ReLU-383            [-1, 256, 4, 4]               0\n",
      "          Conv2d-384            [-1, 256, 4, 4]         589,824\n",
      "     BatchNorm2d-385            [-1, 256, 4, 4]             512\n",
      "            ReLU-386            [-1, 256, 4, 4]               0\n",
      "          Conv2d-387           [-1, 1024, 4, 4]         262,144\n",
      "     BatchNorm2d-388           [-1, 1024, 4, 4]           2,048\n",
      "            ReLU-389           [-1, 1024, 4, 4]               0\n",
      "      Bottleneck-390           [-1, 1024, 4, 4]               0\n",
      "          Conv2d-391            [-1, 256, 4, 4]         262,144\n",
      "     BatchNorm2d-392            [-1, 256, 4, 4]             512\n",
      "            ReLU-393            [-1, 256, 4, 4]               0\n",
      "          Conv2d-394            [-1, 256, 4, 4]         589,824\n",
      "     BatchNorm2d-395            [-1, 256, 4, 4]             512\n",
      "            ReLU-396            [-1, 256, 4, 4]               0\n",
      "          Conv2d-397           [-1, 1024, 4, 4]         262,144\n",
      "     BatchNorm2d-398           [-1, 1024, 4, 4]           2,048\n",
      "            ReLU-399           [-1, 1024, 4, 4]               0\n",
      "      Bottleneck-400           [-1, 1024, 4, 4]               0\n",
      "          Conv2d-401            [-1, 256, 4, 4]         262,144\n",
      "     BatchNorm2d-402            [-1, 256, 4, 4]             512\n",
      "            ReLU-403            [-1, 256, 4, 4]               0\n",
      "          Conv2d-404            [-1, 256, 4, 4]         589,824\n",
      "     BatchNorm2d-405            [-1, 256, 4, 4]             512\n",
      "            ReLU-406            [-1, 256, 4, 4]               0\n",
      "          Conv2d-407           [-1, 1024, 4, 4]         262,144\n",
      "     BatchNorm2d-408           [-1, 1024, 4, 4]           2,048\n",
      "            ReLU-409           [-1, 1024, 4, 4]               0\n",
      "      Bottleneck-410           [-1, 1024, 4, 4]               0\n",
      "          Conv2d-411            [-1, 256, 4, 4]         262,144\n",
      "     BatchNorm2d-412            [-1, 256, 4, 4]             512\n",
      "            ReLU-413            [-1, 256, 4, 4]               0\n",
      "          Conv2d-414            [-1, 256, 4, 4]         589,824\n",
      "     BatchNorm2d-415            [-1, 256, 4, 4]             512\n",
      "            ReLU-416            [-1, 256, 4, 4]               0\n",
      "          Conv2d-417           [-1, 1024, 4, 4]         262,144\n",
      "     BatchNorm2d-418           [-1, 1024, 4, 4]           2,048\n",
      "            ReLU-419           [-1, 1024, 4, 4]               0\n",
      "      Bottleneck-420           [-1, 1024, 4, 4]               0\n",
      "          Conv2d-421            [-1, 256, 4, 4]         262,144\n",
      "     BatchNorm2d-422            [-1, 256, 4, 4]             512\n",
      "            ReLU-423            [-1, 256, 4, 4]               0\n",
      "          Conv2d-424            [-1, 256, 4, 4]         589,824\n",
      "     BatchNorm2d-425            [-1, 256, 4, 4]             512\n",
      "            ReLU-426            [-1, 256, 4, 4]               0\n",
      "          Conv2d-427           [-1, 1024, 4, 4]         262,144\n",
      "     BatchNorm2d-428           [-1, 1024, 4, 4]           2,048\n",
      "            ReLU-429           [-1, 1024, 4, 4]               0\n",
      "      Bottleneck-430           [-1, 1024, 4, 4]               0\n",
      "          Conv2d-431            [-1, 256, 4, 4]         262,144\n",
      "     BatchNorm2d-432            [-1, 256, 4, 4]             512\n",
      "            ReLU-433            [-1, 256, 4, 4]               0\n",
      "          Conv2d-434            [-1, 256, 4, 4]         589,824\n",
      "     BatchNorm2d-435            [-1, 256, 4, 4]             512\n",
      "            ReLU-436            [-1, 256, 4, 4]               0\n",
      "          Conv2d-437           [-1, 1024, 4, 4]         262,144\n",
      "     BatchNorm2d-438           [-1, 1024, 4, 4]           2,048\n",
      "            ReLU-439           [-1, 1024, 4, 4]               0\n",
      "      Bottleneck-440           [-1, 1024, 4, 4]               0\n",
      "          Conv2d-441            [-1, 256, 4, 4]         262,144\n",
      "     BatchNorm2d-442            [-1, 256, 4, 4]             512\n",
      "            ReLU-443            [-1, 256, 4, 4]               0\n",
      "          Conv2d-444            [-1, 256, 4, 4]         589,824\n",
      "     BatchNorm2d-445            [-1, 256, 4, 4]             512\n",
      "            ReLU-446            [-1, 256, 4, 4]               0\n",
      "          Conv2d-447           [-1, 1024, 4, 4]         262,144\n",
      "     BatchNorm2d-448           [-1, 1024, 4, 4]           2,048\n",
      "            ReLU-449           [-1, 1024, 4, 4]               0\n",
      "      Bottleneck-450           [-1, 1024, 4, 4]               0\n",
      "          Conv2d-451            [-1, 256, 4, 4]         262,144\n",
      "     BatchNorm2d-452            [-1, 256, 4, 4]             512\n",
      "            ReLU-453            [-1, 256, 4, 4]               0\n",
      "          Conv2d-454            [-1, 256, 4, 4]         589,824\n",
      "     BatchNorm2d-455            [-1, 256, 4, 4]             512\n",
      "            ReLU-456            [-1, 256, 4, 4]               0\n",
      "          Conv2d-457           [-1, 1024, 4, 4]         262,144\n",
      "     BatchNorm2d-458           [-1, 1024, 4, 4]           2,048\n",
      "            ReLU-459           [-1, 1024, 4, 4]               0\n",
      "      Bottleneck-460           [-1, 1024, 4, 4]               0\n",
      "          Conv2d-461            [-1, 256, 4, 4]         262,144\n",
      "     BatchNorm2d-462            [-1, 256, 4, 4]             512\n",
      "            ReLU-463            [-1, 256, 4, 4]               0\n",
      "          Conv2d-464            [-1, 256, 4, 4]         589,824\n",
      "     BatchNorm2d-465            [-1, 256, 4, 4]             512\n",
      "            ReLU-466            [-1, 256, 4, 4]               0\n",
      "          Conv2d-467           [-1, 1024, 4, 4]         262,144\n",
      "     BatchNorm2d-468           [-1, 1024, 4, 4]           2,048\n",
      "            ReLU-469           [-1, 1024, 4, 4]               0\n",
      "      Bottleneck-470           [-1, 1024, 4, 4]               0\n",
      "          Conv2d-471            [-1, 256, 4, 4]         262,144\n",
      "     BatchNorm2d-472            [-1, 256, 4, 4]             512\n",
      "            ReLU-473            [-1, 256, 4, 4]               0\n",
      "          Conv2d-474            [-1, 256, 4, 4]         589,824\n",
      "     BatchNorm2d-475            [-1, 256, 4, 4]             512\n",
      "            ReLU-476            [-1, 256, 4, 4]               0\n",
      "          Conv2d-477           [-1, 1024, 4, 4]         262,144\n",
      "     BatchNorm2d-478           [-1, 1024, 4, 4]           2,048\n",
      "            ReLU-479           [-1, 1024, 4, 4]               0\n",
      "      Bottleneck-480           [-1, 1024, 4, 4]               0\n",
      "          Conv2d-481            [-1, 512, 4, 4]         524,288\n",
      "     BatchNorm2d-482            [-1, 512, 4, 4]           1,024\n",
      "            ReLU-483            [-1, 512, 4, 4]               0\n",
      "          Conv2d-484            [-1, 512, 2, 2]       2,359,296\n",
      "     BatchNorm2d-485            [-1, 512, 2, 2]           1,024\n",
      "            ReLU-486            [-1, 512, 2, 2]               0\n",
      "          Conv2d-487           [-1, 2048, 2, 2]       1,048,576\n",
      "     BatchNorm2d-488           [-1, 2048, 2, 2]           4,096\n",
      "          Conv2d-489           [-1, 2048, 2, 2]       2,097,152\n",
      "     BatchNorm2d-490           [-1, 2048, 2, 2]           4,096\n",
      "            ReLU-491           [-1, 2048, 2, 2]               0\n",
      "      Bottleneck-492           [-1, 2048, 2, 2]               0\n",
      "          Conv2d-493            [-1, 512, 2, 2]       1,048,576\n",
      "     BatchNorm2d-494            [-1, 512, 2, 2]           1,024\n",
      "            ReLU-495            [-1, 512, 2, 2]               0\n",
      "          Conv2d-496            [-1, 512, 2, 2]       2,359,296\n",
      "     BatchNorm2d-497            [-1, 512, 2, 2]           1,024\n",
      "            ReLU-498            [-1, 512, 2, 2]               0\n",
      "          Conv2d-499           [-1, 2048, 2, 2]       1,048,576\n",
      "     BatchNorm2d-500           [-1, 2048, 2, 2]           4,096\n",
      "            ReLU-501           [-1, 2048, 2, 2]               0\n",
      "      Bottleneck-502           [-1, 2048, 2, 2]               0\n",
      "          Conv2d-503            [-1, 512, 2, 2]       1,048,576\n",
      "     BatchNorm2d-504            [-1, 512, 2, 2]           1,024\n",
      "            ReLU-505            [-1, 512, 2, 2]               0\n",
      "          Conv2d-506            [-1, 512, 2, 2]       2,359,296\n",
      "     BatchNorm2d-507            [-1, 512, 2, 2]           1,024\n",
      "            ReLU-508            [-1, 512, 2, 2]               0\n",
      "          Conv2d-509           [-1, 2048, 2, 2]       1,048,576\n",
      "     BatchNorm2d-510           [-1, 2048, 2, 2]           4,096\n",
      "            ReLU-511           [-1, 2048, 2, 2]               0\n",
      "      Bottleneck-512           [-1, 2048, 2, 2]               0\n",
      "AdaptiveAvgPool2d-513           [-1, 2048, 1, 1]               0\n",
      "          Linear-514                   [-1, 10]          20,490\n",
      "================================================================\n",
      "Total params: 58,195,658\n",
      "Trainable params: 58,195,658\n",
      "Non-trainable params: 0\n",
      "----------------------------------------------------------------\n",
      "Input size (MB): 0.20\n",
      "Forward/backward pass size (MB): 49.53\n",
      "Params size (MB): 222.00\n",
      "Estimated Total Size (MB): 271.73\n",
      "----------------------------------------------------------------\n"
     ]
    }
   ],
   "source": [
    "import torchsummary\n",
    "\n",
    "# Print the model summary\n",
    "torchsummary.summary(model.to(device), input_size=(13, 64, 64))"
   ]
  },
  {
   "cell_type": "code",
   "execution_count": 30,
   "id": "f962d490-dc54-43d3-9dfb-2fb964b501c0",
   "metadata": {},
   "outputs": [],
   "source": [
    "train_losses = []\n",
    "train_accu = []\n",
    "\n",
    "def train(epoch):\n",
    "    print('Epoch : %d'%epoch)\n",
    "    \n",
    "    model.train()\n",
    "    running_loss=0\n",
    "    correct=0\n",
    "    total=0\n",
    "\n",
    "    for images, labels in tqdm(train_loader):\n",
    "        \n",
    "        images = images.float().cuda()\n",
    "        labels = labels.float().cuda()\n",
    "        #print(images.size())\n",
    "        #print(labels.size())\n",
    "        # Forward pass\n",
    "        #model = model.cuda()\n",
    "        outputs = model(images)\n",
    "        labels1= np.zeros((32,10))\n",
    "        \n",
    "        #labels1 = tensor.detach().cpu().numpy()\n",
    "        for j in range(32):\n",
    "            i=labels[j]\n",
    "            i=int(i.item())\n",
    "            # print(i)\n",
    "            labels1[j][i]=1\n",
    "        labels1=torch.from_numpy(labels1)\n",
    "        #print(labels1.size())\n",
    "        labels1=labels1.to(device='cuda')\n",
    "        loss = criterion(outputs, labels1)\n",
    "        \n",
    "        \n",
    "       # Backward and optimize\n",
    "        optimizer.zero_grad()\n",
    "        loss.backward()\n",
    "        optimizer.step()\n",
    "    \n",
    "        \n",
    "    #Replaces pow(2.0) with abs() for L1 regularization\n",
    "    \n",
    "#     l2_lambda = 0.001\n",
    "#     l2_norm = sum(p.pow(2.0).sum()\n",
    "#                   for p in model.parameters())\n",
    "\n",
    "#     loss = loss + l2_lambda * l2_norm\n",
    "    \n",
    "        \n",
    "        running_loss += loss.item()\n",
    "    \n",
    "        _, predicted = outputs.max(1)\n",
    "        total += labels.size(0)\n",
    "        correct += predicted.eq(labels).sum().item()\n",
    "      \n",
    "    train_loss=running_loss/len(train_loader)\n",
    "    accu=100.*correct/total\n",
    "  \n",
    "    train_accu.append(accu)\n",
    "    train_losses.append(train_loss)\n",
    "    print('Train Loss: %.3f | Accuracy: %.3f'%(train_loss,accu))\n",
    "    "
   ]
  },
  {
   "cell_type": "code",
   "execution_count": 31,
   "id": "8b7de0b1-26f3-4521-b445-5732a291165f",
   "metadata": {},
   "outputs": [],
   "source": [
    "eval_losses=[]\n",
    "eval_accu=[]\n",
    "\n",
    "def test(epoch):\n",
    "    model.eval()\n",
    "\n",
    "    running_loss=0\n",
    "    correct=0\n",
    "    total=0\n",
    "    #print(test_loader)\n",
    "    with torch.no_grad():\n",
    "        for images, labels in tqdm(test_loader):\n",
    "            \n",
    "            #images = images.to(device='cuda', dtype=torch.float)\n",
    "            images = images.float().cuda()\n",
    "            labels = labels.float().cuda()\n",
    "            #labels = labels.to(device='cuda', dtype=torch.float)\n",
    "            \n",
    "            # Predict classes using the model\n",
    "            outputs = model(images)\n",
    "            #print(labels.size())\n",
    "            t,y=outputs.shape\n",
    "            # print(t)\n",
    "            labels1= np.zeros((t,10))\n",
    "            for j in range(t):\n",
    "                i=labels[j]\n",
    "                i=int(i.item())\n",
    "                labels1[j][i]=1\n",
    "            labels1=torch.from_numpy(labels1)\n",
    "            #print(labels1.size())\n",
    "            labels1=labels1.to(device='cuda')\n",
    "            #outputs=outputs.tensor()\n",
    "            loss= criterion(outputs,labels1)\n",
    "            running_loss+=loss.item()\n",
    "            \n",
    "            \n",
    "           # Compute accuracy\n",
    "            _, predicted = torch.max(outputs.data, 1)\n",
    "            total += labels.size(0)\n",
    "            correct += (predicted == labels).sum().item()\n",
    "            \n",
    "    test_loss=running_loss/len(test_loader)\n",
    "    accu=100.*correct/total\n",
    "\n",
    "    eval_losses.append(test_loss)\n",
    "    eval_accu.append(accu)\n",
    "\n",
    "    print('Test Loss: %.3f | Accuracy: %.3f'%(test_loss,accu)) \n",
    "    "
   ]
  },
  {
   "cell_type": "code",
   "execution_count": 32,
   "id": "8157f79f-14c8-4efe-8caa-e297ffbe814c",
   "metadata": {},
   "outputs": [],
   "source": [
    "from tqdm import tqdm"
   ]
  },
  {
   "cell_type": "code",
   "execution_count": 33,
   "id": "d3d2518f-d2cc-4ed1-a8a3-52ca31a0c04a",
   "metadata": {},
   "outputs": [
    {
     "name": "stdout",
     "output_type": "stream",
     "text": [
      "Epoch : 1\n"
     ]
    },
    {
     "name": "stderr",
     "output_type": "stream",
     "text": [
      "100%|█████████████████████████████████████████| 675/675 [01:00<00:00, 11.16it/s]\n"
     ]
    },
    {
     "name": "stdout",
     "output_type": "stream",
     "text": [
      "Train Loss: 0.746 | Accuracy: 76.394\n"
     ]
    },
    {
     "name": "stderr",
     "output_type": "stream",
     "text": [
      "100%|█████████████████████████████████████████| 169/169 [00:04<00:00, 36.13it/s]\n"
     ]
    },
    {
     "name": "stdout",
     "output_type": "stream",
     "text": [
      "Test Loss: 4.897 | Accuracy: 69.259\n",
      "Epoch : 2\n"
     ]
    },
    {
     "name": "stderr",
     "output_type": "stream",
     "text": [
      "100%|█████████████████████████████████████████| 675/675 [01:00<00:00, 11.09it/s]\n"
     ]
    },
    {
     "name": "stdout",
     "output_type": "stream",
     "text": [
      "Train Loss: 0.446 | Accuracy: 85.157\n"
     ]
    },
    {
     "name": "stderr",
     "output_type": "stream",
     "text": [
      "100%|█████████████████████████████████████████| 169/169 [00:04<00:00, 35.71it/s]\n"
     ]
    },
    {
     "name": "stdout",
     "output_type": "stream",
     "text": [
      "Test Loss: 0.309 | Accuracy: 90.241\n",
      "Epoch : 3\n"
     ]
    },
    {
     "name": "stderr",
     "output_type": "stream",
     "text": [
      "100%|█████████████████████████████████████████| 675/675 [01:00<00:00, 11.14it/s]\n"
     ]
    },
    {
     "name": "stdout",
     "output_type": "stream",
     "text": [
      "Train Loss: 0.311 | Accuracy: 89.745\n"
     ]
    },
    {
     "name": "stderr",
     "output_type": "stream",
     "text": [
      "100%|█████████████████████████████████████████| 169/169 [00:04<00:00, 36.17it/s]\n"
     ]
    },
    {
     "name": "stdout",
     "output_type": "stream",
     "text": [
      "Test Loss: 0.377 | Accuracy: 88.222\n",
      "Epoch : 4\n"
     ]
    },
    {
     "name": "stderr",
     "output_type": "stream",
     "text": [
      "100%|█████████████████████████████████████████| 675/675 [01:00<00:00, 11.09it/s]\n"
     ]
    },
    {
     "name": "stdout",
     "output_type": "stream",
     "text": [
      "Train Loss: 0.243 | Accuracy: 91.926\n"
     ]
    },
    {
     "name": "stderr",
     "output_type": "stream",
     "text": [
      "100%|█████████████████████████████████████████| 169/169 [00:04<00:00, 36.28it/s]\n"
     ]
    },
    {
     "name": "stdout",
     "output_type": "stream",
     "text": [
      "Test Loss: 0.249 | Accuracy: 91.648\n",
      "Epoch : 5\n"
     ]
    },
    {
     "name": "stderr",
     "output_type": "stream",
     "text": [
      "100%|█████████████████████████████████████████| 675/675 [01:01<00:00, 11.03it/s]\n"
     ]
    },
    {
     "name": "stdout",
     "output_type": "stream",
     "text": [
      "Train Loss: 0.235 | Accuracy: 92.134\n"
     ]
    },
    {
     "name": "stderr",
     "output_type": "stream",
     "text": [
      "100%|█████████████████████████████████████████| 169/169 [00:04<00:00, 37.45it/s]\n"
     ]
    },
    {
     "name": "stdout",
     "output_type": "stream",
     "text": [
      "Test Loss: 0.268 | Accuracy: 91.278\n",
      "Epoch : 6\n"
     ]
    },
    {
     "name": "stderr",
     "output_type": "stream",
     "text": [
      "100%|█████████████████████████████████████████| 675/675 [00:59<00:00, 11.31it/s]\n"
     ]
    },
    {
     "name": "stdout",
     "output_type": "stream",
     "text": [
      "Train Loss: 0.183 | Accuracy: 93.810\n"
     ]
    },
    {
     "name": "stderr",
     "output_type": "stream",
     "text": [
      "100%|█████████████████████████████████████████| 169/169 [00:04<00:00, 37.43it/s]\n"
     ]
    },
    {
     "name": "stdout",
     "output_type": "stream",
     "text": [
      "Test Loss: 0.225 | Accuracy: 92.481\n",
      "Epoch : 7\n"
     ]
    },
    {
     "name": "stderr",
     "output_type": "stream",
     "text": [
      "100%|█████████████████████████████████████████| 675/675 [00:59<00:00, 11.33it/s]\n"
     ]
    },
    {
     "name": "stdout",
     "output_type": "stream",
     "text": [
      "Train Loss: 0.178 | Accuracy: 94.120\n"
     ]
    },
    {
     "name": "stderr",
     "output_type": "stream",
     "text": [
      "100%|█████████████████████████████████████████| 169/169 [00:04<00:00, 37.47it/s]\n"
     ]
    },
    {
     "name": "stdout",
     "output_type": "stream",
     "text": [
      "Test Loss: 0.269 | Accuracy: 91.685\n",
      "Epoch : 8\n"
     ]
    },
    {
     "name": "stderr",
     "output_type": "stream",
     "text": [
      "100%|█████████████████████████████████████████| 675/675 [00:59<00:00, 11.31it/s]\n"
     ]
    },
    {
     "name": "stdout",
     "output_type": "stream",
     "text": [
      "Train Loss: 0.153 | Accuracy: 94.870\n"
     ]
    },
    {
     "name": "stderr",
     "output_type": "stream",
     "text": [
      "100%|█████████████████████████████████████████| 169/169 [00:04<00:00, 37.49it/s]\n"
     ]
    },
    {
     "name": "stdout",
     "output_type": "stream",
     "text": [
      "Test Loss: 0.501 | Accuracy: 85.556\n",
      "Epoch : 9\n"
     ]
    },
    {
     "name": "stderr",
     "output_type": "stream",
     "text": [
      "100%|█████████████████████████████████████████| 675/675 [00:59<00:00, 11.32it/s]\n"
     ]
    },
    {
     "name": "stdout",
     "output_type": "stream",
     "text": [
      "Train Loss: 0.132 | Accuracy: 95.486\n"
     ]
    },
    {
     "name": "stderr",
     "output_type": "stream",
     "text": [
      "100%|█████████████████████████████████████████| 169/169 [00:04<00:00, 37.96it/s]\n"
     ]
    },
    {
     "name": "stdout",
     "output_type": "stream",
     "text": [
      "Test Loss: 0.418 | Accuracy: 86.667\n",
      "Epoch : 10\n"
     ]
    },
    {
     "name": "stderr",
     "output_type": "stream",
     "text": [
      "100%|█████████████████████████████████████████| 675/675 [00:59<00:00, 11.31it/s]\n"
     ]
    },
    {
     "name": "stdout",
     "output_type": "stream",
     "text": [
      "Train Loss: 0.122 | Accuracy: 95.764\n"
     ]
    },
    {
     "name": "stderr",
     "output_type": "stream",
     "text": [
      "100%|█████████████████████████████████████████| 169/169 [00:04<00:00, 38.21it/s]\n"
     ]
    },
    {
     "name": "stdout",
     "output_type": "stream",
     "text": [
      "Test Loss: 0.216 | Accuracy: 93.722\n",
      "Epoch : 11\n"
     ]
    },
    {
     "name": "stderr",
     "output_type": "stream",
     "text": [
      "100%|█████████████████████████████████████████| 675/675 [00:59<00:00, 11.36it/s]\n"
     ]
    },
    {
     "name": "stdout",
     "output_type": "stream",
     "text": [
      "Train Loss: 0.109 | Accuracy: 96.403\n"
     ]
    },
    {
     "name": "stderr",
     "output_type": "stream",
     "text": [
      "100%|█████████████████████████████████████████| 169/169 [00:04<00:00, 38.04it/s]\n"
     ]
    },
    {
     "name": "stdout",
     "output_type": "stream",
     "text": [
      "Test Loss: 0.238 | Accuracy: 92.611\n",
      "Epoch : 12\n"
     ]
    },
    {
     "name": "stderr",
     "output_type": "stream",
     "text": [
      "100%|█████████████████████████████████████████| 675/675 [00:59<00:00, 11.28it/s]\n"
     ]
    },
    {
     "name": "stdout",
     "output_type": "stream",
     "text": [
      "Train Loss: 0.104 | Accuracy: 96.398\n"
     ]
    },
    {
     "name": "stderr",
     "output_type": "stream",
     "text": [
      "100%|█████████████████████████████████████████| 169/169 [00:04<00:00, 37.38it/s]\n"
     ]
    },
    {
     "name": "stdout",
     "output_type": "stream",
     "text": [
      "Test Loss: 0.168 | Accuracy: 95.296\n",
      "Epoch : 13\n"
     ]
    },
    {
     "name": "stderr",
     "output_type": "stream",
     "text": [
      "100%|█████████████████████████████████████████| 675/675 [00:59<00:00, 11.30it/s]\n"
     ]
    },
    {
     "name": "stdout",
     "output_type": "stream",
     "text": [
      "Train Loss: 0.087 | Accuracy: 97.023\n"
     ]
    },
    {
     "name": "stderr",
     "output_type": "stream",
     "text": [
      "100%|█████████████████████████████████████████| 169/169 [00:04<00:00, 38.10it/s]\n"
     ]
    },
    {
     "name": "stdout",
     "output_type": "stream",
     "text": [
      "Test Loss: 0.165 | Accuracy: 94.963\n",
      "Epoch : 14\n"
     ]
    },
    {
     "name": "stderr",
     "output_type": "stream",
     "text": [
      "100%|█████████████████████████████████████████| 675/675 [00:59<00:00, 11.34it/s]\n"
     ]
    },
    {
     "name": "stdout",
     "output_type": "stream",
     "text": [
      "Train Loss: 0.089 | Accuracy: 97.079\n"
     ]
    },
    {
     "name": "stderr",
     "output_type": "stream",
     "text": [
      "100%|█████████████████████████████████████████| 169/169 [00:04<00:00, 37.99it/s]\n"
     ]
    },
    {
     "name": "stdout",
     "output_type": "stream",
     "text": [
      "Test Loss: 0.602 | Accuracy: 90.407\n",
      "Epoch : 15\n"
     ]
    },
    {
     "name": "stderr",
     "output_type": "stream",
     "text": [
      "100%|█████████████████████████████████████████| 675/675 [00:59<00:00, 11.30it/s]\n"
     ]
    },
    {
     "name": "stdout",
     "output_type": "stream",
     "text": [
      "Train Loss: 0.078 | Accuracy: 97.361\n"
     ]
    },
    {
     "name": "stderr",
     "output_type": "stream",
     "text": [
      "100%|█████████████████████████████████████████| 169/169 [00:04<00:00, 37.87it/s]\n"
     ]
    },
    {
     "name": "stdout",
     "output_type": "stream",
     "text": [
      "Test Loss: 0.447 | Accuracy: 92.093\n",
      "Epoch : 16\n"
     ]
    },
    {
     "name": "stderr",
     "output_type": "stream",
     "text": [
      "100%|█████████████████████████████████████████| 675/675 [00:59<00:00, 11.30it/s]\n"
     ]
    },
    {
     "name": "stdout",
     "output_type": "stream",
     "text": [
      "Train Loss: 0.076 | Accuracy: 97.505\n"
     ]
    },
    {
     "name": "stderr",
     "output_type": "stream",
     "text": [
      "100%|█████████████████████████████████████████| 169/169 [00:04<00:00, 37.92it/s]\n"
     ]
    },
    {
     "name": "stdout",
     "output_type": "stream",
     "text": [
      "Test Loss: 0.141 | Accuracy: 96.111\n",
      "Epoch : 17\n"
     ]
    },
    {
     "name": "stderr",
     "output_type": "stream",
     "text": [
      "100%|█████████████████████████████████████████| 675/675 [00:59<00:00, 11.31it/s]\n"
     ]
    },
    {
     "name": "stdout",
     "output_type": "stream",
     "text": [
      "Train Loss: 0.064 | Accuracy: 97.875\n"
     ]
    },
    {
     "name": "stderr",
     "output_type": "stream",
     "text": [
      "100%|█████████████████████████████████████████| 169/169 [00:04<00:00, 37.39it/s]\n"
     ]
    },
    {
     "name": "stdout",
     "output_type": "stream",
     "text": [
      "Test Loss: 0.208 | Accuracy: 93.926\n",
      "Epoch : 18\n"
     ]
    },
    {
     "name": "stderr",
     "output_type": "stream",
     "text": [
      "100%|█████████████████████████████████████████| 675/675 [00:59<00:00, 11.27it/s]\n"
     ]
    },
    {
     "name": "stdout",
     "output_type": "stream",
     "text": [
      "Train Loss: 0.061 | Accuracy: 97.912\n"
     ]
    },
    {
     "name": "stderr",
     "output_type": "stream",
     "text": [
      "100%|█████████████████████████████████████████| 169/169 [00:04<00:00, 37.37it/s]\n"
     ]
    },
    {
     "name": "stdout",
     "output_type": "stream",
     "text": [
      "Test Loss: 0.162 | Accuracy: 95.537\n",
      "Epoch : 19\n"
     ]
    },
    {
     "name": "stderr",
     "output_type": "stream",
     "text": [
      "100%|█████████████████████████████████████████| 675/675 [00:59<00:00, 11.27it/s]\n"
     ]
    },
    {
     "name": "stdout",
     "output_type": "stream",
     "text": [
      "Train Loss: 0.058 | Accuracy: 97.968\n"
     ]
    },
    {
     "name": "stderr",
     "output_type": "stream",
     "text": [
      "100%|█████████████████████████████████████████| 169/169 [00:04<00:00, 37.93it/s]\n"
     ]
    },
    {
     "name": "stdout",
     "output_type": "stream",
     "text": [
      "Test Loss: 0.163 | Accuracy: 95.407\n",
      "Epoch : 20\n"
     ]
    },
    {
     "name": "stderr",
     "output_type": "stream",
     "text": [
      "100%|█████████████████████████████████████████| 675/675 [00:59<00:00, 11.32it/s]\n"
     ]
    },
    {
     "name": "stdout",
     "output_type": "stream",
     "text": [
      "Train Loss: 0.060 | Accuracy: 98.023\n"
     ]
    },
    {
     "name": "stderr",
     "output_type": "stream",
     "text": [
      "100%|█████████████████████████████████████████| 169/169 [00:04<00:00, 37.81it/s]\n"
     ]
    },
    {
     "name": "stdout",
     "output_type": "stream",
     "text": [
      "Test Loss: 0.172 | Accuracy: 95.093\n",
      "Epoch : 21\n"
     ]
    },
    {
     "name": "stderr",
     "output_type": "stream",
     "text": [
      "100%|█████████████████████████████████████████| 675/675 [00:59<00:00, 11.28it/s]\n"
     ]
    },
    {
     "name": "stdout",
     "output_type": "stream",
     "text": [
      "Train Loss: 0.043 | Accuracy: 98.542\n"
     ]
    },
    {
     "name": "stderr",
     "output_type": "stream",
     "text": [
      "100%|█████████████████████████████████████████| 169/169 [00:04<00:00, 37.35it/s]\n"
     ]
    },
    {
     "name": "stdout",
     "output_type": "stream",
     "text": [
      "Test Loss: 0.148 | Accuracy: 95.796\n",
      "Epoch : 22\n"
     ]
    },
    {
     "name": "stderr",
     "output_type": "stream",
     "text": [
      "100%|█████████████████████████████████████████| 675/675 [01:00<00:00, 11.13it/s]\n"
     ]
    },
    {
     "name": "stdout",
     "output_type": "stream",
     "text": [
      "Train Loss: 0.051 | Accuracy: 98.296\n"
     ]
    },
    {
     "name": "stderr",
     "output_type": "stream",
     "text": [
      "100%|█████████████████████████████████████████| 169/169 [00:04<00:00, 35.94it/s]\n"
     ]
    },
    {
     "name": "stdout",
     "output_type": "stream",
     "text": [
      "Test Loss: 0.205 | Accuracy: 94.593\n",
      "Epoch : 23\n"
     ]
    },
    {
     "name": "stderr",
     "output_type": "stream",
     "text": [
      "100%|█████████████████████████████████████████| 675/675 [00:59<00:00, 11.26it/s]\n"
     ]
    },
    {
     "name": "stdout",
     "output_type": "stream",
     "text": [
      "Train Loss: 0.038 | Accuracy: 98.625\n"
     ]
    },
    {
     "name": "stderr",
     "output_type": "stream",
     "text": [
      "100%|█████████████████████████████████████████| 169/169 [00:04<00:00, 37.09it/s]\n"
     ]
    },
    {
     "name": "stdout",
     "output_type": "stream",
     "text": [
      "Test Loss: 0.343 | Accuracy: 91.241\n",
      "Epoch : 24\n"
     ]
    },
    {
     "name": "stderr",
     "output_type": "stream",
     "text": [
      "100%|█████████████████████████████████████████| 675/675 [00:59<00:00, 11.26it/s]\n"
     ]
    },
    {
     "name": "stdout",
     "output_type": "stream",
     "text": [
      "Train Loss: 0.043 | Accuracy: 98.593\n"
     ]
    },
    {
     "name": "stderr",
     "output_type": "stream",
     "text": [
      "100%|█████████████████████████████████████████| 169/169 [00:04<00:00, 36.47it/s]\n"
     ]
    },
    {
     "name": "stdout",
     "output_type": "stream",
     "text": [
      "Test Loss: 0.129 | Accuracy: 96.556\n",
      "Epoch : 25\n"
     ]
    },
    {
     "name": "stderr",
     "output_type": "stream",
     "text": [
      "100%|█████████████████████████████████████████| 675/675 [01:00<00:00, 11.20it/s]\n"
     ]
    },
    {
     "name": "stdout",
     "output_type": "stream",
     "text": [
      "Train Loss: 0.037 | Accuracy: 98.755\n"
     ]
    },
    {
     "name": "stderr",
     "output_type": "stream",
     "text": [
      "100%|█████████████████████████████████████████| 169/169 [00:04<00:00, 37.43it/s]\n"
     ]
    },
    {
     "name": "stdout",
     "output_type": "stream",
     "text": [
      "Test Loss: 0.201 | Accuracy: 95.037\n",
      "Epoch : 26\n"
     ]
    },
    {
     "name": "stderr",
     "output_type": "stream",
     "text": [
      "100%|█████████████████████████████████████████| 675/675 [00:59<00:00, 11.27it/s]\n"
     ]
    },
    {
     "name": "stdout",
     "output_type": "stream",
     "text": [
      "Train Loss: 0.052 | Accuracy: 98.259\n"
     ]
    },
    {
     "name": "stderr",
     "output_type": "stream",
     "text": [
      "100%|█████████████████████████████████████████| 169/169 [00:04<00:00, 37.09it/s]\n"
     ]
    },
    {
     "name": "stdout",
     "output_type": "stream",
     "text": [
      "Test Loss: 0.229 | Accuracy: 94.315\n",
      "Epoch : 27\n"
     ]
    },
    {
     "name": "stderr",
     "output_type": "stream",
     "text": [
      "100%|█████████████████████████████████████████| 675/675 [01:00<00:00, 11.20it/s]\n"
     ]
    },
    {
     "name": "stdout",
     "output_type": "stream",
     "text": [
      "Train Loss: 0.044 | Accuracy: 98.551\n"
     ]
    },
    {
     "name": "stderr",
     "output_type": "stream",
     "text": [
      "100%|█████████████████████████████████████████| 169/169 [00:04<00:00, 37.72it/s]\n"
     ]
    },
    {
     "name": "stdout",
     "output_type": "stream",
     "text": [
      "Test Loss: 0.125 | Accuracy: 96.870\n",
      "Epoch : 28\n"
     ]
    },
    {
     "name": "stderr",
     "output_type": "stream",
     "text": [
      "100%|█████████████████████████████████████████| 675/675 [01:00<00:00, 11.24it/s]\n"
     ]
    },
    {
     "name": "stdout",
     "output_type": "stream",
     "text": [
      "Train Loss: 0.030 | Accuracy: 99.023\n"
     ]
    },
    {
     "name": "stderr",
     "output_type": "stream",
     "text": [
      "100%|█████████████████████████████████████████| 169/169 [00:04<00:00, 38.02it/s]\n"
     ]
    },
    {
     "name": "stdout",
     "output_type": "stream",
     "text": [
      "Test Loss: 0.235 | Accuracy: 93.796\n",
      "Epoch : 29\n"
     ]
    },
    {
     "name": "stderr",
     "output_type": "stream",
     "text": [
      "100%|█████████████████████████████████████████| 675/675 [00:59<00:00, 11.31it/s]\n"
     ]
    },
    {
     "name": "stdout",
     "output_type": "stream",
     "text": [
      "Train Loss: 0.035 | Accuracy: 98.856\n"
     ]
    },
    {
     "name": "stderr",
     "output_type": "stream",
     "text": [
      "100%|█████████████████████████████████████████| 169/169 [00:04<00:00, 37.57it/s]\n"
     ]
    },
    {
     "name": "stdout",
     "output_type": "stream",
     "text": [
      "Test Loss: 0.158 | Accuracy: 95.963\n",
      "Epoch : 30\n"
     ]
    },
    {
     "name": "stderr",
     "output_type": "stream",
     "text": [
      "100%|█████████████████████████████████████████| 675/675 [00:59<00:00, 11.28it/s]\n"
     ]
    },
    {
     "name": "stdout",
     "output_type": "stream",
     "text": [
      "Train Loss: 0.026 | Accuracy: 99.120\n"
     ]
    },
    {
     "name": "stderr",
     "output_type": "stream",
     "text": [
      "100%|█████████████████████████████████████████| 169/169 [00:04<00:00, 37.99it/s]"
     ]
    },
    {
     "name": "stdout",
     "output_type": "stream",
     "text": [
      "Test Loss: 0.147 | Accuracy: 96.630\n",
      "Training time: 1935.55 seconds\n"
     ]
    },
    {
     "name": "stderr",
     "output_type": "stream",
     "text": [
      "\n"
     ]
    }
   ],
   "source": [
    "import time\n",
    "epochs = 30\n",
    "\n",
    "# Start the timer\n",
    "\n",
    "start_time = time.time()\n",
    "for epoch in range(1,epochs+1): \n",
    "    train(epoch)\n",
    "    test(epoch)\n",
    "# End the timer\n",
    "end_time = time.time()\n",
    "\n",
    "# Calculate the training time\n",
    "training_time = end_time - start_time\n",
    "\n",
    "print('Training time: {:.2f} seconds'.format(training_time))\n"
   ]
  },
  {
   "cell_type": "code",
   "execution_count": 34,
   "id": "4731fc62-3985-4267-9e66-ee1bb22be53b",
   "metadata": {},
   "outputs": [],
   "source": [
    "import matplotlib.pyplot as plt\n"
   ]
  },
  {
   "cell_type": "code",
   "execution_count": 35,
   "id": "8ce0feeb-7111-4ed4-a173-10404b91fbbf",
   "metadata": {},
   "outputs": [
    {
     "data": {
      "image/png": "[encoded data removed]",
      "text/plain": [
       "<Figure size 432x288 with 1 Axes>"
      ]
     },
     "metadata": {
      "needs_background": "light"
     },
     "output_type": "display_data"
    }
   ],
   "source": [
    "#plot accuracy\n",
    "plt.plot(train_accu,'-o')\n",
    "plt.plot(eval_accu,'-o')\n",
    "plt.xlabel('epoch')\n",
    "plt.ylabel('accuracy')\n",
    "plt.legend(['Train','Valid'])\n",
    "plt.title('Train vs Valid Accuracy')\n",
    "\n",
    "plt.show()"
   ]
  },
  {
   "cell_type": "code",
   "execution_count": 36,
   "id": "bc1547b2-4d65-452a-a26a-abb8c6d8ed86",
   "metadata": {},
   "outputs": [
    {
     "data": {
      "image/png": "[encoded data removed]",
      "text/plain": [
       "<Figure size 432x288 with 1 Axes>"
      ]
     },
     "metadata": {
      "needs_background": "light"
     },
     "output_type": "display_data"
    }
   ],
   "source": [
    "#plot losses\n",
    "\n",
    "plt.plot(train_losses,'-o')\n",
    "plt.plot(eval_losses,'-o')\n",
    "plt.xlabel('epoch')\n",
    "plt.ylabel('losses')\n",
    "plt.legend(['Train','Valid'])\n",
    "plt.title('Train vs Valid Losses')\n",
    "\n",
    "plt.show()"
   ]
  },
  {
   "cell_type": "code",
   "execution_count": 37,
   "id": "51ad0014-9021-4cf2-9948-3493a72ccfcc",
   "metadata": {},
   "outputs": [
    {
     "name": "stderr",
     "output_type": "stream",
     "text": [
      "100%|█████████████████████████████████████████| 169/169 [00:04<00:00, 36.22it/s]"
     ]
    },
    {
     "name": "stdout",
     "output_type": "stream",
     "text": [
      "Precision:  0.9654977353412038\n",
      "Recall:  0.9651\n",
      "Confusion matrix:\n",
      " [[570   2   6   1   0  11  10   0   0   0]\n",
      " [  0 589   8   0   0   3   0   0   0   0]\n",
      " [  1   2 584   0   0   9   4   0   0   0]\n",
      " [  2   0   1 468   9   8   2   7   3   0]\n",
      " [  0   0   0   0 483   0   0  17   0   0]\n",
      " [  5   1   7   0   0 382   5   0   0   0]\n",
      " [  8   0  18   2   0   1 470   0   1   0]\n",
      " [  0   0   1   0   5   0   6 588   0   0]\n",
      " [  3   1   1   4   0   2   0   1 487   1]\n",
      " [  0   0   0   0   0   0   0   0   3 597]]\n",
      "Report:\n",
      "               precision    recall  f1-score   support\n",
      "\n",
      "         0.0       0.97      0.95      0.96       600\n",
      "         1.0       0.99      0.98      0.99       600\n",
      "         2.0       0.93      0.97      0.95       600\n",
      "         3.0       0.99      0.94      0.96       500\n",
      "         4.0       0.97      0.97      0.97       500\n",
      "         5.0       0.92      0.95      0.94       400\n",
      "         6.0       0.95      0.94      0.94       500\n",
      "         7.0       0.96      0.98      0.97       600\n",
      "         8.0       0.99      0.97      0.98       500\n",
      "         9.0       1.00      0.99      1.00       600\n",
      "\n",
      "    accuracy                           0.97      5400\n",
      "   macro avg       0.97      0.97      0.97      5400\n",
      "weighted avg       0.97      0.97      0.97      5400\n",
      "\n"
     ]
    },
    {
     "name": "stderr",
     "output_type": "stream",
     "text": [
      "\n"
     ]
    }
   ],
   "source": [
    "from sklearn.metrics import confusion_matrix ,classification_report, precision_score, recall_score\n",
    "\n",
    "# testing\n",
    "ttloss = []\n",
    "ttacc = []\n",
    "ttf1 = []\n",
    "\n",
    "T_val = []\n",
    "P_val = []\n",
    "\n",
    "with torch.no_grad():\n",
    "    model.eval()\n",
    "    for (X_val, y_val) in tqdm(test_loader):\n",
    "        X_val = X_val.float().cuda()\n",
    "        y_val = y_val.float().cuda()\n",
    "        #X_val, y_val = X_val.to(device), y_val.to(device)\n",
    "        #y_val = y_val.type(torch.cuda.LongTensor)\n",
    "        \n",
    "        output = model(X_val)\n",
    "        #print(output.shape)\n",
    "        \n",
    "        outputs = torch.max(output, dim=1)[1]\n",
    "        #print(outputs.shape)\n",
    "        T_val.extend(y_val.cpu().numpy())\n",
    "        #print(T_val)\n",
    "        P_val.extend(outputs.cpu().numpy())\n",
    "    #print(T_val)\n",
    "    #print(P_val)\n",
    "    precision = precision_score(T_val, P_val, average='macro')\n",
    "    recall = recall_score(T_val, P_val, average='macro')\n",
    "    res = confusion_matrix(T_val, P_val)\n",
    "    report = classification_report(T_val, P_val)\n",
    "    \n",
    "    print(\"Precision: \",precision)\n",
    "    print(\"Recall: \",recall)\n",
    "\n",
    "    print('Confusion matrix:\\n',res)\n",
    "    print('Report:\\n',report)"
   ]
  },
  {
   "cell_type": "code",
   "execution_count": null,
   "id": "56eaf239-272c-46cb-9c27-a13428a2e608",
   "metadata": {},
   "outputs": [],
   "source": []
  }
 ],
 "metadata": {
  "kernelspec": {
   "display_name": "Python 3 (ipykernel)",
   "language": "python",
   "name": "python3"
  },
  "language_info": {
   "codemirror_mode": {
    "name": "ipython",
    "version": 3
   },
   "file_extension": ".py",
   "mimetype": "text/x-python",
   "name": "python",
   "nbconvert_exporter": "python",
   "pygments_lexer": "ipython3",
   "version": "3.8.12"
  }
 },
 "nbformat": 4,
 "nbformat_minor": 5
}
