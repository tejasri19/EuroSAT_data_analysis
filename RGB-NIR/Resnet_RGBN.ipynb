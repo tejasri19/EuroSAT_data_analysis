{
 "cells": [
  {
   "cell_type": "code",
   "execution_count": 42,
   "id": "57d5a36a-2565-4b60-9c03-a6c3e6131f29",
   "metadata": {},
   "outputs": [],
   "source": [
    "import torch\n",
    "from torch.utils.data import Dataset, DataLoader\n",
    "import numpy as np\n",
    "from sklearn.model_selection import train_test_split\n",
    "from sklearn.metrics import accuracy_score\n",
    "from torchsummary import summary\n",
    "from transformers import ViTModel, ViTConfig, ViTForImageClassification\n",
    "\n",
    "# set the path to the directory containing the npy files\n",
    "data_dir = '/home/tejasri/Desktop/eurosat-ms/rgbnir-npy'\n",
    "\n",
    "# set the path to save the trained model\n",
    "model_path = '/home/tejasri/Desktop/eurosat-ms/'\n",
    "\n",
    "# load the X and y data for each class\n",
    "X = []\n",
    "y = []\n",
    "for i in range(10):\n",
    "    X_i = np.load(f'{data_dir}/X{i}.npy')\n",
    "    y_i = np.load(f'{data_dir}/y{i}.npy')\n",
    "    X.append(X_i)\n",
    "    y.append(y_i)\n",
    "\n",
    "# concatenate the X and y data for all classes\n",
    "X = np.concatenate(X, axis=0)\n",
    "y = np.concatenate(y, axis=0)\n",
    "\n",
    "\n",
    "\n"
   ]
  },
  {
   "cell_type": "code",
   "execution_count": 43,
   "id": "9f0d9114-348c-4958-b196-8aeb79ccb575",
   "metadata": {},
   "outputs": [
    {
     "name": "stdout",
     "output_type": "stream",
     "text": [
      "(27000, 64, 64, 4)\n",
      "(27000, 4, 64, 64)\n",
      "(4, 64, 64)\n"
     ]
    }
   ],
   "source": [
    "import einops\n",
    "print(X.shape)\n",
    "\n",
    "\n",
    "X = einops.rearrange(X, 'b h w c -> b c h w')\n",
    "              \n",
    "print(X.shape)\n",
    "\n",
    "print(X[0].shape)\n"
   ]
  },
  {
   "cell_type": "code",
   "execution_count": 44,
   "id": "ed07b7c0-916c-4f81-a19c-61b6532c4b4d",
   "metadata": {},
   "outputs": [],
   "source": [
    "from sklearn.model_selection import StratifiedShuffleSplit\n",
    "\n",
    "\n",
    "# split the data into training and testing sets\n",
    "split = StratifiedShuffleSplit(n_splits=1, test_size=0.2, random_state=42)\n",
    "#X_train, X_test, y_train, y_test = train_test_split(X, y, test_size=0.2, random_state=42)\n",
    "\n",
    "\n",
    "# split the data\n",
    "for train_idx, test_idx in split.split(X, y):\n",
    "    X_train, X_test = X[train_idx], X[test_idx]\n",
    "    y_train, y_test = y[train_idx], y[test_idx]"
   ]
  },
  {
   "cell_type": "code",
   "execution_count": 45,
   "id": "67bf27c9-5f74-467c-afce-558e06dbabc1",
   "metadata": {},
   "outputs": [
    {
     "name": "stdout",
     "output_type": "stream",
     "text": [
      "cuda\n"
     ]
    }
   ],
   "source": [
    "# define a custom dataset class for the EuroSAT multispectral data\n",
    "class EuroSATDataset(Dataset):\n",
    "    def __init__(self, X, y):\n",
    "        self.X = X\n",
    "        self.y = y\n",
    "\n",
    "    def __len__(self):\n",
    "        return len(self.X)\n",
    "\n",
    "    def __getitem__(self, idx):\n",
    "        return self.X[idx], self.y[idx]\n",
    "\n",
    "# create data loaders for the training and testing sets\n",
    "train_dataset = EuroSATDataset(X_train, y_train)\n",
    "train_loader = DataLoader(train_dataset, batch_size=32, shuffle=True)\n",
    "test_dataset = EuroSATDataset(X_test, y_test)\n",
    "test_loader = DataLoader(test_dataset, batch_size=32, shuffle=False)\n",
    "\n",
    "# set the device to use for training and testing\n",
    "device = torch.device('cuda' if torch.cuda.is_available() else 'cpu')\n",
    "print(device)"
   ]
  },
  {
   "cell_type": "code",
   "execution_count": 46,
   "id": "b9fc1721-d7a9-4b10-aca0-b262843dcdb9",
   "metadata": {},
   "outputs": [
    {
     "name": "stdout",
     "output_type": "stream",
     "text": [
      "675\n"
     ]
    }
   ],
   "source": [
    "print(len(train_loader))"
   ]
  },
  {
   "cell_type": "code",
   "execution_count": 47,
   "id": "a3ab79b9-fa9d-462f-ba43-9c6413222053",
   "metadata": {},
   "outputs": [
    {
     "name": "stdout",
     "output_type": "stream",
     "text": [
      "169\n"
     ]
    }
   ],
   "source": [
    "print(len(test_loader))"
   ]
  },
  {
   "cell_type": "code",
   "execution_count": 48,
   "id": "a2013eea-313c-4906-b711-2b8df641bceb",
   "metadata": {},
   "outputs": [],
   "source": [
    "import torchvision.models as models\n",
    "import torch.nn as nn\n",
    "import torch.optim as optim"
   ]
  },
  {
   "cell_type": "markdown",
   "id": "39608e55-a09f-49bd-8190-4f387a7d1c59",
   "metadata": {},
   "source": [
    "# Running resnet50 model"
   ]
  },
  {
   "cell_type": "code",
   "execution_count": 8,
   "id": "c46f1a33-b5e5-48ce-bcf2-48c1c002b1d9",
   "metadata": {},
   "outputs": [
    {
     "data": {
      "text/plain": [
       "CrossEntropyLoss()"
      ]
     },
     "execution_count": 8,
     "metadata": {},
     "output_type": "execute_result"
    }
   ],
   "source": [
    "# Define the ResNet-50 model\n",
    "model = models.resnet50(pretrained=False)\n",
    "num_classes = 10\n",
    "model.fc = nn.Linear(2048, num_classes)\n",
    "\n",
    "# Modify the first convolution layer to accept 5-channel input\n",
    "model.conv1 = nn.Conv2d(4, 64, kernel_size=7, stride=2, padding=3, bias=False)\n",
    "\n",
    "# Define the loss function and optimizer\n",
    "criterion = nn.CrossEntropyLoss()\n",
    "optimizer = optim.Adam(model.parameters(), lr=0.001)\n",
    "\n",
    "# Move the model and loss function to the device\n",
    "model.to(device)\n",
    "criterion.to(device)"
   ]
  },
  {
   "cell_type": "code",
   "execution_count": 10,
   "id": "e112cf55-598c-4c77-ae0d-9980ef8a7d35",
   "metadata": {},
   "outputs": [
    {
     "name": "stdout",
     "output_type": "stream",
     "text": [
      "----------------------------------------------------------------\n",
      "        Layer (type)               Output Shape         Param #\n",
      "================================================================\n",
      "            Conv2d-1           [-1, 64, 32, 32]          12,544\n",
      "       BatchNorm2d-2           [-1, 64, 32, 32]             128\n",
      "              ReLU-3           [-1, 64, 32, 32]               0\n",
      "         MaxPool2d-4           [-1, 64, 16, 16]               0\n",
      "            Conv2d-5           [-1, 64, 16, 16]           4,096\n",
      "       BatchNorm2d-6           [-1, 64, 16, 16]             128\n",
      "              ReLU-7           [-1, 64, 16, 16]               0\n",
      "            Conv2d-8           [-1, 64, 16, 16]          36,864\n",
      "       BatchNorm2d-9           [-1, 64, 16, 16]             128\n",
      "             ReLU-10           [-1, 64, 16, 16]               0\n",
      "           Conv2d-11          [-1, 256, 16, 16]          16,384\n",
      "      BatchNorm2d-12          [-1, 256, 16, 16]             512\n",
      "           Conv2d-13          [-1, 256, 16, 16]          16,384\n",
      "      BatchNorm2d-14          [-1, 256, 16, 16]             512\n",
      "             ReLU-15          [-1, 256, 16, 16]               0\n",
      "       Bottleneck-16          [-1, 256, 16, 16]               0\n",
      "           Conv2d-17           [-1, 64, 16, 16]          16,384\n",
      "      BatchNorm2d-18           [-1, 64, 16, 16]             128\n",
      "             ReLU-19           [-1, 64, 16, 16]               0\n",
      "           Conv2d-20           [-1, 64, 16, 16]          36,864\n",
      "      BatchNorm2d-21           [-1, 64, 16, 16]             128\n",
      "             ReLU-22           [-1, 64, 16, 16]               0\n",
      "           Conv2d-23          [-1, 256, 16, 16]          16,384\n",
      "      BatchNorm2d-24          [-1, 256, 16, 16]             512\n",
      "             ReLU-25          [-1, 256, 16, 16]               0\n",
      "       Bottleneck-26          [-1, 256, 16, 16]               0\n",
      "           Conv2d-27           [-1, 64, 16, 16]          16,384\n",
      "      BatchNorm2d-28           [-1, 64, 16, 16]             128\n",
      "             ReLU-29           [-1, 64, 16, 16]               0\n",
      "           Conv2d-30           [-1, 64, 16, 16]          36,864\n",
      "      BatchNorm2d-31           [-1, 64, 16, 16]             128\n",
      "             ReLU-32           [-1, 64, 16, 16]               0\n",
      "           Conv2d-33          [-1, 256, 16, 16]          16,384\n",
      "      BatchNorm2d-34          [-1, 256, 16, 16]             512\n",
      "             ReLU-35          [-1, 256, 16, 16]               0\n",
      "       Bottleneck-36          [-1, 256, 16, 16]               0\n",
      "           Conv2d-37          [-1, 128, 16, 16]          32,768\n",
      "      BatchNorm2d-38          [-1, 128, 16, 16]             256\n",
      "             ReLU-39          [-1, 128, 16, 16]               0\n",
      "           Conv2d-40            [-1, 128, 8, 8]         147,456\n",
      "      BatchNorm2d-41            [-1, 128, 8, 8]             256\n",
      "             ReLU-42            [-1, 128, 8, 8]               0\n",
      "           Conv2d-43            [-1, 512, 8, 8]          65,536\n",
      "      BatchNorm2d-44            [-1, 512, 8, 8]           1,024\n",
      "           Conv2d-45            [-1, 512, 8, 8]         131,072\n",
      "      BatchNorm2d-46            [-1, 512, 8, 8]           1,024\n",
      "             ReLU-47            [-1, 512, 8, 8]               0\n",
      "       Bottleneck-48            [-1, 512, 8, 8]               0\n",
      "           Conv2d-49            [-1, 128, 8, 8]          65,536\n",
      "      BatchNorm2d-50            [-1, 128, 8, 8]             256\n",
      "             ReLU-51            [-1, 128, 8, 8]               0\n",
      "           Conv2d-52            [-1, 128, 8, 8]         147,456\n",
      "      BatchNorm2d-53            [-1, 128, 8, 8]             256\n",
      "             ReLU-54            [-1, 128, 8, 8]               0\n",
      "           Conv2d-55            [-1, 512, 8, 8]          65,536\n",
      "      BatchNorm2d-56            [-1, 512, 8, 8]           1,024\n",
      "             ReLU-57            [-1, 512, 8, 8]               0\n",
      "       Bottleneck-58            [-1, 512, 8, 8]               0\n",
      "           Conv2d-59            [-1, 128, 8, 8]          65,536\n",
      "      BatchNorm2d-60            [-1, 128, 8, 8]             256\n",
      "             ReLU-61            [-1, 128, 8, 8]               0\n",
      "           Conv2d-62            [-1, 128, 8, 8]         147,456\n",
      "      BatchNorm2d-63            [-1, 128, 8, 8]             256\n",
      "             ReLU-64            [-1, 128, 8, 8]               0\n",
      "           Conv2d-65            [-1, 512, 8, 8]          65,536\n",
      "      BatchNorm2d-66            [-1, 512, 8, 8]           1,024\n",
      "             ReLU-67            [-1, 512, 8, 8]               0\n",
      "       Bottleneck-68            [-1, 512, 8, 8]               0\n",
      "           Conv2d-69            [-1, 128, 8, 8]          65,536\n",
      "      BatchNorm2d-70            [-1, 128, 8, 8]             256\n",
      "             ReLU-71            [-1, 128, 8, 8]               0\n",
      "           Conv2d-72            [-1, 128, 8, 8]         147,456\n",
      "      BatchNorm2d-73            [-1, 128, 8, 8]             256\n",
      "             ReLU-74            [-1, 128, 8, 8]               0\n",
      "           Conv2d-75            [-1, 512, 8, 8]          65,536\n",
      "      BatchNorm2d-76            [-1, 512, 8, 8]           1,024\n",
      "             ReLU-77            [-1, 512, 8, 8]               0\n",
      "       Bottleneck-78            [-1, 512, 8, 8]               0\n",
      "           Conv2d-79            [-1, 256, 8, 8]         131,072\n",
      "      BatchNorm2d-80            [-1, 256, 8, 8]             512\n",
      "             ReLU-81            [-1, 256, 8, 8]               0\n",
      "           Conv2d-82            [-1, 256, 4, 4]         589,824\n",
      "      BatchNorm2d-83            [-1, 256, 4, 4]             512\n",
      "             ReLU-84            [-1, 256, 4, 4]               0\n",
      "           Conv2d-85           [-1, 1024, 4, 4]         262,144\n",
      "      BatchNorm2d-86           [-1, 1024, 4, 4]           2,048\n",
      "           Conv2d-87           [-1, 1024, 4, 4]         524,288\n",
      "      BatchNorm2d-88           [-1, 1024, 4, 4]           2,048\n",
      "             ReLU-89           [-1, 1024, 4, 4]               0\n",
      "       Bottleneck-90           [-1, 1024, 4, 4]               0\n",
      "           Conv2d-91            [-1, 256, 4, 4]         262,144\n",
      "      BatchNorm2d-92            [-1, 256, 4, 4]             512\n",
      "             ReLU-93            [-1, 256, 4, 4]               0\n",
      "           Conv2d-94            [-1, 256, 4, 4]         589,824\n",
      "      BatchNorm2d-95            [-1, 256, 4, 4]             512\n",
      "             ReLU-96            [-1, 256, 4, 4]               0\n",
      "           Conv2d-97           [-1, 1024, 4, 4]         262,144\n",
      "      BatchNorm2d-98           [-1, 1024, 4, 4]           2,048\n",
      "             ReLU-99           [-1, 1024, 4, 4]               0\n",
      "      Bottleneck-100           [-1, 1024, 4, 4]               0\n",
      "          Conv2d-101            [-1, 256, 4, 4]         262,144\n",
      "     BatchNorm2d-102            [-1, 256, 4, 4]             512\n",
      "            ReLU-103            [-1, 256, 4, 4]               0\n",
      "          Conv2d-104            [-1, 256, 4, 4]         589,824\n",
      "     BatchNorm2d-105            [-1, 256, 4, 4]             512\n",
      "            ReLU-106            [-1, 256, 4, 4]               0\n",
      "          Conv2d-107           [-1, 1024, 4, 4]         262,144\n",
      "     BatchNorm2d-108           [-1, 1024, 4, 4]           2,048\n",
      "            ReLU-109           [-1, 1024, 4, 4]               0\n",
      "      Bottleneck-110           [-1, 1024, 4, 4]               0\n",
      "          Conv2d-111            [-1, 256, 4, 4]         262,144\n",
      "     BatchNorm2d-112            [-1, 256, 4, 4]             512\n",
      "            ReLU-113            [-1, 256, 4, 4]               0\n",
      "          Conv2d-114            [-1, 256, 4, 4]         589,824\n",
      "     BatchNorm2d-115            [-1, 256, 4, 4]             512\n",
      "            ReLU-116            [-1, 256, 4, 4]               0\n",
      "          Conv2d-117           [-1, 1024, 4, 4]         262,144\n",
      "     BatchNorm2d-118           [-1, 1024, 4, 4]           2,048\n",
      "            ReLU-119           [-1, 1024, 4, 4]               0\n",
      "      Bottleneck-120           [-1, 1024, 4, 4]               0\n",
      "          Conv2d-121            [-1, 256, 4, 4]         262,144\n",
      "     BatchNorm2d-122            [-1, 256, 4, 4]             512\n",
      "            ReLU-123            [-1, 256, 4, 4]               0\n",
      "          Conv2d-124            [-1, 256, 4, 4]         589,824\n",
      "     BatchNorm2d-125            [-1, 256, 4, 4]             512\n",
      "            ReLU-126            [-1, 256, 4, 4]               0\n",
      "          Conv2d-127           [-1, 1024, 4, 4]         262,144\n",
      "     BatchNorm2d-128           [-1, 1024, 4, 4]           2,048\n",
      "            ReLU-129           [-1, 1024, 4, 4]               0\n",
      "      Bottleneck-130           [-1, 1024, 4, 4]               0\n",
      "          Conv2d-131            [-1, 256, 4, 4]         262,144\n",
      "     BatchNorm2d-132            [-1, 256, 4, 4]             512\n",
      "            ReLU-133            [-1, 256, 4, 4]               0\n",
      "          Conv2d-134            [-1, 256, 4, 4]         589,824\n",
      "     BatchNorm2d-135            [-1, 256, 4, 4]             512\n",
      "            ReLU-136            [-1, 256, 4, 4]               0\n",
      "          Conv2d-137           [-1, 1024, 4, 4]         262,144\n",
      "     BatchNorm2d-138           [-1, 1024, 4, 4]           2,048\n",
      "            ReLU-139           [-1, 1024, 4, 4]               0\n",
      "      Bottleneck-140           [-1, 1024, 4, 4]               0\n",
      "          Conv2d-141            [-1, 512, 4, 4]         524,288\n",
      "     BatchNorm2d-142            [-1, 512, 4, 4]           1,024\n",
      "            ReLU-143            [-1, 512, 4, 4]               0\n",
      "          Conv2d-144            [-1, 512, 2, 2]       2,359,296\n",
      "     BatchNorm2d-145            [-1, 512, 2, 2]           1,024\n",
      "            ReLU-146            [-1, 512, 2, 2]               0\n",
      "          Conv2d-147           [-1, 2048, 2, 2]       1,048,576\n",
      "     BatchNorm2d-148           [-1, 2048, 2, 2]           4,096\n",
      "          Conv2d-149           [-1, 2048, 2, 2]       2,097,152\n",
      "     BatchNorm2d-150           [-1, 2048, 2, 2]           4,096\n",
      "            ReLU-151           [-1, 2048, 2, 2]               0\n",
      "      Bottleneck-152           [-1, 2048, 2, 2]               0\n",
      "          Conv2d-153            [-1, 512, 2, 2]       1,048,576\n",
      "     BatchNorm2d-154            [-1, 512, 2, 2]           1,024\n",
      "            ReLU-155            [-1, 512, 2, 2]               0\n",
      "          Conv2d-156            [-1, 512, 2, 2]       2,359,296\n",
      "     BatchNorm2d-157            [-1, 512, 2, 2]           1,024\n",
      "            ReLU-158            [-1, 512, 2, 2]               0\n",
      "          Conv2d-159           [-1, 2048, 2, 2]       1,048,576\n",
      "     BatchNorm2d-160           [-1, 2048, 2, 2]           4,096\n",
      "            ReLU-161           [-1, 2048, 2, 2]               0\n",
      "      Bottleneck-162           [-1, 2048, 2, 2]               0\n",
      "          Conv2d-163            [-1, 512, 2, 2]       1,048,576\n",
      "     BatchNorm2d-164            [-1, 512, 2, 2]           1,024\n",
      "            ReLU-165            [-1, 512, 2, 2]               0\n",
      "          Conv2d-166            [-1, 512, 2, 2]       2,359,296\n",
      "     BatchNorm2d-167            [-1, 512, 2, 2]           1,024\n",
      "            ReLU-168            [-1, 512, 2, 2]               0\n",
      "          Conv2d-169           [-1, 2048, 2, 2]       1,048,576\n",
      "     BatchNorm2d-170           [-1, 2048, 2, 2]           4,096\n",
      "            ReLU-171           [-1, 2048, 2, 2]               0\n",
      "      Bottleneck-172           [-1, 2048, 2, 2]               0\n",
      "AdaptiveAvgPool2d-173           [-1, 2048, 1, 1]               0\n",
      "          Linear-174                   [-1, 10]          20,490\n",
      "================================================================\n",
      "Total params: 23,531,658\n",
      "Trainable params: 23,531,658\n",
      "Non-trainable params: 0\n",
      "----------------------------------------------------------------\n",
      "Input size (MB): 0.06\n",
      "Forward/backward pass size (MB): 23.41\n",
      "Params size (MB): 89.77\n",
      "Estimated Total Size (MB): 113.23\n",
      "----------------------------------------------------------------\n"
     ]
    }
   ],
   "source": [
    "import torchsummary\n",
    "\n",
    "# Print the model summary\n",
    "torchsummary.summary(model.to(device), input_size=(4, 64, 64))"
   ]
  },
  {
   "cell_type": "code",
   "execution_count": 11,
   "id": "bf018ac8-e261-400f-834b-1538ddc84b01",
   "metadata": {},
   "outputs": [],
   "source": [
    "train_losses = []\n",
    "train_accu = []\n",
    "\n",
    "def train(epoch):\n",
    "    print('Epoch : %d'%epoch)\n",
    "    \n",
    "    model.train()\n",
    "    running_loss=0\n",
    "    correct=0\n",
    "    total=0\n",
    "\n",
    "    for images, labels in tqdm(train_loader):\n",
    "        \n",
    "        images = images.float().cuda()\n",
    "        labels = labels.float().cuda()\n",
    "        #print(images.size())\n",
    "        #print(labels.size())\n",
    "        # Forward pass\n",
    "        #model = model.cuda()\n",
    "        outputs = model(images)\n",
    "        labels1= np.zeros((32,10))\n",
    "        \n",
    "        #labels1 = tensor.detach().cpu().numpy()\n",
    "        for j in range(32):\n",
    "            i=labels[j]\n",
    "            i=int(i.item())\n",
    "            # print(i)\n",
    "            labels1[j][i]=1\n",
    "        labels1=torch.from_numpy(labels1)\n",
    "        #print(labels1.size())\n",
    "        labels1=labels1.to(device='cuda')\n",
    "        loss = criterion(outputs, labels1)\n",
    "        \n",
    "        \n",
    "       # Backward and optimize\n",
    "        optimizer.zero_grad()\n",
    "        loss.backward()\n",
    "        optimizer.step()\n",
    "    \n",
    "        \n",
    "    #Replaces pow(2.0) with abs() for L1 regularization\n",
    "    \n",
    "#     l2_lambda = 0.001\n",
    "#     l2_norm = sum(p.pow(2.0).sum()\n",
    "#                   for p in model.parameters())\n",
    "\n",
    "#     loss = loss + l2_lambda * l2_norm\n",
    "    \n",
    "        \n",
    "        running_loss += loss.item()\n",
    "    \n",
    "        _, predicted = outputs.max(1)\n",
    "        total += labels.size(0)\n",
    "        correct += predicted.eq(labels).sum().item()\n",
    "      \n",
    "    train_loss=running_loss/len(train_loader)\n",
    "    accu=100.*correct/total\n",
    "  \n",
    "    train_accu.append(accu)\n",
    "    train_losses.append(train_loss)\n",
    "    print('Train Loss: %.3f | Accuracy: %.3f'%(train_loss,accu))\n",
    "    "
   ]
  },
  {
   "cell_type": "code",
   "execution_count": 12,
   "id": "db4b1292-e4d4-478f-b4b3-c0aadcc1e5a2",
   "metadata": {},
   "outputs": [],
   "source": [
    "eval_losses=[]\n",
    "eval_accu=[]\n",
    "\n",
    "def test(epoch):\n",
    "    model.eval()\n",
    "\n",
    "    running_loss=0\n",
    "    correct=0\n",
    "    total=0\n",
    "    #print(test_loader)\n",
    "    with torch.no_grad():\n",
    "        for images, labels in tqdm(test_loader):\n",
    "            \n",
    "            #images = images.to(device='cuda', dtype=torch.float)\n",
    "            images = images.float().cuda()\n",
    "            labels = labels.float().cuda()\n",
    "            #labels = labels.to(device='cuda', dtype=torch.float)\n",
    "            \n",
    "            # Predict classes using the model\n",
    "            outputs = model(images)\n",
    "            #print(labels.size())\n",
    "            t,y=outputs.shape\n",
    "            # print(t)\n",
    "            labels1= np.zeros((t,10))\n",
    "            for j in range(t):\n",
    "                i=labels[j]\n",
    "                i=int(i.item())\n",
    "                labels1[j][i]=1\n",
    "            labels1=torch.from_numpy(labels1)\n",
    "            #print(labels1.size())\n",
    "            labels1=labels1.to(device='cuda')\n",
    "            #outputs=outputs.tensor()\n",
    "            loss= criterion(outputs,labels1)\n",
    "            running_loss+=loss.item()\n",
    "            \n",
    "            \n",
    "           # Compute accuracy\n",
    "            _, predicted = torch.max(outputs.data, 1)\n",
    "            total += labels.size(0)\n",
    "            correct += (predicted == labels).sum().item()\n",
    "            \n",
    "    test_loss=running_loss/len(test_loader)\n",
    "    accu=100.*correct/total\n",
    "\n",
    "    eval_losses.append(test_loss)\n",
    "    eval_accu.append(accu)\n",
    "\n",
    "    print('Test Loss: %.3f | Accuracy: %.3f'%(test_loss,accu)) \n",
    "    "
   ]
  },
  {
   "cell_type": "code",
   "execution_count": 13,
   "id": "a28a32db-d9a8-421b-be09-12b386962e0e",
   "metadata": {},
   "outputs": [],
   "source": [
    "from tqdm import tqdm"
   ]
  },
  {
   "cell_type": "code",
   "execution_count": 14,
   "id": "485e3cb9-8bc0-4c1b-ba98-7c5818111337",
   "metadata": {},
   "outputs": [
    {
     "name": "stdout",
     "output_type": "stream",
     "text": [
      "Epoch : 1\n"
     ]
    },
    {
     "name": "stderr",
     "output_type": "stream",
     "text": [
      "100%|█████████████████████████████████████████| 675/675 [00:24<00:00, 27.76it/s]\n"
     ]
    },
    {
     "name": "stdout",
     "output_type": "stream",
     "text": [
      "Train Loss: 1.116 | Accuracy: 64.602\n"
     ]
    },
    {
     "name": "stderr",
     "output_type": "stream",
     "text": [
      "100%|█████████████████████████████████████████| 169/169 [00:01<00:00, 95.33it/s]\n"
     ]
    },
    {
     "name": "stdout",
     "output_type": "stream",
     "text": [
      "Test Loss: 0.912 | Accuracy: 68.333\n",
      "Epoch : 2\n"
     ]
    },
    {
     "name": "stderr",
     "output_type": "stream",
     "text": [
      "100%|█████████████████████████████████████████| 675/675 [00:24<00:00, 27.96it/s]\n"
     ]
    },
    {
     "name": "stdout",
     "output_type": "stream",
     "text": [
      "Train Loss: 0.780 | Accuracy: 74.583\n"
     ]
    },
    {
     "name": "stderr",
     "output_type": "stream",
     "text": [
      "100%|█████████████████████████████████████████| 169/169 [00:01<00:00, 99.89it/s]\n"
     ]
    },
    {
     "name": "stdout",
     "output_type": "stream",
     "text": [
      "Test Loss: 1.133 | Accuracy: 75.315\n",
      "Epoch : 3\n"
     ]
    },
    {
     "name": "stderr",
     "output_type": "stream",
     "text": [
      "100%|█████████████████████████████████████████| 675/675 [00:24<00:00, 27.94it/s]\n"
     ]
    },
    {
     "name": "stdout",
     "output_type": "stream",
     "text": [
      "Train Loss: 0.679 | Accuracy: 77.269\n"
     ]
    },
    {
     "name": "stderr",
     "output_type": "stream",
     "text": [
      "100%|█████████████████████████████████████████| 169/169 [00:01<00:00, 96.91it/s]\n"
     ]
    },
    {
     "name": "stdout",
     "output_type": "stream",
     "text": [
      "Test Loss: 0.834 | Accuracy: 76.185\n",
      "Epoch : 4\n"
     ]
    },
    {
     "name": "stderr",
     "output_type": "stream",
     "text": [
      "100%|█████████████████████████████████████████| 675/675 [00:24<00:00, 27.84it/s]\n"
     ]
    },
    {
     "name": "stdout",
     "output_type": "stream",
     "text": [
      "Train Loss: 0.596 | Accuracy: 79.926\n"
     ]
    },
    {
     "name": "stderr",
     "output_type": "stream",
     "text": [
      "100%|█████████████████████████████████████████| 169/169 [00:01<00:00, 95.91it/s]\n"
     ]
    },
    {
     "name": "stdout",
     "output_type": "stream",
     "text": [
      "Test Loss: 0.980 | Accuracy: 69.611\n",
      "Epoch : 5\n"
     ]
    },
    {
     "name": "stderr",
     "output_type": "stream",
     "text": [
      "100%|█████████████████████████████████████████| 675/675 [00:24<00:00, 27.90it/s]\n"
     ]
    },
    {
     "name": "stdout",
     "output_type": "stream",
     "text": [
      "Train Loss: 0.454 | Accuracy: 84.366\n"
     ]
    },
    {
     "name": "stderr",
     "output_type": "stream",
     "text": [
      "100%|█████████████████████████████████████████| 169/169 [00:01<00:00, 98.99it/s]\n"
     ]
    },
    {
     "name": "stdout",
     "output_type": "stream",
     "text": [
      "Test Loss: 0.654 | Accuracy: 76.796\n",
      "Epoch : 6\n"
     ]
    },
    {
     "name": "stderr",
     "output_type": "stream",
     "text": [
      "100%|█████████████████████████████████████████| 675/675 [00:24<00:00, 27.77it/s]\n"
     ]
    },
    {
     "name": "stdout",
     "output_type": "stream",
     "text": [
      "Train Loss: 0.520 | Accuracy: 83.310\n"
     ]
    },
    {
     "name": "stderr",
     "output_type": "stream",
     "text": [
      "100%|█████████████████████████████████████████| 169/169 [00:01<00:00, 96.28it/s]\n"
     ]
    },
    {
     "name": "stdout",
     "output_type": "stream",
     "text": [
      "Test Loss: 0.630 | Accuracy: 82.074\n",
      "Epoch : 7\n"
     ]
    },
    {
     "name": "stderr",
     "output_type": "stream",
     "text": [
      "100%|█████████████████████████████████████████| 675/675 [00:24<00:00, 27.84it/s]\n"
     ]
    },
    {
     "name": "stdout",
     "output_type": "stream",
     "text": [
      "Train Loss: 0.441 | Accuracy: 84.884\n"
     ]
    },
    {
     "name": "stderr",
     "output_type": "stream",
     "text": [
      "100%|█████████████████████████████████████████| 169/169 [00:01<00:00, 94.97it/s]\n"
     ]
    },
    {
     "name": "stdout",
     "output_type": "stream",
     "text": [
      "Test Loss: 1.046 | Accuracy: 71.537\n",
      "Epoch : 8\n"
     ]
    },
    {
     "name": "stderr",
     "output_type": "stream",
     "text": [
      "100%|█████████████████████████████████████████| 675/675 [00:24<00:00, 27.78it/s]\n"
     ]
    },
    {
     "name": "stdout",
     "output_type": "stream",
     "text": [
      "Train Loss: 0.423 | Accuracy: 85.907\n"
     ]
    },
    {
     "name": "stderr",
     "output_type": "stream",
     "text": [
      "100%|█████████████████████████████████████████| 169/169 [00:01<00:00, 98.95it/s]\n"
     ]
    },
    {
     "name": "stdout",
     "output_type": "stream",
     "text": [
      "Test Loss: 0.639 | Accuracy: 78.019\n",
      "Epoch : 9\n"
     ]
    },
    {
     "name": "stderr",
     "output_type": "stream",
     "text": [
      "100%|█████████████████████████████████████████| 675/675 [00:24<00:00, 27.89it/s]\n"
     ]
    },
    {
     "name": "stdout",
     "output_type": "stream",
     "text": [
      "Train Loss: 0.407 | Accuracy: 85.685\n"
     ]
    },
    {
     "name": "stderr",
     "output_type": "stream",
     "text": [
      "100%|█████████████████████████████████████████| 169/169 [00:01<00:00, 97.13it/s]\n"
     ]
    },
    {
     "name": "stdout",
     "output_type": "stream",
     "text": [
      "Test Loss: 0.730 | Accuracy: 76.222\n",
      "Epoch : 10\n"
     ]
    },
    {
     "name": "stderr",
     "output_type": "stream",
     "text": [
      "100%|█████████████████████████████████████████| 675/675 [00:24<00:00, 27.78it/s]\n"
     ]
    },
    {
     "name": "stdout",
     "output_type": "stream",
     "text": [
      "Train Loss: 0.299 | Accuracy: 89.519\n"
     ]
    },
    {
     "name": "stderr",
     "output_type": "stream",
     "text": [
      "100%|█████████████████████████████████████████| 169/169 [00:01<00:00, 98.62it/s]\n"
     ]
    },
    {
     "name": "stdout",
     "output_type": "stream",
     "text": [
      "Test Loss: 0.236 | Accuracy: 92.019\n",
      "Epoch : 11\n"
     ]
    },
    {
     "name": "stderr",
     "output_type": "stream",
     "text": [
      "100%|█████████████████████████████████████████| 675/675 [00:24<00:00, 27.77it/s]\n"
     ]
    },
    {
     "name": "stdout",
     "output_type": "stream",
     "text": [
      "Train Loss: 0.263 | Accuracy: 90.824\n"
     ]
    },
    {
     "name": "stderr",
     "output_type": "stream",
     "text": [
      "100%|█████████████████████████████████████████| 169/169 [00:01<00:00, 99.50it/s]\n"
     ]
    },
    {
     "name": "stdout",
     "output_type": "stream",
     "text": [
      "Test Loss: 0.365 | Accuracy: 87.907\n",
      "Epoch : 12\n"
     ]
    },
    {
     "name": "stderr",
     "output_type": "stream",
     "text": [
      "100%|█████████████████████████████████████████| 675/675 [00:24<00:00, 27.88it/s]\n"
     ]
    },
    {
     "name": "stdout",
     "output_type": "stream",
     "text": [
      "Train Loss: 0.244 | Accuracy: 91.727\n"
     ]
    },
    {
     "name": "stderr",
     "output_type": "stream",
     "text": [
      "100%|█████████████████████████████████████████| 169/169 [00:01<00:00, 97.55it/s]\n"
     ]
    },
    {
     "name": "stdout",
     "output_type": "stream",
     "text": [
      "Test Loss: 0.280 | Accuracy: 90.556\n",
      "Epoch : 13\n"
     ]
    },
    {
     "name": "stderr",
     "output_type": "stream",
     "text": [
      "100%|█████████████████████████████████████████| 675/675 [00:24<00:00, 27.92it/s]\n"
     ]
    },
    {
     "name": "stdout",
     "output_type": "stream",
     "text": [
      "Train Loss: 0.219 | Accuracy: 92.250\n"
     ]
    },
    {
     "name": "stderr",
     "output_type": "stream",
     "text": [
      "100%|█████████████████████████████████████████| 169/169 [00:01<00:00, 98.55it/s]\n"
     ]
    },
    {
     "name": "stdout",
     "output_type": "stream",
     "text": [
      "Test Loss: 0.224 | Accuracy: 92.130\n",
      "Epoch : 14\n"
     ]
    },
    {
     "name": "stderr",
     "output_type": "stream",
     "text": [
      "100%|█████████████████████████████████████████| 675/675 [00:23<00:00, 28.28it/s]\n"
     ]
    },
    {
     "name": "stdout",
     "output_type": "stream",
     "text": [
      "Train Loss: 0.285 | Accuracy: 90.519\n"
     ]
    },
    {
     "name": "stderr",
     "output_type": "stream",
     "text": [
      "100%|█████████████████████████████████████████| 169/169 [00:01<00:00, 96.10it/s]\n"
     ]
    },
    {
     "name": "stdout",
     "output_type": "stream",
     "text": [
      "Test Loss: 0.619 | Accuracy: 79.148\n",
      "Epoch : 15\n"
     ]
    },
    {
     "name": "stderr",
     "output_type": "stream",
     "text": [
      "100%|█████████████████████████████████████████| 675/675 [00:24<00:00, 28.05it/s]\n"
     ]
    },
    {
     "name": "stdout",
     "output_type": "stream",
     "text": [
      "Train Loss: 0.210 | Accuracy: 92.616\n"
     ]
    },
    {
     "name": "stderr",
     "output_type": "stream",
     "text": [
      "100%|█████████████████████████████████████████| 169/169 [00:01<00:00, 93.84it/s]\n"
     ]
    },
    {
     "name": "stdout",
     "output_type": "stream",
     "text": [
      "Test Loss: 0.318 | Accuracy: 89.204\n",
      "Epoch : 16\n"
     ]
    },
    {
     "name": "stderr",
     "output_type": "stream",
     "text": [
      "100%|█████████████████████████████████████████| 675/675 [00:23<00:00, 28.19it/s]\n"
     ]
    },
    {
     "name": "stdout",
     "output_type": "stream",
     "text": [
      "Train Loss: 0.185 | Accuracy: 93.458\n"
     ]
    },
    {
     "name": "stderr",
     "output_type": "stream",
     "text": [
      "100%|████████████████████████████████████████| 169/169 [00:01<00:00, 102.19it/s]\n"
     ]
    },
    {
     "name": "stdout",
     "output_type": "stream",
     "text": [
      "Test Loss: 0.256 | Accuracy: 90.815\n",
      "Epoch : 17\n"
     ]
    },
    {
     "name": "stderr",
     "output_type": "stream",
     "text": [
      "100%|█████████████████████████████████████████| 675/675 [00:23<00:00, 28.36it/s]\n"
     ]
    },
    {
     "name": "stdout",
     "output_type": "stream",
     "text": [
      "Train Loss: 0.157 | Accuracy: 94.435\n"
     ]
    },
    {
     "name": "stderr",
     "output_type": "stream",
     "text": [
      "100%|████████████████████████████████████████| 169/169 [00:01<00:00, 102.17it/s]\n"
     ]
    },
    {
     "name": "stdout",
     "output_type": "stream",
     "text": [
      "Test Loss: 0.332 | Accuracy: 88.963\n",
      "Epoch : 18\n"
     ]
    },
    {
     "name": "stderr",
     "output_type": "stream",
     "text": [
      "100%|█████████████████████████████████████████| 675/675 [00:23<00:00, 28.43it/s]\n"
     ]
    },
    {
     "name": "stdout",
     "output_type": "stream",
     "text": [
      "Train Loss: 0.149 | Accuracy: 94.718\n"
     ]
    },
    {
     "name": "stderr",
     "output_type": "stream",
     "text": [
      "100%|████████████████████████████████████████| 169/169 [00:01<00:00, 101.55it/s]\n"
     ]
    },
    {
     "name": "stdout",
     "output_type": "stream",
     "text": [
      "Test Loss: 0.429 | Accuracy: 86.944\n",
      "Epoch : 19\n"
     ]
    },
    {
     "name": "stderr",
     "output_type": "stream",
     "text": [
      "100%|█████████████████████████████████████████| 675/675 [00:23<00:00, 28.38it/s]\n"
     ]
    },
    {
     "name": "stdout",
     "output_type": "stream",
     "text": [
      "Train Loss: 0.137 | Accuracy: 95.208\n"
     ]
    },
    {
     "name": "stderr",
     "output_type": "stream",
     "text": [
      "100%|████████████████████████████████████████| 169/169 [00:01<00:00, 101.95it/s]\n"
     ]
    },
    {
     "name": "stdout",
     "output_type": "stream",
     "text": [
      "Test Loss: 0.577 | Accuracy: 84.278\n",
      "Epoch : 20\n"
     ]
    },
    {
     "name": "stderr",
     "output_type": "stream",
     "text": [
      "100%|█████████████████████████████████████████| 675/675 [00:23<00:00, 28.36it/s]\n"
     ]
    },
    {
     "name": "stdout",
     "output_type": "stream",
     "text": [
      "Train Loss: 0.122 | Accuracy: 95.634\n"
     ]
    },
    {
     "name": "stderr",
     "output_type": "stream",
     "text": [
      "100%|████████████████████████████████████████| 169/169 [00:01<00:00, 102.23it/s]\n"
     ]
    },
    {
     "name": "stdout",
     "output_type": "stream",
     "text": [
      "Test Loss: 0.529 | Accuracy: 85.407\n",
      "Epoch : 21\n"
     ]
    },
    {
     "name": "stderr",
     "output_type": "stream",
     "text": [
      "100%|█████████████████████████████████████████| 675/675 [00:23<00:00, 28.37it/s]\n"
     ]
    },
    {
     "name": "stdout",
     "output_type": "stream",
     "text": [
      "Train Loss: 0.161 | Accuracy: 94.898\n"
     ]
    },
    {
     "name": "stderr",
     "output_type": "stream",
     "text": [
      "100%|████████████████████████████████████████| 169/169 [00:01<00:00, 101.92it/s]\n"
     ]
    },
    {
     "name": "stdout",
     "output_type": "stream",
     "text": [
      "Test Loss: 0.522 | Accuracy: 85.593\n",
      "Epoch : 22\n"
     ]
    },
    {
     "name": "stderr",
     "output_type": "stream",
     "text": [
      "100%|█████████████████████████████████████████| 675/675 [00:24<00:00, 27.98it/s]\n"
     ]
    },
    {
     "name": "stdout",
     "output_type": "stream",
     "text": [
      "Train Loss: 0.106 | Accuracy: 96.218\n"
     ]
    },
    {
     "name": "stderr",
     "output_type": "stream",
     "text": [
      "100%|█████████████████████████████████████████| 169/169 [00:01<00:00, 97.18it/s]\n"
     ]
    },
    {
     "name": "stdout",
     "output_type": "stream",
     "text": [
      "Test Loss: 0.348 | Accuracy: 89.870\n",
      "Epoch : 23\n"
     ]
    },
    {
     "name": "stderr",
     "output_type": "stream",
     "text": [
      "100%|█████████████████████████████████████████| 675/675 [00:24<00:00, 28.05it/s]\n"
     ]
    },
    {
     "name": "stdout",
     "output_type": "stream",
     "text": [
      "Train Loss: 0.091 | Accuracy: 96.769\n"
     ]
    },
    {
     "name": "stderr",
     "output_type": "stream",
     "text": [
      "100%|█████████████████████████████████████████| 169/169 [00:01<00:00, 96.51it/s]\n"
     ]
    },
    {
     "name": "stdout",
     "output_type": "stream",
     "text": [
      "Test Loss: 0.290 | Accuracy: 91.278\n",
      "Epoch : 24\n"
     ]
    },
    {
     "name": "stderr",
     "output_type": "stream",
     "text": [
      "100%|█████████████████████████████████████████| 675/675 [00:24<00:00, 27.80it/s]\n"
     ]
    },
    {
     "name": "stdout",
     "output_type": "stream",
     "text": [
      "Train Loss: 0.079 | Accuracy: 97.245\n"
     ]
    },
    {
     "name": "stderr",
     "output_type": "stream",
     "text": [
      "100%|████████████████████████████████████████| 169/169 [00:01<00:00, 101.61it/s]\n"
     ]
    },
    {
     "name": "stdout",
     "output_type": "stream",
     "text": [
      "Test Loss: 0.431 | Accuracy: 89.074\n",
      "Epoch : 25\n"
     ]
    },
    {
     "name": "stderr",
     "output_type": "stream",
     "text": [
      "100%|█████████████████████████████████████████| 675/675 [00:23<00:00, 28.16it/s]\n"
     ]
    },
    {
     "name": "stdout",
     "output_type": "stream",
     "text": [
      "Train Loss: 0.082 | Accuracy: 97.125\n"
     ]
    },
    {
     "name": "stderr",
     "output_type": "stream",
     "text": [
      "100%|█████████████████████████████████████████| 169/169 [00:01<00:00, 95.59it/s]\n"
     ]
    },
    {
     "name": "stdout",
     "output_type": "stream",
     "text": [
      "Test Loss: 0.327 | Accuracy: 90.870\n",
      "Epoch : 26\n"
     ]
    },
    {
     "name": "stderr",
     "output_type": "stream",
     "text": [
      "100%|█████████████████████████████████████████| 675/675 [00:23<00:00, 28.25it/s]\n"
     ]
    },
    {
     "name": "stdout",
     "output_type": "stream",
     "text": [
      "Train Loss: 0.079 | Accuracy: 97.444\n"
     ]
    },
    {
     "name": "stderr",
     "output_type": "stream",
     "text": [
      "100%|█████████████████████████████████████████| 169/169 [00:01<00:00, 95.43it/s]\n"
     ]
    },
    {
     "name": "stdout",
     "output_type": "stream",
     "text": [
      "Test Loss: 0.443 | Accuracy: 88.278\n",
      "Epoch : 27\n"
     ]
    },
    {
     "name": "stderr",
     "output_type": "stream",
     "text": [
      "100%|█████████████████████████████████████████| 675/675 [00:24<00:00, 28.02it/s]\n"
     ]
    },
    {
     "name": "stdout",
     "output_type": "stream",
     "text": [
      "Train Loss: 0.081 | Accuracy: 97.176\n"
     ]
    },
    {
     "name": "stderr",
     "output_type": "stream",
     "text": [
      "100%|█████████████████████████████████████████| 169/169 [00:01<00:00, 99.64it/s]\n"
     ]
    },
    {
     "name": "stdout",
     "output_type": "stream",
     "text": [
      "Test Loss: 0.269 | Accuracy: 92.574\n",
      "Epoch : 28\n"
     ]
    },
    {
     "name": "stderr",
     "output_type": "stream",
     "text": [
      "100%|█████████████████████████████████████████| 675/675 [00:23<00:00, 28.13it/s]\n"
     ]
    },
    {
     "name": "stdout",
     "output_type": "stream",
     "text": [
      "Train Loss: 0.062 | Accuracy: 97.949\n"
     ]
    },
    {
     "name": "stderr",
     "output_type": "stream",
     "text": [
      "100%|█████████████████████████████████████████| 169/169 [00:01<00:00, 97.80it/s]\n"
     ]
    },
    {
     "name": "stdout",
     "output_type": "stream",
     "text": [
      "Test Loss: 0.339 | Accuracy: 91.093\n",
      "Epoch : 29\n"
     ]
    },
    {
     "name": "stderr",
     "output_type": "stream",
     "text": [
      "100%|█████████████████████████████████████████| 675/675 [00:23<00:00, 28.18it/s]\n"
     ]
    },
    {
     "name": "stdout",
     "output_type": "stream",
     "text": [
      "Train Loss: 0.062 | Accuracy: 97.722\n"
     ]
    },
    {
     "name": "stderr",
     "output_type": "stream",
     "text": [
      "100%|█████████████████████████████████████████| 169/169 [00:01<00:00, 95.81it/s]\n"
     ]
    },
    {
     "name": "stdout",
     "output_type": "stream",
     "text": [
      "Test Loss: 0.465 | Accuracy: 88.426\n",
      "Epoch : 30\n"
     ]
    },
    {
     "name": "stderr",
     "output_type": "stream",
     "text": [
      "100%|█████████████████████████████████████████| 675/675 [00:24<00:00, 28.11it/s]\n"
     ]
    },
    {
     "name": "stdout",
     "output_type": "stream",
     "text": [
      "Train Loss: 0.061 | Accuracy: 97.903\n"
     ]
    },
    {
     "name": "stderr",
     "output_type": "stream",
     "text": [
      "100%|█████████████████████████████████████████| 169/169 [00:01<00:00, 96.86it/s]"
     ]
    },
    {
     "name": "stdout",
     "output_type": "stream",
     "text": [
      "Test Loss: 0.491 | Accuracy: 89.130\n",
      "Training time: 774.03 seconds\n"
     ]
    },
    {
     "name": "stderr",
     "output_type": "stream",
     "text": [
      "\n"
     ]
    }
   ],
   "source": [
    "import time\n",
    "epochs = 30\n",
    "\n",
    "# Start the timer\n",
    "\n",
    "start_time = time.time()\n",
    "for epoch in range(1,epochs+1): \n",
    "    train(epoch)\n",
    "    test(epoch)\n",
    "# End the timer\n",
    "end_time = time.time()\n",
    "\n",
    "# Calculate the training time\n",
    "training_time = end_time - start_time\n",
    "\n",
    "print('Training time: {:.2f} seconds'.format(training_time))\n"
   ]
  },
  {
   "cell_type": "code",
   "execution_count": 15,
   "id": "ffad3d0b-f3d4-4bcb-9b04-c3503b064009",
   "metadata": {},
   "outputs": [],
   "source": [
    "import matplotlib.pyplot as plt\n"
   ]
  },
  {
   "cell_type": "code",
   "execution_count": 16,
   "id": "06a1cdb3-71b5-4868-94be-e7ab250d86dc",
   "metadata": {},
   "outputs": [
    {
     "data": {
      "image/png": "[encoded data removed]",
      "text/plain": [
       "<Figure size 432x288 with 1 Axes>"
      ]
     },
     "metadata": {
      "needs_background": "light"
     },
     "output_type": "display_data"
    }
   ],
   "source": [
    "#plot accuracy\n",
    "plt.plot(train_accu,'-o')\n",
    "plt.plot(eval_accu,'-o')\n",
    "plt.xlabel('epoch')\n",
    "plt.ylabel('accuracy')\n",
    "plt.legend(['Train','Valid'])\n",
    "plt.title('Train vs Valid Accuracy')\n",
    "\n",
    "plt.show()"
   ]
  },
  {
   "cell_type": "code",
   "execution_count": 17,
   "id": "d08b86e4-e526-4680-92ee-ed0d96bdf695",
   "metadata": {},
   "outputs": [
    {
     "data": {
      "image/png": "[encoded data removed]",
      "text/plain": [
       "<Figure size 432x288 with 1 Axes>"
      ]
     },
     "metadata": {
      "needs_background": "light"
     },
     "output_type": "display_data"
    }
   ],
   "source": [
    "#plot losses\n",
    "\n",
    "plt.plot(train_losses,'-o')\n",
    "plt.plot(eval_losses,'-o')\n",
    "plt.xlabel('epoch')\n",
    "plt.ylabel('losses')\n",
    "plt.legend(['Train','Valid'])\n",
    "plt.title('Train vs Valid Losses')\n",
    "\n",
    "plt.show()"
   ]
  },
  {
   "cell_type": "code",
   "execution_count": 18,
   "id": "719e1810-7179-4db6-b882-44e4d80eed77",
   "metadata": {},
   "outputs": [
    {
     "name": "stderr",
     "output_type": "stream",
     "text": [
      "100%|████████████████████████████████████████| 169/169 [00:01<00:00, 100.51it/s]"
     ]
    },
    {
     "name": "stdout",
     "output_type": "stream",
     "text": [
      "Precision:  0.9036305747751558\n",
      "Recall:  0.8884833333333333\n",
      "Confusion matrix:\n",
      " [[493   3  13   2   0  18  70   0   1   0]\n",
      " [  0 587   6   0   0   6   0   0   1   0]\n",
      " [  2   8 569   1   0   2  12   2   4   0]\n",
      " [  9   0  28 390  11  15  33   3  11   0]\n",
      " [  1   0  55   5 433   0   5   1   0   0]\n",
      " [  2  16  13   0   0 353  14   0   0   2]\n",
      " [  0   0  92   2   0   3 402   0   1   0]\n",
      " [  0   0  44   4  22   0  24 506   0   0]\n",
      " [  3   1   4   7   0   3   0   0 482   0]\n",
      " [  0   0   1   0   0   0   0   0   1 598]]\n",
      "Report:\n",
      "               precision    recall  f1-score   support\n",
      "\n",
      "         0.0       0.97      0.82      0.89       600\n",
      "         1.0       0.95      0.98      0.97       600\n",
      "         2.0       0.69      0.95      0.80       600\n",
      "         3.0       0.95      0.78      0.86       500\n",
      "         4.0       0.93      0.87      0.90       500\n",
      "         5.0       0.88      0.88      0.88       400\n",
      "         6.0       0.72      0.80      0.76       500\n",
      "         7.0       0.99      0.84      0.91       600\n",
      "         8.0       0.96      0.96      0.96       500\n",
      "         9.0       1.00      1.00      1.00       600\n",
      "\n",
      "    accuracy                           0.89      5400\n",
      "   macro avg       0.90      0.89      0.89      5400\n",
      "weighted avg       0.91      0.89      0.89      5400\n",
      "\n"
     ]
    },
    {
     "name": "stderr",
     "output_type": "stream",
     "text": [
      "\n"
     ]
    }
   ],
   "source": [
    "from sklearn.metrics import confusion_matrix ,classification_report, precision_score, recall_score\n",
    "\n",
    "# testing\n",
    "ttloss = []\n",
    "ttacc = []\n",
    "ttf1 = []\n",
    "\n",
    "T_val = []\n",
    "P_val = []\n",
    "\n",
    "with torch.no_grad():\n",
    "    model.eval()\n",
    "    for (X_val, y_val) in tqdm(test_loader):\n",
    "        X_val = X_val.float().cuda()\n",
    "        y_val = y_val.float().cuda()\n",
    "        #X_val, y_val = X_val.to(device), y_val.to(device)\n",
    "        #y_val = y_val.type(torch.cuda.LongTensor)\n",
    "        \n",
    "        output = model(X_val)\n",
    "        #print(output.shape)\n",
    "        \n",
    "        outputs = torch.max(output, dim=1)[1]\n",
    "        #print(outputs.shape)\n",
    "        T_val.extend(y_val.cpu().numpy())\n",
    "        #print(T_val)\n",
    "        P_val.extend(outputs.cpu().numpy())\n",
    "    #print(T_val)\n",
    "    #print(P_val)\n",
    "    precision = precision_score(T_val, P_val, average='macro')\n",
    "    recall = recall_score(T_val, P_val, average='macro')\n",
    "    res = confusion_matrix(T_val, P_val)\n",
    "    report = classification_report(T_val, P_val)\n",
    "    \n",
    "    print(\"Precision: \",precision)\n",
    "    print(\"Recall: \",recall)\n",
    "\n",
    "    print('Confusion matrix:\\n',res)\n",
    "    print('Report:\\n',report)"
   ]
  },
  {
   "cell_type": "markdown",
   "id": "774f59ef-0427-403d-b140-88216e94d1c0",
   "metadata": {},
   "source": [
    "# Running resnet101 model"
   ]
  },
  {
   "cell_type": "code",
   "execution_count": 19,
   "id": "cd291493-51d9-4d21-a3f5-3d23216588bc",
   "metadata": {},
   "outputs": [
    {
     "data": {
      "text/plain": [
       "CrossEntropyLoss()"
      ]
     },
     "execution_count": 19,
     "metadata": {},
     "output_type": "execute_result"
    }
   ],
   "source": [
    "# Define the ResNet-50 model\n",
    "model = models.resnet101(pretrained=True)\n",
    "num_classes = 10\n",
    "model.fc = nn.Linear(2048, num_classes)\n",
    "\n",
    "# Modify the first convolution layer to accept 5-channel input\n",
    "model.conv1 = nn.Conv2d(4, 64, kernel_size=7, stride=2, padding=3, bias=False)\n",
    "\n",
    "# Define the loss function and optimizer\n",
    "criterion = nn.CrossEntropyLoss()\n",
    "optimizer = optim.Adam(model.parameters(), lr=0.001)\n",
    "\n",
    "# Move the model and loss function to the device\n",
    "model.to(device)\n",
    "criterion.to(device)"
   ]
  },
  {
   "cell_type": "code",
   "execution_count": 20,
   "id": "fc684b6a-b879-4339-ab17-b2b3188c257a",
   "metadata": {},
   "outputs": [
    {
     "name": "stdout",
     "output_type": "stream",
     "text": [
      "----------------------------------------------------------------\n",
      "        Layer (type)               Output Shape         Param #\n",
      "================================================================\n",
      "            Conv2d-1           [-1, 64, 32, 32]          12,544\n",
      "       BatchNorm2d-2           [-1, 64, 32, 32]             128\n",
      "              ReLU-3           [-1, 64, 32, 32]               0\n",
      "         MaxPool2d-4           [-1, 64, 16, 16]               0\n",
      "            Conv2d-5           [-1, 64, 16, 16]           4,096\n",
      "       BatchNorm2d-6           [-1, 64, 16, 16]             128\n",
      "              ReLU-7           [-1, 64, 16, 16]               0\n",
      "            Conv2d-8           [-1, 64, 16, 16]          36,864\n",
      "       BatchNorm2d-9           [-1, 64, 16, 16]             128\n",
      "             ReLU-10           [-1, 64, 16, 16]               0\n",
      "           Conv2d-11          [-1, 256, 16, 16]          16,384\n",
      "      BatchNorm2d-12          [-1, 256, 16, 16]             512\n",
      "           Conv2d-13          [-1, 256, 16, 16]          16,384\n",
      "      BatchNorm2d-14          [-1, 256, 16, 16]             512\n",
      "             ReLU-15          [-1, 256, 16, 16]               0\n",
      "       Bottleneck-16          [-1, 256, 16, 16]               0\n",
      "           Conv2d-17           [-1, 64, 16, 16]          16,384\n",
      "      BatchNorm2d-18           [-1, 64, 16, 16]             128\n",
      "             ReLU-19           [-1, 64, 16, 16]               0\n",
      "           Conv2d-20           [-1, 64, 16, 16]          36,864\n",
      "      BatchNorm2d-21           [-1, 64, 16, 16]             128\n",
      "             ReLU-22           [-1, 64, 16, 16]               0\n",
      "           Conv2d-23          [-1, 256, 16, 16]          16,384\n",
      "      BatchNorm2d-24          [-1, 256, 16, 16]             512\n",
      "             ReLU-25          [-1, 256, 16, 16]               0\n",
      "       Bottleneck-26          [-1, 256, 16, 16]               0\n",
      "           Conv2d-27           [-1, 64, 16, 16]          16,384\n",
      "      BatchNorm2d-28           [-1, 64, 16, 16]             128\n",
      "             ReLU-29           [-1, 64, 16, 16]               0\n",
      "           Conv2d-30           [-1, 64, 16, 16]          36,864\n",
      "      BatchNorm2d-31           [-1, 64, 16, 16]             128\n",
      "             ReLU-32           [-1, 64, 16, 16]               0\n",
      "           Conv2d-33          [-1, 256, 16, 16]          16,384\n",
      "      BatchNorm2d-34          [-1, 256, 16, 16]             512\n",
      "             ReLU-35          [-1, 256, 16, 16]               0\n",
      "       Bottleneck-36          [-1, 256, 16, 16]               0\n",
      "           Conv2d-37          [-1, 128, 16, 16]          32,768\n",
      "      BatchNorm2d-38          [-1, 128, 16, 16]             256\n",
      "             ReLU-39          [-1, 128, 16, 16]               0\n",
      "           Conv2d-40            [-1, 128, 8, 8]         147,456\n",
      "      BatchNorm2d-41            [-1, 128, 8, 8]             256\n",
      "             ReLU-42            [-1, 128, 8, 8]               0\n",
      "           Conv2d-43            [-1, 512, 8, 8]          65,536\n",
      "      BatchNorm2d-44            [-1, 512, 8, 8]           1,024\n",
      "           Conv2d-45            [-1, 512, 8, 8]         131,072\n",
      "      BatchNorm2d-46            [-1, 512, 8, 8]           1,024\n",
      "             ReLU-47            [-1, 512, 8, 8]               0\n",
      "       Bottleneck-48            [-1, 512, 8, 8]               0\n",
      "           Conv2d-49            [-1, 128, 8, 8]          65,536\n",
      "      BatchNorm2d-50            [-1, 128, 8, 8]             256\n",
      "             ReLU-51            [-1, 128, 8, 8]               0\n",
      "           Conv2d-52            [-1, 128, 8, 8]         147,456\n",
      "      BatchNorm2d-53            [-1, 128, 8, 8]             256\n",
      "             ReLU-54            [-1, 128, 8, 8]               0\n",
      "           Conv2d-55            [-1, 512, 8, 8]          65,536\n",
      "      BatchNorm2d-56            [-1, 512, 8, 8]           1,024\n",
      "             ReLU-57            [-1, 512, 8, 8]               0\n",
      "       Bottleneck-58            [-1, 512, 8, 8]               0\n",
      "           Conv2d-59            [-1, 128, 8, 8]          65,536\n",
      "      BatchNorm2d-60            [-1, 128, 8, 8]             256\n",
      "             ReLU-61            [-1, 128, 8, 8]               0\n",
      "           Conv2d-62            [-1, 128, 8, 8]         147,456\n",
      "      BatchNorm2d-63            [-1, 128, 8, 8]             256\n",
      "             ReLU-64            [-1, 128, 8, 8]               0\n",
      "           Conv2d-65            [-1, 512, 8, 8]          65,536\n",
      "      BatchNorm2d-66            [-1, 512, 8, 8]           1,024\n",
      "             ReLU-67            [-1, 512, 8, 8]               0\n",
      "       Bottleneck-68            [-1, 512, 8, 8]               0\n",
      "           Conv2d-69            [-1, 128, 8, 8]          65,536\n",
      "      BatchNorm2d-70            [-1, 128, 8, 8]             256\n",
      "             ReLU-71            [-1, 128, 8, 8]               0\n",
      "           Conv2d-72            [-1, 128, 8, 8]         147,456\n",
      "      BatchNorm2d-73            [-1, 128, 8, 8]             256\n",
      "             ReLU-74            [-1, 128, 8, 8]               0\n",
      "           Conv2d-75            [-1, 512, 8, 8]          65,536\n",
      "      BatchNorm2d-76            [-1, 512, 8, 8]           1,024\n",
      "             ReLU-77            [-1, 512, 8, 8]               0\n",
      "       Bottleneck-78            [-1, 512, 8, 8]               0\n",
      "           Conv2d-79            [-1, 256, 8, 8]         131,072\n",
      "      BatchNorm2d-80            [-1, 256, 8, 8]             512\n",
      "             ReLU-81            [-1, 256, 8, 8]               0\n",
      "           Conv2d-82            [-1, 256, 4, 4]         589,824\n",
      "      BatchNorm2d-83            [-1, 256, 4, 4]             512\n",
      "             ReLU-84            [-1, 256, 4, 4]               0\n",
      "           Conv2d-85           [-1, 1024, 4, 4]         262,144\n",
      "      BatchNorm2d-86           [-1, 1024, 4, 4]           2,048\n",
      "           Conv2d-87           [-1, 1024, 4, 4]         524,288\n",
      "      BatchNorm2d-88           [-1, 1024, 4, 4]           2,048\n",
      "             ReLU-89           [-1, 1024, 4, 4]               0\n",
      "       Bottleneck-90           [-1, 1024, 4, 4]               0\n",
      "           Conv2d-91            [-1, 256, 4, 4]         262,144\n",
      "      BatchNorm2d-92            [-1, 256, 4, 4]             512\n",
      "             ReLU-93            [-1, 256, 4, 4]               0\n",
      "           Conv2d-94            [-1, 256, 4, 4]         589,824\n",
      "      BatchNorm2d-95            [-1, 256, 4, 4]             512\n",
      "             ReLU-96            [-1, 256, 4, 4]               0\n",
      "           Conv2d-97           [-1, 1024, 4, 4]         262,144\n",
      "      BatchNorm2d-98           [-1, 1024, 4, 4]           2,048\n",
      "             ReLU-99           [-1, 1024, 4, 4]               0\n",
      "      Bottleneck-100           [-1, 1024, 4, 4]               0\n",
      "          Conv2d-101            [-1, 256, 4, 4]         262,144\n",
      "     BatchNorm2d-102            [-1, 256, 4, 4]             512\n",
      "            ReLU-103            [-1, 256, 4, 4]               0\n",
      "          Conv2d-104            [-1, 256, 4, 4]         589,824\n",
      "     BatchNorm2d-105            [-1, 256, 4, 4]             512\n",
      "            ReLU-106            [-1, 256, 4, 4]               0\n",
      "          Conv2d-107           [-1, 1024, 4, 4]         262,144\n",
      "     BatchNorm2d-108           [-1, 1024, 4, 4]           2,048\n",
      "            ReLU-109           [-1, 1024, 4, 4]               0\n",
      "      Bottleneck-110           [-1, 1024, 4, 4]               0\n",
      "          Conv2d-111            [-1, 256, 4, 4]         262,144\n",
      "     BatchNorm2d-112            [-1, 256, 4, 4]             512\n",
      "            ReLU-113            [-1, 256, 4, 4]               0\n",
      "          Conv2d-114            [-1, 256, 4, 4]         589,824\n",
      "     BatchNorm2d-115            [-1, 256, 4, 4]             512\n",
      "            ReLU-116            [-1, 256, 4, 4]               0\n",
      "          Conv2d-117           [-1, 1024, 4, 4]         262,144\n",
      "     BatchNorm2d-118           [-1, 1024, 4, 4]           2,048\n",
      "            ReLU-119           [-1, 1024, 4, 4]               0\n",
      "      Bottleneck-120           [-1, 1024, 4, 4]               0\n",
      "          Conv2d-121            [-1, 256, 4, 4]         262,144\n",
      "     BatchNorm2d-122            [-1, 256, 4, 4]             512\n",
      "            ReLU-123            [-1, 256, 4, 4]               0\n",
      "          Conv2d-124            [-1, 256, 4, 4]         589,824\n",
      "     BatchNorm2d-125            [-1, 256, 4, 4]             512\n",
      "            ReLU-126            [-1, 256, 4, 4]               0\n",
      "          Conv2d-127           [-1, 1024, 4, 4]         262,144\n",
      "     BatchNorm2d-128           [-1, 1024, 4, 4]           2,048\n",
      "            ReLU-129           [-1, 1024, 4, 4]               0\n",
      "      Bottleneck-130           [-1, 1024, 4, 4]               0\n",
      "          Conv2d-131            [-1, 256, 4, 4]         262,144\n",
      "     BatchNorm2d-132            [-1, 256, 4, 4]             512\n",
      "            ReLU-133            [-1, 256, 4, 4]               0\n",
      "          Conv2d-134            [-1, 256, 4, 4]         589,824\n",
      "     BatchNorm2d-135            [-1, 256, 4, 4]             512\n",
      "            ReLU-136            [-1, 256, 4, 4]               0\n",
      "          Conv2d-137           [-1, 1024, 4, 4]         262,144\n",
      "     BatchNorm2d-138           [-1, 1024, 4, 4]           2,048\n",
      "            ReLU-139           [-1, 1024, 4, 4]               0\n",
      "      Bottleneck-140           [-1, 1024, 4, 4]               0\n",
      "          Conv2d-141            [-1, 256, 4, 4]         262,144\n",
      "     BatchNorm2d-142            [-1, 256, 4, 4]             512\n",
      "            ReLU-143            [-1, 256, 4, 4]               0\n",
      "          Conv2d-144            [-1, 256, 4, 4]         589,824\n",
      "     BatchNorm2d-145            [-1, 256, 4, 4]             512\n",
      "            ReLU-146            [-1, 256, 4, 4]               0\n",
      "          Conv2d-147           [-1, 1024, 4, 4]         262,144\n",
      "     BatchNorm2d-148           [-1, 1024, 4, 4]           2,048\n",
      "            ReLU-149           [-1, 1024, 4, 4]               0\n",
      "      Bottleneck-150           [-1, 1024, 4, 4]               0\n",
      "          Conv2d-151            [-1, 256, 4, 4]         262,144\n",
      "     BatchNorm2d-152            [-1, 256, 4, 4]             512\n",
      "            ReLU-153            [-1, 256, 4, 4]               0\n",
      "          Conv2d-154            [-1, 256, 4, 4]         589,824\n",
      "     BatchNorm2d-155            [-1, 256, 4, 4]             512\n",
      "            ReLU-156            [-1, 256, 4, 4]               0\n",
      "          Conv2d-157           [-1, 1024, 4, 4]         262,144\n",
      "     BatchNorm2d-158           [-1, 1024, 4, 4]           2,048\n",
      "            ReLU-159           [-1, 1024, 4, 4]               0\n",
      "      Bottleneck-160           [-1, 1024, 4, 4]               0\n",
      "          Conv2d-161            [-1, 256, 4, 4]         262,144\n",
      "     BatchNorm2d-162            [-1, 256, 4, 4]             512\n",
      "            ReLU-163            [-1, 256, 4, 4]               0\n",
      "          Conv2d-164            [-1, 256, 4, 4]         589,824\n",
      "     BatchNorm2d-165            [-1, 256, 4, 4]             512\n",
      "            ReLU-166            [-1, 256, 4, 4]               0\n",
      "          Conv2d-167           [-1, 1024, 4, 4]         262,144\n",
      "     BatchNorm2d-168           [-1, 1024, 4, 4]           2,048\n",
      "            ReLU-169           [-1, 1024, 4, 4]               0\n",
      "      Bottleneck-170           [-1, 1024, 4, 4]               0\n",
      "          Conv2d-171            [-1, 256, 4, 4]         262,144\n",
      "     BatchNorm2d-172            [-1, 256, 4, 4]             512\n",
      "            ReLU-173            [-1, 256, 4, 4]               0\n",
      "          Conv2d-174            [-1, 256, 4, 4]         589,824\n",
      "     BatchNorm2d-175            [-1, 256, 4, 4]             512\n",
      "            ReLU-176            [-1, 256, 4, 4]               0\n",
      "          Conv2d-177           [-1, 1024, 4, 4]         262,144\n",
      "     BatchNorm2d-178           [-1, 1024, 4, 4]           2,048\n",
      "            ReLU-179           [-1, 1024, 4, 4]               0\n",
      "      Bottleneck-180           [-1, 1024, 4, 4]               0\n",
      "          Conv2d-181            [-1, 256, 4, 4]         262,144\n",
      "     BatchNorm2d-182            [-1, 256, 4, 4]             512\n",
      "            ReLU-183            [-1, 256, 4, 4]               0\n",
      "          Conv2d-184            [-1, 256, 4, 4]         589,824\n",
      "     BatchNorm2d-185            [-1, 256, 4, 4]             512\n",
      "            ReLU-186            [-1, 256, 4, 4]               0\n",
      "          Conv2d-187           [-1, 1024, 4, 4]         262,144\n",
      "     BatchNorm2d-188           [-1, 1024, 4, 4]           2,048\n",
      "            ReLU-189           [-1, 1024, 4, 4]               0\n",
      "      Bottleneck-190           [-1, 1024, 4, 4]               0\n",
      "          Conv2d-191            [-1, 256, 4, 4]         262,144\n",
      "     BatchNorm2d-192            [-1, 256, 4, 4]             512\n",
      "            ReLU-193            [-1, 256, 4, 4]               0\n",
      "          Conv2d-194            [-1, 256, 4, 4]         589,824\n",
      "     BatchNorm2d-195            [-1, 256, 4, 4]             512\n",
      "            ReLU-196            [-1, 256, 4, 4]               0\n",
      "          Conv2d-197           [-1, 1024, 4, 4]         262,144\n",
      "     BatchNorm2d-198           [-1, 1024, 4, 4]           2,048\n",
      "            ReLU-199           [-1, 1024, 4, 4]               0\n",
      "      Bottleneck-200           [-1, 1024, 4, 4]               0\n",
      "          Conv2d-201            [-1, 256, 4, 4]         262,144\n",
      "     BatchNorm2d-202            [-1, 256, 4, 4]             512\n",
      "            ReLU-203            [-1, 256, 4, 4]               0\n",
      "          Conv2d-204            [-1, 256, 4, 4]         589,824\n",
      "     BatchNorm2d-205            [-1, 256, 4, 4]             512\n",
      "            ReLU-206            [-1, 256, 4, 4]               0\n",
      "          Conv2d-207           [-1, 1024, 4, 4]         262,144\n",
      "     BatchNorm2d-208           [-1, 1024, 4, 4]           2,048\n",
      "            ReLU-209           [-1, 1024, 4, 4]               0\n",
      "      Bottleneck-210           [-1, 1024, 4, 4]               0\n",
      "          Conv2d-211            [-1, 256, 4, 4]         262,144\n",
      "     BatchNorm2d-212            [-1, 256, 4, 4]             512\n",
      "            ReLU-213            [-1, 256, 4, 4]               0\n",
      "          Conv2d-214            [-1, 256, 4, 4]         589,824\n",
      "     BatchNorm2d-215            [-1, 256, 4, 4]             512\n",
      "            ReLU-216            [-1, 256, 4, 4]               0\n",
      "          Conv2d-217           [-1, 1024, 4, 4]         262,144\n",
      "     BatchNorm2d-218           [-1, 1024, 4, 4]           2,048\n",
      "            ReLU-219           [-1, 1024, 4, 4]               0\n",
      "      Bottleneck-220           [-1, 1024, 4, 4]               0\n",
      "          Conv2d-221            [-1, 256, 4, 4]         262,144\n",
      "     BatchNorm2d-222            [-1, 256, 4, 4]             512\n",
      "            ReLU-223            [-1, 256, 4, 4]               0\n",
      "          Conv2d-224            [-1, 256, 4, 4]         589,824\n",
      "     BatchNorm2d-225            [-1, 256, 4, 4]             512\n",
      "            ReLU-226            [-1, 256, 4, 4]               0\n",
      "          Conv2d-227           [-1, 1024, 4, 4]         262,144\n",
      "     BatchNorm2d-228           [-1, 1024, 4, 4]           2,048\n",
      "            ReLU-229           [-1, 1024, 4, 4]               0\n",
      "      Bottleneck-230           [-1, 1024, 4, 4]               0\n",
      "          Conv2d-231            [-1, 256, 4, 4]         262,144\n",
      "     BatchNorm2d-232            [-1, 256, 4, 4]             512\n",
      "            ReLU-233            [-1, 256, 4, 4]               0\n",
      "          Conv2d-234            [-1, 256, 4, 4]         589,824\n",
      "     BatchNorm2d-235            [-1, 256, 4, 4]             512\n",
      "            ReLU-236            [-1, 256, 4, 4]               0\n",
      "          Conv2d-237           [-1, 1024, 4, 4]         262,144\n",
      "     BatchNorm2d-238           [-1, 1024, 4, 4]           2,048\n",
      "            ReLU-239           [-1, 1024, 4, 4]               0\n",
      "      Bottleneck-240           [-1, 1024, 4, 4]               0\n",
      "          Conv2d-241            [-1, 256, 4, 4]         262,144\n",
      "     BatchNorm2d-242            [-1, 256, 4, 4]             512\n",
      "            ReLU-243            [-1, 256, 4, 4]               0\n",
      "          Conv2d-244            [-1, 256, 4, 4]         589,824\n",
      "     BatchNorm2d-245            [-1, 256, 4, 4]             512\n",
      "            ReLU-246            [-1, 256, 4, 4]               0\n",
      "          Conv2d-247           [-1, 1024, 4, 4]         262,144\n",
      "     BatchNorm2d-248           [-1, 1024, 4, 4]           2,048\n",
      "            ReLU-249           [-1, 1024, 4, 4]               0\n",
      "      Bottleneck-250           [-1, 1024, 4, 4]               0\n",
      "          Conv2d-251            [-1, 256, 4, 4]         262,144\n",
      "     BatchNorm2d-252            [-1, 256, 4, 4]             512\n",
      "            ReLU-253            [-1, 256, 4, 4]               0\n",
      "          Conv2d-254            [-1, 256, 4, 4]         589,824\n",
      "     BatchNorm2d-255            [-1, 256, 4, 4]             512\n",
      "            ReLU-256            [-1, 256, 4, 4]               0\n",
      "          Conv2d-257           [-1, 1024, 4, 4]         262,144\n",
      "     BatchNorm2d-258           [-1, 1024, 4, 4]           2,048\n",
      "            ReLU-259           [-1, 1024, 4, 4]               0\n",
      "      Bottleneck-260           [-1, 1024, 4, 4]               0\n",
      "          Conv2d-261            [-1, 256, 4, 4]         262,144\n",
      "     BatchNorm2d-262            [-1, 256, 4, 4]             512\n",
      "            ReLU-263            [-1, 256, 4, 4]               0\n",
      "          Conv2d-264            [-1, 256, 4, 4]         589,824\n",
      "     BatchNorm2d-265            [-1, 256, 4, 4]             512\n",
      "            ReLU-266            [-1, 256, 4, 4]               0\n",
      "          Conv2d-267           [-1, 1024, 4, 4]         262,144\n",
      "     BatchNorm2d-268           [-1, 1024, 4, 4]           2,048\n",
      "            ReLU-269           [-1, 1024, 4, 4]               0\n",
      "      Bottleneck-270           [-1, 1024, 4, 4]               0\n",
      "          Conv2d-271            [-1, 256, 4, 4]         262,144\n",
      "     BatchNorm2d-272            [-1, 256, 4, 4]             512\n",
      "            ReLU-273            [-1, 256, 4, 4]               0\n",
      "          Conv2d-274            [-1, 256, 4, 4]         589,824\n",
      "     BatchNorm2d-275            [-1, 256, 4, 4]             512\n",
      "            ReLU-276            [-1, 256, 4, 4]               0\n",
      "          Conv2d-277           [-1, 1024, 4, 4]         262,144\n",
      "     BatchNorm2d-278           [-1, 1024, 4, 4]           2,048\n",
      "            ReLU-279           [-1, 1024, 4, 4]               0\n",
      "      Bottleneck-280           [-1, 1024, 4, 4]               0\n",
      "          Conv2d-281            [-1, 256, 4, 4]         262,144\n",
      "     BatchNorm2d-282            [-1, 256, 4, 4]             512\n",
      "            ReLU-283            [-1, 256, 4, 4]               0\n",
      "          Conv2d-284            [-1, 256, 4, 4]         589,824\n",
      "     BatchNorm2d-285            [-1, 256, 4, 4]             512\n",
      "            ReLU-286            [-1, 256, 4, 4]               0\n",
      "          Conv2d-287           [-1, 1024, 4, 4]         262,144\n",
      "     BatchNorm2d-288           [-1, 1024, 4, 4]           2,048\n",
      "            ReLU-289           [-1, 1024, 4, 4]               0\n",
      "      Bottleneck-290           [-1, 1024, 4, 4]               0\n",
      "          Conv2d-291            [-1, 256, 4, 4]         262,144\n",
      "     BatchNorm2d-292            [-1, 256, 4, 4]             512\n",
      "            ReLU-293            [-1, 256, 4, 4]               0\n",
      "          Conv2d-294            [-1, 256, 4, 4]         589,824\n",
      "     BatchNorm2d-295            [-1, 256, 4, 4]             512\n",
      "            ReLU-296            [-1, 256, 4, 4]               0\n",
      "          Conv2d-297           [-1, 1024, 4, 4]         262,144\n",
      "     BatchNorm2d-298           [-1, 1024, 4, 4]           2,048\n",
      "            ReLU-299           [-1, 1024, 4, 4]               0\n",
      "      Bottleneck-300           [-1, 1024, 4, 4]               0\n",
      "          Conv2d-301            [-1, 256, 4, 4]         262,144\n",
      "     BatchNorm2d-302            [-1, 256, 4, 4]             512\n",
      "            ReLU-303            [-1, 256, 4, 4]               0\n",
      "          Conv2d-304            [-1, 256, 4, 4]         589,824\n",
      "     BatchNorm2d-305            [-1, 256, 4, 4]             512\n",
      "            ReLU-306            [-1, 256, 4, 4]               0\n",
      "          Conv2d-307           [-1, 1024, 4, 4]         262,144\n",
      "     BatchNorm2d-308           [-1, 1024, 4, 4]           2,048\n",
      "            ReLU-309           [-1, 1024, 4, 4]               0\n",
      "      Bottleneck-310           [-1, 1024, 4, 4]               0\n",
      "          Conv2d-311            [-1, 512, 4, 4]         524,288\n",
      "     BatchNorm2d-312            [-1, 512, 4, 4]           1,024\n",
      "            ReLU-313            [-1, 512, 4, 4]               0\n",
      "          Conv2d-314            [-1, 512, 2, 2]       2,359,296\n",
      "     BatchNorm2d-315            [-1, 512, 2, 2]           1,024\n",
      "            ReLU-316            [-1, 512, 2, 2]               0\n",
      "          Conv2d-317           [-1, 2048, 2, 2]       1,048,576\n",
      "     BatchNorm2d-318           [-1, 2048, 2, 2]           4,096\n",
      "          Conv2d-319           [-1, 2048, 2, 2]       2,097,152\n",
      "     BatchNorm2d-320           [-1, 2048, 2, 2]           4,096\n",
      "            ReLU-321           [-1, 2048, 2, 2]               0\n",
      "      Bottleneck-322           [-1, 2048, 2, 2]               0\n",
      "          Conv2d-323            [-1, 512, 2, 2]       1,048,576\n",
      "     BatchNorm2d-324            [-1, 512, 2, 2]           1,024\n",
      "            ReLU-325            [-1, 512, 2, 2]               0\n",
      "          Conv2d-326            [-1, 512, 2, 2]       2,359,296\n",
      "     BatchNorm2d-327            [-1, 512, 2, 2]           1,024\n",
      "            ReLU-328            [-1, 512, 2, 2]               0\n",
      "          Conv2d-329           [-1, 2048, 2, 2]       1,048,576\n",
      "     BatchNorm2d-330           [-1, 2048, 2, 2]           4,096\n",
      "            ReLU-331           [-1, 2048, 2, 2]               0\n",
      "      Bottleneck-332           [-1, 2048, 2, 2]               0\n",
      "          Conv2d-333            [-1, 512, 2, 2]       1,048,576\n",
      "     BatchNorm2d-334            [-1, 512, 2, 2]           1,024\n",
      "            ReLU-335            [-1, 512, 2, 2]               0\n",
      "          Conv2d-336            [-1, 512, 2, 2]       2,359,296\n",
      "     BatchNorm2d-337            [-1, 512, 2, 2]           1,024\n",
      "            ReLU-338            [-1, 512, 2, 2]               0\n",
      "          Conv2d-339           [-1, 2048, 2, 2]       1,048,576\n",
      "     BatchNorm2d-340           [-1, 2048, 2, 2]           4,096\n",
      "            ReLU-341           [-1, 2048, 2, 2]               0\n",
      "      Bottleneck-342           [-1, 2048, 2, 2]               0\n",
      "AdaptiveAvgPool2d-343           [-1, 2048, 1, 1]               0\n",
      "          Linear-344                   [-1, 10]          20,490\n",
      "================================================================\n",
      "Total params: 42,523,786\n",
      "Trainable params: 42,523,786\n",
      "Non-trainable params: 0\n",
      "----------------------------------------------------------------\n",
      "Input size (MB): 0.06\n",
      "Forward/backward pass size (MB): 35.09\n",
      "Params size (MB): 162.22\n",
      "Estimated Total Size (MB): 197.37\n",
      "----------------------------------------------------------------\n"
     ]
    }
   ],
   "source": [
    "import torchsummary\n",
    "\n",
    "# Print the model summary\n",
    "torchsummary.summary(model.to(device), input_size=(4, 64, 64))"
   ]
  },
  {
   "cell_type": "code",
   "execution_count": 21,
   "id": "cc87d25c-32a3-43ce-a259-eadbec1b5017",
   "metadata": {},
   "outputs": [],
   "source": [
    "train_losses = []\n",
    "train_accu = []\n",
    "\n",
    "def train(epoch):\n",
    "    print('Epoch : %d'%epoch)\n",
    "    \n",
    "    model.train()\n",
    "    running_loss=0\n",
    "    correct=0\n",
    "    total=0\n",
    "\n",
    "    for images, labels in tqdm(train_loader):\n",
    "        \n",
    "        images = images.float().cuda()\n",
    "        labels = labels.float().cuda()\n",
    "        #print(images.size())\n",
    "        #print(labels.size())\n",
    "        # Forward pass\n",
    "        #model = model.cuda()\n",
    "        outputs = model(images)\n",
    "        labels1= np.zeros((32,10))\n",
    "        \n",
    "        #labels1 = tensor.detach().cpu().numpy()\n",
    "        for j in range(32):\n",
    "            i=labels[j]\n",
    "            i=int(i.item())\n",
    "            # print(i)\n",
    "            labels1[j][i]=1\n",
    "        labels1=torch.from_numpy(labels1)\n",
    "        #print(labels1.size())\n",
    "        labels1=labels1.to(device='cuda')\n",
    "        loss = criterion(outputs, labels1)\n",
    "        \n",
    "        \n",
    "       # Backward and optimize\n",
    "        optimizer.zero_grad()\n",
    "        loss.backward()\n",
    "        optimizer.step()\n",
    "    \n",
    "        \n",
    "    #Replaces pow(2.0) with abs() for L1 regularization\n",
    "    \n",
    "#     l2_lambda = 0.001\n",
    "#     l2_norm = sum(p.pow(2.0).sum()\n",
    "#                   for p in model.parameters())\n",
    "\n",
    "#     loss = loss + l2_lambda * l2_norm\n",
    "    \n",
    "        \n",
    "        running_loss += loss.item()\n",
    "    \n",
    "        _, predicted = outputs.max(1)\n",
    "        total += labels.size(0)\n",
    "        correct += predicted.eq(labels).sum().item()\n",
    "      \n",
    "    train_loss=running_loss/len(train_loader)\n",
    "    accu=100.*correct/total\n",
    "  \n",
    "    train_accu.append(accu)\n",
    "    train_losses.append(train_loss)\n",
    "    print('Train Loss: %.3f | Accuracy: %.3f'%(train_loss,accu))\n",
    "    "
   ]
  },
  {
   "cell_type": "code",
   "execution_count": 22,
   "id": "bfa100b4-83e6-4962-af40-48ca8caabf7c",
   "metadata": {},
   "outputs": [],
   "source": [
    "eval_losses=[]\n",
    "eval_accu=[]\n",
    "\n",
    "def test(epoch):\n",
    "    model.eval()\n",
    "\n",
    "    running_loss=0\n",
    "    correct=0\n",
    "    total=0\n",
    "    #print(test_loader)\n",
    "    with torch.no_grad():\n",
    "        for images, labels in tqdm(test_loader):\n",
    "            \n",
    "            #images = images.to(device='cuda', dtype=torch.float)\n",
    "            images = images.float().cuda()\n",
    "            labels = labels.float().cuda()\n",
    "            #labels = labels.to(device='cuda', dtype=torch.float)\n",
    "            \n",
    "            # Predict classes using the model\n",
    "            outputs = model(images)\n",
    "            #print(labels.size())\n",
    "            t,y=outputs.shape\n",
    "            # print(t)\n",
    "            labels1= np.zeros((t,10))\n",
    "            for j in range(t):\n",
    "                i=labels[j]\n",
    "                i=int(i.item())\n",
    "                labels1[j][i]=1\n",
    "            labels1=torch.from_numpy(labels1)\n",
    "            #print(labels1.size())\n",
    "            labels1=labels1.to(device='cuda')\n",
    "            #outputs=outputs.tensor()\n",
    "            loss= criterion(outputs,labels1)\n",
    "            running_loss+=loss.item()\n",
    "            \n",
    "            \n",
    "           # Compute accuracy\n",
    "            _, predicted = torch.max(outputs.data, 1)\n",
    "            total += labels.size(0)\n",
    "            correct += (predicted == labels).sum().item()\n",
    "            \n",
    "    test_loss=running_loss/len(test_loader)\n",
    "    accu=100.*correct/total\n",
    "\n",
    "    eval_losses.append(test_loss)\n",
    "    eval_accu.append(accu)\n",
    "\n",
    "    print('Test Loss: %.3f | Accuracy: %.3f'%(test_loss,accu)) \n",
    "    "
   ]
  },
  {
   "cell_type": "code",
   "execution_count": 23,
   "id": "c4275edc-71e4-45fb-9c28-a40bbf4d3016",
   "metadata": {},
   "outputs": [],
   "source": [
    "from tqdm import tqdm"
   ]
  },
  {
   "cell_type": "code",
   "execution_count": 24,
   "id": "9abfaabf-8f47-4f26-b242-4c3ea0dc6b68",
   "metadata": {},
   "outputs": [
    {
     "name": "stdout",
     "output_type": "stream",
     "text": [
      "Epoch : 1\n"
     ]
    },
    {
     "name": "stderr",
     "output_type": "stream",
     "text": [
      "100%|█████████████████████████████████████████| 675/675 [00:41<00:00, 16.37it/s]\n"
     ]
    },
    {
     "name": "stdout",
     "output_type": "stream",
     "text": [
      "Train Loss: 0.857 | Accuracy: 72.264\n"
     ]
    },
    {
     "name": "stderr",
     "output_type": "stream",
     "text": [
      "100%|█████████████████████████████████████████| 169/169 [00:02<00:00, 58.46it/s]\n"
     ]
    },
    {
     "name": "stdout",
     "output_type": "stream",
     "text": [
      "Test Loss: 5.887 | Accuracy: 33.981\n",
      "Epoch : 2\n"
     ]
    },
    {
     "name": "stderr",
     "output_type": "stream",
     "text": [
      "100%|█████████████████████████████████████████| 675/675 [00:41<00:00, 16.34it/s]\n"
     ]
    },
    {
     "name": "stdout",
     "output_type": "stream",
     "text": [
      "Train Loss: 0.619 | Accuracy: 78.500\n"
     ]
    },
    {
     "name": "stderr",
     "output_type": "stream",
     "text": [
      "100%|█████████████████████████████████████████| 169/169 [00:02<00:00, 57.36it/s]\n"
     ]
    },
    {
     "name": "stdout",
     "output_type": "stream",
     "text": [
      "Test Loss: 0.505 | Accuracy: 83.185\n",
      "Epoch : 3\n"
     ]
    },
    {
     "name": "stderr",
     "output_type": "stream",
     "text": [
      "100%|█████████████████████████████████████████| 675/675 [00:41<00:00, 16.32it/s]\n"
     ]
    },
    {
     "name": "stdout",
     "output_type": "stream",
     "text": [
      "Train Loss: 0.405 | Accuracy: 86.153\n"
     ]
    },
    {
     "name": "stderr",
     "output_type": "stream",
     "text": [
      "100%|█████████████████████████████████████████| 169/169 [00:02<00:00, 57.03it/s]\n"
     ]
    },
    {
     "name": "stdout",
     "output_type": "stream",
     "text": [
      "Test Loss: 0.381 | Accuracy: 86.981\n",
      "Epoch : 4\n"
     ]
    },
    {
     "name": "stderr",
     "output_type": "stream",
     "text": [
      "100%|█████████████████████████████████████████| 675/675 [00:41<00:00, 16.27it/s]\n"
     ]
    },
    {
     "name": "stdout",
     "output_type": "stream",
     "text": [
      "Train Loss: 0.333 | Accuracy: 88.537\n"
     ]
    },
    {
     "name": "stderr",
     "output_type": "stream",
     "text": [
      "100%|█████████████████████████████████████████| 169/169 [00:02<00:00, 58.44it/s]\n"
     ]
    },
    {
     "name": "stdout",
     "output_type": "stream",
     "text": [
      "Test Loss: 0.436 | Accuracy: 84.926\n",
      "Epoch : 5\n"
     ]
    },
    {
     "name": "stderr",
     "output_type": "stream",
     "text": [
      "100%|█████████████████████████████████████████| 675/675 [00:41<00:00, 16.13it/s]\n"
     ]
    },
    {
     "name": "stdout",
     "output_type": "stream",
     "text": [
      "Train Loss: 0.275 | Accuracy: 90.296\n"
     ]
    },
    {
     "name": "stderr",
     "output_type": "stream",
     "text": [
      "100%|█████████████████████████████████████████| 169/169 [00:02<00:00, 58.47it/s]\n"
     ]
    },
    {
     "name": "stdout",
     "output_type": "stream",
     "text": [
      "Test Loss: 0.627 | Accuracy: 79.222\n",
      "Epoch : 6\n"
     ]
    },
    {
     "name": "stderr",
     "output_type": "stream",
     "text": [
      "100%|█████████████████████████████████████████| 675/675 [00:41<00:00, 16.30it/s]\n"
     ]
    },
    {
     "name": "stdout",
     "output_type": "stream",
     "text": [
      "Train Loss: 0.317 | Accuracy: 88.968\n"
     ]
    },
    {
     "name": "stderr",
     "output_type": "stream",
     "text": [
      "100%|█████████████████████████████████████████| 169/169 [00:02<00:00, 57.46it/s]\n"
     ]
    },
    {
     "name": "stdout",
     "output_type": "stream",
     "text": [
      "Test Loss: 0.423 | Accuracy: 85.167\n",
      "Epoch : 7\n"
     ]
    },
    {
     "name": "stderr",
     "output_type": "stream",
     "text": [
      "100%|█████████████████████████████████████████| 675/675 [00:41<00:00, 16.24it/s]\n"
     ]
    },
    {
     "name": "stdout",
     "output_type": "stream",
     "text": [
      "Train Loss: 0.220 | Accuracy: 92.245\n"
     ]
    },
    {
     "name": "stderr",
     "output_type": "stream",
     "text": [
      "100%|█████████████████████████████████████████| 169/169 [00:02<00:00, 58.43it/s]\n"
     ]
    },
    {
     "name": "stdout",
     "output_type": "stream",
     "text": [
      "Test Loss: 0.701 | Accuracy: 79.222\n",
      "Epoch : 8\n"
     ]
    },
    {
     "name": "stderr",
     "output_type": "stream",
     "text": [
      "100%|█████████████████████████████████████████| 675/675 [00:41<00:00, 16.32it/s]\n"
     ]
    },
    {
     "name": "stdout",
     "output_type": "stream",
     "text": [
      "Train Loss: 0.198 | Accuracy: 93.083\n"
     ]
    },
    {
     "name": "stderr",
     "output_type": "stream",
     "text": [
      "100%|█████████████████████████████████████████| 169/169 [00:02<00:00, 56.91it/s]\n"
     ]
    },
    {
     "name": "stdout",
     "output_type": "stream",
     "text": [
      "Test Loss: 0.266 | Accuracy: 91.056\n",
      "Epoch : 9\n"
     ]
    },
    {
     "name": "stderr",
     "output_type": "stream",
     "text": [
      "100%|█████████████████████████████████████████| 675/675 [00:41<00:00, 16.31it/s]\n"
     ]
    },
    {
     "name": "stdout",
     "output_type": "stream",
     "text": [
      "Train Loss: 0.172 | Accuracy: 93.875\n"
     ]
    },
    {
     "name": "stderr",
     "output_type": "stream",
     "text": [
      "100%|█████████████████████████████████████████| 169/169 [00:02<00:00, 57.56it/s]\n"
     ]
    },
    {
     "name": "stdout",
     "output_type": "stream",
     "text": [
      "Test Loss: 0.205 | Accuracy: 93.222\n",
      "Epoch : 10\n"
     ]
    },
    {
     "name": "stderr",
     "output_type": "stream",
     "text": [
      "100%|█████████████████████████████████████████| 675/675 [00:41<00:00, 16.26it/s]\n"
     ]
    },
    {
     "name": "stdout",
     "output_type": "stream",
     "text": [
      "Train Loss: 0.171 | Accuracy: 94.347\n"
     ]
    },
    {
     "name": "stderr",
     "output_type": "stream",
     "text": [
      "100%|█████████████████████████████████████████| 169/169 [00:02<00:00, 58.24it/s]\n"
     ]
    },
    {
     "name": "stdout",
     "output_type": "stream",
     "text": [
      "Test Loss: 0.267 | Accuracy: 91.204\n",
      "Epoch : 11\n"
     ]
    },
    {
     "name": "stderr",
     "output_type": "stream",
     "text": [
      "100%|█████████████████████████████████████████| 675/675 [00:41<00:00, 16.22it/s]\n"
     ]
    },
    {
     "name": "stdout",
     "output_type": "stream",
     "text": [
      "Train Loss: 0.152 | Accuracy: 94.852\n"
     ]
    },
    {
     "name": "stderr",
     "output_type": "stream",
     "text": [
      "100%|█████████████████████████████████████████| 169/169 [00:02<00:00, 58.59it/s]\n"
     ]
    },
    {
     "name": "stdout",
     "output_type": "stream",
     "text": [
      "Test Loss: 0.341 | Accuracy: 89.833\n",
      "Epoch : 12\n"
     ]
    },
    {
     "name": "stderr",
     "output_type": "stream",
     "text": [
      "100%|█████████████████████████████████████████| 675/675 [00:41<00:00, 16.27it/s]\n"
     ]
    },
    {
     "name": "stdout",
     "output_type": "stream",
     "text": [
      "Train Loss: 0.121 | Accuracy: 95.681\n"
     ]
    },
    {
     "name": "stderr",
     "output_type": "stream",
     "text": [
      "100%|█████████████████████████████████████████| 169/169 [00:02<00:00, 57.67it/s]\n"
     ]
    },
    {
     "name": "stdout",
     "output_type": "stream",
     "text": [
      "Test Loss: 0.971 | Accuracy: 76.630\n",
      "Epoch : 13\n"
     ]
    },
    {
     "name": "stderr",
     "output_type": "stream",
     "text": [
      "100%|█████████████████████████████████████████| 675/675 [00:41<00:00, 16.21it/s]\n"
     ]
    },
    {
     "name": "stdout",
     "output_type": "stream",
     "text": [
      "Train Loss: 0.121 | Accuracy: 95.856\n"
     ]
    },
    {
     "name": "stderr",
     "output_type": "stream",
     "text": [
      "100%|█████████████████████████████████████████| 169/169 [00:02<00:00, 58.01it/s]\n"
     ]
    },
    {
     "name": "stdout",
     "output_type": "stream",
     "text": [
      "Test Loss: 0.268 | Accuracy: 92.130\n",
      "Epoch : 14\n"
     ]
    },
    {
     "name": "stderr",
     "output_type": "stream",
     "text": [
      "100%|█████████████████████████████████████████| 675/675 [00:41<00:00, 16.44it/s]\n"
     ]
    },
    {
     "name": "stdout",
     "output_type": "stream",
     "text": [
      "Train Loss: 0.121 | Accuracy: 95.875\n"
     ]
    },
    {
     "name": "stderr",
     "output_type": "stream",
     "text": [
      "100%|█████████████████████████████████████████| 169/169 [00:02<00:00, 58.28it/s]\n"
     ]
    },
    {
     "name": "stdout",
     "output_type": "stream",
     "text": [
      "Test Loss: 0.342 | Accuracy: 88.074\n",
      "Epoch : 15\n"
     ]
    },
    {
     "name": "stderr",
     "output_type": "stream",
     "text": [
      "100%|█████████████████████████████████████████| 675/675 [00:40<00:00, 16.51it/s]\n"
     ]
    },
    {
     "name": "stdout",
     "output_type": "stream",
     "text": [
      "Train Loss: 0.086 | Accuracy: 97.097\n"
     ]
    },
    {
     "name": "stderr",
     "output_type": "stream",
     "text": [
      "100%|█████████████████████████████████████████| 169/169 [00:02<00:00, 57.70it/s]\n"
     ]
    },
    {
     "name": "stdout",
     "output_type": "stream",
     "text": [
      "Test Loss: 0.288 | Accuracy: 92.148\n",
      "Epoch : 16\n"
     ]
    },
    {
     "name": "stderr",
     "output_type": "stream",
     "text": [
      "100%|█████████████████████████████████████████| 675/675 [00:41<00:00, 16.43it/s]\n"
     ]
    },
    {
     "name": "stdout",
     "output_type": "stream",
     "text": [
      "Train Loss: 0.086 | Accuracy: 97.014\n"
     ]
    },
    {
     "name": "stderr",
     "output_type": "stream",
     "text": [
      "100%|█████████████████████████████████████████| 169/169 [00:02<00:00, 57.46it/s]\n"
     ]
    },
    {
     "name": "stdout",
     "output_type": "stream",
     "text": [
      "Test Loss: 0.924 | Accuracy: 77.370\n",
      "Epoch : 17\n"
     ]
    },
    {
     "name": "stderr",
     "output_type": "stream",
     "text": [
      "100%|█████████████████████████████████████████| 675/675 [00:41<00:00, 16.39it/s]\n"
     ]
    },
    {
     "name": "stdout",
     "output_type": "stream",
     "text": [
      "Train Loss: 0.082 | Accuracy: 97.194\n"
     ]
    },
    {
     "name": "stderr",
     "output_type": "stream",
     "text": [
      "100%|█████████████████████████████████████████| 169/169 [00:03<00:00, 54.40it/s]\n"
     ]
    },
    {
     "name": "stdout",
     "output_type": "stream",
     "text": [
      "Test Loss: 0.211 | Accuracy: 93.667\n",
      "Epoch : 18\n"
     ]
    },
    {
     "name": "stderr",
     "output_type": "stream",
     "text": [
      "100%|█████████████████████████████████████████| 675/675 [00:40<00:00, 16.51it/s]\n"
     ]
    },
    {
     "name": "stdout",
     "output_type": "stream",
     "text": [
      "Train Loss: 0.101 | Accuracy: 96.736\n"
     ]
    },
    {
     "name": "stderr",
     "output_type": "stream",
     "text": [
      "100%|█████████████████████████████████████████| 169/169 [00:02<00:00, 57.71it/s]\n"
     ]
    },
    {
     "name": "stdout",
     "output_type": "stream",
     "text": [
      "Test Loss: 0.368 | Accuracy: 90.259\n",
      "Epoch : 19\n"
     ]
    },
    {
     "name": "stderr",
     "output_type": "stream",
     "text": [
      "100%|█████████████████████████████████████████| 675/675 [00:41<00:00, 16.43it/s]\n"
     ]
    },
    {
     "name": "stdout",
     "output_type": "stream",
     "text": [
      "Train Loss: 0.074 | Accuracy: 97.542\n"
     ]
    },
    {
     "name": "stderr",
     "output_type": "stream",
     "text": [
      "100%|█████████████████████████████████████████| 169/169 [00:02<00:00, 58.29it/s]\n"
     ]
    },
    {
     "name": "stdout",
     "output_type": "stream",
     "text": [
      "Test Loss: 0.267 | Accuracy: 92.870\n",
      "Epoch : 20\n"
     ]
    },
    {
     "name": "stderr",
     "output_type": "stream",
     "text": [
      "100%|█████████████████████████████████████████| 675/675 [00:40<00:00, 16.52it/s]\n"
     ]
    },
    {
     "name": "stdout",
     "output_type": "stream",
     "text": [
      "Train Loss: 0.068 | Accuracy: 97.657\n"
     ]
    },
    {
     "name": "stderr",
     "output_type": "stream",
     "text": [
      "100%|█████████████████████████████████████████| 169/169 [00:02<00:00, 57.58it/s]\n"
     ]
    },
    {
     "name": "stdout",
     "output_type": "stream",
     "text": [
      "Test Loss: 0.227 | Accuracy: 93.444\n",
      "Epoch : 21\n"
     ]
    },
    {
     "name": "stderr",
     "output_type": "stream",
     "text": [
      "100%|█████████████████████████████████████████| 675/675 [00:40<00:00, 16.48it/s]\n"
     ]
    },
    {
     "name": "stdout",
     "output_type": "stream",
     "text": [
      "Train Loss: 0.058 | Accuracy: 97.940\n"
     ]
    },
    {
     "name": "stderr",
     "output_type": "stream",
     "text": [
      "100%|█████████████████████████████████████████| 169/169 [00:02<00:00, 57.76it/s]\n"
     ]
    },
    {
     "name": "stdout",
     "output_type": "stream",
     "text": [
      "Test Loss: 0.398 | Accuracy: 88.796\n",
      "Epoch : 22\n"
     ]
    },
    {
     "name": "stderr",
     "output_type": "stream",
     "text": [
      "100%|█████████████████████████████████████████| 675/675 [00:41<00:00, 16.39it/s]\n"
     ]
    },
    {
     "name": "stdout",
     "output_type": "stream",
     "text": [
      "Train Loss: 0.074 | Accuracy: 97.449\n"
     ]
    },
    {
     "name": "stderr",
     "output_type": "stream",
     "text": [
      "100%|█████████████████████████████████████████| 169/169 [00:02<00:00, 57.99it/s]\n"
     ]
    },
    {
     "name": "stdout",
     "output_type": "stream",
     "text": [
      "Test Loss: 0.368 | Accuracy: 89.870\n",
      "Epoch : 23\n"
     ]
    },
    {
     "name": "stderr",
     "output_type": "stream",
     "text": [
      "100%|█████████████████████████████████████████| 675/675 [00:41<00:00, 16.40it/s]\n"
     ]
    },
    {
     "name": "stdout",
     "output_type": "stream",
     "text": [
      "Train Loss: 0.050 | Accuracy: 98.259\n"
     ]
    },
    {
     "name": "stderr",
     "output_type": "stream",
     "text": [
      "100%|█████████████████████████████████████████| 169/169 [00:02<00:00, 57.94it/s]\n"
     ]
    },
    {
     "name": "stdout",
     "output_type": "stream",
     "text": [
      "Test Loss: 0.219 | Accuracy: 93.778\n",
      "Epoch : 24\n"
     ]
    },
    {
     "name": "stderr",
     "output_type": "stream",
     "text": [
      "100%|█████████████████████████████████████████| 675/675 [00:41<00:00, 16.43it/s]\n"
     ]
    },
    {
     "name": "stdout",
     "output_type": "stream",
     "text": [
      "Train Loss: 0.061 | Accuracy: 97.866\n"
     ]
    },
    {
     "name": "stderr",
     "output_type": "stream",
     "text": [
      "100%|█████████████████████████████████████████| 169/169 [00:02<00:00, 57.59it/s]\n"
     ]
    },
    {
     "name": "stdout",
     "output_type": "stream",
     "text": [
      "Test Loss: 0.394 | Accuracy: 91.000\n",
      "Epoch : 25\n"
     ]
    },
    {
     "name": "stderr",
     "output_type": "stream",
     "text": [
      "100%|█████████████████████████████████████████| 675/675 [00:40<00:00, 16.47it/s]\n"
     ]
    },
    {
     "name": "stdout",
     "output_type": "stream",
     "text": [
      "Train Loss: 0.040 | Accuracy: 98.671\n"
     ]
    },
    {
     "name": "stderr",
     "output_type": "stream",
     "text": [
      "100%|█████████████████████████████████████████| 169/169 [00:02<00:00, 58.24it/s]\n"
     ]
    },
    {
     "name": "stdout",
     "output_type": "stream",
     "text": [
      "Test Loss: 0.332 | Accuracy: 91.019\n",
      "Epoch : 26\n"
     ]
    },
    {
     "name": "stderr",
     "output_type": "stream",
     "text": [
      "100%|█████████████████████████████████████████| 675/675 [00:40<00:00, 16.48it/s]\n"
     ]
    },
    {
     "name": "stdout",
     "output_type": "stream",
     "text": [
      "Train Loss: 0.063 | Accuracy: 97.852\n"
     ]
    },
    {
     "name": "stderr",
     "output_type": "stream",
     "text": [
      "100%|█████████████████████████████████████████| 169/169 [00:02<00:00, 58.24it/s]\n"
     ]
    },
    {
     "name": "stdout",
     "output_type": "stream",
     "text": [
      "Test Loss: 0.326 | Accuracy: 91.481\n",
      "Epoch : 27\n"
     ]
    },
    {
     "name": "stderr",
     "output_type": "stream",
     "text": [
      "100%|█████████████████████████████████████████| 675/675 [00:40<00:00, 16.48it/s]\n"
     ]
    },
    {
     "name": "stdout",
     "output_type": "stream",
     "text": [
      "Train Loss: 0.037 | Accuracy: 98.722\n"
     ]
    },
    {
     "name": "stderr",
     "output_type": "stream",
     "text": [
      "100%|█████████████████████████████████████████| 169/169 [00:02<00:00, 57.26it/s]\n"
     ]
    },
    {
     "name": "stdout",
     "output_type": "stream",
     "text": [
      "Test Loss: 0.393 | Accuracy: 90.444\n",
      "Epoch : 28\n"
     ]
    },
    {
     "name": "stderr",
     "output_type": "stream",
     "text": [
      "100%|█████████████████████████████████████████| 675/675 [00:41<00:00, 16.45it/s]\n"
     ]
    },
    {
     "name": "stdout",
     "output_type": "stream",
     "text": [
      "Train Loss: 0.041 | Accuracy: 98.699\n"
     ]
    },
    {
     "name": "stderr",
     "output_type": "stream",
     "text": [
      "100%|█████████████████████████████████████████| 169/169 [00:02<00:00, 58.52it/s]\n"
     ]
    },
    {
     "name": "stdout",
     "output_type": "stream",
     "text": [
      "Test Loss: 0.498 | Accuracy: 87.667\n",
      "Epoch : 29\n"
     ]
    },
    {
     "name": "stderr",
     "output_type": "stream",
     "text": [
      "100%|█████████████████████████████████████████| 675/675 [00:41<00:00, 16.33it/s]\n"
     ]
    },
    {
     "name": "stdout",
     "output_type": "stream",
     "text": [
      "Train Loss: 0.037 | Accuracy: 98.782\n"
     ]
    },
    {
     "name": "stderr",
     "output_type": "stream",
     "text": [
      "100%|█████████████████████████████████████████| 169/169 [00:02<00:00, 57.62it/s]\n"
     ]
    },
    {
     "name": "stdout",
     "output_type": "stream",
     "text": [
      "Test Loss: 0.333 | Accuracy: 91.889\n",
      "Epoch : 30\n"
     ]
    },
    {
     "name": "stderr",
     "output_type": "stream",
     "text": [
      "100%|█████████████████████████████████████████| 675/675 [00:40<00:00, 16.48it/s]\n"
     ]
    },
    {
     "name": "stdout",
     "output_type": "stream",
     "text": [
      "Train Loss: 0.041 | Accuracy: 98.620\n"
     ]
    },
    {
     "name": "stderr",
     "output_type": "stream",
     "text": [
      "100%|█████████████████████████████████████████| 169/169 [00:02<00:00, 58.25it/s]"
     ]
    },
    {
     "name": "stdout",
     "output_type": "stream",
     "text": [
      "Test Loss: 0.324 | Accuracy: 92.037\n",
      "Training time: 1324.77 seconds\n"
     ]
    },
    {
     "name": "stderr",
     "output_type": "stream",
     "text": [
      "\n"
     ]
    }
   ],
   "source": [
    "import time\n",
    "epochs = 30\n",
    "\n",
    "# Start the timer\n",
    "\n",
    "start_time = time.time()\n",
    "for epoch in range(1,epochs+1): \n",
    "    train(epoch)\n",
    "    test(epoch)\n",
    "# End the timer\n",
    "end_time = time.time()\n",
    "\n",
    "# Calculate the training time\n",
    "training_time = end_time - start_time\n",
    "\n",
    "print('Training time: {:.2f} seconds'.format(training_time))\n"
   ]
  },
  {
   "cell_type": "code",
   "execution_count": 25,
   "id": "25b010cc-ff64-4fad-8fae-6970328637e1",
   "metadata": {},
   "outputs": [],
   "source": [
    "import matplotlib.pyplot as plt\n"
   ]
  },
  {
   "cell_type": "code",
   "execution_count": 26,
   "id": "61b1158d-c9ad-40f7-8eca-8f99e79fe356",
   "metadata": {},
   "outputs": [
    {
     "data": {
      "image/png": "[encoded data removed]",
      "text/plain": [
       "<Figure size 432x288 with 1 Axes>"
      ]
     },
     "metadata": {
      "needs_background": "light"
     },
     "output_type": "display_data"
    }
   ],
   "source": [
    "#plot accuracy\n",
    "plt.plot(train_accu,'-o')\n",
    "plt.plot(eval_accu,'-o')\n",
    "plt.xlabel('epoch')\n",
    "plt.ylabel('accuracy')\n",
    "plt.legend(['Train','Valid'])\n",
    "plt.title('Train vs Valid Accuracy')\n",
    "\n",
    "plt.show()"
   ]
  },
  {
   "cell_type": "code",
   "execution_count": 27,
   "id": "1581e427-ac07-40cc-8ae1-354f32c59c83",
   "metadata": {},
   "outputs": [
    {
     "data": {
      "image/png": "[encoded data removed]",
      "text/plain": [
       "<Figure size 432x288 with 1 Axes>"
      ]
     },
     "metadata": {
      "needs_background": "light"
     },
     "output_type": "display_data"
    }
   ],
   "source": [
    "#plot losses\n",
    "\n",
    "plt.plot(train_losses,'-o')\n",
    "plt.plot(eval_losses,'-o')\n",
    "plt.xlabel('epoch')\n",
    "plt.ylabel('losses')\n",
    "plt.legend(['Train','Valid'])\n",
    "plt.title('Train vs Valid Losses')\n",
    "\n",
    "plt.show()"
   ]
  },
  {
   "cell_type": "code",
   "execution_count": 28,
   "id": "f6b833dc-88ad-4725-aff4-aea913a5e34e",
   "metadata": {},
   "outputs": [
    {
     "name": "stderr",
     "output_type": "stream",
     "text": [
      "100%|█████████████████████████████████████████| 169/169 [00:02<00:00, 60.00it/s]"
     ]
    },
    {
     "name": "stdout",
     "output_type": "stream",
     "text": [
      "Precision:  0.9205240684699113\n",
      "Recall:  0.9181333333333335\n",
      "Confusion matrix:\n",
      " [[533   3   7  20   0  13  24   0   0   0]\n",
      " [  3 565   8   7   0  16   0   0   1   0]\n",
      " [  7   5 538   6   5   1  25   9   3   1]\n",
      " [  5   0   8 463   6   4   3   8   3   0]\n",
      " [  0   0   0  14 454   0   0  32   0   0]\n",
      " [  3   2  13   1   0 366  15   0   0   0]\n",
      " [  8   0  58  19   6   1 398  10   0   0]\n",
      " [  0   1   2   6   1   0   1 589   0   0]\n",
      " [  7   1   2  15   1   8   0   1 464   1]\n",
      " [  0   0   0   0   0   0   0   0   0 600]]\n",
      "Report:\n",
      "               precision    recall  f1-score   support\n",
      "\n",
      "         0.0       0.94      0.89      0.91       600\n",
      "         1.0       0.98      0.94      0.96       600\n",
      "         2.0       0.85      0.90      0.87       600\n",
      "         3.0       0.84      0.93      0.88       500\n",
      "         4.0       0.96      0.91      0.93       500\n",
      "         5.0       0.89      0.92      0.90       400\n",
      "         6.0       0.85      0.80      0.82       500\n",
      "         7.0       0.91      0.98      0.94       600\n",
      "         8.0       0.99      0.93      0.96       500\n",
      "         9.0       1.00      1.00      1.00       600\n",
      "\n",
      "    accuracy                           0.92      5400\n",
      "   macro avg       0.92      0.92      0.92      5400\n",
      "weighted avg       0.92      0.92      0.92      5400\n",
      "\n"
     ]
    },
    {
     "name": "stderr",
     "output_type": "stream",
     "text": [
      "\n"
     ]
    }
   ],
   "source": [
    "from sklearn.metrics import confusion_matrix ,classification_report, precision_score, recall_score\n",
    "\n",
    "# testing\n",
    "ttloss = []\n",
    "ttacc = []\n",
    "ttf1 = []\n",
    "\n",
    "T_val = []\n",
    "P_val = []\n",
    "\n",
    "with torch.no_grad():\n",
    "    model.eval()\n",
    "    for (X_val, y_val) in tqdm(test_loader):\n",
    "        X_val = X_val.float().cuda()\n",
    "        y_val = y_val.float().cuda()\n",
    "        #X_val, y_val = X_val.to(device), y_val.to(device)\n",
    "        #y_val = y_val.type(torch.cuda.LongTensor)\n",
    "        \n",
    "        output = model(X_val)\n",
    "        #print(output.shape)\n",
    "        \n",
    "        outputs = torch.max(output, dim=1)[1]\n",
    "        #print(outputs.shape)\n",
    "        T_val.extend(y_val.cpu().numpy())\n",
    "        #print(T_val)\n",
    "        P_val.extend(outputs.cpu().numpy())\n",
    "    #print(T_val)\n",
    "    #print(P_val)\n",
    "    precision = precision_score(T_val, P_val, average='macro')\n",
    "    recall = recall_score(T_val, P_val, average='macro')\n",
    "    res = confusion_matrix(T_val, P_val)\n",
    "    report = classification_report(T_val, P_val)\n",
    "    \n",
    "    print(\"Precision: \",precision)\n",
    "    print(\"Recall: \",recall)\n",
    "\n",
    "    print('Confusion matrix:\\n',res)\n",
    "    print('Report:\\n',report)"
   ]
  },
  {
   "cell_type": "markdown",
   "id": "bb44c71e-1e95-46f3-9bca-2148acb0eb81",
   "metadata": {},
   "source": [
    "# Running Resnet 152 model"
   ]
  },
  {
   "cell_type": "code",
   "execution_count": 49,
   "id": "34870037-5e79-402d-a122-4263d7f8e154",
   "metadata": {},
   "outputs": [
    {
     "data": {
      "text/plain": [
       "CrossEntropyLoss()"
      ]
     },
     "execution_count": 49,
     "metadata": {},
     "output_type": "execute_result"
    }
   ],
   "source": [
    "# Define the ResNet-152 model\n",
    "model = models.resnet152(pretrained=False)\n",
    "num_classes = 10\n",
    "model.fc = nn.Linear(2048, num_classes)\n",
    "\n",
    "# Modify the first convolution layer to accept 5-channel input\n",
    "model.conv1 = nn.Conv2d(4, 64, kernel_size=7, stride=2, padding=3, bias=False)\n",
    "\n",
    "# Define the loss function and optimizer\n",
    "criterion = nn.CrossEntropyLoss()\n",
    "optimizer = optim.Adam(model.parameters(), lr=0.001)\n",
    "\n",
    "# Move the model and loss function to the device\n",
    "model.to(device)\n",
    "criterion.to(device)"
   ]
  },
  {
   "cell_type": "code",
   "execution_count": 50,
   "id": "63b1f7cc-4e64-4dc0-a294-794f20d3dd95",
   "metadata": {},
   "outputs": [
    {
     "name": "stdout",
     "output_type": "stream",
     "text": [
      "----------------------------------------------------------------\n",
      "        Layer (type)               Output Shape         Param #\n",
      "================================================================\n",
      "            Conv2d-1           [-1, 64, 32, 32]          12,544\n",
      "       BatchNorm2d-2           [-1, 64, 32, 32]             128\n",
      "              ReLU-3           [-1, 64, 32, 32]               0\n",
      "         MaxPool2d-4           [-1, 64, 16, 16]               0\n",
      "            Conv2d-5           [-1, 64, 16, 16]           4,096\n",
      "       BatchNorm2d-6           [-1, 64, 16, 16]             128\n",
      "              ReLU-7           [-1, 64, 16, 16]               0\n",
      "            Conv2d-8           [-1, 64, 16, 16]          36,864\n",
      "       BatchNorm2d-9           [-1, 64, 16, 16]             128\n",
      "             ReLU-10           [-1, 64, 16, 16]               0\n",
      "           Conv2d-11          [-1, 256, 16, 16]          16,384\n",
      "      BatchNorm2d-12          [-1, 256, 16, 16]             512\n",
      "           Conv2d-13          [-1, 256, 16, 16]          16,384\n",
      "      BatchNorm2d-14          [-1, 256, 16, 16]             512\n",
      "             ReLU-15          [-1, 256, 16, 16]               0\n",
      "       Bottleneck-16          [-1, 256, 16, 16]               0\n",
      "           Conv2d-17           [-1, 64, 16, 16]          16,384\n",
      "      BatchNorm2d-18           [-1, 64, 16, 16]             128\n",
      "             ReLU-19           [-1, 64, 16, 16]               0\n",
      "           Conv2d-20           [-1, 64, 16, 16]          36,864\n",
      "      BatchNorm2d-21           [-1, 64, 16, 16]             128\n",
      "             ReLU-22           [-1, 64, 16, 16]               0\n",
      "           Conv2d-23          [-1, 256, 16, 16]          16,384\n",
      "      BatchNorm2d-24          [-1, 256, 16, 16]             512\n",
      "             ReLU-25          [-1, 256, 16, 16]               0\n",
      "       Bottleneck-26          [-1, 256, 16, 16]               0\n",
      "           Conv2d-27           [-1, 64, 16, 16]          16,384\n",
      "      BatchNorm2d-28           [-1, 64, 16, 16]             128\n",
      "             ReLU-29           [-1, 64, 16, 16]               0\n",
      "           Conv2d-30           [-1, 64, 16, 16]          36,864\n",
      "      BatchNorm2d-31           [-1, 64, 16, 16]             128\n",
      "             ReLU-32           [-1, 64, 16, 16]               0\n",
      "           Conv2d-33          [-1, 256, 16, 16]          16,384\n",
      "      BatchNorm2d-34          [-1, 256, 16, 16]             512\n",
      "             ReLU-35          [-1, 256, 16, 16]               0\n",
      "       Bottleneck-36          [-1, 256, 16, 16]               0\n",
      "           Conv2d-37          [-1, 128, 16, 16]          32,768\n",
      "      BatchNorm2d-38          [-1, 128, 16, 16]             256\n",
      "             ReLU-39          [-1, 128, 16, 16]               0\n",
      "           Conv2d-40            [-1, 128, 8, 8]         147,456\n",
      "      BatchNorm2d-41            [-1, 128, 8, 8]             256\n",
      "             ReLU-42            [-1, 128, 8, 8]               0\n",
      "           Conv2d-43            [-1, 512, 8, 8]          65,536\n",
      "      BatchNorm2d-44            [-1, 512, 8, 8]           1,024\n",
      "           Conv2d-45            [-1, 512, 8, 8]         131,072\n",
      "      BatchNorm2d-46            [-1, 512, 8, 8]           1,024\n",
      "             ReLU-47            [-1, 512, 8, 8]               0\n",
      "       Bottleneck-48            [-1, 512, 8, 8]               0\n",
      "           Conv2d-49            [-1, 128, 8, 8]          65,536\n",
      "      BatchNorm2d-50            [-1, 128, 8, 8]             256\n",
      "             ReLU-51            [-1, 128, 8, 8]               0\n",
      "           Conv2d-52            [-1, 128, 8, 8]         147,456\n",
      "      BatchNorm2d-53            [-1, 128, 8, 8]             256\n",
      "             ReLU-54            [-1, 128, 8, 8]               0\n",
      "           Conv2d-55            [-1, 512, 8, 8]          65,536\n",
      "      BatchNorm2d-56            [-1, 512, 8, 8]           1,024\n",
      "             ReLU-57            [-1, 512, 8, 8]               0\n",
      "       Bottleneck-58            [-1, 512, 8, 8]               0\n",
      "           Conv2d-59            [-1, 128, 8, 8]          65,536\n",
      "      BatchNorm2d-60            [-1, 128, 8, 8]             256\n",
      "             ReLU-61            [-1, 128, 8, 8]               0\n",
      "           Conv2d-62            [-1, 128, 8, 8]         147,456\n",
      "      BatchNorm2d-63            [-1, 128, 8, 8]             256\n",
      "             ReLU-64            [-1, 128, 8, 8]               0\n",
      "           Conv2d-65            [-1, 512, 8, 8]          65,536\n",
      "      BatchNorm2d-66            [-1, 512, 8, 8]           1,024\n",
      "             ReLU-67            [-1, 512, 8, 8]               0\n",
      "       Bottleneck-68            [-1, 512, 8, 8]               0\n",
      "           Conv2d-69            [-1, 128, 8, 8]          65,536\n",
      "      BatchNorm2d-70            [-1, 128, 8, 8]             256\n",
      "             ReLU-71            [-1, 128, 8, 8]               0\n",
      "           Conv2d-72            [-1, 128, 8, 8]         147,456\n",
      "      BatchNorm2d-73            [-1, 128, 8, 8]             256\n",
      "             ReLU-74            [-1, 128, 8, 8]               0\n",
      "           Conv2d-75            [-1, 512, 8, 8]          65,536\n",
      "      BatchNorm2d-76            [-1, 512, 8, 8]           1,024\n",
      "             ReLU-77            [-1, 512, 8, 8]               0\n",
      "       Bottleneck-78            [-1, 512, 8, 8]               0\n",
      "           Conv2d-79            [-1, 128, 8, 8]          65,536\n",
      "      BatchNorm2d-80            [-1, 128, 8, 8]             256\n",
      "             ReLU-81            [-1, 128, 8, 8]               0\n",
      "           Conv2d-82            [-1, 128, 8, 8]         147,456\n",
      "      BatchNorm2d-83            [-1, 128, 8, 8]             256\n",
      "             ReLU-84            [-1, 128, 8, 8]               0\n",
      "           Conv2d-85            [-1, 512, 8, 8]          65,536\n",
      "      BatchNorm2d-86            [-1, 512, 8, 8]           1,024\n",
      "             ReLU-87            [-1, 512, 8, 8]               0\n",
      "       Bottleneck-88            [-1, 512, 8, 8]               0\n",
      "           Conv2d-89            [-1, 128, 8, 8]          65,536\n",
      "      BatchNorm2d-90            [-1, 128, 8, 8]             256\n",
      "             ReLU-91            [-1, 128, 8, 8]               0\n",
      "           Conv2d-92            [-1, 128, 8, 8]         147,456\n",
      "      BatchNorm2d-93            [-1, 128, 8, 8]             256\n",
      "             ReLU-94            [-1, 128, 8, 8]               0\n",
      "           Conv2d-95            [-1, 512, 8, 8]          65,536\n",
      "      BatchNorm2d-96            [-1, 512, 8, 8]           1,024\n",
      "             ReLU-97            [-1, 512, 8, 8]               0\n",
      "       Bottleneck-98            [-1, 512, 8, 8]               0\n",
      "           Conv2d-99            [-1, 128, 8, 8]          65,536\n",
      "     BatchNorm2d-100            [-1, 128, 8, 8]             256\n",
      "            ReLU-101            [-1, 128, 8, 8]               0\n",
      "          Conv2d-102            [-1, 128, 8, 8]         147,456\n",
      "     BatchNorm2d-103            [-1, 128, 8, 8]             256\n",
      "            ReLU-104            [-1, 128, 8, 8]               0\n",
      "          Conv2d-105            [-1, 512, 8, 8]          65,536\n",
      "     BatchNorm2d-106            [-1, 512, 8, 8]           1,024\n",
      "            ReLU-107            [-1, 512, 8, 8]               0\n",
      "      Bottleneck-108            [-1, 512, 8, 8]               0\n",
      "          Conv2d-109            [-1, 128, 8, 8]          65,536\n",
      "     BatchNorm2d-110            [-1, 128, 8, 8]             256\n",
      "            ReLU-111            [-1, 128, 8, 8]               0\n",
      "          Conv2d-112            [-1, 128, 8, 8]         147,456\n",
      "     BatchNorm2d-113            [-1, 128, 8, 8]             256\n",
      "            ReLU-114            [-1, 128, 8, 8]               0\n",
      "          Conv2d-115            [-1, 512, 8, 8]          65,536\n",
      "     BatchNorm2d-116            [-1, 512, 8, 8]           1,024\n",
      "            ReLU-117            [-1, 512, 8, 8]               0\n",
      "      Bottleneck-118            [-1, 512, 8, 8]               0\n",
      "          Conv2d-119            [-1, 256, 8, 8]         131,072\n",
      "     BatchNorm2d-120            [-1, 256, 8, 8]             512\n",
      "            ReLU-121            [-1, 256, 8, 8]               0\n",
      "          Conv2d-122            [-1, 256, 4, 4]         589,824\n",
      "     BatchNorm2d-123            [-1, 256, 4, 4]             512\n",
      "            ReLU-124            [-1, 256, 4, 4]               0\n",
      "          Conv2d-125           [-1, 1024, 4, 4]         262,144\n",
      "     BatchNorm2d-126           [-1, 1024, 4, 4]           2,048\n",
      "          Conv2d-127           [-1, 1024, 4, 4]         524,288\n",
      "     BatchNorm2d-128           [-1, 1024, 4, 4]           2,048\n",
      "            ReLU-129           [-1, 1024, 4, 4]               0\n",
      "      Bottleneck-130           [-1, 1024, 4, 4]               0\n",
      "          Conv2d-131            [-1, 256, 4, 4]         262,144\n",
      "     BatchNorm2d-132            [-1, 256, 4, 4]             512\n",
      "            ReLU-133            [-1, 256, 4, 4]               0\n",
      "          Conv2d-134            [-1, 256, 4, 4]         589,824\n",
      "     BatchNorm2d-135            [-1, 256, 4, 4]             512\n",
      "            ReLU-136            [-1, 256, 4, 4]               0\n",
      "          Conv2d-137           [-1, 1024, 4, 4]         262,144\n",
      "     BatchNorm2d-138           [-1, 1024, 4, 4]           2,048\n",
      "            ReLU-139           [-1, 1024, 4, 4]               0\n",
      "      Bottleneck-140           [-1, 1024, 4, 4]               0\n",
      "          Conv2d-141            [-1, 256, 4, 4]         262,144\n",
      "     BatchNorm2d-142            [-1, 256, 4, 4]             512\n",
      "            ReLU-143            [-1, 256, 4, 4]               0\n",
      "          Conv2d-144            [-1, 256, 4, 4]         589,824\n",
      "     BatchNorm2d-145            [-1, 256, 4, 4]             512\n",
      "            ReLU-146            [-1, 256, 4, 4]               0\n",
      "          Conv2d-147           [-1, 1024, 4, 4]         262,144\n",
      "     BatchNorm2d-148           [-1, 1024, 4, 4]           2,048\n",
      "            ReLU-149           [-1, 1024, 4, 4]               0\n",
      "      Bottleneck-150           [-1, 1024, 4, 4]               0\n",
      "          Conv2d-151            [-1, 256, 4, 4]         262,144\n",
      "     BatchNorm2d-152            [-1, 256, 4, 4]             512\n",
      "            ReLU-153            [-1, 256, 4, 4]               0\n",
      "          Conv2d-154            [-1, 256, 4, 4]         589,824\n",
      "     BatchNorm2d-155            [-1, 256, 4, 4]             512\n",
      "            ReLU-156            [-1, 256, 4, 4]               0\n",
      "          Conv2d-157           [-1, 1024, 4, 4]         262,144\n",
      "     BatchNorm2d-158           [-1, 1024, 4, 4]           2,048\n",
      "            ReLU-159           [-1, 1024, 4, 4]               0\n",
      "      Bottleneck-160           [-1, 1024, 4, 4]               0\n",
      "          Conv2d-161            [-1, 256, 4, 4]         262,144\n",
      "     BatchNorm2d-162            [-1, 256, 4, 4]             512\n",
      "            ReLU-163            [-1, 256, 4, 4]               0\n",
      "          Conv2d-164            [-1, 256, 4, 4]         589,824\n",
      "     BatchNorm2d-165            [-1, 256, 4, 4]             512\n",
      "            ReLU-166            [-1, 256, 4, 4]               0\n",
      "          Conv2d-167           [-1, 1024, 4, 4]         262,144\n",
      "     BatchNorm2d-168           [-1, 1024, 4, 4]           2,048\n",
      "            ReLU-169           [-1, 1024, 4, 4]               0\n",
      "      Bottleneck-170           [-1, 1024, 4, 4]               0\n",
      "          Conv2d-171            [-1, 256, 4, 4]         262,144\n",
      "     BatchNorm2d-172            [-1, 256, 4, 4]             512\n",
      "            ReLU-173            [-1, 256, 4, 4]               0\n",
      "          Conv2d-174            [-1, 256, 4, 4]         589,824\n",
      "     BatchNorm2d-175            [-1, 256, 4, 4]             512\n",
      "            ReLU-176            [-1, 256, 4, 4]               0\n",
      "          Conv2d-177           [-1, 1024, 4, 4]         262,144\n",
      "     BatchNorm2d-178           [-1, 1024, 4, 4]           2,048\n",
      "            ReLU-179           [-1, 1024, 4, 4]               0\n",
      "      Bottleneck-180           [-1, 1024, 4, 4]               0\n",
      "          Conv2d-181            [-1, 256, 4, 4]         262,144\n",
      "     BatchNorm2d-182            [-1, 256, 4, 4]             512\n",
      "            ReLU-183            [-1, 256, 4, 4]               0\n",
      "          Conv2d-184            [-1, 256, 4, 4]         589,824\n",
      "     BatchNorm2d-185            [-1, 256, 4, 4]             512\n",
      "            ReLU-186            [-1, 256, 4, 4]               0\n",
      "          Conv2d-187           [-1, 1024, 4, 4]         262,144\n",
      "     BatchNorm2d-188           [-1, 1024, 4, 4]           2,048\n",
      "            ReLU-189           [-1, 1024, 4, 4]               0\n",
      "      Bottleneck-190           [-1, 1024, 4, 4]               0\n",
      "          Conv2d-191            [-1, 256, 4, 4]         262,144\n",
      "     BatchNorm2d-192            [-1, 256, 4, 4]             512\n",
      "            ReLU-193            [-1, 256, 4, 4]               0\n",
      "          Conv2d-194            [-1, 256, 4, 4]         589,824\n",
      "     BatchNorm2d-195            [-1, 256, 4, 4]             512\n",
      "            ReLU-196            [-1, 256, 4, 4]               0\n",
      "          Conv2d-197           [-1, 1024, 4, 4]         262,144\n",
      "     BatchNorm2d-198           [-1, 1024, 4, 4]           2,048\n",
      "            ReLU-199           [-1, 1024, 4, 4]               0\n",
      "      Bottleneck-200           [-1, 1024, 4, 4]               0\n",
      "          Conv2d-201            [-1, 256, 4, 4]         262,144\n",
      "     BatchNorm2d-202            [-1, 256, 4, 4]             512\n",
      "            ReLU-203            [-1, 256, 4, 4]               0\n",
      "          Conv2d-204            [-1, 256, 4, 4]         589,824\n",
      "     BatchNorm2d-205            [-1, 256, 4, 4]             512\n",
      "            ReLU-206            [-1, 256, 4, 4]               0\n",
      "          Conv2d-207           [-1, 1024, 4, 4]         262,144\n",
      "     BatchNorm2d-208           [-1, 1024, 4, 4]           2,048\n",
      "            ReLU-209           [-1, 1024, 4, 4]               0\n",
      "      Bottleneck-210           [-1, 1024, 4, 4]               0\n",
      "          Conv2d-211            [-1, 256, 4, 4]         262,144\n",
      "     BatchNorm2d-212            [-1, 256, 4, 4]             512\n",
      "            ReLU-213            [-1, 256, 4, 4]               0\n",
      "          Conv2d-214            [-1, 256, 4, 4]         589,824\n",
      "     BatchNorm2d-215            [-1, 256, 4, 4]             512\n",
      "            ReLU-216            [-1, 256, 4, 4]               0\n",
      "          Conv2d-217           [-1, 1024, 4, 4]         262,144\n",
      "     BatchNorm2d-218           [-1, 1024, 4, 4]           2,048\n",
      "            ReLU-219           [-1, 1024, 4, 4]               0\n",
      "      Bottleneck-220           [-1, 1024, 4, 4]               0\n",
      "          Conv2d-221            [-1, 256, 4, 4]         262,144\n",
      "     BatchNorm2d-222            [-1, 256, 4, 4]             512\n",
      "            ReLU-223            [-1, 256, 4, 4]               0\n",
      "          Conv2d-224            [-1, 256, 4, 4]         589,824\n",
      "     BatchNorm2d-225            [-1, 256, 4, 4]             512\n",
      "            ReLU-226            [-1, 256, 4, 4]               0\n",
      "          Conv2d-227           [-1, 1024, 4, 4]         262,144\n",
      "     BatchNorm2d-228           [-1, 1024, 4, 4]           2,048\n",
      "            ReLU-229           [-1, 1024, 4, 4]               0\n",
      "      Bottleneck-230           [-1, 1024, 4, 4]               0\n",
      "          Conv2d-231            [-1, 256, 4, 4]         262,144\n",
      "     BatchNorm2d-232            [-1, 256, 4, 4]             512\n",
      "            ReLU-233            [-1, 256, 4, 4]               0\n",
      "          Conv2d-234            [-1, 256, 4, 4]         589,824\n",
      "     BatchNorm2d-235            [-1, 256, 4, 4]             512\n",
      "            ReLU-236            [-1, 256, 4, 4]               0\n",
      "          Conv2d-237           [-1, 1024, 4, 4]         262,144\n",
      "     BatchNorm2d-238           [-1, 1024, 4, 4]           2,048\n",
      "            ReLU-239           [-1, 1024, 4, 4]               0\n",
      "      Bottleneck-240           [-1, 1024, 4, 4]               0\n",
      "          Conv2d-241            [-1, 256, 4, 4]         262,144\n",
      "     BatchNorm2d-242            [-1, 256, 4, 4]             512\n",
      "            ReLU-243            [-1, 256, 4, 4]               0\n",
      "          Conv2d-244            [-1, 256, 4, 4]         589,824\n",
      "     BatchNorm2d-245            [-1, 256, 4, 4]             512\n",
      "            ReLU-246            [-1, 256, 4, 4]               0\n",
      "          Conv2d-247           [-1, 1024, 4, 4]         262,144\n",
      "     BatchNorm2d-248           [-1, 1024, 4, 4]           2,048\n",
      "            ReLU-249           [-1, 1024, 4, 4]               0\n",
      "      Bottleneck-250           [-1, 1024, 4, 4]               0\n",
      "          Conv2d-251            [-1, 256, 4, 4]         262,144\n",
      "     BatchNorm2d-252            [-1, 256, 4, 4]             512\n",
      "            ReLU-253            [-1, 256, 4, 4]               0\n",
      "          Conv2d-254            [-1, 256, 4, 4]         589,824\n",
      "     BatchNorm2d-255            [-1, 256, 4, 4]             512\n",
      "            ReLU-256            [-1, 256, 4, 4]               0\n",
      "          Conv2d-257           [-1, 1024, 4, 4]         262,144\n",
      "     BatchNorm2d-258           [-1, 1024, 4, 4]           2,048\n",
      "            ReLU-259           [-1, 1024, 4, 4]               0\n",
      "      Bottleneck-260           [-1, 1024, 4, 4]               0\n",
      "          Conv2d-261            [-1, 256, 4, 4]         262,144\n",
      "     BatchNorm2d-262            [-1, 256, 4, 4]             512\n",
      "            ReLU-263            [-1, 256, 4, 4]               0\n",
      "          Conv2d-264            [-1, 256, 4, 4]         589,824\n",
      "     BatchNorm2d-265            [-1, 256, 4, 4]             512\n",
      "            ReLU-266            [-1, 256, 4, 4]               0\n",
      "          Conv2d-267           [-1, 1024, 4, 4]         262,144\n",
      "     BatchNorm2d-268           [-1, 1024, 4, 4]           2,048\n",
      "            ReLU-269           [-1, 1024, 4, 4]               0\n",
      "      Bottleneck-270           [-1, 1024, 4, 4]               0\n",
      "          Conv2d-271            [-1, 256, 4, 4]         262,144\n",
      "     BatchNorm2d-272            [-1, 256, 4, 4]             512\n",
      "            ReLU-273            [-1, 256, 4, 4]               0\n",
      "          Conv2d-274            [-1, 256, 4, 4]         589,824\n",
      "     BatchNorm2d-275            [-1, 256, 4, 4]             512\n",
      "            ReLU-276            [-1, 256, 4, 4]               0\n",
      "          Conv2d-277           [-1, 1024, 4, 4]         262,144\n",
      "     BatchNorm2d-278           [-1, 1024, 4, 4]           2,048\n",
      "            ReLU-279           [-1, 1024, 4, 4]               0\n",
      "      Bottleneck-280           [-1, 1024, 4, 4]               0\n",
      "          Conv2d-281            [-1, 256, 4, 4]         262,144\n",
      "     BatchNorm2d-282            [-1, 256, 4, 4]             512\n",
      "            ReLU-283            [-1, 256, 4, 4]               0\n",
      "          Conv2d-284            [-1, 256, 4, 4]         589,824\n",
      "     BatchNorm2d-285            [-1, 256, 4, 4]             512\n",
      "            ReLU-286            [-1, 256, 4, 4]               0\n",
      "          Conv2d-287           [-1, 1024, 4, 4]         262,144\n",
      "     BatchNorm2d-288           [-1, 1024, 4, 4]           2,048\n",
      "            ReLU-289           [-1, 1024, 4, 4]               0\n",
      "      Bottleneck-290           [-1, 1024, 4, 4]               0\n",
      "          Conv2d-291            [-1, 256, 4, 4]         262,144\n",
      "     BatchNorm2d-292            [-1, 256, 4, 4]             512\n",
      "            ReLU-293            [-1, 256, 4, 4]               0\n",
      "          Conv2d-294            [-1, 256, 4, 4]         589,824\n",
      "     BatchNorm2d-295            [-1, 256, 4, 4]             512\n",
      "            ReLU-296            [-1, 256, 4, 4]               0\n",
      "          Conv2d-297           [-1, 1024, 4, 4]         262,144\n",
      "     BatchNorm2d-298           [-1, 1024, 4, 4]           2,048\n",
      "            ReLU-299           [-1, 1024, 4, 4]               0\n",
      "      Bottleneck-300           [-1, 1024, 4, 4]               0\n",
      "          Conv2d-301            [-1, 256, 4, 4]         262,144\n",
      "     BatchNorm2d-302            [-1, 256, 4, 4]             512\n",
      "            ReLU-303            [-1, 256, 4, 4]               0\n",
      "          Conv2d-304            [-1, 256, 4, 4]         589,824\n",
      "     BatchNorm2d-305            [-1, 256, 4, 4]             512\n",
      "            ReLU-306            [-1, 256, 4, 4]               0\n",
      "          Conv2d-307           [-1, 1024, 4, 4]         262,144\n",
      "     BatchNorm2d-308           [-1, 1024, 4, 4]           2,048\n",
      "            ReLU-309           [-1, 1024, 4, 4]               0\n",
      "      Bottleneck-310           [-1, 1024, 4, 4]               0\n",
      "          Conv2d-311            [-1, 256, 4, 4]         262,144\n",
      "     BatchNorm2d-312            [-1, 256, 4, 4]             512\n",
      "            ReLU-313            [-1, 256, 4, 4]               0\n",
      "          Conv2d-314            [-1, 256, 4, 4]         589,824\n",
      "     BatchNorm2d-315            [-1, 256, 4, 4]             512\n",
      "            ReLU-316            [-1, 256, 4, 4]               0\n",
      "          Conv2d-317           [-1, 1024, 4, 4]         262,144\n",
      "     BatchNorm2d-318           [-1, 1024, 4, 4]           2,048\n",
      "            ReLU-319           [-1, 1024, 4, 4]               0\n",
      "      Bottleneck-320           [-1, 1024, 4, 4]               0\n",
      "          Conv2d-321            [-1, 256, 4, 4]         262,144\n",
      "     BatchNorm2d-322            [-1, 256, 4, 4]             512\n",
      "            ReLU-323            [-1, 256, 4, 4]               0\n",
      "          Conv2d-324            [-1, 256, 4, 4]         589,824\n",
      "     BatchNorm2d-325            [-1, 256, 4, 4]             512\n",
      "            ReLU-326            [-1, 256, 4, 4]               0\n",
      "          Conv2d-327           [-1, 1024, 4, 4]         262,144\n",
      "     BatchNorm2d-328           [-1, 1024, 4, 4]           2,048\n",
      "            ReLU-329           [-1, 1024, 4, 4]               0\n",
      "      Bottleneck-330           [-1, 1024, 4, 4]               0\n",
      "          Conv2d-331            [-1, 256, 4, 4]         262,144\n",
      "     BatchNorm2d-332            [-1, 256, 4, 4]             512\n",
      "            ReLU-333            [-1, 256, 4, 4]               0\n",
      "          Conv2d-334            [-1, 256, 4, 4]         589,824\n",
      "     BatchNorm2d-335            [-1, 256, 4, 4]             512\n",
      "            ReLU-336            [-1, 256, 4, 4]               0\n",
      "          Conv2d-337           [-1, 1024, 4, 4]         262,144\n",
      "     BatchNorm2d-338           [-1, 1024, 4, 4]           2,048\n",
      "            ReLU-339           [-1, 1024, 4, 4]               0\n",
      "      Bottleneck-340           [-1, 1024, 4, 4]               0\n",
      "          Conv2d-341            [-1, 256, 4, 4]         262,144\n",
      "     BatchNorm2d-342            [-1, 256, 4, 4]             512\n",
      "            ReLU-343            [-1, 256, 4, 4]               0\n",
      "          Conv2d-344            [-1, 256, 4, 4]         589,824\n",
      "     BatchNorm2d-345            [-1, 256, 4, 4]             512\n",
      "            ReLU-346            [-1, 256, 4, 4]               0\n",
      "          Conv2d-347           [-1, 1024, 4, 4]         262,144\n",
      "     BatchNorm2d-348           [-1, 1024, 4, 4]           2,048\n",
      "            ReLU-349           [-1, 1024, 4, 4]               0\n",
      "      Bottleneck-350           [-1, 1024, 4, 4]               0\n",
      "          Conv2d-351            [-1, 256, 4, 4]         262,144\n",
      "     BatchNorm2d-352            [-1, 256, 4, 4]             512\n",
      "            ReLU-353            [-1, 256, 4, 4]               0\n",
      "          Conv2d-354            [-1, 256, 4, 4]         589,824\n",
      "     BatchNorm2d-355            [-1, 256, 4, 4]             512\n",
      "            ReLU-356            [-1, 256, 4, 4]               0\n",
      "          Conv2d-357           [-1, 1024, 4, 4]         262,144\n",
      "     BatchNorm2d-358           [-1, 1024, 4, 4]           2,048\n",
      "            ReLU-359           [-1, 1024, 4, 4]               0\n",
      "      Bottleneck-360           [-1, 1024, 4, 4]               0\n",
      "          Conv2d-361            [-1, 256, 4, 4]         262,144\n",
      "     BatchNorm2d-362            [-1, 256, 4, 4]             512\n",
      "            ReLU-363            [-1, 256, 4, 4]               0\n",
      "          Conv2d-364            [-1, 256, 4, 4]         589,824\n",
      "     BatchNorm2d-365            [-1, 256, 4, 4]             512\n",
      "            ReLU-366            [-1, 256, 4, 4]               0\n",
      "          Conv2d-367           [-1, 1024, 4, 4]         262,144\n",
      "     BatchNorm2d-368           [-1, 1024, 4, 4]           2,048\n",
      "            ReLU-369           [-1, 1024, 4, 4]               0\n",
      "      Bottleneck-370           [-1, 1024, 4, 4]               0\n",
      "          Conv2d-371            [-1, 256, 4, 4]         262,144\n",
      "     BatchNorm2d-372            [-1, 256, 4, 4]             512\n",
      "            ReLU-373            [-1, 256, 4, 4]               0\n",
      "          Conv2d-374            [-1, 256, 4, 4]         589,824\n",
      "     BatchNorm2d-375            [-1, 256, 4, 4]             512\n",
      "            ReLU-376            [-1, 256, 4, 4]               0\n",
      "          Conv2d-377           [-1, 1024, 4, 4]         262,144\n",
      "     BatchNorm2d-378           [-1, 1024, 4, 4]           2,048\n",
      "            ReLU-379           [-1, 1024, 4, 4]               0\n",
      "      Bottleneck-380           [-1, 1024, 4, 4]               0\n",
      "          Conv2d-381            [-1, 256, 4, 4]         262,144\n",
      "     BatchNorm2d-382            [-1, 256, 4, 4]             512\n",
      "            ReLU-383            [-1, 256, 4, 4]               0\n",
      "          Conv2d-384            [-1, 256, 4, 4]         589,824\n",
      "     BatchNorm2d-385            [-1, 256, 4, 4]             512\n",
      "            ReLU-386            [-1, 256, 4, 4]               0\n",
      "          Conv2d-387           [-1, 1024, 4, 4]         262,144\n",
      "     BatchNorm2d-388           [-1, 1024, 4, 4]           2,048\n",
      "            ReLU-389           [-1, 1024, 4, 4]               0\n",
      "      Bottleneck-390           [-1, 1024, 4, 4]               0\n",
      "          Conv2d-391            [-1, 256, 4, 4]         262,144\n",
      "     BatchNorm2d-392            [-1, 256, 4, 4]             512\n",
      "            ReLU-393            [-1, 256, 4, 4]               0\n",
      "          Conv2d-394            [-1, 256, 4, 4]         589,824\n",
      "     BatchNorm2d-395            [-1, 256, 4, 4]             512\n",
      "            ReLU-396            [-1, 256, 4, 4]               0\n",
      "          Conv2d-397           [-1, 1024, 4, 4]         262,144\n",
      "     BatchNorm2d-398           [-1, 1024, 4, 4]           2,048\n",
      "            ReLU-399           [-1, 1024, 4, 4]               0\n",
      "      Bottleneck-400           [-1, 1024, 4, 4]               0\n",
      "          Conv2d-401            [-1, 256, 4, 4]         262,144\n",
      "     BatchNorm2d-402            [-1, 256, 4, 4]             512\n",
      "            ReLU-403            [-1, 256, 4, 4]               0\n",
      "          Conv2d-404            [-1, 256, 4, 4]         589,824\n",
      "     BatchNorm2d-405            [-1, 256, 4, 4]             512\n",
      "            ReLU-406            [-1, 256, 4, 4]               0\n",
      "          Conv2d-407           [-1, 1024, 4, 4]         262,144\n",
      "     BatchNorm2d-408           [-1, 1024, 4, 4]           2,048\n",
      "            ReLU-409           [-1, 1024, 4, 4]               0\n",
      "      Bottleneck-410           [-1, 1024, 4, 4]               0\n",
      "          Conv2d-411            [-1, 256, 4, 4]         262,144\n",
      "     BatchNorm2d-412            [-1, 256, 4, 4]             512\n",
      "            ReLU-413            [-1, 256, 4, 4]               0\n",
      "          Conv2d-414            [-1, 256, 4, 4]         589,824\n",
      "     BatchNorm2d-415            [-1, 256, 4, 4]             512\n",
      "            ReLU-416            [-1, 256, 4, 4]               0\n",
      "          Conv2d-417           [-1, 1024, 4, 4]         262,144\n",
      "     BatchNorm2d-418           [-1, 1024, 4, 4]           2,048\n",
      "            ReLU-419           [-1, 1024, 4, 4]               0\n",
      "      Bottleneck-420           [-1, 1024, 4, 4]               0\n",
      "          Conv2d-421            [-1, 256, 4, 4]         262,144\n",
      "     BatchNorm2d-422            [-1, 256, 4, 4]             512\n",
      "            ReLU-423            [-1, 256, 4, 4]               0\n",
      "          Conv2d-424            [-1, 256, 4, 4]         589,824\n",
      "     BatchNorm2d-425            [-1, 256, 4, 4]             512\n",
      "            ReLU-426            [-1, 256, 4, 4]               0\n",
      "          Conv2d-427           [-1, 1024, 4, 4]         262,144\n",
      "     BatchNorm2d-428           [-1, 1024, 4, 4]           2,048\n",
      "            ReLU-429           [-1, 1024, 4, 4]               0\n",
      "      Bottleneck-430           [-1, 1024, 4, 4]               0\n",
      "          Conv2d-431            [-1, 256, 4, 4]         262,144\n",
      "     BatchNorm2d-432            [-1, 256, 4, 4]             512\n",
      "            ReLU-433            [-1, 256, 4, 4]               0\n",
      "          Conv2d-434            [-1, 256, 4, 4]         589,824\n",
      "     BatchNorm2d-435            [-1, 256, 4, 4]             512\n",
      "            ReLU-436            [-1, 256, 4, 4]               0\n",
      "          Conv2d-437           [-1, 1024, 4, 4]         262,144\n",
      "     BatchNorm2d-438           [-1, 1024, 4, 4]           2,048\n",
      "            ReLU-439           [-1, 1024, 4, 4]               0\n",
      "      Bottleneck-440           [-1, 1024, 4, 4]               0\n",
      "          Conv2d-441            [-1, 256, 4, 4]         262,144\n",
      "     BatchNorm2d-442            [-1, 256, 4, 4]             512\n",
      "            ReLU-443            [-1, 256, 4, 4]               0\n",
      "          Conv2d-444            [-1, 256, 4, 4]         589,824\n",
      "     BatchNorm2d-445            [-1, 256, 4, 4]             512\n",
      "            ReLU-446            [-1, 256, 4, 4]               0\n",
      "          Conv2d-447           [-1, 1024, 4, 4]         262,144\n",
      "     BatchNorm2d-448           [-1, 1024, 4, 4]           2,048\n",
      "            ReLU-449           [-1, 1024, 4, 4]               0\n",
      "      Bottleneck-450           [-1, 1024, 4, 4]               0\n",
      "          Conv2d-451            [-1, 256, 4, 4]         262,144\n",
      "     BatchNorm2d-452            [-1, 256, 4, 4]             512\n",
      "            ReLU-453            [-1, 256, 4, 4]               0\n",
      "          Conv2d-454            [-1, 256, 4, 4]         589,824\n",
      "     BatchNorm2d-455            [-1, 256, 4, 4]             512\n",
      "            ReLU-456            [-1, 256, 4, 4]               0\n",
      "          Conv2d-457           [-1, 1024, 4, 4]         262,144\n",
      "     BatchNorm2d-458           [-1, 1024, 4, 4]           2,048\n",
      "            ReLU-459           [-1, 1024, 4, 4]               0\n",
      "      Bottleneck-460           [-1, 1024, 4, 4]               0\n",
      "          Conv2d-461            [-1, 256, 4, 4]         262,144\n",
      "     BatchNorm2d-462            [-1, 256, 4, 4]             512\n",
      "            ReLU-463            [-1, 256, 4, 4]               0\n",
      "          Conv2d-464            [-1, 256, 4, 4]         589,824\n",
      "     BatchNorm2d-465            [-1, 256, 4, 4]             512\n",
      "            ReLU-466            [-1, 256, 4, 4]               0\n",
      "          Conv2d-467           [-1, 1024, 4, 4]         262,144\n",
      "     BatchNorm2d-468           [-1, 1024, 4, 4]           2,048\n",
      "            ReLU-469           [-1, 1024, 4, 4]               0\n",
      "      Bottleneck-470           [-1, 1024, 4, 4]               0\n",
      "          Conv2d-471            [-1, 256, 4, 4]         262,144\n",
      "     BatchNorm2d-472            [-1, 256, 4, 4]             512\n",
      "            ReLU-473            [-1, 256, 4, 4]               0\n",
      "          Conv2d-474            [-1, 256, 4, 4]         589,824\n",
      "     BatchNorm2d-475            [-1, 256, 4, 4]             512\n",
      "            ReLU-476            [-1, 256, 4, 4]               0\n",
      "          Conv2d-477           [-1, 1024, 4, 4]         262,144\n",
      "     BatchNorm2d-478           [-1, 1024, 4, 4]           2,048\n",
      "            ReLU-479           [-1, 1024, 4, 4]               0\n",
      "      Bottleneck-480           [-1, 1024, 4, 4]               0\n",
      "          Conv2d-481            [-1, 512, 4, 4]         524,288\n",
      "     BatchNorm2d-482            [-1, 512, 4, 4]           1,024\n",
      "            ReLU-483            [-1, 512, 4, 4]               0\n",
      "          Conv2d-484            [-1, 512, 2, 2]       2,359,296\n",
      "     BatchNorm2d-485            [-1, 512, 2, 2]           1,024\n",
      "            ReLU-486            [-1, 512, 2, 2]               0\n",
      "          Conv2d-487           [-1, 2048, 2, 2]       1,048,576\n",
      "     BatchNorm2d-488           [-1, 2048, 2, 2]           4,096\n",
      "          Conv2d-489           [-1, 2048, 2, 2]       2,097,152\n",
      "     BatchNorm2d-490           [-1, 2048, 2, 2]           4,096\n",
      "            ReLU-491           [-1, 2048, 2, 2]               0\n",
      "      Bottleneck-492           [-1, 2048, 2, 2]               0\n",
      "          Conv2d-493            [-1, 512, 2, 2]       1,048,576\n",
      "     BatchNorm2d-494            [-1, 512, 2, 2]           1,024\n",
      "            ReLU-495            [-1, 512, 2, 2]               0\n",
      "          Conv2d-496            [-1, 512, 2, 2]       2,359,296\n",
      "     BatchNorm2d-497            [-1, 512, 2, 2]           1,024\n",
      "            ReLU-498            [-1, 512, 2, 2]               0\n",
      "          Conv2d-499           [-1, 2048, 2, 2]       1,048,576\n",
      "     BatchNorm2d-500           [-1, 2048, 2, 2]           4,096\n",
      "            ReLU-501           [-1, 2048, 2, 2]               0\n",
      "      Bottleneck-502           [-1, 2048, 2, 2]               0\n",
      "          Conv2d-503            [-1, 512, 2, 2]       1,048,576\n",
      "     BatchNorm2d-504            [-1, 512, 2, 2]           1,024\n",
      "            ReLU-505            [-1, 512, 2, 2]               0\n",
      "          Conv2d-506            [-1, 512, 2, 2]       2,359,296\n",
      "     BatchNorm2d-507            [-1, 512, 2, 2]           1,024\n",
      "            ReLU-508            [-1, 512, 2, 2]               0\n",
      "          Conv2d-509           [-1, 2048, 2, 2]       1,048,576\n",
      "     BatchNorm2d-510           [-1, 2048, 2, 2]           4,096\n",
      "            ReLU-511           [-1, 2048, 2, 2]               0\n",
      "      Bottleneck-512           [-1, 2048, 2, 2]               0\n",
      "AdaptiveAvgPool2d-513           [-1, 2048, 1, 1]               0\n",
      "          Linear-514                   [-1, 10]          20,490\n",
      "================================================================\n",
      "Total params: 58,167,434\n",
      "Trainable params: 58,167,434\n",
      "Non-trainable params: 0\n",
      "----------------------------------------------------------------\n",
      "Input size (MB): 0.06\n",
      "Forward/backward pass size (MB): 49.53\n",
      "Params size (MB): 221.89\n",
      "Estimated Total Size (MB): 271.48\n",
      "----------------------------------------------------------------\n"
     ]
    }
   ],
   "source": [
    "import torchsummary\n",
    "\n",
    "# Print the model summary\n",
    "torchsummary.summary(model.to(device), input_size=(4, 64, 64))"
   ]
  },
  {
   "cell_type": "code",
   "execution_count": 51,
   "id": "db24dcf2-d221-40f5-9039-3b1d66d2bf6f",
   "metadata": {},
   "outputs": [],
   "source": [
    "train_losses = []\n",
    "train_accu = []\n",
    "\n",
    "def train(epoch):\n",
    "    print('Epoch : %d'%epoch)\n",
    "    \n",
    "    model.train()\n",
    "    running_loss=0\n",
    "    correct=0\n",
    "    total=0\n",
    "\n",
    "    for images, labels in tqdm(train_loader):\n",
    "        \n",
    "        images = images.float().cuda()\n",
    "        labels = labels.float().cuda()\n",
    "        #print(images.size())\n",
    "        #print(labels.size())\n",
    "        # Forward pass\n",
    "        #model = model.cuda()\n",
    "        outputs = model(images)\n",
    "        labels1= np.zeros((32,10))\n",
    "        \n",
    "        #labels1 = tensor.detach().cpu().numpy()\n",
    "        for j in range(32):\n",
    "            i=labels[j]\n",
    "            i=int(i.item())\n",
    "            # print(i)\n",
    "            labels1[j][i]=1\n",
    "        labels1=torch.from_numpy(labels1)\n",
    "        #print(labels1.size())\n",
    "        labels1=labels1.to(device='cuda')\n",
    "        loss = criterion(outputs, labels1)\n",
    "        \n",
    "        \n",
    "       # Backward and optimize\n",
    "        optimizer.zero_grad()\n",
    "        loss.backward()\n",
    "        optimizer.step()\n",
    "    \n",
    "        \n",
    "    #Replaces pow(2.0) with abs() for L1 regularization\n",
    "    \n",
    "#     l2_lambda = 0.001\n",
    "#     l2_norm = sum(p.pow(2.0).sum()\n",
    "#                   for p in model.parameters())\n",
    "\n",
    "#     loss = loss + l2_lambda * l2_norm\n",
    "    \n",
    "        \n",
    "        running_loss += loss.item()\n",
    "    \n",
    "        _, predicted = outputs.max(1)\n",
    "        total += labels.size(0)\n",
    "        correct += predicted.eq(labels).sum().item()\n",
    "      \n",
    "    train_loss=running_loss/len(train_loader)\n",
    "    accu=100.*correct/total\n",
    "  \n",
    "    train_accu.append(accu)\n",
    "    train_losses.append(train_loss)\n",
    "    print('Train Loss: %.3f | Accuracy: %.3f'%(train_loss,accu))\n",
    "    "
   ]
  },
  {
   "cell_type": "code",
   "execution_count": 52,
   "id": "524cac94-d30b-44a2-a325-881bb4c474d0",
   "metadata": {},
   "outputs": [],
   "source": [
    "eval_losses=[]\n",
    "eval_accu=[]\n",
    "\n",
    "def test(epoch):\n",
    "    model.eval()\n",
    "\n",
    "    running_loss=0\n",
    "    correct=0\n",
    "    total=0\n",
    "    #print(test_loader)\n",
    "    with torch.no_grad():\n",
    "        for images, labels in tqdm(test_loader):\n",
    "            \n",
    "            #images = images.to(device='cuda', dtype=torch.float)\n",
    "            images = images.float().cuda()\n",
    "            labels = labels.float().cuda()\n",
    "            #labels = labels.to(device='cuda', dtype=torch.float)\n",
    "            \n",
    "            # Predict classes using the model\n",
    "            outputs = model(images)\n",
    "            #print(labels.size())\n",
    "            t,y=outputs.shape\n",
    "            # print(t)\n",
    "            labels1= np.zeros((t,10))\n",
    "            for j in range(t):\n",
    "                i=labels[j]\n",
    "                i=int(i.item())\n",
    "                labels1[j][i]=1\n",
    "            labels1=torch.from_numpy(labels1)\n",
    "            #print(labels1.size())\n",
    "            labels1=labels1.to(device='cuda')\n",
    "            #outputs=outputs.tensor()\n",
    "            loss= criterion(outputs,labels1)\n",
    "            running_loss+=loss.item()\n",
    "            \n",
    "            \n",
    "           # Compute accuracy\n",
    "            _, predicted = torch.max(outputs.data, 1)\n",
    "            total += labels.size(0)\n",
    "            correct += (predicted == labels).sum().item()\n",
    "            \n",
    "    test_loss=running_loss/len(test_loader)\n",
    "    accu=100.*correct/total\n",
    "\n",
    "    eval_losses.append(test_loss)\n",
    "    eval_accu.append(accu)\n",
    "\n",
    "    print('Test Loss: %.3f | Accuracy: %.3f'%(test_loss,accu)) \n",
    "    "
   ]
  },
  {
   "cell_type": "code",
   "execution_count": 53,
   "id": "fa282c1f-5353-44d7-999e-d42f8ae6d143",
   "metadata": {},
   "outputs": [],
   "source": [
    "from tqdm import tqdm"
   ]
  },
  {
   "cell_type": "code",
   "execution_count": 54,
   "id": "c4de4f23-ad8a-444a-a588-ff5f4d74c85e",
   "metadata": {},
   "outputs": [
    {
     "name": "stdout",
     "output_type": "stream",
     "text": [
      "Epoch : 1\n"
     ]
    },
    {
     "name": "stderr",
     "output_type": "stream",
     "text": [
      "100%|█████████████████████████████████████████| 675/675 [00:57<00:00, 11.79it/s]\n"
     ]
    },
    {
     "name": "stdout",
     "output_type": "stream",
     "text": [
      "Train Loss: 1.275 | Accuracy: 57.102\n"
     ]
    },
    {
     "name": "stderr",
     "output_type": "stream",
     "text": [
      "100%|█████████████████████████████████████████| 169/169 [00:03<00:00, 42.31it/s]\n"
     ]
    },
    {
     "name": "stdout",
     "output_type": "stream",
     "text": [
      "Test Loss: 2.644 | Accuracy: 48.167\n",
      "Epoch : 2\n"
     ]
    },
    {
     "name": "stderr",
     "output_type": "stream",
     "text": [
      "100%|█████████████████████████████████████████| 675/675 [00:57<00:00, 11.76it/s]\n"
     ]
    },
    {
     "name": "stdout",
     "output_type": "stream",
     "text": [
      "Train Loss: 1.115 | Accuracy: 65.444\n"
     ]
    },
    {
     "name": "stderr",
     "output_type": "stream",
     "text": [
      "100%|█████████████████████████████████████████| 169/169 [00:04<00:00, 42.02it/s]\n"
     ]
    },
    {
     "name": "stdout",
     "output_type": "stream",
     "text": [
      "Test Loss: 4.393 | Accuracy: 65.815\n",
      "Epoch : 3\n"
     ]
    },
    {
     "name": "stderr",
     "output_type": "stream",
     "text": [
      "100%|█████████████████████████████████████████| 675/675 [00:57<00:00, 11.69it/s]\n"
     ]
    },
    {
     "name": "stdout",
     "output_type": "stream",
     "text": [
      "Train Loss: 0.926 | Accuracy: 69.042\n"
     ]
    },
    {
     "name": "stderr",
     "output_type": "stream",
     "text": [
      "100%|█████████████████████████████████████████| 169/169 [00:04<00:00, 41.52it/s]\n"
     ]
    },
    {
     "name": "stdout",
     "output_type": "stream",
     "text": [
      "Test Loss: 0.998 | Accuracy: 68.167\n",
      "Epoch : 4\n"
     ]
    },
    {
     "name": "stderr",
     "output_type": "stream",
     "text": [
      "100%|█████████████████████████████████████████| 675/675 [00:57<00:00, 11.73it/s]\n"
     ]
    },
    {
     "name": "stdout",
     "output_type": "stream",
     "text": [
      "Train Loss: 0.773 | Accuracy: 74.616\n"
     ]
    },
    {
     "name": "stderr",
     "output_type": "stream",
     "text": [
      "100%|█████████████████████████████████████████| 169/169 [00:04<00:00, 42.05it/s]\n"
     ]
    },
    {
     "name": "stdout",
     "output_type": "stream",
     "text": [
      "Test Loss: 6.066 | Accuracy: 59.148\n",
      "Epoch : 5\n"
     ]
    },
    {
     "name": "stderr",
     "output_type": "stream",
     "text": [
      "100%|█████████████████████████████████████████| 675/675 [00:57<00:00, 11.69it/s]\n"
     ]
    },
    {
     "name": "stdout",
     "output_type": "stream",
     "text": [
      "Train Loss: 0.738 | Accuracy: 75.005\n"
     ]
    },
    {
     "name": "stderr",
     "output_type": "stream",
     "text": [
      "100%|█████████████████████████████████████████| 169/169 [00:04<00:00, 38.86it/s]\n"
     ]
    },
    {
     "name": "stdout",
     "output_type": "stream",
     "text": [
      "Test Loss: 1.624 | Accuracy: 67.407\n",
      "Epoch : 6\n"
     ]
    },
    {
     "name": "stderr",
     "output_type": "stream",
     "text": [
      "100%|█████████████████████████████████████████| 675/675 [00:57<00:00, 11.84it/s]\n"
     ]
    },
    {
     "name": "stdout",
     "output_type": "stream",
     "text": [
      "Train Loss: 0.740 | Accuracy: 75.125\n"
     ]
    },
    {
     "name": "stderr",
     "output_type": "stream",
     "text": [
      "100%|█████████████████████████████████████████| 169/169 [00:03<00:00, 42.91it/s]\n"
     ]
    },
    {
     "name": "stdout",
     "output_type": "stream",
     "text": [
      "Test Loss: 91.802 | Accuracy: 59.463\n",
      "Epoch : 7\n"
     ]
    },
    {
     "name": "stderr",
     "output_type": "stream",
     "text": [
      "100%|█████████████████████████████████████████| 675/675 [00:56<00:00, 11.89it/s]\n"
     ]
    },
    {
     "name": "stdout",
     "output_type": "stream",
     "text": [
      "Train Loss: 0.664 | Accuracy: 77.088\n"
     ]
    },
    {
     "name": "stderr",
     "output_type": "stream",
     "text": [
      "100%|█████████████████████████████████████████| 169/169 [00:03<00:00, 42.85it/s]\n"
     ]
    },
    {
     "name": "stdout",
     "output_type": "stream",
     "text": [
      "Test Loss: 0.736 | Accuracy: 81.389\n",
      "Epoch : 8\n"
     ]
    },
    {
     "name": "stderr",
     "output_type": "stream",
     "text": [
      "100%|█████████████████████████████████████████| 675/675 [00:56<00:00, 11.87it/s]\n"
     ]
    },
    {
     "name": "stdout",
     "output_type": "stream",
     "text": [
      "Train Loss: 0.489 | Accuracy: 83.190\n"
     ]
    },
    {
     "name": "stderr",
     "output_type": "stream",
     "text": [
      "100%|█████████████████████████████████████████| 169/169 [00:03<00:00, 42.94it/s]\n"
     ]
    },
    {
     "name": "stdout",
     "output_type": "stream",
     "text": [
      "Test Loss: 0.526 | Accuracy: 83.944\n",
      "Epoch : 9\n"
     ]
    },
    {
     "name": "stderr",
     "output_type": "stream",
     "text": [
      "100%|█████████████████████████████████████████| 675/675 [00:56<00:00, 11.87it/s]\n"
     ]
    },
    {
     "name": "stdout",
     "output_type": "stream",
     "text": [
      "Train Loss: 0.466 | Accuracy: 84.245\n"
     ]
    },
    {
     "name": "stderr",
     "output_type": "stream",
     "text": [
      "100%|█████████████████████████████████████████| 169/169 [00:03<00:00, 42.87it/s]\n"
     ]
    },
    {
     "name": "stdout",
     "output_type": "stream",
     "text": [
      "Test Loss: 3.095 | Accuracy: 63.667\n",
      "Epoch : 10\n"
     ]
    },
    {
     "name": "stderr",
     "output_type": "stream",
     "text": [
      "100%|█████████████████████████████████████████| 675/675 [00:56<00:00, 11.90it/s]\n"
     ]
    },
    {
     "name": "stdout",
     "output_type": "stream",
     "text": [
      "Train Loss: 0.548 | Accuracy: 81.106\n"
     ]
    },
    {
     "name": "stderr",
     "output_type": "stream",
     "text": [
      "100%|█████████████████████████████████████████| 169/169 [00:03<00:00, 42.84it/s]\n"
     ]
    },
    {
     "name": "stdout",
     "output_type": "stream",
     "text": [
      "Test Loss: 0.414 | Accuracy: 85.185\n",
      "Epoch : 11\n"
     ]
    },
    {
     "name": "stderr",
     "output_type": "stream",
     "text": [
      "100%|█████████████████████████████████████████| 675/675 [00:56<00:00, 11.85it/s]\n"
     ]
    },
    {
     "name": "stdout",
     "output_type": "stream",
     "text": [
      "Train Loss: 0.447 | Accuracy: 84.667\n"
     ]
    },
    {
     "name": "stderr",
     "output_type": "stream",
     "text": [
      "100%|█████████████████████████████████████████| 169/169 [00:03<00:00, 42.85it/s]\n"
     ]
    },
    {
     "name": "stdout",
     "output_type": "stream",
     "text": [
      "Test Loss: 0.517 | Accuracy: 82.352\n",
      "Epoch : 12\n"
     ]
    },
    {
     "name": "stderr",
     "output_type": "stream",
     "text": [
      "100%|█████████████████████████████████████████| 675/675 [00:56<00:00, 11.89it/s]\n"
     ]
    },
    {
     "name": "stdout",
     "output_type": "stream",
     "text": [
      "Train Loss: 0.389 | Accuracy: 86.472\n"
     ]
    },
    {
     "name": "stderr",
     "output_type": "stream",
     "text": [
      "100%|█████████████████████████████████████████| 169/169 [00:03<00:00, 42.91it/s]\n"
     ]
    },
    {
     "name": "stdout",
     "output_type": "stream",
     "text": [
      "Test Loss: 0.570 | Accuracy: 85.241\n",
      "Epoch : 13\n"
     ]
    },
    {
     "name": "stderr",
     "output_type": "stream",
     "text": [
      "100%|█████████████████████████████████████████| 675/675 [00:56<00:00, 11.86it/s]\n"
     ]
    },
    {
     "name": "stdout",
     "output_type": "stream",
     "text": [
      "Train Loss: 0.320 | Accuracy: 88.843\n"
     ]
    },
    {
     "name": "stderr",
     "output_type": "stream",
     "text": [
      "100%|█████████████████████████████████████████| 169/169 [00:03<00:00, 42.90it/s]\n"
     ]
    },
    {
     "name": "stdout",
     "output_type": "stream",
     "text": [
      "Test Loss: 5.027 | Accuracy: 69.648\n",
      "Epoch : 14\n"
     ]
    },
    {
     "name": "stderr",
     "output_type": "stream",
     "text": [
      "100%|█████████████████████████████████████████| 675/675 [00:56<00:00, 11.85it/s]\n"
     ]
    },
    {
     "name": "stdout",
     "output_type": "stream",
     "text": [
      "Train Loss: 0.286 | Accuracy: 89.972\n"
     ]
    },
    {
     "name": "stderr",
     "output_type": "stream",
     "text": [
      "100%|█████████████████████████████████████████| 169/169 [00:03<00:00, 42.85it/s]\n"
     ]
    },
    {
     "name": "stdout",
     "output_type": "stream",
     "text": [
      "Test Loss: 0.405 | Accuracy: 85.463\n",
      "Epoch : 15\n"
     ]
    },
    {
     "name": "stderr",
     "output_type": "stream",
     "text": [
      "100%|█████████████████████████████████████████| 675/675 [00:57<00:00, 11.75it/s]\n"
     ]
    },
    {
     "name": "stdout",
     "output_type": "stream",
     "text": [
      "Train Loss: 0.275 | Accuracy: 90.398\n"
     ]
    },
    {
     "name": "stderr",
     "output_type": "stream",
     "text": [
      "100%|█████████████████████████████████████████| 169/169 [00:03<00:00, 42.91it/s]\n"
     ]
    },
    {
     "name": "stdout",
     "output_type": "stream",
     "text": [
      "Test Loss: 0.730 | Accuracy: 78.148\n",
      "Epoch : 16\n"
     ]
    },
    {
     "name": "stderr",
     "output_type": "stream",
     "text": [
      "100%|█████████████████████████████████████████| 675/675 [00:56<00:00, 11.85it/s]\n"
     ]
    },
    {
     "name": "stdout",
     "output_type": "stream",
     "text": [
      "Train Loss: 0.238 | Accuracy: 91.653\n"
     ]
    },
    {
     "name": "stderr",
     "output_type": "stream",
     "text": [
      "100%|█████████████████████████████████████████| 169/169 [00:03<00:00, 42.83it/s]\n"
     ]
    },
    {
     "name": "stdout",
     "output_type": "stream",
     "text": [
      "Test Loss: 0.346 | Accuracy: 88.093\n",
      "Epoch : 17\n"
     ]
    },
    {
     "name": "stderr",
     "output_type": "stream",
     "text": [
      "100%|█████████████████████████████████████████| 675/675 [00:56<00:00, 11.88it/s]\n"
     ]
    },
    {
     "name": "stdout",
     "output_type": "stream",
     "text": [
      "Train Loss: 0.232 | Accuracy: 91.685\n"
     ]
    },
    {
     "name": "stderr",
     "output_type": "stream",
     "text": [
      "100%|█████████████████████████████████████████| 169/169 [00:03<00:00, 42.72it/s]\n"
     ]
    },
    {
     "name": "stdout",
     "output_type": "stream",
     "text": [
      "Test Loss: 1.603 | Accuracy: 65.296\n",
      "Epoch : 18\n"
     ]
    },
    {
     "name": "stderr",
     "output_type": "stream",
     "text": [
      "100%|█████████████████████████████████████████| 675/675 [00:57<00:00, 11.78it/s]\n"
     ]
    },
    {
     "name": "stdout",
     "output_type": "stream",
     "text": [
      "Train Loss: 0.233 | Accuracy: 91.824\n"
     ]
    },
    {
     "name": "stderr",
     "output_type": "stream",
     "text": [
      "100%|█████████████████████████████████████████| 169/169 [00:03<00:00, 42.61it/s]\n"
     ]
    },
    {
     "name": "stdout",
     "output_type": "stream",
     "text": [
      "Test Loss: 0.522 | Accuracy: 89.500\n",
      "Epoch : 19\n"
     ]
    },
    {
     "name": "stderr",
     "output_type": "stream",
     "text": [
      "100%|█████████████████████████████████████████| 675/675 [00:56<00:00, 11.87it/s]\n"
     ]
    },
    {
     "name": "stdout",
     "output_type": "stream",
     "text": [
      "Train Loss: 0.214 | Accuracy: 92.606\n"
     ]
    },
    {
     "name": "stderr",
     "output_type": "stream",
     "text": [
      "100%|█████████████████████████████████████████| 169/169 [00:03<00:00, 42.61it/s]\n"
     ]
    },
    {
     "name": "stdout",
     "output_type": "stream",
     "text": [
      "Test Loss: 0.484 | Accuracy: 87.222\n",
      "Epoch : 20\n"
     ]
    },
    {
     "name": "stderr",
     "output_type": "stream",
     "text": [
      "100%|█████████████████████████████████████████| 675/675 [00:56<00:00, 11.86it/s]\n"
     ]
    },
    {
     "name": "stdout",
     "output_type": "stream",
     "text": [
      "Train Loss: 0.177 | Accuracy: 93.699\n"
     ]
    },
    {
     "name": "stderr",
     "output_type": "stream",
     "text": [
      "100%|█████████████████████████████████████████| 169/169 [00:03<00:00, 42.65it/s]\n"
     ]
    },
    {
     "name": "stdout",
     "output_type": "stream",
     "text": [
      "Test Loss: 0.261 | Accuracy: 91.259\n",
      "Epoch : 21\n"
     ]
    },
    {
     "name": "stderr",
     "output_type": "stream",
     "text": [
      "100%|█████████████████████████████████████████| 675/675 [00:57<00:00, 11.82it/s]\n"
     ]
    },
    {
     "name": "stdout",
     "output_type": "stream",
     "text": [
      "Train Loss: 0.237 | Accuracy: 91.722\n"
     ]
    },
    {
     "name": "stderr",
     "output_type": "stream",
     "text": [
      "100%|█████████████████████████████████████████| 169/169 [00:03<00:00, 42.68it/s]\n"
     ]
    },
    {
     "name": "stdout",
     "output_type": "stream",
     "text": [
      "Test Loss: 0.318 | Accuracy: 89.796\n",
      "Epoch : 22\n"
     ]
    },
    {
     "name": "stderr",
     "output_type": "stream",
     "text": [
      "100%|█████████████████████████████████████████| 675/675 [00:57<00:00, 11.80it/s]\n"
     ]
    },
    {
     "name": "stdout",
     "output_type": "stream",
     "text": [
      "Train Loss: 0.145 | Accuracy: 94.838\n"
     ]
    },
    {
     "name": "stderr",
     "output_type": "stream",
     "text": [
      "100%|█████████████████████████████████████████| 169/169 [00:03<00:00, 42.79it/s]\n"
     ]
    },
    {
     "name": "stdout",
     "output_type": "stream",
     "text": [
      "Test Loss: 0.411 | Accuracy: 86.481\n",
      "Epoch : 23\n"
     ]
    },
    {
     "name": "stderr",
     "output_type": "stream",
     "text": [
      "100%|█████████████████████████████████████████| 675/675 [00:57<00:00, 11.81it/s]\n"
     ]
    },
    {
     "name": "stdout",
     "output_type": "stream",
     "text": [
      "Train Loss: 0.167 | Accuracy: 94.185\n"
     ]
    },
    {
     "name": "stderr",
     "output_type": "stream",
     "text": [
      "100%|█████████████████████████████████████████| 169/169 [00:03<00:00, 42.70it/s]\n"
     ]
    },
    {
     "name": "stdout",
     "output_type": "stream",
     "text": [
      "Test Loss: 1.650 | Accuracy: 87.222\n",
      "Epoch : 24\n"
     ]
    },
    {
     "name": "stderr",
     "output_type": "stream",
     "text": [
      "100%|█████████████████████████████████████████| 675/675 [00:56<00:00, 11.85it/s]\n"
     ]
    },
    {
     "name": "stdout",
     "output_type": "stream",
     "text": [
      "Train Loss: 0.123 | Accuracy: 95.579\n"
     ]
    },
    {
     "name": "stderr",
     "output_type": "stream",
     "text": [
      "100%|█████████████████████████████████████████| 169/169 [00:03<00:00, 42.72it/s]\n"
     ]
    },
    {
     "name": "stdout",
     "output_type": "stream",
     "text": [
      "Test Loss: 1.958 | Accuracy: 69.130\n",
      "Epoch : 25\n"
     ]
    },
    {
     "name": "stderr",
     "output_type": "stream",
     "text": [
      "100%|█████████████████████████████████████████| 675/675 [00:57<00:00, 11.83it/s]\n"
     ]
    },
    {
     "name": "stdout",
     "output_type": "stream",
     "text": [
      "Train Loss: 0.113 | Accuracy: 96.250\n"
     ]
    },
    {
     "name": "stderr",
     "output_type": "stream",
     "text": [
      "100%|█████████████████████████████████████████| 169/169 [00:03<00:00, 42.68it/s]\n"
     ]
    },
    {
     "name": "stdout",
     "output_type": "stream",
     "text": [
      "Test Loss: 0.506 | Accuracy: 87.481\n",
      "Epoch : 26\n"
     ]
    },
    {
     "name": "stderr",
     "output_type": "stream",
     "text": [
      "100%|█████████████████████████████████████████| 675/675 [00:57<00:00, 11.82it/s]\n"
     ]
    },
    {
     "name": "stdout",
     "output_type": "stream",
     "text": [
      "Train Loss: 0.105 | Accuracy: 96.264\n"
     ]
    },
    {
     "name": "stderr",
     "output_type": "stream",
     "text": [
      "100%|█████████████████████████████████████████| 169/169 [00:03<00:00, 42.78it/s]\n"
     ]
    },
    {
     "name": "stdout",
     "output_type": "stream",
     "text": [
      "Test Loss: 0.567 | Accuracy: 85.222\n",
      "Epoch : 27\n"
     ]
    },
    {
     "name": "stderr",
     "output_type": "stream",
     "text": [
      "100%|█████████████████████████████████████████| 675/675 [00:58<00:00, 11.61it/s]\n"
     ]
    },
    {
     "name": "stdout",
     "output_type": "stream",
     "text": [
      "Train Loss: 0.086 | Accuracy: 96.977\n"
     ]
    },
    {
     "name": "stderr",
     "output_type": "stream",
     "text": [
      "100%|█████████████████████████████████████████| 169/169 [00:04<00:00, 41.57it/s]\n"
     ]
    },
    {
     "name": "stdout",
     "output_type": "stream",
     "text": [
      "Test Loss: 0.415 | Accuracy: 88.352\n",
      "Epoch : 28\n"
     ]
    },
    {
     "name": "stderr",
     "output_type": "stream",
     "text": [
      "100%|█████████████████████████████████████████| 675/675 [00:57<00:00, 11.78it/s]\n"
     ]
    },
    {
     "name": "stdout",
     "output_type": "stream",
     "text": [
      "Train Loss: 0.098 | Accuracy: 96.454\n"
     ]
    },
    {
     "name": "stderr",
     "output_type": "stream",
     "text": [
      "100%|█████████████████████████████████████████| 169/169 [00:04<00:00, 40.52it/s]\n"
     ]
    },
    {
     "name": "stdout",
     "output_type": "stream",
     "text": [
      "Test Loss: 0.298 | Accuracy: 91.833\n",
      "Epoch : 29\n"
     ]
    },
    {
     "name": "stderr",
     "output_type": "stream",
     "text": [
      "100%|█████████████████████████████████████████| 675/675 [00:57<00:00, 11.78it/s]\n"
     ]
    },
    {
     "name": "stdout",
     "output_type": "stream",
     "text": [
      "Train Loss: 0.130 | Accuracy: 95.870\n"
     ]
    },
    {
     "name": "stderr",
     "output_type": "stream",
     "text": [
      "100%|█████████████████████████████████████████| 169/169 [00:04<00:00, 41.62it/s]\n"
     ]
    },
    {
     "name": "stdout",
     "output_type": "stream",
     "text": [
      "Test Loss: 0.712 | Accuracy: 86.574\n",
      "Epoch : 30\n"
     ]
    },
    {
     "name": "stderr",
     "output_type": "stream",
     "text": [
      "100%|█████████████████████████████████████████| 675/675 [00:57<00:00, 11.80it/s]\n"
     ]
    },
    {
     "name": "stdout",
     "output_type": "stream",
     "text": [
      "Train Loss: 0.076 | Accuracy: 97.329\n"
     ]
    },
    {
     "name": "stderr",
     "output_type": "stream",
     "text": [
      "100%|█████████████████████████████████████████| 169/169 [00:04<00:00, 41.64it/s]\n"
     ]
    },
    {
     "name": "stdout",
     "output_type": "stream",
     "text": [
      "Test Loss: 1.080 | Accuracy: 90.444\n",
      "Epoch : 31\n"
     ]
    },
    {
     "name": "stderr",
     "output_type": "stream",
     "text": [
      "100%|█████████████████████████████████████████| 675/675 [00:57<00:00, 11.74it/s]\n"
     ]
    },
    {
     "name": "stdout",
     "output_type": "stream",
     "text": [
      "Train Loss: 0.072 | Accuracy: 97.431\n"
     ]
    },
    {
     "name": "stderr",
     "output_type": "stream",
     "text": [
      "100%|█████████████████████████████████████████| 169/169 [00:04<00:00, 41.70it/s]\n"
     ]
    },
    {
     "name": "stdout",
     "output_type": "stream",
     "text": [
      "Test Loss: 0.896 | Accuracy: 86.389\n",
      "Epoch : 32\n"
     ]
    },
    {
     "name": "stderr",
     "output_type": "stream",
     "text": [
      "100%|█████████████████████████████████████████| 675/675 [00:57<00:00, 11.79it/s]\n"
     ]
    },
    {
     "name": "stdout",
     "output_type": "stream",
     "text": [
      "Train Loss: 0.076 | Accuracy: 97.583\n"
     ]
    },
    {
     "name": "stderr",
     "output_type": "stream",
     "text": [
      "100%|█████████████████████████████████████████| 169/169 [00:04<00:00, 41.79it/s]\n"
     ]
    },
    {
     "name": "stdout",
     "output_type": "stream",
     "text": [
      "Test Loss: 0.685 | Accuracy: 90.537\n",
      "Epoch : 33\n"
     ]
    },
    {
     "name": "stderr",
     "output_type": "stream",
     "text": [
      "100%|█████████████████████████████████████████| 675/675 [00:57<00:00, 11.73it/s]\n"
     ]
    },
    {
     "name": "stdout",
     "output_type": "stream",
     "text": [
      "Train Loss: 0.098 | Accuracy: 96.792\n"
     ]
    },
    {
     "name": "stderr",
     "output_type": "stream",
     "text": [
      "100%|█████████████████████████████████████████| 169/169 [00:04<00:00, 41.17it/s]\n"
     ]
    },
    {
     "name": "stdout",
     "output_type": "stream",
     "text": [
      "Test Loss: 2.382 | Accuracy: 89.019\n",
      "Epoch : 34\n"
     ]
    },
    {
     "name": "stderr",
     "output_type": "stream",
     "text": [
      "100%|█████████████████████████████████████████| 675/675 [00:57<00:00, 11.77it/s]\n"
     ]
    },
    {
     "name": "stdout",
     "output_type": "stream",
     "text": [
      "Train Loss: 0.059 | Accuracy: 97.787\n"
     ]
    },
    {
     "name": "stderr",
     "output_type": "stream",
     "text": [
      "100%|█████████████████████████████████████████| 169/169 [00:03<00:00, 42.71it/s]\n"
     ]
    },
    {
     "name": "stdout",
     "output_type": "stream",
     "text": [
      "Test Loss: 1.374 | Accuracy: 90.889\n",
      "Epoch : 35\n"
     ]
    },
    {
     "name": "stderr",
     "output_type": "stream",
     "text": [
      "100%|█████████████████████████████████████████| 675/675 [00:57<00:00, 11.80it/s]\n"
     ]
    },
    {
     "name": "stdout",
     "output_type": "stream",
     "text": [
      "Train Loss: 0.052 | Accuracy: 98.241\n"
     ]
    },
    {
     "name": "stderr",
     "output_type": "stream",
     "text": [
      "100%|█████████████████████████████████████████| 169/169 [00:03<00:00, 42.70it/s]"
     ]
    },
    {
     "name": "stdout",
     "output_type": "stream",
     "text": [
      "Test Loss: 0.435 | Accuracy: 89.333\n",
      "Training time: 2141.19 seconds\n"
     ]
    },
    {
     "name": "stderr",
     "output_type": "stream",
     "text": [
      "\n"
     ]
    }
   ],
   "source": [
    "import time\n",
    "epochs = 35\n",
    "\n",
    "# Start the timer\n",
    "\n",
    "start_time = time.time()\n",
    "for epoch in range(1,epochs+1): \n",
    "    train(epoch)\n",
    "    test(epoch)\n",
    "# End the timer\n",
    "end_time = time.time()\n",
    "\n",
    "# Calculate the training time\n",
    "training_time = end_time - start_time\n",
    "\n",
    "print('Training time: {:.2f} seconds'.format(training_time))\n"
   ]
  },
  {
   "cell_type": "code",
   "execution_count": 55,
   "id": "083adf95-5cbf-4b1a-b860-3a0828aa4e79",
   "metadata": {},
   "outputs": [],
   "source": [
    "import matplotlib.pyplot as plt\n"
   ]
  },
  {
   "cell_type": "code",
   "execution_count": 56,
   "id": "e3994f40-c28c-4ddf-a15d-4de32c1c0068",
   "metadata": {},
   "outputs": [
    {
     "data": {
      "image/png": "[encoded data removed]",
      "text/plain": [
       "<Figure size 432x288 with 1 Axes>"
      ]
     },
     "metadata": {
      "needs_background": "light"
     },
     "output_type": "display_data"
    }
   ],
   "source": [
    "#plot accuracy\n",
    "plt.plot(train_accu,'-o')\n",
    "plt.plot(eval_accu,'-o')\n",
    "plt.xlabel('epoch')\n",
    "plt.ylabel('accuracy')\n",
    "plt.legend(['Train','Valid'])\n",
    "plt.title('Train vs Valid Accuracy')\n",
    "\n",
    "plt.show()"
   ]
  },
  {
   "cell_type": "code",
   "execution_count": 57,
   "id": "fda580e6-7257-411f-82c9-0bf9f8bfdd72",
   "metadata": {},
   "outputs": [
    {
     "data": {
      "image/png": "[encoded data removed]",
      "text/plain": [
       "<Figure size 432x288 with 1 Axes>"
      ]
     },
     "metadata": {
      "needs_background": "light"
     },
     "output_type": "display_data"
    }
   ],
   "source": [
    "#plot losses\n",
    "\n",
    "plt.plot(train_losses,'-o')\n",
    "plt.plot(eval_losses,'-o')\n",
    "plt.xlabel('epoch')\n",
    "plt.ylabel('losses')\n",
    "plt.legend(['Train','Valid'])\n",
    "plt.title('Train vs Valid Losses')\n",
    "\n",
    "plt.show()"
   ]
  },
  {
   "cell_type": "code",
   "execution_count": 58,
   "id": "c45523f7-b333-42b4-94e5-ba07e1a07a89",
   "metadata": {},
   "outputs": [
    {
     "name": "stderr",
     "output_type": "stream",
     "text": [
      "100%|█████████████████████████████████████████| 169/169 [00:03<00:00, 43.36it/s]"
     ]
    },
    {
     "name": "stdout",
     "output_type": "stream",
     "text": [
      "Precision:  0.9054981808715512\n",
      "Recall:  0.8895166666666666\n",
      "Confusion matrix:\n",
      " [[525   3  32   5   0   7  28   0   0   0]\n",
      " [  1 573  13   0   0  12   0   0   1   0]\n",
      " [  0   7 578   2   2   2   6   0   3   0]\n",
      " [  9   0  11 427  32   6   8   1   6   0]\n",
      " [  0   0   3   5 488   0   1   2   1   0]\n",
      " [ 11  11  22   3   0 341  12   0   0   0]\n",
      " [ 18   0 143  11   2   4 321   0   1   0]\n",
      " [  0   1  60   4  27   0  11 497   0   0]\n",
      " [  4   1   3   9   2   4   0   0 477   0]\n",
      " [  0   0   2   0   0   0   0   0   1 597]]\n",
      "Report:\n",
      "               precision    recall  f1-score   support\n",
      "\n",
      "         0.0       0.92      0.88      0.90       600\n",
      "         1.0       0.96      0.95      0.96       600\n",
      "         2.0       0.67      0.96      0.79       600\n",
      "         3.0       0.92      0.85      0.88       500\n",
      "         4.0       0.88      0.98      0.93       500\n",
      "         5.0       0.91      0.85      0.88       400\n",
      "         6.0       0.83      0.64      0.72       500\n",
      "         7.0       0.99      0.83      0.90       600\n",
      "         8.0       0.97      0.95      0.96       500\n",
      "         9.0       1.00      0.99      1.00       600\n",
      "\n",
      "    accuracy                           0.89      5400\n",
      "   macro avg       0.91      0.89      0.89      5400\n",
      "weighted avg       0.91      0.89      0.89      5400\n",
      "\n"
     ]
    },
    {
     "name": "stderr",
     "output_type": "stream",
     "text": [
      "\n"
     ]
    }
   ],
   "source": [
    "from sklearn.metrics import confusion_matrix ,classification_report, precision_score, recall_score\n",
    "\n",
    "# testing\n",
    "ttloss = []\n",
    "ttacc = []\n",
    "ttf1 = []\n",
    "\n",
    "T_val = []\n",
    "P_val = []\n",
    "\n",
    "with torch.no_grad():\n",
    "    model.eval()\n",
    "    for (X_val, y_val) in tqdm(test_loader):\n",
    "        X_val = X_val.float().cuda()\n",
    "        y_val = y_val.float().cuda()\n",
    "        #X_val, y_val = X_val.to(device), y_val.to(device)\n",
    "        #y_val = y_val.type(torch.cuda.LongTensor)\n",
    "        \n",
    "        output = model(X_val)\n",
    "        #print(output.shape)\n",
    "        \n",
    "        outputs = torch.max(output, dim=1)[1]\n",
    "        #print(outputs.shape)\n",
    "        T_val.extend(y_val.cpu().numpy())\n",
    "        #print(T_val)\n",
    "        P_val.extend(outputs.cpu().numpy())\n",
    "    #print(T_val)\n",
    "    #print(P_val)\n",
    "    precision = precision_score(T_val, P_val, average='macro')\n",
    "    recall = recall_score(T_val, P_val, average='macro')\n",
    "    res = confusion_matrix(T_val, P_val)\n",
    "    report = classification_report(T_val, P_val)\n",
    "    \n",
    "    print(\"Precision: \",precision)\n",
    "    print(\"Recall: \",recall)\n",
    "\n",
    "    print('Confusion matrix:\\n',res)\n",
    "    print('Report:\\n',report)"
   ]
  },
  {
   "cell_type": "code",
   "execution_count": null,
   "id": "408a120c-1111-4811-8638-52c1e800e0df",
   "metadata": {},
   "outputs": [],
   "source": []
  }
 ],
 "metadata": {
  "kernelspec": {
   "display_name": "Python 3 (ipykernel)",
   "language": "python",
   "name": "python3"
  },
  "language_info": {
   "codemirror_mode": {
    "name": "ipython",
    "version": 3
   },
   "file_extension": ".py",
   "mimetype": "text/x-python",
   "name": "python",
   "nbconvert_exporter": "python",
   "pygments_lexer": "ipython3",
   "version": "3.8.12"
  }
 },
 "nbformat": 4,
 "nbformat_minor": 5
}
