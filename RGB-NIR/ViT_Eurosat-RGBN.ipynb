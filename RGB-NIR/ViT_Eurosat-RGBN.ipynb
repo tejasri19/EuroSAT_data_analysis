{
 "cells": [
  {
   "cell_type": "code",
   "execution_count": 1,
   "id": "90387b74-9b30-4890-b6e3-e5649c73241d",
   "metadata": {},
   "outputs": [
    {
     "name": "stderr",
     "output_type": "stream",
     "text": [
      "2023-05-30 20:44:00.412070: I tensorflow/core/platform/cpu_feature_guard.cc:193] This TensorFlow binary is optimized with oneAPI Deep Neural Network Library (oneDNN) to use the following CPU instructions in performance-critical operations:  AVX2 FMA\n",
      "To enable them in other operations, rebuild TensorFlow with the appropriate compiler flags.\n",
      "2023-05-30 20:44:00.967805: W tensorflow/compiler/xla/stream_executor/platform/default/dso_loader.cc:64] Could not load dynamic library 'libnvinfer.so.7'; dlerror: libnvinfer.so.7: cannot open shared object file: No such file or directory\n",
      "2023-05-30 20:44:00.967847: W tensorflow/compiler/xla/stream_executor/platform/default/dso_loader.cc:64] Could not load dynamic library 'libnvinfer_plugin.so.7'; dlerror: libnvinfer_plugin.so.7: cannot open shared object file: No such file or directory\n",
      "2023-05-30 20:44:00.967852: W tensorflow/compiler/tf2tensorrt/utils/py_utils.cc:38] TF-TRT Warning: Cannot dlopen some TensorRT libraries. If you would like to use Nvidia GPU with TensorRT, please make sure the missing libraries mentioned above are installed properly.\n"
     ]
    }
   ],
   "source": [
    "import torch\n",
    "from torch.utils.data import Dataset, DataLoader\n",
    "import numpy as np\n",
    "from sklearn.model_selection import train_test_split\n",
    "from sklearn.metrics import accuracy_score\n",
    "from torchsummary import summary\n",
    "from transformers import ViTModel, ViTConfig, ViTForImageClassification\n",
    "\n",
    "# set the path to the directory containing the npy files\n",
    "data_dir = '/home/tejasri/Desktop/eurosat-ms/rgbnir-npy'\n",
    "\n",
    "# set the path to save the trained model\n",
    "model_path = '/home/tejasri/Desktop/eurosat-ms/'\n",
    "\n",
    "# load the X and y data for each class\n",
    "X = []\n",
    "y = []\n",
    "for i in range(10):\n",
    "    X_i = np.load(f'{data_dir}/X{i}.npy')\n",
    "    y_i = np.load(f'{data_dir}/y{i}.npy')\n",
    "    X.append(X_i)\n",
    "    y.append(y_i)\n",
    "\n",
    "# concatenate the X and y data for all classes\n",
    "X = np.concatenate(X, axis=0)\n",
    "y = np.concatenate(y, axis=0)\n",
    "\n",
    "\n",
    "\n"
   ]
  },
  {
   "cell_type": "code",
   "execution_count": 2,
   "id": "884ff50a-f25a-4574-9c7f-d619bfd6e7a8",
   "metadata": {},
   "outputs": [
    {
     "name": "stdout",
     "output_type": "stream",
     "text": [
      "(27000, 64, 64, 4)\n"
     ]
    }
   ],
   "source": [
    "import einops\n",
    "print(X.shape)\n",
    "\n",
    "\n"
   ]
  },
  {
   "cell_type": "code",
   "execution_count": 3,
   "id": "432a259d-ce71-446c-83f7-b81f0c67bb79",
   "metadata": {},
   "outputs": [
    {
     "name": "stdout",
     "output_type": "stream",
     "text": [
      "(27000, 4, 64, 64)\n",
      "(4, 64, 64)\n"
     ]
    }
   ],
   "source": [
    "X = einops.rearrange(X, 'b h w c -> b c h w')\n",
    "              \n",
    "print(X.shape)\n",
    "\n",
    "print(X[0].shape)\n"
   ]
  },
  {
   "cell_type": "code",
   "execution_count": 4,
   "id": "856afa7c-c7c6-479a-be18-8a1951362eb4",
   "metadata": {},
   "outputs": [],
   "source": [
    "from sklearn.model_selection import StratifiedShuffleSplit"
   ]
  },
  {
   "cell_type": "code",
   "execution_count": 5,
   "id": "f1aa35f3-92ba-429d-8191-cfb5395f8142",
   "metadata": {},
   "outputs": [],
   "source": [
    "# split the data into training and testing sets\n",
    "split = StratifiedShuffleSplit(n_splits=1, test_size=0.2, random_state=42)\n",
    "#X_train, X_test, y_train, y_test = train_test_split(X, y, test_size=0.2, random_state=42)\n",
    "\n",
    "\n",
    "# split the data\n",
    "for train_idx, test_idx in split.split(X, y):\n",
    "    X_train, X_test = X[train_idx], X[test_idx]\n",
    "    y_train, y_test = y[train_idx], y[test_idx]\n",
    "\n",
    "\n"
   ]
  },
  {
   "cell_type": "code",
   "execution_count": 6,
   "id": "09590ed0-f866-4a76-b34d-e341f1f441f3",
   "metadata": {},
   "outputs": [],
   "source": [
    "# define a custom dataset class for the EuroSAT multispectral data\n",
    "class EuroSATDataset(Dataset):\n",
    "    def __init__(self, X, y):\n",
    "        self.X = X\n",
    "        self.y = y\n",
    "\n",
    "    def __len__(self):\n",
    "        return len(self.X)\n",
    "\n",
    "    def __getitem__(self, idx):\n",
    "        return self.X[idx], self.y[idx]\n",
    "\n",
    "# create data loaders for the training and testing sets\n",
    "train_dataset = EuroSATDataset(X_train, y_train)\n",
    "train_loader = DataLoader(train_dataset, batch_size=32, shuffle=True)\n",
    "test_dataset = EuroSATDataset(X_test, y_test)\n",
    "test_loader = DataLoader(test_dataset, batch_size=32, shuffle=False)\n",
    "\n",
    "# set the device to use for training and testing\n",
    "device = torch.device('cuda' if torch.cuda.is_available() else 'cpu')"
   ]
  },
  {
   "cell_type": "code",
   "execution_count": 7,
   "id": "ef557f54-7232-401b-9458-ac6a3300e241",
   "metadata": {},
   "outputs": [
    {
     "name": "stdout",
     "output_type": "stream",
     "text": [
      "675\n"
     ]
    }
   ],
   "source": [
    "print(len(train_loader))"
   ]
  },
  {
   "cell_type": "code",
   "execution_count": 8,
   "id": "e3959fe0-036c-48c8-b103-34772c0a8ef4",
   "metadata": {},
   "outputs": [
    {
     "name": "stdout",
     "output_type": "stream",
     "text": [
      "169\n"
     ]
    }
   ],
   "source": [
    "print(len(test_loader))"
   ]
  },
  {
   "cell_type": "markdown",
   "id": "29713ad4-88e7-477e-b0de-ae7326f53fdd",
   "metadata": {},
   "source": [
    "# Vit blocks"
   ]
  },
  {
   "cell_type": "code",
   "execution_count": 9,
   "id": "9bfd1ff4-8719-4c46-b4ab-4ea95eb9819e",
   "metadata": {},
   "outputs": [],
   "source": [
    "import torch\n",
    "import torch.nn.functional as F\n",
    "import matplotlib.pyplot as plt\n",
    "\n",
    "from torch import nn\n",
    "from torch import Tensor\n",
    "from PIL import Image\n",
    "from torchvision.transforms import Compose, Resize, ToTensor\n",
    "from einops import rearrange, reduce, repeat\n",
    "from einops.layers.torch import Rearrange, Reduce\n",
    "from torchsummary import summary"
   ]
  },
  {
   "cell_type": "code",
   "execution_count": 10,
   "id": "f5a0e564-b3f1-45bb-ae2f-81fc17f9d2f2",
   "metadata": {},
   "outputs": [],
   "source": [
    "class PatchEmbedding(nn.Module):\n",
    "    def __init__(self, in_channels: int = 3, patch_size: int = 16, emb_size: int = 768, img_size: int = 224):\n",
    "        self.patch_size = patch_size\n",
    "        super().__init__()\n",
    "        self.projection = nn.Sequential(\n",
    "            # using a conv layer instead of a linear one -> performance gains\n",
    "            nn.Conv2d(in_channels, emb_size, kernel_size=patch_size, stride=patch_size),\n",
    "            Rearrange('b e (h) (w) -> b (h w) e'),\n",
    "        )\n",
    "        self.cls_token = nn.Parameter(torch.randn(1,1, emb_size))\n",
    "        self.positions = nn.Parameter(torch.randn((img_size // patch_size) **2 + 1, emb_size))\n",
    "\n",
    "        \n",
    "    def forward(self, x: Tensor) -> Tensor:\n",
    "        b, _, _, _ = x.shape\n",
    "        x = self.projection(x)\n",
    "        cls_tokens = repeat(self.cls_token, '() n e -> b n e', b=b)\n",
    "        # prepend the cls token to the input\n",
    "        x = torch.cat([cls_tokens, x], dim=1)\n",
    "        # add position embedding\n",
    "        x += self.positions\n",
    "        return x\n",
    "    \n"
   ]
  },
  {
   "cell_type": "code",
   "execution_count": 11,
   "id": "5d8af1de-26e2-4e73-ac41-55dbd9e52509",
   "metadata": {},
   "outputs": [],
   "source": [
    "class MultiHeadAttention(nn.Module):\n",
    "    def __init__(self, emb_size: int = 768, num_heads: int = 8, dropout: float = 0):\n",
    "        super().__init__()\n",
    "        self.emb_size = emb_size\n",
    "        self.num_heads = num_heads\n",
    "        # fuse the queries, keys and values in one matrix\n",
    "        self.qkv = nn.Linear(emb_size, emb_size * 3)\n",
    "        self.att_drop = nn.Dropout(dropout)\n",
    "        self.projection = nn.Linear(emb_size, emb_size)\n",
    "        \n",
    "    def forward(self, x : Tensor, mask: Tensor = None) -> Tensor:\n",
    "        # split keys, queries and values in num_heads\n",
    "        qkv = rearrange(self.qkv(x), \"b n (h d qkv) -> (qkv) b h n d\", h=self.num_heads, qkv=3)\n",
    "        queries, keys, values = qkv[0], qkv[1], qkv[2]\n",
    "        # sum up over the last axis\n",
    "        energy = torch.einsum('bhqd, bhkd -> bhqk', queries, keys) # batch, num_heads, query_len, key_len\n",
    "        if mask is not None:\n",
    "            fill_value = torch.finfo(torch.float32).min\n",
    "            energy.mask_fill(~mask, fill_value)\n",
    "            \n",
    "        scaling = self.emb_size ** (1/2)\n",
    "        att = F.softmax(energy, dim=-1) / scaling\n",
    "        att = self.att_drop(att)\n",
    "        # sum up over the third axis\n",
    "        out = torch.einsum('bhal, bhlv -> bhav ', att, values)\n",
    "        out = rearrange(out, \"b h n d -> b n (h d)\")\n",
    "        out = self.projection(out)\n",
    "        return out\n",
    "    \n"
   ]
  },
  {
   "cell_type": "code",
   "execution_count": 12,
   "id": "c24a9002-d10a-47fb-8a23-3aba20049236",
   "metadata": {},
   "outputs": [],
   "source": [
    "class ResidualAdd(nn.Module):\n",
    "    def __init__(self, fn):\n",
    "        super().__init__()\n",
    "        self.fn = fn\n",
    "        \n",
    "    def forward(self, x, **kwargs):\n",
    "        res = x\n",
    "        x = self.fn(x, **kwargs)\n",
    "        x += res\n",
    "        return x"
   ]
  },
  {
   "cell_type": "code",
   "execution_count": 13,
   "id": "64ea007a-8de8-48ab-a166-4eac8a5f8aea",
   "metadata": {},
   "outputs": [],
   "source": [
    "class FeedForwardBlock(nn.Sequential):\n",
    "    def __init__(self, emb_size: int, expansion: int = 4, drop_p: float = 0.):\n",
    "        super().__init__(\n",
    "            nn.Linear(emb_size, expansion * emb_size),\n",
    "            nn.GELU(),\n",
    "            nn.Dropout(drop_p),\n",
    "            nn.Linear(expansion * emb_size, emb_size),\n",
    "        )"
   ]
  },
  {
   "cell_type": "code",
   "execution_count": 14,
   "id": "cce715e5-1832-4c05-9375-b897f035f17d",
   "metadata": {},
   "outputs": [],
   "source": [
    "class TransformerEncoderBlock(nn.Sequential):\n",
    "    def __init__(self,\n",
    "                 emb_size: int = 768,\n",
    "                 drop_p: float = 0.,\n",
    "                 forward_expansion: int = 4,\n",
    "                 forward_drop_p: float = 0.,\n",
    "                 ** kwargs):\n",
    "        super().__init__(\n",
    "            ResidualAdd(nn.Sequential(\n",
    "                nn.LayerNorm(emb_size),\n",
    "                MultiHeadAttention(emb_size, **kwargs),\n",
    "                nn.Dropout(drop_p)\n",
    "            )),\n",
    "            ResidualAdd(nn.Sequential(\n",
    "                nn.LayerNorm(emb_size),\n",
    "                FeedForwardBlock(\n",
    "                    emb_size, expansion=forward_expansion, drop_p=forward_drop_p),\n",
    "                nn.Dropout(drop_p)\n",
    "            )\n",
    "            ))"
   ]
  },
  {
   "cell_type": "code",
   "execution_count": 15,
   "id": "d14f9ad8-4383-4fb6-8557-ac39bed1c7fc",
   "metadata": {},
   "outputs": [],
   "source": [
    "class TransformerEncoder(nn.Sequential):\n",
    "    def __init__(self, depth: int = 12, **kwargs):\n",
    "        super().__init__(*[TransformerEncoderBlock(**kwargs) for _ in range(depth)])\n",
    "                "
   ]
  },
  {
   "cell_type": "code",
   "execution_count": 16,
   "id": "ce6b0bac-f79d-452e-a362-32ec22a71b1b",
   "metadata": {},
   "outputs": [],
   "source": [
    "class ClassificationHead(nn.Sequential):\n",
    "    def __init__(self, emb_size: int = 768, n_classes: int = 1000):\n",
    "        super().__init__(\n",
    "            Reduce('b n e -> b e', reduction='mean'),\n",
    "            nn.LayerNorm(emb_size), \n",
    "            nn.Linear(emb_size, n_classes))"
   ]
  },
  {
   "cell_type": "code",
   "execution_count": 17,
   "id": "6e9ee83d-9990-4a61-9cf3-bbf83ad8491b",
   "metadata": {},
   "outputs": [],
   "source": [
    "class ViT(nn.Sequential):\n",
    "    def __init__(self,     \n",
    "                in_channels: int = 4,\n",
    "                patch_size: int = 16,\n",
    "                emb_size: int = 768, \n",
    "                img_size: int = 64,\n",
    "                depth: int = 12,\n",
    "                n_classes: int = 10,\n",
    "                **kwargs):\n",
    "        super().__init__(\n",
    "            PatchEmbedding(in_channels, patch_size, emb_size, img_size),\n",
    "            TransformerEncoder(depth, emb_size=emb_size, **kwargs),\n",
    "            ClassificationHead(emb_size, n_classes)\n",
    "        )\n",
    "        "
   ]
  },
  {
   "cell_type": "code",
   "execution_count": 18,
   "id": "06896db5-c0b3-4602-8355-f7e195f77483",
   "metadata": {},
   "outputs": [
    {
     "name": "stdout",
     "output_type": "stream",
     "text": [
      "----------------------------------------------------------------\n",
      "        Layer (type)               Output Shape         Param #\n",
      "================================================================\n",
      "            Conv2d-1            [-1, 768, 4, 4]         787,200\n",
      "         Rearrange-2              [-1, 16, 768]               0\n",
      "    PatchEmbedding-3              [-1, 17, 768]               0\n",
      "         LayerNorm-4              [-1, 17, 768]           1,536\n",
      "            Linear-5             [-1, 17, 2304]       1,771,776\n",
      "           Dropout-6            [-1, 8, 17, 17]               0\n",
      "            Linear-7              [-1, 17, 768]         590,592\n",
      "MultiHeadAttention-8              [-1, 17, 768]               0\n",
      "           Dropout-9              [-1, 17, 768]               0\n",
      "      ResidualAdd-10              [-1, 17, 768]               0\n",
      "        LayerNorm-11              [-1, 17, 768]           1,536\n",
      "           Linear-12             [-1, 17, 3072]       2,362,368\n",
      "             GELU-13             [-1, 17, 3072]               0\n",
      "          Dropout-14             [-1, 17, 3072]               0\n",
      "           Linear-15              [-1, 17, 768]       2,360,064\n",
      "          Dropout-16              [-1, 17, 768]               0\n",
      "      ResidualAdd-17              [-1, 17, 768]               0\n",
      "        LayerNorm-18              [-1, 17, 768]           1,536\n",
      "           Linear-19             [-1, 17, 2304]       1,771,776\n",
      "          Dropout-20            [-1, 8, 17, 17]               0\n",
      "           Linear-21              [-1, 17, 768]         590,592\n",
      "MultiHeadAttention-22              [-1, 17, 768]               0\n",
      "          Dropout-23              [-1, 17, 768]               0\n",
      "      ResidualAdd-24              [-1, 17, 768]               0\n",
      "        LayerNorm-25              [-1, 17, 768]           1,536\n",
      "           Linear-26             [-1, 17, 3072]       2,362,368\n",
      "             GELU-27             [-1, 17, 3072]               0\n",
      "          Dropout-28             [-1, 17, 3072]               0\n",
      "           Linear-29              [-1, 17, 768]       2,360,064\n",
      "          Dropout-30              [-1, 17, 768]               0\n",
      "      ResidualAdd-31              [-1, 17, 768]               0\n",
      "        LayerNorm-32              [-1, 17, 768]           1,536\n",
      "           Linear-33             [-1, 17, 2304]       1,771,776\n",
      "          Dropout-34            [-1, 8, 17, 17]               0\n",
      "           Linear-35              [-1, 17, 768]         590,592\n",
      "MultiHeadAttention-36              [-1, 17, 768]               0\n",
      "          Dropout-37              [-1, 17, 768]               0\n",
      "      ResidualAdd-38              [-1, 17, 768]               0\n",
      "        LayerNorm-39              [-1, 17, 768]           1,536\n",
      "           Linear-40             [-1, 17, 3072]       2,362,368\n",
      "             GELU-41             [-1, 17, 3072]               0\n",
      "          Dropout-42             [-1, 17, 3072]               0\n",
      "           Linear-43              [-1, 17, 768]       2,360,064\n",
      "          Dropout-44              [-1, 17, 768]               0\n",
      "      ResidualAdd-45              [-1, 17, 768]               0\n",
      "        LayerNorm-46              [-1, 17, 768]           1,536\n",
      "           Linear-47             [-1, 17, 2304]       1,771,776\n",
      "          Dropout-48            [-1, 8, 17, 17]               0\n",
      "           Linear-49              [-1, 17, 768]         590,592\n",
      "MultiHeadAttention-50              [-1, 17, 768]               0\n",
      "          Dropout-51              [-1, 17, 768]               0\n",
      "      ResidualAdd-52              [-1, 17, 768]               0\n",
      "        LayerNorm-53              [-1, 17, 768]           1,536\n",
      "           Linear-54             [-1, 17, 3072]       2,362,368\n",
      "             GELU-55             [-1, 17, 3072]               0\n",
      "          Dropout-56             [-1, 17, 3072]               0\n",
      "           Linear-57              [-1, 17, 768]       2,360,064\n",
      "          Dropout-58              [-1, 17, 768]               0\n",
      "      ResidualAdd-59              [-1, 17, 768]               0\n",
      "        LayerNorm-60              [-1, 17, 768]           1,536\n",
      "           Linear-61             [-1, 17, 2304]       1,771,776\n",
      "          Dropout-62            [-1, 8, 17, 17]               0\n",
      "           Linear-63              [-1, 17, 768]         590,592\n",
      "MultiHeadAttention-64              [-1, 17, 768]               0\n",
      "          Dropout-65              [-1, 17, 768]               0\n",
      "      ResidualAdd-66              [-1, 17, 768]               0\n",
      "        LayerNorm-67              [-1, 17, 768]           1,536\n",
      "           Linear-68             [-1, 17, 3072]       2,362,368\n",
      "             GELU-69             [-1, 17, 3072]               0\n",
      "          Dropout-70             [-1, 17, 3072]               0\n",
      "           Linear-71              [-1, 17, 768]       2,360,064\n",
      "          Dropout-72              [-1, 17, 768]               0\n",
      "      ResidualAdd-73              [-1, 17, 768]               0\n",
      "        LayerNorm-74              [-1, 17, 768]           1,536\n",
      "           Linear-75             [-1, 17, 2304]       1,771,776\n",
      "          Dropout-76            [-1, 8, 17, 17]               0\n",
      "           Linear-77              [-1, 17, 768]         590,592\n",
      "MultiHeadAttention-78              [-1, 17, 768]               0\n",
      "          Dropout-79              [-1, 17, 768]               0\n",
      "      ResidualAdd-80              [-1, 17, 768]               0\n",
      "        LayerNorm-81              [-1, 17, 768]           1,536\n",
      "           Linear-82             [-1, 17, 3072]       2,362,368\n",
      "             GELU-83             [-1, 17, 3072]               0\n",
      "          Dropout-84             [-1, 17, 3072]               0\n",
      "           Linear-85              [-1, 17, 768]       2,360,064\n",
      "          Dropout-86              [-1, 17, 768]               0\n",
      "      ResidualAdd-87              [-1, 17, 768]               0\n",
      "        LayerNorm-88              [-1, 17, 768]           1,536\n",
      "           Linear-89             [-1, 17, 2304]       1,771,776\n",
      "          Dropout-90            [-1, 8, 17, 17]               0\n",
      "           Linear-91              [-1, 17, 768]         590,592\n",
      "MultiHeadAttention-92              [-1, 17, 768]               0\n",
      "          Dropout-93              [-1, 17, 768]               0\n",
      "      ResidualAdd-94              [-1, 17, 768]               0\n",
      "        LayerNorm-95              [-1, 17, 768]           1,536\n",
      "           Linear-96             [-1, 17, 3072]       2,362,368\n",
      "             GELU-97             [-1, 17, 3072]               0\n",
      "          Dropout-98             [-1, 17, 3072]               0\n",
      "           Linear-99              [-1, 17, 768]       2,360,064\n",
      "         Dropout-100              [-1, 17, 768]               0\n",
      "     ResidualAdd-101              [-1, 17, 768]               0\n",
      "       LayerNorm-102              [-1, 17, 768]           1,536\n",
      "          Linear-103             [-1, 17, 2304]       1,771,776\n",
      "         Dropout-104            [-1, 8, 17, 17]               0\n",
      "          Linear-105              [-1, 17, 768]         590,592\n",
      "MultiHeadAttention-106              [-1, 17, 768]               0\n",
      "         Dropout-107              [-1, 17, 768]               0\n",
      "     ResidualAdd-108              [-1, 17, 768]               0\n",
      "       LayerNorm-109              [-1, 17, 768]           1,536\n",
      "          Linear-110             [-1, 17, 3072]       2,362,368\n",
      "            GELU-111             [-1, 17, 3072]               0\n",
      "         Dropout-112             [-1, 17, 3072]               0\n",
      "          Linear-113              [-1, 17, 768]       2,360,064\n",
      "         Dropout-114              [-1, 17, 768]               0\n",
      "     ResidualAdd-115              [-1, 17, 768]               0\n",
      "       LayerNorm-116              [-1, 17, 768]           1,536\n",
      "          Linear-117             [-1, 17, 2304]       1,771,776\n",
      "         Dropout-118            [-1, 8, 17, 17]               0\n",
      "          Linear-119              [-1, 17, 768]         590,592\n",
      "MultiHeadAttention-120              [-1, 17, 768]               0\n",
      "         Dropout-121              [-1, 17, 768]               0\n",
      "     ResidualAdd-122              [-1, 17, 768]               0\n",
      "       LayerNorm-123              [-1, 17, 768]           1,536\n",
      "          Linear-124             [-1, 17, 3072]       2,362,368\n",
      "            GELU-125             [-1, 17, 3072]               0\n",
      "         Dropout-126             [-1, 17, 3072]               0\n",
      "          Linear-127              [-1, 17, 768]       2,360,064\n",
      "         Dropout-128              [-1, 17, 768]               0\n",
      "     ResidualAdd-129              [-1, 17, 768]               0\n",
      "       LayerNorm-130              [-1, 17, 768]           1,536\n",
      "          Linear-131             [-1, 17, 2304]       1,771,776\n",
      "         Dropout-132            [-1, 8, 17, 17]               0\n",
      "          Linear-133              [-1, 17, 768]         590,592\n",
      "MultiHeadAttention-134              [-1, 17, 768]               0\n",
      "         Dropout-135              [-1, 17, 768]               0\n",
      "     ResidualAdd-136              [-1, 17, 768]               0\n",
      "       LayerNorm-137              [-1, 17, 768]           1,536\n",
      "          Linear-138             [-1, 17, 3072]       2,362,368\n",
      "            GELU-139             [-1, 17, 3072]               0\n",
      "         Dropout-140             [-1, 17, 3072]               0\n",
      "          Linear-141              [-1, 17, 768]       2,360,064\n",
      "         Dropout-142              [-1, 17, 768]               0\n",
      "     ResidualAdd-143              [-1, 17, 768]               0\n",
      "       LayerNorm-144              [-1, 17, 768]           1,536\n",
      "          Linear-145             [-1, 17, 2304]       1,771,776\n",
      "         Dropout-146            [-1, 8, 17, 17]               0\n",
      "          Linear-147              [-1, 17, 768]         590,592\n",
      "MultiHeadAttention-148              [-1, 17, 768]               0\n",
      "         Dropout-149              [-1, 17, 768]               0\n",
      "     ResidualAdd-150              [-1, 17, 768]               0\n",
      "       LayerNorm-151              [-1, 17, 768]           1,536\n",
      "          Linear-152             [-1, 17, 3072]       2,362,368\n",
      "            GELU-153             [-1, 17, 3072]               0\n",
      "         Dropout-154             [-1, 17, 3072]               0\n",
      "          Linear-155              [-1, 17, 768]       2,360,064\n",
      "         Dropout-156              [-1, 17, 768]               0\n",
      "     ResidualAdd-157              [-1, 17, 768]               0\n",
      "       LayerNorm-158              [-1, 17, 768]           1,536\n",
      "          Linear-159             [-1, 17, 2304]       1,771,776\n",
      "         Dropout-160            [-1, 8, 17, 17]               0\n",
      "          Linear-161              [-1, 17, 768]         590,592\n",
      "MultiHeadAttention-162              [-1, 17, 768]               0\n",
      "         Dropout-163              [-1, 17, 768]               0\n",
      "     ResidualAdd-164              [-1, 17, 768]               0\n",
      "       LayerNorm-165              [-1, 17, 768]           1,536\n",
      "          Linear-166             [-1, 17, 3072]       2,362,368\n",
      "            GELU-167             [-1, 17, 3072]               0\n",
      "         Dropout-168             [-1, 17, 3072]               0\n",
      "          Linear-169              [-1, 17, 768]       2,360,064\n",
      "         Dropout-170              [-1, 17, 768]               0\n",
      "     ResidualAdd-171              [-1, 17, 768]               0\n",
      "          Reduce-172                  [-1, 768]               0\n",
      "       LayerNorm-173                  [-1, 768]           1,536\n",
      "          Linear-174                   [-1, 10]           7,690\n",
      "================================================================\n",
      "Total params: 85,850,890\n",
      "Trainable params: 85,850,890\n",
      "Non-trainable params: 0\n",
      "----------------------------------------------------------------\n",
      "Input size (MB): 0.06\n",
      "Forward/backward pass size (MB): 29.20\n",
      "Params size (MB): 327.50\n",
      "Estimated Total Size (MB): 356.76\n",
      "----------------------------------------------------------------\n"
     ]
    }
   ],
   "source": [
    "summary(ViT().cuda(), (4, 64, 64), device='cuda')"
   ]
  },
  {
   "cell_type": "code",
   "execution_count": 19,
   "id": "3da8dc80-db4c-4418-84df-b4e7ee4ded84",
   "metadata": {},
   "outputs": [],
   "source": [
    "model = ViT()\n",
    "model=model.cuda()"
   ]
  },
  {
   "cell_type": "code",
   "execution_count": 20,
   "id": "40f42e4c-efcc-4191-b81b-1d87d365dd3b",
   "metadata": {},
   "outputs": [],
   "source": [
    "\n",
    "import torch.optim as optim\n",
    "from tqdm import tqdm\n",
    "\n",
    "learning_rate = 0.001\n",
    "\n",
    "criterion = nn.CrossEntropyLoss()\n",
    "optimizer = optim.Adam(model.parameters(), lr=learning_rate)\n",
    "\n",
    "num_epochs = 10\n"
   ]
  },
  {
   "cell_type": "code",
   "execution_count": 21,
   "id": "70e7a618-dcbf-44f6-9f09-08c9bd7e6af0",
   "metadata": {},
   "outputs": [
    {
     "name": "stdout",
     "output_type": "stream",
     "text": [
      "True\n"
     ]
    }
   ],
   "source": [
    "print(torch.cuda.is_available())"
   ]
  },
  {
   "cell_type": "code",
   "execution_count": 22,
   "id": "7b44aa2d-5d4d-465a-8970-a739a023c317",
   "metadata": {},
   "outputs": [],
   "source": [
    "train_losses = []\n",
    "train_accu = []\n",
    "\n",
    "def train(epoch):\n",
    "    print('Epoch : %d'%epoch)\n",
    "    \n",
    "    model.train()\n",
    "    running_loss=0\n",
    "    correct=0\n",
    "    total=0\n",
    "\n",
    "    for images, labels in tqdm(train_loader):\n",
    "        \n",
    "        images = images.float().cuda()\n",
    "        labels = labels.float().cuda()\n",
    "        #print(images.size())\n",
    "        #print(labels.size())\n",
    "        # Forward pass\n",
    "        #model = model.cuda()\n",
    "        outputs = model(images)\n",
    "        labels1= np.zeros((32,10))\n",
    "        \n",
    "        #labels1 = tensor.detach().cpu().numpy()\n",
    "        for j in range(32):\n",
    "            i=labels[j]\n",
    "            i=int(i.item())\n",
    "            # print(i)\n",
    "            labels1[j][i]=1\n",
    "        labels1=torch.from_numpy(labels1)\n",
    "        #print(labels1.size())\n",
    "        labels1=labels1.to(device='cuda')\n",
    "        loss = criterion(outputs, labels1)\n",
    "        \n",
    "        \n",
    "       # Backward and optimize\n",
    "        optimizer.zero_grad()\n",
    "        loss.backward()\n",
    "        optimizer.step()\n",
    "    \n",
    "        \n",
    "    #Replaces pow(2.0) with abs() for L1 regularization\n",
    "    \n",
    "#     l2_lambda = 0.001\n",
    "#     l2_norm = sum(p.pow(2.0).sum()\n",
    "#                   for p in model.parameters())\n",
    "\n",
    "#     loss = loss + l2_lambda * l2_norm\n",
    "    \n",
    "        \n",
    "        running_loss += loss.item()\n",
    "    \n",
    "        _, predicted = outputs.max(1)\n",
    "        total += labels.size(0)\n",
    "        correct += predicted.eq(labels).sum().item()\n",
    "      \n",
    "    train_loss=running_loss/len(train_loader)\n",
    "    accu=100.*correct/total\n",
    "  \n",
    "    train_accu.append(accu)\n",
    "    train_losses.append(train_loss)\n",
    "    print('Train Loss: %.3f | Accuracy: %.3f'%(train_loss,accu))\n",
    "    "
   ]
  },
  {
   "cell_type": "code",
   "execution_count": 23,
   "id": "02e2f967-1551-4d76-95b4-e606c6c05c00",
   "metadata": {},
   "outputs": [],
   "source": [
    "eval_losses=[]\n",
    "eval_accu=[]\n",
    "\n",
    "def test(epoch):\n",
    "    model.eval()\n",
    "\n",
    "    running_loss=0\n",
    "    correct=0\n",
    "    total=0\n",
    "    #print(test_loader)\n",
    "    with torch.no_grad():\n",
    "        for images, labels in tqdm(test_loader):\n",
    "            \n",
    "            #images = images.to(device='cuda', dtype=torch.float)\n",
    "            images = images.float().cuda()\n",
    "            labels = labels.float().cuda()\n",
    "            #labels = labels.to(device='cuda', dtype=torch.float)\n",
    "            \n",
    "            # Predict classes using the model\n",
    "            outputs = model(images)\n",
    "            #print(labels.size())\n",
    "            t,y=outputs.shape\n",
    "            # print(t)\n",
    "            labels1= np.zeros((t,10))\n",
    "            for j in range(t):\n",
    "                i=labels[j]\n",
    "                i=int(i.item())\n",
    "                labels1[j][i]=1\n",
    "            labels1=torch.from_numpy(labels1)\n",
    "            #print(labels1.size())\n",
    "            labels1=labels1.to(device='cuda')\n",
    "            #outputs=outputs.tensor()\n",
    "            loss= criterion(outputs,labels1)\n",
    "            running_loss+=loss.item()\n",
    "            \n",
    "            \n",
    "           # Compute accuracy\n",
    "            _, predicted = torch.max(outputs.data, 1)\n",
    "            total += labels.size(0)\n",
    "            correct += (predicted == labels).sum().item()\n",
    "            \n",
    "    test_loss=running_loss/len(test_loader)\n",
    "    accu=100.*correct/total\n",
    "\n",
    "    eval_losses.append(test_loss)\n",
    "    eval_accu.append(accu)\n",
    "\n",
    "    print('Test Loss: %.3f | Accuracy: %.3f'%(test_loss,accu)) \n",
    "    "
   ]
  },
  {
   "cell_type": "code",
   "execution_count": 24,
   "id": "0128f43d-7956-44bf-a626-9fbc5c85db11",
   "metadata": {},
   "outputs": [
    {
     "name": "stdout",
     "output_type": "stream",
     "text": [
      "Epoch : 1\n"
     ]
    },
    {
     "name": "stderr",
     "output_type": "stream",
     "text": [
      "100%|█████████████████████████████████████████| 675/675 [00:53<00:00, 12.58it/s]\n"
     ]
    },
    {
     "name": "stdout",
     "output_type": "stream",
     "text": [
      "Train Loss: 1.452 | Accuracy: 47.269\n"
     ]
    },
    {
     "name": "stderr",
     "output_type": "stream",
     "text": [
      "100%|█████████████████████████████████████████| 169/169 [00:03<00:00, 51.53it/s]\n"
     ]
    },
    {
     "name": "stdout",
     "output_type": "stream",
     "text": [
      "Test Loss: 1.137 | Accuracy: 60.074\n",
      "Epoch : 2\n"
     ]
    },
    {
     "name": "stderr",
     "output_type": "stream",
     "text": [
      "100%|█████████████████████████████████████████| 675/675 [00:53<00:00, 12.51it/s]\n"
     ]
    },
    {
     "name": "stdout",
     "output_type": "stream",
     "text": [
      "Train Loss: 1.437 | Accuracy: 48.250\n"
     ]
    },
    {
     "name": "stderr",
     "output_type": "stream",
     "text": [
      "100%|█████████████████████████████████████████| 169/169 [00:03<00:00, 51.73it/s]\n"
     ]
    },
    {
     "name": "stdout",
     "output_type": "stream",
     "text": [
      "Test Loss: 1.190 | Accuracy: 58.056\n",
      "Epoch : 3\n"
     ]
    },
    {
     "name": "stderr",
     "output_type": "stream",
     "text": [
      "100%|█████████████████████████████████████████| 675/675 [00:53<00:00, 12.56it/s]\n"
     ]
    },
    {
     "name": "stdout",
     "output_type": "stream",
     "text": [
      "Train Loss: 1.147 | Accuracy: 58.662\n"
     ]
    },
    {
     "name": "stderr",
     "output_type": "stream",
     "text": [
      "100%|█████████████████████████████████████████| 169/169 [00:03<00:00, 51.80it/s]\n"
     ]
    },
    {
     "name": "stdout",
     "output_type": "stream",
     "text": [
      "Test Loss: 1.032 | Accuracy: 62.389\n",
      "Epoch : 4\n"
     ]
    },
    {
     "name": "stderr",
     "output_type": "stream",
     "text": [
      "100%|█████████████████████████████████████████| 675/675 [00:53<00:00, 12.55it/s]\n"
     ]
    },
    {
     "name": "stdout",
     "output_type": "stream",
     "text": [
      "Train Loss: 1.007 | Accuracy: 63.537\n"
     ]
    },
    {
     "name": "stderr",
     "output_type": "stream",
     "text": [
      "100%|█████████████████████████████████████████| 169/169 [00:03<00:00, 51.73it/s]\n"
     ]
    },
    {
     "name": "stdout",
     "output_type": "stream",
     "text": [
      "Test Loss: 0.918 | Accuracy: 67.593\n",
      "Epoch : 5\n"
     ]
    },
    {
     "name": "stderr",
     "output_type": "stream",
     "text": [
      "100%|█████████████████████████████████████████| 675/675 [00:53<00:00, 12.56it/s]\n"
     ]
    },
    {
     "name": "stdout",
     "output_type": "stream",
     "text": [
      "Train Loss: 1.003 | Accuracy: 64.037\n"
     ]
    },
    {
     "name": "stderr",
     "output_type": "stream",
     "text": [
      "100%|█████████████████████████████████████████| 169/169 [00:03<00:00, 51.41it/s]\n"
     ]
    },
    {
     "name": "stdout",
     "output_type": "stream",
     "text": [
      "Test Loss: 0.920 | Accuracy: 66.852\n",
      "Epoch : 6\n"
     ]
    },
    {
     "name": "stderr",
     "output_type": "stream",
     "text": [
      "100%|█████████████████████████████████████████| 675/675 [00:53<00:00, 12.71it/s]\n"
     ]
    },
    {
     "name": "stdout",
     "output_type": "stream",
     "text": [
      "Train Loss: 0.997 | Accuracy: 63.894\n"
     ]
    },
    {
     "name": "stderr",
     "output_type": "stream",
     "text": [
      "100%|█████████████████████████████████████████| 169/169 [00:03<00:00, 53.97it/s]\n"
     ]
    },
    {
     "name": "stdout",
     "output_type": "stream",
     "text": [
      "Test Loss: 1.024 | Accuracy: 62.481\n",
      "Epoch : 7\n"
     ]
    },
    {
     "name": "stderr",
     "output_type": "stream",
     "text": [
      "100%|█████████████████████████████████████████| 675/675 [00:52<00:00, 12.97it/s]\n"
     ]
    },
    {
     "name": "stdout",
     "output_type": "stream",
     "text": [
      "Train Loss: 1.227 | Accuracy: 55.356\n"
     ]
    },
    {
     "name": "stderr",
     "output_type": "stream",
     "text": [
      "100%|█████████████████████████████████████████| 169/169 [00:03<00:00, 54.02it/s]\n"
     ]
    },
    {
     "name": "stdout",
     "output_type": "stream",
     "text": [
      "Test Loss: 1.075 | Accuracy: 61.093\n",
      "Epoch : 8\n"
     ]
    },
    {
     "name": "stderr",
     "output_type": "stream",
     "text": [
      "100%|█████████████████████████████████████████| 675/675 [00:52<00:00, 12.97it/s]\n"
     ]
    },
    {
     "name": "stdout",
     "output_type": "stream",
     "text": [
      "Train Loss: 1.053 | Accuracy: 62.500\n"
     ]
    },
    {
     "name": "stderr",
     "output_type": "stream",
     "text": [
      "100%|█████████████████████████████████████████| 169/169 [00:03<00:00, 54.01it/s]\n"
     ]
    },
    {
     "name": "stdout",
     "output_type": "stream",
     "text": [
      "Test Loss: 0.954 | Accuracy: 64.426\n",
      "Epoch : 9\n"
     ]
    },
    {
     "name": "stderr",
     "output_type": "stream",
     "text": [
      "100%|█████████████████████████████████████████| 675/675 [00:52<00:00, 12.96it/s]\n"
     ]
    },
    {
     "name": "stdout",
     "output_type": "stream",
     "text": [
      "Train Loss: 0.923 | Accuracy: 67.056\n"
     ]
    },
    {
     "name": "stderr",
     "output_type": "stream",
     "text": [
      "100%|█████████████████████████████████████████| 169/169 [00:03<00:00, 54.00it/s]\n"
     ]
    },
    {
     "name": "stdout",
     "output_type": "stream",
     "text": [
      "Test Loss: 0.864 | Accuracy: 68.426\n",
      "Epoch : 10\n"
     ]
    },
    {
     "name": "stderr",
     "output_type": "stream",
     "text": [
      "100%|█████████████████████████████████████████| 675/675 [00:52<00:00, 12.97it/s]\n"
     ]
    },
    {
     "name": "stdout",
     "output_type": "stream",
     "text": [
      "Train Loss: 1.006 | Accuracy: 63.903\n"
     ]
    },
    {
     "name": "stderr",
     "output_type": "stream",
     "text": [
      "100%|█████████████████████████████████████████| 169/169 [00:03<00:00, 54.02it/s]\n"
     ]
    },
    {
     "name": "stdout",
     "output_type": "stream",
     "text": [
      "Test Loss: 0.917 | Accuracy: 66.000\n",
      "Epoch : 11\n"
     ]
    },
    {
     "name": "stderr",
     "output_type": "stream",
     "text": [
      "100%|█████████████████████████████████████████| 675/675 [00:52<00:00, 12.98it/s]\n"
     ]
    },
    {
     "name": "stdout",
     "output_type": "stream",
     "text": [
      "Train Loss: 0.904 | Accuracy: 67.907\n"
     ]
    },
    {
     "name": "stderr",
     "output_type": "stream",
     "text": [
      "100%|█████████████████████████████████████████| 169/169 [00:03<00:00, 53.98it/s]\n"
     ]
    },
    {
     "name": "stdout",
     "output_type": "stream",
     "text": [
      "Test Loss: 0.845 | Accuracy: 70.556\n",
      "Epoch : 12\n"
     ]
    },
    {
     "name": "stderr",
     "output_type": "stream",
     "text": [
      "100%|█████████████████████████████████████████| 675/675 [00:52<00:00, 12.97it/s]\n"
     ]
    },
    {
     "name": "stdout",
     "output_type": "stream",
     "text": [
      "Train Loss: 0.868 | Accuracy: 69.023\n"
     ]
    },
    {
     "name": "stderr",
     "output_type": "stream",
     "text": [
      "100%|█████████████████████████████████████████| 169/169 [00:03<00:00, 54.00it/s]\n"
     ]
    },
    {
     "name": "stdout",
     "output_type": "stream",
     "text": [
      "Test Loss: 0.819 | Accuracy: 70.759\n",
      "Epoch : 13\n"
     ]
    },
    {
     "name": "stderr",
     "output_type": "stream",
     "text": [
      "100%|█████████████████████████████████████████| 675/675 [00:52<00:00, 12.97it/s]\n"
     ]
    },
    {
     "name": "stdout",
     "output_type": "stream",
     "text": [
      "Train Loss: 0.856 | Accuracy: 69.454\n"
     ]
    },
    {
     "name": "stderr",
     "output_type": "stream",
     "text": [
      "100%|█████████████████████████████████████████| 169/169 [00:03<00:00, 54.04it/s]\n"
     ]
    },
    {
     "name": "stdout",
     "output_type": "stream",
     "text": [
      "Test Loss: 0.850 | Accuracy: 69.556\n",
      "Epoch : 14\n"
     ]
    },
    {
     "name": "stderr",
     "output_type": "stream",
     "text": [
      "100%|█████████████████████████████████████████| 675/675 [00:52<00:00, 12.97it/s]\n"
     ]
    },
    {
     "name": "stdout",
     "output_type": "stream",
     "text": [
      "Train Loss: 0.837 | Accuracy: 70.032\n"
     ]
    },
    {
     "name": "stderr",
     "output_type": "stream",
     "text": [
      "100%|█████████████████████████████████████████| 169/169 [00:03<00:00, 53.98it/s]\n"
     ]
    },
    {
     "name": "stdout",
     "output_type": "stream",
     "text": [
      "Test Loss: 0.798 | Accuracy: 72.204\n",
      "Epoch : 15\n"
     ]
    },
    {
     "name": "stderr",
     "output_type": "stream",
     "text": [
      "100%|█████████████████████████████████████████| 675/675 [00:52<00:00, 12.92it/s]\n"
     ]
    },
    {
     "name": "stdout",
     "output_type": "stream",
     "text": [
      "Train Loss: 0.834 | Accuracy: 70.134\n"
     ]
    },
    {
     "name": "stderr",
     "output_type": "stream",
     "text": [
      "100%|█████████████████████████████████████████| 169/169 [00:03<00:00, 53.67it/s]\n"
     ]
    },
    {
     "name": "stdout",
     "output_type": "stream",
     "text": [
      "Test Loss: 0.773 | Accuracy: 73.241\n",
      "Epoch : 16\n"
     ]
    },
    {
     "name": "stderr",
     "output_type": "stream",
     "text": [
      "100%|█████████████████████████████████████████| 675/675 [00:52<00:00, 12.92it/s]\n"
     ]
    },
    {
     "name": "stdout",
     "output_type": "stream",
     "text": [
      "Train Loss: 0.793 | Accuracy: 72.014\n"
     ]
    },
    {
     "name": "stderr",
     "output_type": "stream",
     "text": [
      "100%|█████████████████████████████████████████| 169/169 [00:03<00:00, 53.59it/s]\n"
     ]
    },
    {
     "name": "stdout",
     "output_type": "stream",
     "text": [
      "Test Loss: 0.754 | Accuracy: 72.185\n",
      "Epoch : 17\n"
     ]
    },
    {
     "name": "stderr",
     "output_type": "stream",
     "text": [
      "100%|█████████████████████████████████████████| 675/675 [00:52<00:00, 12.93it/s]\n"
     ]
    },
    {
     "name": "stdout",
     "output_type": "stream",
     "text": [
      "Train Loss: 0.754 | Accuracy: 72.852\n"
     ]
    },
    {
     "name": "stderr",
     "output_type": "stream",
     "text": [
      "100%|█████████████████████████████████████████| 169/169 [00:03<00:00, 53.71it/s]\n"
     ]
    },
    {
     "name": "stdout",
     "output_type": "stream",
     "text": [
      "Test Loss: 0.752 | Accuracy: 73.352\n",
      "Epoch : 18\n"
     ]
    },
    {
     "name": "stderr",
     "output_type": "stream",
     "text": [
      "100%|█████████████████████████████████████████| 675/675 [00:52<00:00, 12.93it/s]\n"
     ]
    },
    {
     "name": "stdout",
     "output_type": "stream",
     "text": [
      "Train Loss: 0.756 | Accuracy: 72.898\n"
     ]
    },
    {
     "name": "stderr",
     "output_type": "stream",
     "text": [
      "100%|█████████████████████████████████████████| 169/169 [00:03<00:00, 53.68it/s]\n"
     ]
    },
    {
     "name": "stdout",
     "output_type": "stream",
     "text": [
      "Test Loss: 0.730 | Accuracy: 74.315\n",
      "Epoch : 19\n"
     ]
    },
    {
     "name": "stderr",
     "output_type": "stream",
     "text": [
      "100%|█████████████████████████████████████████| 675/675 [00:52<00:00, 12.93it/s]\n"
     ]
    },
    {
     "name": "stdout",
     "output_type": "stream",
     "text": [
      "Train Loss: 0.755 | Accuracy: 72.981\n"
     ]
    },
    {
     "name": "stderr",
     "output_type": "stream",
     "text": [
      "100%|█████████████████████████████████████████| 169/169 [00:03<00:00, 53.68it/s]\n"
     ]
    },
    {
     "name": "stdout",
     "output_type": "stream",
     "text": [
      "Test Loss: 0.741 | Accuracy: 73.907\n",
      "Epoch : 20\n"
     ]
    },
    {
     "name": "stderr",
     "output_type": "stream",
     "text": [
      "100%|█████████████████████████████████████████| 675/675 [00:52<00:00, 12.93it/s]\n"
     ]
    },
    {
     "name": "stdout",
     "output_type": "stream",
     "text": [
      "Train Loss: 0.700 | Accuracy: 75.171\n"
     ]
    },
    {
     "name": "stderr",
     "output_type": "stream",
     "text": [
      "100%|█████████████████████████████████████████| 169/169 [00:03<00:00, 53.67it/s]\n"
     ]
    },
    {
     "name": "stdout",
     "output_type": "stream",
     "text": [
      "Test Loss: 0.686 | Accuracy: 75.593\n",
      "Epoch : 21\n"
     ]
    },
    {
     "name": "stderr",
     "output_type": "stream",
     "text": [
      "100%|█████████████████████████████████████████| 675/675 [00:52<00:00, 12.93it/s]\n"
     ]
    },
    {
     "name": "stdout",
     "output_type": "stream",
     "text": [
      "Train Loss: 0.708 | Accuracy: 74.954\n"
     ]
    },
    {
     "name": "stderr",
     "output_type": "stream",
     "text": [
      "100%|█████████████████████████████████████████| 169/169 [00:03<00:00, 53.66it/s]\n"
     ]
    },
    {
     "name": "stdout",
     "output_type": "stream",
     "text": [
      "Test Loss: 0.928 | Accuracy: 68.667\n",
      "Epoch : 22\n"
     ]
    },
    {
     "name": "stderr",
     "output_type": "stream",
     "text": [
      "100%|█████████████████████████████████████████| 675/675 [00:52<00:00, 12.93it/s]\n"
     ]
    },
    {
     "name": "stdout",
     "output_type": "stream",
     "text": [
      "Train Loss: 0.776 | Accuracy: 72.245\n"
     ]
    },
    {
     "name": "stderr",
     "output_type": "stream",
     "text": [
      "100%|█████████████████████████████████████████| 169/169 [00:03<00:00, 53.65it/s]\n"
     ]
    },
    {
     "name": "stdout",
     "output_type": "stream",
     "text": [
      "Test Loss: 1.017 | Accuracy: 62.333\n",
      "Epoch : 23\n"
     ]
    },
    {
     "name": "stderr",
     "output_type": "stream",
     "text": [
      "100%|█████████████████████████████████████████| 675/675 [00:52<00:00, 12.93it/s]\n"
     ]
    },
    {
     "name": "stdout",
     "output_type": "stream",
     "text": [
      "Train Loss: 0.799 | Accuracy: 71.579\n"
     ]
    },
    {
     "name": "stderr",
     "output_type": "stream",
     "text": [
      "100%|█████████████████████████████████████████| 169/169 [00:03<00:00, 53.68it/s]\n"
     ]
    },
    {
     "name": "stdout",
     "output_type": "stream",
     "text": [
      "Test Loss: 0.759 | Accuracy: 72.759\n",
      "Epoch : 24\n"
     ]
    },
    {
     "name": "stderr",
     "output_type": "stream",
     "text": [
      "100%|█████████████████████████████████████████| 675/675 [00:52<00:00, 12.93it/s]\n"
     ]
    },
    {
     "name": "stdout",
     "output_type": "stream",
     "text": [
      "Train Loss: 0.884 | Accuracy: 68.625\n"
     ]
    },
    {
     "name": "stderr",
     "output_type": "stream",
     "text": [
      "100%|█████████████████████████████████████████| 169/169 [00:03<00:00, 53.66it/s]\n"
     ]
    },
    {
     "name": "stdout",
     "output_type": "stream",
     "text": [
      "Test Loss: 0.755 | Accuracy: 72.944\n",
      "Epoch : 25\n"
     ]
    },
    {
     "name": "stderr",
     "output_type": "stream",
     "text": [
      "100%|█████████████████████████████████████████| 675/675 [00:52<00:00, 12.93it/s]\n"
     ]
    },
    {
     "name": "stdout",
     "output_type": "stream",
     "text": [
      "Train Loss: 0.766 | Accuracy: 72.421\n"
     ]
    },
    {
     "name": "stderr",
     "output_type": "stream",
     "text": [
      "100%|█████████████████████████████████████████| 169/169 [00:03<00:00, 53.65it/s]\n"
     ]
    },
    {
     "name": "stdout",
     "output_type": "stream",
     "text": [
      "Test Loss: 0.826 | Accuracy: 70.056\n",
      "Epoch : 26\n"
     ]
    },
    {
     "name": "stderr",
     "output_type": "stream",
     "text": [
      "100%|█████████████████████████████████████████| 675/675 [00:52<00:00, 12.93it/s]\n"
     ]
    },
    {
     "name": "stdout",
     "output_type": "stream",
     "text": [
      "Train Loss: 0.724 | Accuracy: 74.088\n"
     ]
    },
    {
     "name": "stderr",
     "output_type": "stream",
     "text": [
      "100%|█████████████████████████████████████████| 169/169 [00:03<00:00, 53.64it/s]\n"
     ]
    },
    {
     "name": "stdout",
     "output_type": "stream",
     "text": [
      "Test Loss: 0.682 | Accuracy: 75.074\n",
      "Epoch : 27\n"
     ]
    },
    {
     "name": "stderr",
     "output_type": "stream",
     "text": [
      "100%|█████████████████████████████████████████| 675/675 [00:52<00:00, 12.93it/s]\n"
     ]
    },
    {
     "name": "stdout",
     "output_type": "stream",
     "text": [
      "Train Loss: 0.680 | Accuracy: 75.491\n"
     ]
    },
    {
     "name": "stderr",
     "output_type": "stream",
     "text": [
      "100%|█████████████████████████████████████████| 169/169 [00:03<00:00, 53.66it/s]\n"
     ]
    },
    {
     "name": "stdout",
     "output_type": "stream",
     "text": [
      "Test Loss: 0.658 | Accuracy: 76.926\n",
      "Epoch : 28\n"
     ]
    },
    {
     "name": "stderr",
     "output_type": "stream",
     "text": [
      "100%|█████████████████████████████████████████| 675/675 [00:52<00:00, 12.92it/s]\n"
     ]
    },
    {
     "name": "stdout",
     "output_type": "stream",
     "text": [
      "Train Loss: 0.673 | Accuracy: 75.949\n"
     ]
    },
    {
     "name": "stderr",
     "output_type": "stream",
     "text": [
      "100%|█████████████████████████████████████████| 169/169 [00:03<00:00, 53.65it/s]\n"
     ]
    },
    {
     "name": "stdout",
     "output_type": "stream",
     "text": [
      "Test Loss: 0.643 | Accuracy: 76.630\n",
      "Epoch : 29\n"
     ]
    },
    {
     "name": "stderr",
     "output_type": "stream",
     "text": [
      "100%|█████████████████████████████████████████| 675/675 [00:52<00:00, 12.92it/s]\n"
     ]
    },
    {
     "name": "stdout",
     "output_type": "stream",
     "text": [
      "Train Loss: 0.823 | Accuracy: 72.106\n"
     ]
    },
    {
     "name": "stderr",
     "output_type": "stream",
     "text": [
      "100%|█████████████████████████████████████████| 169/169 [00:03<00:00, 53.57it/s]\n"
     ]
    },
    {
     "name": "stdout",
     "output_type": "stream",
     "text": [
      "Test Loss: 1.498 | Accuracy: 49.037\n",
      "Epoch : 30\n"
     ]
    },
    {
     "name": "stderr",
     "output_type": "stream",
     "text": [
      "100%|█████████████████████████████████████████| 675/675 [00:52<00:00, 12.92it/s]\n"
     ]
    },
    {
     "name": "stdout",
     "output_type": "stream",
     "text": [
      "Train Loss: 0.813 | Accuracy: 71.106\n"
     ]
    },
    {
     "name": "stderr",
     "output_type": "stream",
     "text": [
      "100%|█████████████████████████████████████████| 169/169 [00:03<00:00, 53.35it/s]"
     ]
    },
    {
     "name": "stdout",
     "output_type": "stream",
     "text": [
      "Test Loss: 0.703 | Accuracy: 74.056\n",
      "Training time: 1668.81 seconds\n"
     ]
    },
    {
     "name": "stderr",
     "output_type": "stream",
     "text": [
      "\n"
     ]
    }
   ],
   "source": [
    "import time\n",
    "epochs = 30\n",
    "\n",
    "# Start the timer\n",
    "\n",
    "start_time = time.time()\n",
    "for epoch in range(1,epochs+1): \n",
    "    train(epoch)\n",
    "    test(epoch)\n",
    "# End the timer\n",
    "end_time = time.time()\n",
    "\n",
    "# Calculate the training time\n",
    "training_time = end_time - start_time\n",
    "\n",
    "print('Training time: {:.2f} seconds'.format(training_time))\n"
   ]
  },
  {
   "cell_type": "code",
   "execution_count": 25,
   "id": "e79aee15-6c1e-46c4-b3b6-60ab96f8407d",
   "metadata": {},
   "outputs": [
    {
     "data": {
      "image/png": "[encoded data removed]",
      "text/plain": [
       "<Figure size 432x288 with 1 Axes>"
      ]
     },
     "metadata": {
      "needs_background": "light"
     },
     "output_type": "display_data"
    }
   ],
   "source": [
    "#plot accuracy\n",
    "plt.plot(train_accu,'-o')\n",
    "plt.plot(eval_accu,'-o')\n",
    "plt.xlabel('epoch')\n",
    "plt.ylabel('accuracy')\n",
    "plt.legend(['Train','Valid'])\n",
    "plt.title('Train vs Valid Accuracy')\n",
    "\n",
    "plt.show()"
   ]
  },
  {
   "cell_type": "code",
   "execution_count": 28,
   "id": "67ef4d04-8bab-4727-995e-9daf0be9dcc1",
   "metadata": {},
   "outputs": [
    {
     "data": {
      "image/png": "[encoded data removed]",
      "text/plain": [
       "<Figure size 432x288 with 1 Axes>"
      ]
     },
     "metadata": {
      "needs_background": "light"
     },
     "output_type": "display_data"
    }
   ],
   "source": [
    "#plot losses\n",
    "\n",
    "plt.plot(train_losses,'-o')\n",
    "plt.plot(eval_losses,'-o')\n",
    "plt.xlabel('epoch')\n",
    "plt.ylabel('losses')\n",
    "plt.legend(['Train','Valid'])\n",
    "plt.title('Train vs Valid Losses')\n",
    "\n",
    "plt.show()"
   ]
  },
  {
   "cell_type": "code",
   "execution_count": 29,
   "id": "da1c251b-562c-4e02-9e09-27c448bacc88",
   "metadata": {},
   "outputs": [
    {
     "name": "stderr",
     "output_type": "stream",
     "text": [
      "100%|█████████████████████████████████████████| 169/169 [00:03<00:00, 51.79it/s]\n"
     ]
    },
    {
     "name": "stdout",
     "output_type": "stream",
     "text": [
      "Precision:  0.7352614714834946\n",
      "Recall:  0.73455\n",
      "Confusion matrix:\n",
      " [[487   4   5  41   5  12  27  19   0   0]\n",
      " [  0 576   7   5   0  11   1   0   0   0]\n",
      " [ 27   7 372  11  18   6  59  94   6   0]\n",
      " [ 78   9  30 205  34  32  40  49  23   0]\n",
      " [  8   0   0   7 465   0   2  15   3   0]\n",
      " [  4  43  17  12   0 287  27   2   8   0]\n",
      " [119   1  37  34  18   7 255  28   1   0]\n",
      " [ 25   2  59  33  66   0  44 370   1   0]\n",
      " [ 12   4  11  48  13   9   1   3 399   0]\n",
      " [  0   0   0   0   2   0   0   2  13 583]]\n",
      "Report:\n",
      "               precision    recall  f1-score   support\n",
      "\n",
      "         0.0       0.64      0.81      0.72       600\n",
      "         1.0       0.89      0.96      0.92       600\n",
      "         2.0       0.69      0.62      0.65       600\n",
      "         3.0       0.52      0.41      0.46       500\n",
      "         4.0       0.75      0.93      0.83       500\n",
      "         5.0       0.79      0.72      0.75       400\n",
      "         6.0       0.56      0.51      0.53       500\n",
      "         7.0       0.64      0.62      0.63       600\n",
      "         8.0       0.88      0.80      0.84       500\n",
      "         9.0       1.00      0.97      0.99       600\n",
      "\n",
      "    accuracy                           0.74      5400\n",
      "   macro avg       0.74      0.73      0.73      5400\n",
      "weighted avg       0.74      0.74      0.74      5400\n",
      "\n"
     ]
    }
   ],
   "source": [
    "from sklearn.metrics import confusion_matrix ,classification_report, precision_score, recall_score\n",
    "\n",
    "# testing\n",
    "ttloss = []\n",
    "ttacc = []\n",
    "ttf1 = []\n",
    "\n",
    "T_val = []\n",
    "P_val = []\n",
    "\n",
    "with torch.no_grad():\n",
    "    model.eval()\n",
    "    for (X_val, y_val) in tqdm(test_loader):\n",
    "        X_val = X_val.float().cuda()\n",
    "        y_val = y_val.float().cuda()\n",
    "        #X_val, y_val = X_val.to(device), y_val.to(device)\n",
    "        #y_val = y_val.type(torch.cuda.LongTensor)\n",
    "        \n",
    "        output = model(X_val)\n",
    "        #print(output.shape)\n",
    "        \n",
    "        outputs = torch.max(output, dim=1)[1]\n",
    "        #print(outputs.shape)\n",
    "        T_val.extend(y_val.cpu().numpy())\n",
    "        #print(T_val)\n",
    "        P_val.extend(outputs.cpu().numpy())\n",
    "    #print(T_val)\n",
    "    #print(P_val)\n",
    "    precision = precision_score(T_val, P_val, average='macro')\n",
    "    recall = recall_score(T_val, P_val, average='macro')\n",
    "    res = confusion_matrix(T_val, P_val)\n",
    "    report = classification_report(T_val, P_val)\n",
    "    \n",
    "    print(\"Precision: \",precision)\n",
    "    print(\"Recall: \",recall)\n",
    "\n",
    "    print('Confusion matrix:\\n',res)\n",
    "    print('Report:\\n',report)\n",
    "    \n",
    "    \n",
    "# with torch.no_grad():\n",
    "#     model.eval()\n",
    "#     for id, (X_val, y_val) in enumerate(val_data):\n",
    "#         X_val, y_val = X_val.to(device), y_val.to(device)\n",
    "#         y_val = y_val.type(torch.cuda.LongTensor)\n",
    "        \n",
    "#         output = model(X_val)\n",
    "#         outputs = torch.max(output, dim=1)[1]\n",
    "#         T_val.extend(y_val.cpu().numpy())\n",
    "#         P_val.extend(outputs.cpu().numpy())\n",
    "#     print(T_val)\n",
    "#     print(P_val)\n",
    "#     precision = precision_score(T_val, P_val, average='macro')\n",
    "#     recall = recall_score(T_val, P_val, average='macro')\n",
    "#     res = confusion_matrix(T_val, P_val)\n",
    "#     report = classification_report(T_val, P_val)\n",
    "    \n",
    "#     print(\"Precision: \",precision)\n",
    "#     print(\"Recall: \",recall)\n",
    "\n",
    "#     print('Confusion matrix:\\n',res)\n",
    "#     print('Report:\\n',report)"
   ]
  },
  {
   "cell_type": "code",
   "execution_count": null,
   "id": "b8128f8b-35a8-4a54-b6f6-9141efa54c8a",
   "metadata": {},
   "outputs": [],
   "source": []
  }
 ],
 "metadata": {
  "kernelspec": {
   "display_name": "Python 3 (ipykernel)",
   "language": "python",
   "name": "python3"
  },
  "language_info": {
   "codemirror_mode": {
    "name": "ipython",
    "version": 3
   },
   "file_extension": ".py",
   "mimetype": "text/x-python",
   "name": "python",
   "nbconvert_exporter": "python",
   "pygments_lexer": "ipython3",
   "version": "3.8.12"
  }
 },
 "nbformat": 4,
 "nbformat_minor": 5
}
